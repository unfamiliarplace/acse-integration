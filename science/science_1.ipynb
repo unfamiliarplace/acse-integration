{
  "cells": [
    {
      "cell_type": "markdown",
      "metadata": {
        "id": "view-in-github"
      },
      "source": [
        "<a href=\"https://colab.research.google.com/github/coding-integration/Science-Coding-Integration/blob/main/1_Science_Intro_Python_Physics_SNC1W.ipynb\" target=\"_parent\"><img src=\"https://colab.research.google.com/assets/colab-badge.svg\" alt=\"Open In Colab\"/></a>\n",
        "\n",
        "<a href=\"https://hub.callysto.ca/jupyter/hub/user-redirect/git-pull?repo=https%3A%2F%2Fgithub.com%2Fcoding-integration%2FScience-Coding-Integration&branch=main&subPath=1_Science_Intro_Python_Physics_SNC1W.ipynb&depth=1\"  target=\"_parent\"><img src=\"https://raw.githubusercontent.com/callysto/curriculum-notebooks/master/open-in-callysto-button.svg?sanitize=true\" width=\"123\" height=\"24\" alt=\"Open in Callysto\"></a>"
      ]
    },
    {
      "cell_type": "markdown",
      "metadata": {
        "id": "h3IPI_RD1A_D"
      },
      "source": [
        "# Introduction to Variables in Python <img src=\"https://i.imgur.com/qUSxW7s.png\" height=45 width=45 align=right>\n",
        "\n",
        "## Learning Goals\n",
        "*   Use Python to display and obtain data\n",
        "*   Use Python to store data in variables\n",
        "*   Use Python to perform calculations and display results\n",
        "*   Use Python to create and use simple functions \n",
        "*   Explore the relationship of resistance (R - Ohms (Ω)), current (I - Amperes), and potential difference/voltage (V - Volts) in a simple series circuit using Python\n",
        "*   Explore the use of Physical computing device (eg. Micro:bit microcontroller)\n",
        "\n",
        "## Success Criteria\n",
        "<p>I know I am successful when:</p>\n",
        "<ul>\n",
        "<li>I can read simple Python programs to understand its purpose\n",
        "<li>I can modify/use a Python program to compute either Resistance, Voltage, or Current based on a simple circuit under consideration\n",
        "<li>I can use Python to explore the energy consumption of an energy source (eg. battery) within a circuit\n",
        "<li>I can build and test a circuit to measure voltage using a physical computing device (eg. Micro:bit) and Python\n",
        "</ul>\n",
        "\n",
        "---\n",
        "# Activity 1: Python - Displaying and obtaining data <img src=\"https://i.imgur.com/qUSxW7s.png\" height=45 width=45 align=right>\n",
        "---\n",
        "\n",
        "## Big Question: How do humans interact with computing systems?\n",
        "\n",
        "Students should record their responses in the text box below"
      ]
    },
    {
      "cell_type": "markdown",
      "metadata": {
        "id": "K1Vp5vkkT3Hr"
      },
      "source": []
    },
    {
      "cell_type": "markdown",
      "metadata": {
        "id": "PSr1tD6VUBI9"
      },
      "source": [
        "## Coding Concept - **Output**\n",
        "\n",
        "**Python** includes many built-in capabilities including the ability to display output.\n",
        "\n",
        "Python built-in function to display information to the user  \n",
        "\n",
        "`print( \"hello\" )`\n",
        "\n",
        "The statement shown above will display the information included in the double quotation marks exactly as it was provided. Python can also display numeric data.\n",
        "\n",
        "Run the code blocks below to examine how you can display data using `print()`"
      ]
    },
    {
      "cell_type": "code",
      "execution_count": null,
      "metadata": {
        "colab": {
          "base_uri": "https://localhost:8080/"
        },
        "id": "MVLvG3jL1htd",
        "outputId": "f15e7852-721f-46d9-dbd2-02845b43b186"
      },
      "outputs": [],
      "source": [
        "print (\"Temperature is\", 22.5, \"Celsius\")"
      ]
    },
    {
      "cell_type": "code",
      "execution_count": null,
      "metadata": {
        "colab": {
          "base_uri": "https://localhost:8080/"
        },
        "id": "J1070YJzlSs7",
        "outputId": "8451431a-b729-484d-a71d-7c61e5c4f20c"
      },
      "outputs": [],
      "source": [
        "print (\"Adding 2 Fractions \", 1/4 + 3/4)"
      ]
    },
    {
      "cell_type": "markdown",
      "metadata": {
        "id": "PG4HW1x_mIof"
      },
      "source": [
        "Try the next Python statement. "
      ]
    },
    {
      "cell_type": "code",
      "execution_count": null,
      "metadata": {
        "colab": {
          "base_uri": "https://localhost:8080/",
          "height": 171
        },
        "id": "t3kds-EkmG6P",
        "outputId": "16282f04-c88d-4914-8863-539f731a3b2c"
      },
      "outputs": [],
      "source": [
        "Print (3+2)"
      ]
    },
    {
      "cell_type": "markdown",
      "metadata": {
        "id": "PAbuwaybmPPm"
      },
      "source": [
        "You have likely encountered your first coding error. This type of error is known as a syntax error and it is basically a violation of the Python programming language. \n",
        "\n",
        "Python statements are case-sensitive and most built-in functions like print() must be all lowercase followed by paranthesis. The information provided in the paranthesis will be provided to the function as input. Now you can go back and correct your error in the code above."
      ]
    },
    {
      "cell_type": "markdown",
      "metadata": {
        "id": "Bfw7P3inle1E"
      },
      "source": [
        "# Coding Concept - **Variables**\n",
        "\n",
        "Coding often involves keeping track of data. Each item of information can be stored in a **variable**. \n",
        "\n",
        "Variables are named storage locations and data can be stored and retrieved with the program.\n",
        "\n",
        "Python has a few different types of data that can be stored including:\n",
        "\n",
        "*   Integer (whole numbers)\n",
        "*   Float (Real numbers with fractional components)\n",
        "*   String (Text data)\n",
        "\n",
        "Let's try to create some variables.  \n",
        "`name = \"Hydrogen\"`  \n",
        "`atomic_number = 1`  \n",
        "`melting_point = -259.2`\n",
        "\n",
        "In Science, we often use integer variables to count items and float variables to record measurements. \n",
        "\n",
        "In future lessons we will explore how multiple measures such as a series of temperature values over time can be stored and analyzed to discover patterns and relationships."
      ]
    },
    {
      "cell_type": "markdown",
      "metadata": {
        "id": "SFgTgOPYolmB"
      },
      "source": [
        "# Coding Concept - **Math Expressions and Formatted Output**\n",
        "\n",
        "Coding is not all math, but evaluating math expressions are often performed by software programs. \n",
        "\n",
        "In this example we will determine the distance a vehicle can travel before it needs to refuel.\n",
        "\n",
        "[Fuel Economy - 2022](https://www.nrcan.gc.ca/energy-efficiency/transportation-alternative-fuels/fuel-consumption-guide/most-fuel-efficient-vehicles/21004)\n",
        "\n",
        "We will look up the Highway fuel economy of a Mazda MX-5.  \n",
        "`fuel_rating = 6.6`\n",
        "\n",
        "The units for fuel consumption in Canada is L/100 km.  \n",
        "The size of the fuel tank on a Mazda MX-5 is 45L. Now, let's store some **values** in variables and use them in code.\n"
      ]
    },
    {
      "cell_type": "code",
      "execution_count": null,
      "metadata": {
        "id": "zaqrEMe6qX-J"
      },
      "outputs": [],
      "source": [
        "fuel_rating = 6.6\n",
        "tank_size = 45"
      ]
    },
    {
      "cell_type": "code",
      "execution_count": null,
      "metadata": {
        "colab": {
          "base_uri": "https://localhost:8080/"
        },
        "id": "qDx4Gfx4qcqi",
        "outputId": "1c8ae790-5933-4531-96ce-c706d3298302"
      },
      "outputs": [],
      "source": [
        "distance = tank_size / fuel_rating * 100\n",
        "print (distance)"
      ]
    },
    {
      "cell_type": "markdown",
      "metadata": {
        "id": "58txvHIlqzun"
      },
      "source": [
        "Why was the **\\*** used instead of the **x** symbol for multiplication?  \n",
        "Most programming languages have decided to reserve the **x** character to represent a variable and not use it as a math operator for multiplication.\n",
        "\n",
        "Let's see what happens if we try to use the **x** character to multiply 2 values.\n"
      ]
    },
    {
      "cell_type": "code",
      "execution_count": null,
      "metadata": {
        "colab": {
          "base_uri": "https://localhost:8080/",
          "height": 134
        },
        "id": "7UGuTJIwrXhP",
        "outputId": "e09bd729-15a0-48bf-c584-14d75fffd946"
      },
      "outputs": [],
      "source": [
        "3 x 2"
      ]
    },
    {
      "cell_type": "markdown",
      "metadata": {
        "id": "e9heIYQPrcPc"
      },
      "source": [
        "Another syntax error. Just remember to use the **\\*** for multiplication and everything will be fine. Did you also notice that the answer continued for many decimal places?  We can round the answer as we print the the output using a technique called **f-strings** in Python.  \n",
        "\n",
        "Here is an example for our distance calculation\n",
        "\n",
        "`print(f\"Range of vehicle is {distance} kilometers.\")`\n"
      ]
    },
    {
      "cell_type": "code",
      "execution_count": null,
      "metadata": {
        "colab": {
          "base_uri": "https://localhost:8080/"
        },
        "id": "WqORGIqrsUoG",
        "outputId": "52a555f7-e959-4521-d545-4f4d59aec194"
      },
      "outputs": [],
      "source": [
        "print (f\"Range of vehicle is {distance} kilometers.\")"
      ]
    },
    {
      "cell_type": "markdown",
      "metadata": {
        "id": "nWVDpiKosgzW"
      },
      "source": [
        "The print() function that we used added a new special letter **f** before the quoted text. The brace brackets {} allow us to include a variable called `distance` in the output.\n",
        "\n",
        "When Python f-strings are used the brace brackets are used as placeholders to obtain the current value stored in the variable. Now, we will round the output to only 1 decimal place.\n",
        "\n",
        "`print (f\"Range of vehicle is {distance:.1f} kilometers.\")`"
      ]
    },
    {
      "cell_type": "code",
      "execution_count": null,
      "metadata": {
        "colab": {
          "base_uri": "https://localhost:8080/"
        },
        "id": "iBy8RPkJtsHV",
        "outputId": "b1d97174-889b-4912-8907-cf7f7b9389bb"
      },
      "outputs": [],
      "source": [
        "print (f\"Range of vehicle is {distance:.1f} kilometers.\")"
      ]
    },
    {
      "cell_type": "markdown",
      "metadata": {
        "id": "6bu93OLgtw3_"
      },
      "source": [
        "## Converting to Miles Per Gallon (Imperial)\n",
        "\n",
        "We can convert from L/100km to MPG (Miles/Gallon) using a conversion ratio.\n",
        "\n",
        "As this task might be very useful for many scenarios we can create our own Python function. \n",
        "\n",
        "##Coding Concept: **Functions**\n",
        "A function is a named group of programming statements that can be used to peform common tasks within a software program. The input data for a function can be provided and results can be returned.\n",
        "\n",
        "    def area(length, width):    \n",
        "       return length * width\n",
        "\n",
        "    print (area(5,3), \"sq meters\") # displays 15 "
      ]
    },
    {
      "cell_type": "code",
      "execution_count": null,
      "metadata": {
        "id": "vhNKsdYIx2qL"
      },
      "outputs": [],
      "source": [
        "def calculate_area (length, width):    \n",
        "   return length * width"
      ]
    },
    {
      "cell_type": "code",
      "execution_count": null,
      "metadata": {
        "colab": {
          "base_uri": "https://localhost:8080/"
        },
        "id": "oxKjupp5x4iE",
        "outputId": "2f693388-916e-4db6-8ca1-d2139d310720"
      },
      "outputs": [],
      "source": [
        "area = calculate_area(5,3)\n",
        "print (f\"Area is {area} square meters.\")"
      ]
    },
    {
      "cell_type": "markdown",
      "metadata": {
        "id": "pyLENK1yyXK5"
      },
      "source": [
        "Search for *Converting to miles per gallon* on this [link](https://www.nrcan.gc.ca/energy-efficiency/transportation-alternative-fuels/personal-vehicles/choosing-right-vehicle/buying-electric-vehicle/understanding-the-tables/21383) and examine our new Python function to convert from L/100 km to Miles Per Gallon (mpg).\n",
        "\n",
        "Note that we cannot use the **÷** symbol as it doesn't exist on a regular keyboard. To divide using Python we will need to use the **/** character. \n"
      ]
    },
    {
      "cell_type": "code",
      "execution_count": null,
      "metadata": {
        "id": "hDsvTMgcyzg5"
      },
      "outputs": [],
      "source": [
        "def convert_mpg(fuel_rating):\n",
        "  mpg = 282.48 / fuel_rating\n",
        "  return mpg "
      ]
    },
    {
      "cell_type": "markdown",
      "metadata": {
        "id": "OkNRQurhzQoC"
      },
      "source": [
        "Now we will use the function convert_mpg() to determine the mpg fuel rating for the vehicle."
      ]
    },
    {
      "cell_type": "code",
      "execution_count": null,
      "metadata": {
        "colab": {
          "base_uri": "https://localhost:8080/"
        },
        "id": "Uxl90nofzXrV",
        "outputId": "5315fc0d-a56d-42b7-fca1-837463513d48"
      },
      "outputs": [],
      "source": [
        "mpg_rating = convert_mpg(fuel_rating)\n",
        "print (f\"Alternate fuel rating is {mpg_rating:.1f} miles per gallon.\")"
      ]
    },
    {
      "cell_type": "markdown",
      "metadata": {
        "id": "maT4bkHCdIUh"
      },
      "source": [
        "##Coding Concept: **Input**\n",
        "We have discussed variables and output, but we have not discovered how to obtain data from the user.\n",
        "\n",
        "Python provides a built-in function called `input()`  \n",
        "\n",
        "The input function can to be used to prompt the user for the type of data that is required. This question can be provided as a parameter to the function.\n",
        "\n",
        "For example\n",
        "\n",
        "`name = input(\"What is your name\")`\n",
        "\n",
        "Here we are storing the response from the user in a variable called `name`\n"
      ]
    },
    {
      "cell_type": "code",
      "execution_count": null,
      "metadata": {
        "colab": {
          "base_uri": "https://localhost:8080/"
        },
        "id": "8o3cPCOVd6En",
        "outputId": "48b00293-1b3c-41bb-becc-eb36f68b3ed1"
      },
      "outputs": [],
      "source": [
        "name = input (\"What is your name? \")\n",
        "print (f\"Hello {name}, get ready to explore circuits using Ohm's Law\")"
      ]
    },
    {
      "cell_type": "markdown",
      "metadata": {
        "id": "VkABiBHMeXgm"
      },
      "source": [
        "The `input()` function will always return the data provided as a string (text). If we want to ask for numeric data such as measurements (float) or integers we will need to use the `float()` or `int()` data conversion functions available in Python.\n",
        "\n",
        "Let's revisit the previous example of fuel efficiency with user input."
      ]
    },
    {
      "cell_type": "markdown",
      "metadata": {
        "id": "T2m2WwwNe9PW"
      },
      "source": [
        "Let's select a different vehicle from the [link](https://www.nrcan.gc.ca/energy-efficiency/transportation-alternative-fuels/fuel-consumption-guide/most-fuel-efficient-vehicles/21004).\n"
      ]
    },
    {
      "cell_type": "code",
      "execution_count": null,
      "metadata": {
        "colab": {
          "base_uri": "https://localhost:8080/"
        },
        "id": "rg12e0UnfHDi",
        "outputId": "ce8090f6-7496-46e8-b9dc-db901c93a4ae"
      },
      "outputs": [],
      "source": [
        "vehicle_name = input(\"What is the name of the vehicle? \")"
      ]
    },
    {
      "cell_type": "code",
      "execution_count": null,
      "metadata": {
        "colab": {
          "base_uri": "https://localhost:8080/"
        },
        "id": "6vEb1P2CfQ0V",
        "outputId": "4d63b8bc-c7c2-4a7c-cefb-52173eab4aa2"
      },
      "outputs": [],
      "source": [
        "fuel_rating = float(input(\"What is the fuel rating (highway driving) for the vehicle (L/100km) ? \"))"
      ]
    },
    {
      "cell_type": "code",
      "execution_count": null,
      "metadata": {
        "colab": {
          "base_uri": "https://localhost:8080/"
        },
        "id": "rpYnUwvcfgjZ",
        "outputId": "a5bd6997-87bf-41ea-c7a3-91c41355ab91"
      },
      "outputs": [],
      "source": [
        "tank_size = float(input(\"What is the size of the fuel tank (L)? \"))"
      ]
    },
    {
      "cell_type": "code",
      "execution_count": null,
      "metadata": {
        "colab": {
          "base_uri": "https://localhost:8080/"
        },
        "id": "cXOVOmTtfXod",
        "outputId": "2e2babc2-f8bd-4b7f-86b5-d490ffaee9f3"
      },
      "outputs": [],
      "source": [
        "distance = tank_size / fuel_rating * 100\n",
        "print (f\"Range of vehicle is {distance:.1f} kilometers.\")"
      ]
    },
    {
      "cell_type": "markdown",
      "metadata": {
        "id": "xk35b3gX0enU"
      },
      "source": [
        "---\n",
        "# Activity 2: Python - Physics - Electric Circuit Analysis<img src=\"https://i.imgur.com/qUSxW7s.png\" height=45 width=45 align=right>\n",
        "---\n",
        "\n"
      ]
    },
    {
      "cell_type": "markdown",
      "metadata": {
        "id": "ohsyB0t62A_s"
      },
      "source": [
        "## Ohm's Law\n",
        "Ohm's law states the the voltage, or potential difference, across a conductor is directly proportional to the current flowing through it, provided all physical conditions and temperatures remain constant.\n",
        "\n",
        "| Electrical Quantity | Role in Circuit                      | Symbol | SI Unit     |\n",
        "|---------------------|--------------------------------------|:------:|-------------|\n",
        "| Voltage             | Pressure that triggers electron flow |    V   |   Volt (V)  |\n",
        "| Resistance          | Impedes electron flow                |    R   |   Ohm (Ω)   |\n",
        "| Current             | Rate of electron flow                |    I   | Amperes (A) |\n",
        "\n",
        "\n",
        "# ${I=\\frac{V}{R}}$\n",
        "\n",
        "# ${V=I  R}$\n",
        "\n",
        "# ${R=\\frac{V}{I}}$\n",
        "\n",
        "\n",
        "On a separate sheet of paper, use any strategy to **calculate** the current that would flow in a circuit with a **9 Volt** battery and a **200 Ohm** resistor.\n",
        "\n",
        "Record your answer in the text block below."
      ]
    },
    {
      "cell_type": "markdown",
      "metadata": {
        "id": "NnY6HYctnGNA"
      },
      "source": [
        "Answer (How many Amperes?): "
      ]
    },
    {
      "cell_type": "markdown",
      "metadata": {
        "id": "LlicNV3enKRt"
      },
      "source": [
        "Now let's use our knowledge of Python to obtain the input data and calcluate and display the current. \n",
        "\n",
        "The third line of code is missing a math expression. Update the code to obtain the correct answer for current. Check your answer from before."
      ]
    },
    {
      "cell_type": "code",
      "execution_count": null,
      "metadata": {
        "colab": {
          "base_uri": "https://localhost:8080/"
        },
        "id": "3rkSU-WunTLn",
        "outputId": "98220c94-f4e3-4950-cc29-eb428da4bf4f"
      },
      "outputs": [],
      "source": [
        "voltage = float(input(\"Voltage (V)? \"))\n",
        "resistance = float(input(\"Resistor (Ohms)? \"))\n",
        "current = voltage/resistance\n",
        "print (f\"The current in the circuit is {current} Amperes.\")\n"
      ]
    },
    {
      "cell_type": "markdown",
      "metadata": {
        "id": "q616vLkcn7te"
      },
      "source": [
        "Let's examine another scenario.\n",
        "\n",
        "The maximum current for a Light Emitting Diode (LED) is 0.30 Amperes. If you were to connect a 6V battery to a circuit with an LED and a resistor what size of resistor should be used?\n",
        "\n",
        "In this scenario we will use Ohm's law to solve for resistance.\n"
      ]
    },
    {
      "cell_type": "code",
      "execution_count": null,
      "metadata": {
        "id": "yRegy1LTkj87"
      },
      "outputs": [],
      "source": [
        "# Add the code block here to determine the proper sized resistor"
      ]
    },
    {
      "cell_type": "markdown",
      "metadata": {
        "id": "nS8wSgtepjel"
      },
      "source": [
        "---\n",
        "# Activity 3: Python - Physics - Battery Life<img src=\"https://i.imgur.com/qUSxW7s.png\" height=45 width=45 align=right>\n",
        "---\n",
        "\n",
        "Everyone would like their portable devices to last a very long time. \n",
        "In this activity we will use Python to explore Battery capacity.\n"
      ]
    },
    {
      "cell_type": "markdown",
      "metadata": {
        "id": "gpGU3FVFqXMl"
      },
      "source": [
        "\n",
        "Batteries can supply current for a finite amount of time. Battery capacity is typically measured in Amp-hours (Ah) or milliamp-hours (mAh).\n",
        "\n",
        "Research the typical mAh rating of a 9V alkaline battery. "
      ]
    },
    {
      "cell_type": "code",
      "execution_count": null,
      "metadata": {
        "colab": {
          "base_uri": "https://localhost:8080/"
        },
        "id": "Q0hMl4xBqePg",
        "outputId": "d4afff19-7c29-4c5d-81c0-75a9575ca915"
      },
      "outputs": [],
      "source": [
        "capacity = float(input(\"9V battery capacity (mAh)? \"))"
      ]
    },
    {
      "cell_type": "markdown",
      "metadata": {
        "id": "ilBgRkrxqlVx"
      },
      "source": [
        "Let's assume that we have a battery powered 9V flashlight. We will have used a Digital Multimeter (DMM) to measure the current flowing in the circuit.  \n",
        "\n",
        "Run the code to set the current to 0.035 Amperes.\n"
      ]
    },
    {
      "cell_type": "code",
      "execution_count": null,
      "metadata": {
        "colab": {
          "base_uri": "https://localhost:8080/"
        },
        "id": "jCtJqW9urC7b",
        "outputId": "3acc3e33-0d02-4369-8a8c-4cf9573ae67a"
      },
      "outputs": [],
      "source": [
        "current = float(input(\"Current (A)? \"))"
      ]
    },
    {
      "cell_type": "code",
      "execution_count": null,
      "metadata": {
        "id": "R2l-yH5IrOZM"
      },
      "outputs": [],
      "source": [
        "current_ma = current * 1000 # convert current Amps to milliAmps"
      ]
    },
    {
      "cell_type": "markdown",
      "metadata": {
        "id": "QGMULgCvpf6y"
      },
      "source": [
        "Now, we can determine how many hours the flashlight will work using a new battery.  \n"
      ]
    },
    {
      "cell_type": "code",
      "execution_count": null,
      "metadata": {
        "colab": {
          "base_uri": "https://localhost:8080/"
        },
        "id": "ks8C5OsBrfMo",
        "outputId": "44345156-4e52-4ba4-81b7-feb7fc8366a9"
      },
      "outputs": [],
      "source": [
        "# battery life = battery capacity (mAh) / current (mA)\n",
        "life = capacity / current_ma\n",
        "print (f\"It will last {life:.1f} hours\")"
      ]
    },
    {
      "cell_type": "markdown",
      "metadata": {
        "id": "KWGw9rym5x3u"
      },
      "source": [
        "---\n",
        "# Consolidation Question: \n",
        "1. How would the current change in a portable 9V flashlight if the resistance (R) is reduced?  \n"
      ]
    },
    {
      "cell_type": "markdown",
      "metadata": {
        "id": "-1aP4h9IsJpB"
      },
      "source": [
        "# Physical Computing activities - optional\n",
        "\n",
        "Now that you are comfortable coding with Python explore some Physical Computing projects.\n",
        "\n",
        "## Unit D - Physics\n",
        "\n",
        "- [Battery checking](https://drive.google.com/file/d/1jPZkZjSEYZYqtC_RMPCpTJPmy6UBHCMU/view?usp=sharing) - measure voltage using analog input pin\n",
        "\n",
        "## Unit B - Biology\n",
        "\n",
        "- [Light sensing](https://drive.google.com/file/d/1cA_MHygWbufTHsvvsgRtDuLbvCiHMlJy/view?usp=sharing) - Micro:bit\n",
        "- [Smart Watering Kit](https://www.phidgets.com/education/learn/projects/plant-kit/introduction/) - Phidgets\n",
        "\n",
        "We would be using a different Python coding tools for these activities.\n",
        "\n",
        "We will either use the:\n",
        "- [Micro:bit Python Editor](https://python.microbit.org/v/3)\n",
        "- [Microsoft MakeCode](https://makecode.phidgets.com/)\n",
        "\n",
        "[Phidgets WebUSB Control Panel](https://www.phidgets.com/controlpanel/)\n",
        "\n",
        "[Phidgets - Logics Academy](https://logicsacademy.com/phidgets/)\n",
        "\n",
        "Use discount code: **PhidgetsCSIntegration**\n"
      ]
    }
  ],
  "metadata": {
    "colab": {
      "collapsed_sections": [],
      "provenance": []
    },
    "kernelspec": {
      "display_name": "Python 3.7.9 64-bit",
      "language": "python",
      "name": "python3"
    },
    "language_info": {
      "name": "python",
      "version": "3.7.9"
    },
    "vscode": {
      "interpreter": {
        "hash": "1f2ac25b4a6d870602abfa5d74e7d6f1ae274ba9e86645830384575c0e5c89f3"
      }
    }
  },
  "nbformat": 4,
  "nbformat_minor": 0
}
