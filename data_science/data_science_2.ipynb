{
 "cells": [
  {
   "attachments": {},
   "cell_type": "markdown",
   "metadata": {},
   "source": [
    "<a href=\"https://colab.research.google.com/github/unfamiliarplace/acse-integration/blob/main/data_science/data_science_2.ipynb\" target=\"_parent\"><img src=\"https://colab.research.google.com/assets/colab-badge.svg\" alt=\"Open In Colab\"/></a>\n",
    "\n",
    "<a href=\"https://hub.callysto.ca/jupyter/hub/user-redirect/git-pull?repo=https%3A%2F%2Fgithub.com%2Funfamiliarplace%2Facse-integration&branch=main&subPath=data_science%2Fdata_science_2.ipynb&depth=2\"  target=\"_parent\"><img src=\"https://raw.githubusercontent.com/callysto/curriculum-notebooks/master/open-in-callysto-button.svg?sanitize=true\" width=\"123\" height=\"24\" alt=\"Open in Callysto\"></a>"
   ]
  },
  {
   "attachments": {},
   "cell_type": "markdown",
   "metadata": {},
   "source": [
    "# Data Science Part 2\n"
   ]
  },
  {
   "attachments": {},
   "cell_type": "markdown",
   "metadata": {},
   "source": [
    "### Three data science notebooks\n",
    "\n",
    "Here's what we've covered and will cover in this series:\n",
    "\n",
    "Part 1: We examined Python's core data structures and saw some simple visualizations.\n",
    "\n",
    "**Part 2: We will explore and learn to use Python's dedicated data science tools in more depth.**\n",
    "\n",
    "Part 3: We will apply our knowledge to a coherent project with multiple steps."
   ]
  },
  {
   "attachments": {},
   "cell_type": "markdown",
   "metadata": {},
   "source": [
    "### Outline of this notebook\n",
    "\n",
    "The goal of this notebook is to learn how to use Python's dedicated data science tools, in a way that you can take and reuse with students.\n",
    "\n",
    "**Introduction**\n",
    "\n",
    "**1. Representing data:** Choosing the right structures and labels for a dataset.\n",
    "\n",
    "**2. Working with data:** Transforming, selecting, and extracting data.\n",
    "\n",
    "**3. Analyzing data:** Performing calculations and gathering statistics on data.\n",
    "\n",
    "**4. Visualizing data:** Selecting and creating appropriate visuals in code.\n",
    "\n",
    "**Conclusion**\n"
   ]
  },
  {
   "attachments": {},
   "cell_type": "markdown",
   "metadata": {},
   "source": [
    "## Introduction\n",
    "\n",
    "**Data science** may seem like a complex topic, but it boils down to this:\n",
    "\n",
    "> There's a ton of data out there! How do I find the information I'm looking for? How do I understand it? And how do I make it relevant?\n",
    "\n",
    "In other words, data science is the science of handling data in order to *answer a specific question*.\n",
    "\n",
    "Python allows us to do this by providing us with tools for representing data, manipulating or selecting from it, analyzing it, and creating charts, graphs, maps, and other visualizations that display it. In this notebook, we are learning how to use these tools. (In the next notebook, we will take a closer look at gathering and cleaning data from various real-world sources so that we can put our skills together for a specific purpose.)\n",
    "\n",
    "### Learning goals\n",
    "\n",
    "* A1. demonstrate the ability to use different data types, including one-dimensional arrays, in computer programs.\n",
    "\n",
    "* A2. demonstrate the ability to use control structures and simple algorithms in computer programs.\n",
    "\n",
    "* D2.2 demonstrate an understanding of an area of collaborative research between computer science and another field.\n",
    "\n",
    "### Success criteria\n",
    "\n",
    "* I can choose and implement a structure to represent a dataset in code.\n",
    "\n",
    "* I can manipulate a data structure in code to select, organize, and analyze data.\n",
    "\n",
    "* I can create a suitable visualization of a dataset in code in order to better understand a question.\n",
    "\n",
    "> [Source: Ontario Curriculum (2008)](https://www.edu.gov.on.ca/eng/curriculum/secondary/computer10to12_2008.pdf#page=41)\n"
   ]
  },
  {
   "attachments": {},
   "cell_type": "markdown",
   "metadata": {},
   "source": [
    "## 1. Representing data\n",
    "\n",
    "As we saw in the last notebook, often the greatest power in Python comes from the use of external libraries. Two core libraries for data science are `numpy` (Numerical Python) and `pandas` (Python for Data Analysis).\n",
    "\n",
    "We will focus on `pandas` for this lesson to keep things simple. (However, note that `pandas` is actually built on `numpy`, and uses `numpy` datatypes like an `ndarray` instead of Python's built-in `list`.)\n",
    "\n",
    "Run this code block to ensure you have `pandas` installed:"
   ]
  },
  {
   "cell_type": "code",
   "execution_count": null,
   "metadata": {},
   "outputs": [],
   "source": [
    "# Install numpy and pandas to the current environment\n",
    "# N.B. pandas should install numpy automatically since it's a prerequisite\n",
    "\n",
    "%pip install pandas"
   ]
  },
  {
   "attachments": {},
   "cell_type": "markdown",
   "metadata": {},
   "source": [
    "Next, run this block to import it. Remember that in Jupyter Notebooks, all cells share a memory pool, so if we import it at the start then they'll be available for all future blocks."
   ]
  },
  {
   "cell_type": "code",
   "execution_count": null,
   "metadata": {},
   "outputs": [],
   "source": [
    "# Import pandas\n",
    "import pandas as pd"
   ]
  },
  {
   "attachments": {},
   "cell_type": "markdown",
   "metadata": {},
   "source": [
    "### Series\n",
    "\n",
    "There are two core data structures in `pandas`: `Series` and `DataFrame`.\n",
    "\n",
    "A `Series` is essentially a one-dimensional array, like a `list`. Run this code block to see an example."
   ]
  },
  {
   "cell_type": "code",
   "execution_count": null,
   "metadata": {},
   "outputs": [],
   "source": [
    "# A Series representing some mysterious data\n",
    "s = pd.Series([209, 210, 215, 230, 291])\n",
    "print(s)"
   ]
  },
  {
   "attachments": {},
   "cell_type": "markdown",
   "metadata": {},
   "source": [
    "#### What makes a Series unique?\n",
    "\n",
    "That output is a little surprising for a one-dimensional array! We notice that it's presented like a table, with one column for the index and another for the data.\n",
    "\n",
    "That gives us a hint about the first unique quality of a `Series`: You can use any kind of index, not just a numerical count from `0`.*\n",
    "\n",
    "Let's try making a custom index. Run this code block. P.S. Can you guess what this data represents?"
   ]
  },
  {
   "cell_type": "code",
   "execution_count": null,
   "metadata": {},
   "outputs": [],
   "source": [
    "# Using strings for the index\n",
    "s = pd.Series([209, 210, 215, 230, 291],\n",
    "              index=['Skor', 'Heath', 'Snickers', 'Mars', 'Twix'])\n",
    "print(s)"
   ]
  },
  {
   "attachments": {},
   "cell_type": "markdown",
   "metadata": {},
   "source": [
    "Now the \"rows\" of our table each have a name. You might be thinking now that this is kind of like a dictionary, with key-value pairs, and that's a valid observation."
   ]
  },
  {
   "attachments": {},
   "cell_type": "markdown",
   "metadata": {},
   "source": [
    "**Understanding Check:** Notice that we have the same number of values and labels. What if those two lists were different lengths? Make a guess and then try it out."
   ]
  },
  {
   "attachments": {},
   "cell_type": "markdown",
   "metadata": {},
   "source": [
    "Also, there's a weird thing there at the end of our `Series` output: a `dtype`! This datatype is given because a `Series` can only contain *one* type of data for *all* its elements. This is one of the key principles of having clean datasets: a restriction like this helps us avoid comparing apples and oranges, or rather 5s and oranges.\n",
    "\n",
    "In this case, `pandas` guessed the datatype we wanted, a 64-bit integer. This is a very generous guess because an `int64`'s max value is `2^64` or about 9 quintillion. We can optimize our `Series` by specifiying the datatype if we know the bounds of our dataset. Let's use `int16`, which gives us an overheard of `2^16` or `65,536`."
   ]
  },
  {
   "cell_type": "code",
   "execution_count": null,
   "metadata": {},
   "outputs": [],
   "source": [
    "# Specifying a datatype\n",
    "s = pd.Series([209, 210, 215, 230, 291],\n",
    "              index=['Skor', 'Heath', 'Snickers', 'Mars', 'Twix'],\n",
    "              dtype='int16')\n",
    "print(s)"
   ]
  },
  {
   "attachments": {},
   "cell_type": "markdown",
   "metadata": {},
   "source": [
    "**Understanding Check:** What would happen if you used an even slimmer datatype of `int8`? Make a guess and then try it out."
   ]
  },
  {
   "attachments": {},
   "cell_type": "markdown",
   "metadata": {},
   "source": [
    "#### What can I do with a Series?\n",
    "\n",
    "Here's a [full reference](https://pandas.pydata.org/docs/reference/api/pandas.Series.html), but let's take a look at some common tasks.\n",
    "\n",
    "You can run each of these code blocks to see how they work:"
   ]
  },
  {
   "cell_type": "code",
   "execution_count": null,
   "metadata": {},
   "outputs": [],
   "source": [
    "# Get all the values\n",
    "s.values"
   ]
  },
  {
   "cell_type": "code",
   "execution_count": null,
   "metadata": {},
   "outputs": [],
   "source": [
    "# Get a specific item\n",
    "s.loc['Skor']"
   ]
  },
  {
   "cell_type": "code",
   "execution_count": null,
   "metadata": {},
   "outputs": [],
   "source": [
    "# Get the length of the Series\n",
    "s.size"
   ]
  },
  {
   "cell_type": "code",
   "execution_count": null,
   "metadata": {},
   "outputs": [],
   "source": [
    "# Get the highest value\n",
    "s.max()"
   ]
  },
  {
   "cell_type": "code",
   "execution_count": null,
   "metadata": {},
   "outputs": [],
   "source": [
    "# Get the lowest value\n",
    "s.min()"
   ]
  },
  {
   "attachments": {},
   "cell_type": "markdown",
   "metadata": {},
   "source": [
    "This next one will show you something a Python list can't easily do. We found the maximum and minimum values; what if we want to know which chocolate bars those were? Simple:"
   ]
  },
  {
   "cell_type": "code",
   "execution_count": null,
   "metadata": {},
   "outputs": [],
   "source": [
    "# Get the name of the chocolate bar with the highest value\n",
    "s.idxmax()"
   ]
  },
  {
   "cell_type": "code",
   "execution_count": null,
   "metadata": {},
   "outputs": [],
   "source": [
    "# Get the name of the chocolate bar with the lowest value\n",
    "s.idxmin()"
   ]
  },
  {
   "attachments": {},
   "cell_type": "markdown",
   "metadata": {},
   "source": [
    "We can also do some very cool operations on the whole `Series` at once. Can your grandma's `list` do this?"
   ]
  },
  {
   "cell_type": "code",
   "execution_count": null,
   "metadata": {},
   "outputs": [],
   "source": [
    "# Add to all items\n",
    "s = s + 100\n",
    "print(s)"
   ]
  },
  {
   "cell_type": "code",
   "execution_count": null,
   "metadata": {},
   "outputs": [],
   "source": [
    "# Multiply all items\n",
    "s = s * 5\n",
    "print(s)"
   ]
  },
  {
   "attachments": {},
   "cell_type": "markdown",
   "metadata": {},
   "source": [
    "In fact, we can carry out any function on all elements of a `Series`. Let's get the square root of each value:"
   ]
  },
  {
   "cell_type": "code",
   "execution_count": 42,
   "metadata": {},
   "outputs": [
    {
     "name": "stdout",
     "output_type": "stream",
     "text": [
      "Skor        3.802214\n",
      "Heath       3.806754\n",
      "Snickers    3.829214\n",
      "Mars        3.894323\n",
      "Twix        4.130221\n",
      "dtype: float64\n"
     ]
    }
   ],
   "source": [
    "# Map a function\n",
    "from math import sqrt\n",
    "s = s.map(sqrt)\n",
    "print(s)"
   ]
  },
  {
   "attachments": {},
   "cell_type": "markdown",
   "metadata": {},
   "source": [
    "Hey, those decimals aren't very pretty. Let's round them to 2 decimal places:"
   ]
  },
  {
   "cell_type": "code",
   "execution_count": 43,
   "metadata": {},
   "outputs": [
    {
     "name": "stdout",
     "output_type": "stream",
     "text": [
      "Skor        3.80\n",
      "Heath       3.81\n",
      "Snickers    3.83\n",
      "Mars        3.89\n",
      "Twix        4.13\n",
      "dtype: float64\n"
     ]
    }
   ],
   "source": [
    "# Round a Series\n",
    "s = s.round(2)\n",
    "print(s)"
   ]
  },
  {
   "attachments": {},
   "cell_type": "markdown",
   "metadata": {},
   "source": [
    "**Understanding Check:** Try a few more operations on this `Series`: subtraction, division, exponentiation, negation. Feel free to run this block to reset your `Series` to what it was:"
   ]
  },
  {
   "cell_type": "code",
   "execution_count": null,
   "metadata": {},
   "outputs": [],
   "source": [
    "s = pd.Series([209, 210, 215, 230, 291],\n",
    "              index=['Skor', 'Heath', 'Snickers', 'Mars', 'Twix'])"
   ]
  },
  {
   "attachments": {},
   "cell_type": "markdown",
   "metadata": {},
   "source": [
    "There is much more we can do with a `Series`, including:\n",
    "\n",
    "* Filtering data\n",
    "* Correlating data\n",
    "* Analyzing data (e.g. averages)\n",
    "\n",
    "We'll save these for the next section, though."
   ]
  },
  {
   "attachments": {},
   "cell_type": "markdown",
   "metadata": {},
   "source": [
    "### DataFrame\n",
    "\n"
   ]
  },
  {
   "attachments": {},
   "cell_type": "markdown",
   "metadata": {},
   "source": [
    "## 2. Working with data"
   ]
  },
  {
   "attachments": {},
   "cell_type": "markdown",
   "metadata": {},
   "source": [
    "## 3. Analyzing data"
   ]
  },
  {
   "attachments": {},
   "cell_type": "markdown",
   "metadata": {},
   "source": [
    "## 4. Visualizing data"
   ]
  },
  {
   "attachments": {},
   "cell_type": "markdown",
   "metadata": {},
   "source": [
    "## Conclusion"
   ]
  }
 ],
 "metadata": {
  "kernelspec": {
   "display_name": "Python 3",
   "language": "python",
   "name": "python3"
  },
  "language_info": {
   "codemirror_mode": {
    "name": "ipython",
    "version": 3
   },
   "file_extension": ".py",
   "mimetype": "text/x-python",
   "name": "python",
   "nbconvert_exporter": "python",
   "pygments_lexer": "ipython3",
   "version": "3.11.1"
  },
  "orig_nbformat": 4,
  "vscode": {
   "interpreter": {
    "hash": "458dd1d06817a72759ca62d766d5a1c58019d69edba750c2eb07d80bb7630974"
   }
  }
 },
 "nbformat": 4,
 "nbformat_minor": 2
}
