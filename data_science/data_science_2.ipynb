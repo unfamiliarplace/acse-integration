{
 "cells": [
  {
   "attachments": {},
   "cell_type": "markdown",
   "metadata": {},
   "source": [
    "<a href=\"https://colab.research.google.com/github/unfamiliarplace/acse-integration/blob/main/data_science/data_science_2.ipynb\" target=\"_parent\"><img src=\"https://colab.research.google.com/assets/colab-badge.svg\" alt=\"Open In Colab\"/></a>\n",
    "\n",
    "<a href=\"https://hub.callysto.ca/jupyter/hub/user-redirect/git-pull?repo=https%3A%2F%2Fgithub.com%2Funfamiliarplace%2Facse-integration&branch=main&subPath=data_science%2Fdata_science_2.ipynb&depth=2\"  target=\"_parent\"><img src=\"https://raw.githubusercontent.com/callysto/curriculum-notebooks/master/open-in-callysto-button.svg?sanitize=true\" width=\"123\" height=\"24\" alt=\"Open in Callysto\"></a>"
   ]
  },
  {
   "attachments": {},
   "cell_type": "markdown",
   "metadata": {},
   "source": [
    "# Data Science Part 2\n"
   ]
  },
  {
   "attachments": {},
   "cell_type": "markdown",
   "metadata": {},
   "source": [
    "### Three data science notebooks\n",
    "\n",
    "Here's what we've covered and will cover in this series:\n",
    "\n",
    "1. We examined Python's core data structures and saw some simple visualizations.\n",
    "\n",
    "2. **We will explore and learn to use Python's dedicated data science tools in more depth.**\n",
    "\n",
    "3. We will apply our knowledge to a coherent project with multiple steps."
   ]
  },
  {
   "attachments": {},
   "cell_type": "markdown",
   "metadata": {},
   "source": [
    "### Outline of this notebook\n",
    "\n",
    "The goal of this notebook is to learn how to use Python's dedicated data science tools, in a way that you can take and reuse with students.\n",
    "\n",
    "1. **Introduction**\n",
    "\n",
    "1. **Representing data:** Choosing the right structures and labels for a dataset.\n",
    "\n",
    "1. **Working with data:** Transforming, selecting, and extracting data.\n",
    "\n",
    "1. **Analyzing data:** Performing calculations and gathering statistics on data.\n",
    "\n",
    "1. **Visualizing data:** Selecting and creating appropriate visuals in code.\n"
   ]
  },
  {
   "attachments": {},
   "cell_type": "markdown",
   "metadata": {},
   "source": [
    "## 1. Introduction\n",
    "\n",
    "**Data science** may seem like a complex topic, but it boils down to this:\n",
    "\n",
    "> There is a ton of data out there. A nearly infinite amount! How do I find the information I'm looking for? How do I understand it? And how do I make it relevant to others?\n",
    "\n",
    "In other words, data science is the science of handling data in order to *answer a specific question*.\n",
    "\n",
    "Python allows us to do this by providing us with tools for representing data, manipulating or selecting from it, analyzing it, and creating charts, graphs, maps, and other visualizations that display it. In this notebook, we are learning how to use these tools.\n",
    "\n",
    "In the next notebook, we will take a closer look at gathering and cleaning data from various real-world sources so that we can put our skills together for a specific purpose.\n",
    "\n",
    "### Learning goals\n",
    "\n",
    "* A1. demonstrate the ability to use different data types, including one-dimensional arrays, in computer programs.\n",
    "\n",
    "* A2. demonstrate the ability to use control structures and simple algorithms in computer programs.\n",
    "\n",
    "* D2.2 demonstrate an understanding of an area of collaborative research between computer science and another field.\n",
    "\n",
    "### Success criteria\n",
    "\n",
    "* I can choose and implement a structure to represent a dataset in code.\n",
    "\n",
    "* I can manipulate a data structure in code to select, organize, and analyze data.\n",
    "\n",
    "* I can create a suitable visualization of a dataset in code in order to better understand a question.\n",
    "\n",
    "[Source: Ontario Curriculum (2008)](https://www.edu.gov.on.ca/eng/curriculum/secondary/computer10to12_2008.pdf#page=41)\n"
   ]
  },
  {
   "attachments": {},
   "cell_type": "markdown",
   "metadata": {},
   "source": [
    "## 1. Representing data\n",
    "\n",
    "As we saw in the last notebook, often the greatest power in Python comes from the use of external libraries. Two core libraries for data science are `numpy` (Numerical Python) and `pandas` (Python for Data Analysis).\n",
    "\n",
    "Run this code block to ensure you have these installed:"
   ]
  },
  {
   "cell_type": "code",
   "execution_count": null,
   "metadata": {},
   "outputs": [],
   "source": [
    "# Install numpy and pandas to the current environment\n",
    "\n",
    "%pip install numpy\n",
    "%pip install pandas"
   ]
  },
  {
   "attachments": {},
   "cell_type": "markdown",
   "metadata": {},
   "source": [
    "Next, run this block to import them. Remember that in Jupyter Notebooks, all cells share a memory pool, so if we import them at the start then they'll be available for all future blocks."
   ]
  },
  {
   "cell_type": "code",
   "execution_count": null,
   "metadata": {},
   "outputs": [],
   "source": [
    "# Import numpy and pandas and verify that they're available\n",
    "\n",
    "import numpy as np\n",
    "import pandas as pd\n",
    "\n",
    "if np.arange:\n",
    "    print('numpy is working')\n",
    "if pd.DataFrame:\n",
    "    print('pandas is working')"
   ]
  },
  {
   "cell_type": "markdown",
   "metadata": {},
   "source": []
  }
 ],
 "metadata": {
  "kernelspec": {
   "display_name": "Python 3",
   "language": "python",
   "name": "python3"
  },
  "language_info": {
   "codemirror_mode": {
    "name": "ipython",
    "version": 3
   },
   "file_extension": ".py",
   "mimetype": "text/x-python",
   "name": "python",
   "nbconvert_exporter": "python",
   "pygments_lexer": "ipython3",
   "version": "3.11.1"
  },
  "orig_nbformat": 4,
  "vscode": {
   "interpreter": {
    "hash": "458dd1d06817a72759ca62d766d5a1c58019d69edba750c2eb07d80bb7630974"
   }
  }
 },
 "nbformat": 4,
 "nbformat_minor": 2
}
