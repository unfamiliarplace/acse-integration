{
 "cells": [
  {
   "attachments": {},
   "cell_type": "markdown",
   "metadata": {},
   "source": [
    "<a href=\"https://colab.research.google.com/github/unfamiliarplace/acse-integration/blob/main/data_science/data_science_3.ipynb\" target=\"_parent\"><img src=\"https://colab.research.google.com/assets/colab-badge.svg\" alt=\"Open In Colab\"/></a>\n",
    "\n",
    "<a href=\"https://hub.callysto.ca/jupyter/hub/user-redirect/git-pull?repo=https%3A%2F%2Fgithub.com%2Funfamiliarplace%2Facse-integration&branch=main&subPath=data_science%2Fdata_science_3.ipynb&depth=2\"  target=\"_parent\"><img src=\"https://raw.githubusercontent.com/callysto/curriculum-notebooks/master/open-in-callysto-button.svg?sanitize=true\" width=\"123\" height=\"24\" alt=\"Open in Callysto\"></a>"
   ]
  },
  {
   "attachments": {},
   "cell_type": "markdown",
   "metadata": {},
   "source": [
    "### Three data science notebooks\n",
    "\n",
    "Here's what we've covered and will cover in this series:\n",
    "\n",
    "Part 1: We examined Python's core data structures and saw some simple visualizations.\n",
    "\n",
    "Part 2: We will explore and learn to use Python's dedicated data science tools in more depth.\n",
    "\n",
    "**Part 3: We will apply our knowledge to a project with multiple steps and visualizations.**"
   ]
  },
  {
   "attachments": {},
   "cell_type": "markdown",
   "metadata": {},
   "source": [
    "### Outline of this notebook\n",
    "\n",
    "The goal of this notebook is use Python's dedicated data science tools for a specific purpose related to data science.\n",
    "\n",
    "**Introduction**\n",
    "\n",
    "**1. Finding and cleaning data:** Locating, downloading, and cleaning data for use.\n",
    "\n",
    "**2. Exploring, analyzing, and visualizing data:** Transforming, calculating statistics, and presenting the results of data.\n",
    "\n",
    "**Conclusion**\n"
   ]
  },
  {
   "attachments": {},
   "cell_type": "markdown",
   "metadata": {},
   "source": [
    "## Introduction\n",
    "\n",
    "For both students and ourselves, an important question whenever we learn something is: \"Why are we learning this? What can I use it for?\" We've seen the basics of how to use the tools. As an English teacher I know likes to write in the margins of essays: \"So what?\"\n",
    "\n",
    "It's a challenging question, but the beautiful thing about this stage is that you can open it to students. If they've been prepared well, then the applications should be limitless. In data science, that means you should be able to ask a lot of different real-world questions and get interesting answers.\n",
    "\n",
    "However, it's not always possible to come up with an interesting question from thin air. Often, the best questions actually arise from seeing something curious or encountering some underexplained data or hearing an anecdote and wondering whether it's typical or exceptional.\n",
    "\n",
    "So let's go hunting!\n",
    "\n",
    "### Learning goals\n",
    "\n",
    "* A1. demonstrate the ability to use different data types, including one-dimensional arrays, in computer programs.\n",
    "\n",
    "* D2.2 demonstrate an understanding of an area of collaborative research between computer science and another field.\n",
    "\n",
    "### Success criteria\n",
    "\n",
    "* I can choose and implement a structure to represent a dataset in code.\n",
    "\n",
    "* I can manipulate a data structure in code to select, organize, and analyze data.\n",
    "\n",
    "* I can create a suitable visualization of a dataset in code in order to better understand a question.\n",
    "\n",
    "> [Source: Ontario Curriculum (2008)](https://www.edu.gov.on.ca/eng/curriculum/secondary/computer10to12_2008.pdf#page=41)"
   ]
  },
  {
   "attachments": {},
   "cell_type": "markdown",
   "metadata": {},
   "source": [
    "## 1. Finding and cleaning data\n",
    "\n",
    "Where shall we begin looking for data? There are many paid and a few good free sources of significant datasets. Helping students comb through these is itself a great learning opportunity."
   ]
  },
  {
   "attachments": {},
   "cell_type": "markdown",
   "metadata": {},
   "source": [
    "### Some data sources\n",
    "\n",
    "* [data.world](https://data.world): Large collection of datasets. Requires sign-up.\n",
    "\n",
    "* [LODE Databases](https://www.statcan.gc.ca/en/lode/databases): A Canadian gov't initiative to create open municipal, provincial, and federal datasets.\n",
    "\n",
    "* [Statistics Canada](https://www150.statcan.gc.ca/n1/en/type/data): Large collection of datasets on all things measurable in Canada (economy, geography, society, etc.)\n",
    "\n",
    "* [data.gov](https://data.census.gov/): The US Census Bureau's equivalent of StatsCan.\n",
    "\n",
    "* [World Bank](https://data.worldbank.org/): A global version of the same. Can also zoom into the country level.\n",
    "\n",
    "* [First Nations Information Governance Centre](https://fnigc.ca/): A Canadian First Nations initiative to create [Indigenous data sovereignty](https://guides.library.utoronto.ca/indigenousstudies/datasovereignty).\n",
    "\n",
    "* [World Health Organization](https://www.who.int/data/gho/): Global health-related data.\n",
    "\n",
    "* [Open Data Sciences Conference](https://odsc.com/): They don't directly link to data science sources, but they promote resources, e.g. [this Medium.com list of free natural language processing datasets](https://odsc.medium.com/20-open-datasets-for-natural-language-processing-538fbfaf8e38).\n",
    "\n",
    "* [PEW Research](https://www.webfx.com/blog/marketing/data-sources/): Survey-based data. Requires sign-up.\n",
    "\n",
    "* [AWS Datasets](https://registry.opendata.aws/): Useful, but a little harder to access because they require either AWS integration, the AWS CLI, or following the links the original authors' repositories.\n",
    "\n",
    "* [Many more](https://www.webfx.com/blog/marketing/data-sources/) ...\n",
    "\n",
    "### Narrowing down an interest\n",
    "\n",
    "1. **Choosing my data source:** As a Canadian with general interests, I'm going to start at StatsCan. One thing to keep in mind with them is that they have both public and private datasets. Many of the public ones are just snapshots from a single census, and the resulting table is easy to understand but not very deeply informative. However, they do have some datasets with longitudinal aspects, so I'll look for one of those that's more worthwhile throwing programmatic data science at.\n",
    "\n",
    "2. **Exploring data sets:** There are a lot of subjects on StatsCan: agriculture and food, business, children, construction, crime, digital society, economy, education, energy, families, health, and more. Seeing a list like this is wonderful since these are exactly the sort of prompts students need to lead their curiosity. In my case, I'll click on agriculture and food. It has a lot of datasets and an obvious interest. :)\n",
    "<br><br>\n",
    "This brings me to a set of about 650 items, of which almost 600 are data tables. I'll limit myself to those since those are the easiest way to ingest data such that we can work with it in code.\n",
    "<br><br>\n",
    "That's a lot of tables to wade through, so I'll use the subcategory filter to limit it to food (130 tables). One of the top ones is \"Food available in Canada\" (in kilos per person per year). This sound vaguely interesting. Another one is [\"Supply and disposition of food in Canada\"](https://www150.statcan.gc.ca/t1/tbl1/en/tv.action?pid=3210005301), which sounds to me like how it was used, and thus a bit richer. I'll use that.\n",
    "\n",
    "<img width=\"600\" src=\"assets/screenshots/sc_002.png\" />\n",
    "\n",
    "3. **Preliminary skim:** As we saw in the last notebook, it's possible to preview datasets in Python using `pandas`, but since we want to get a sense of what's out there without having to download all these tables, I'll just skim through it in the browser.\n",
    "<br><br>\n",
    "I click on \"Supply and disposition of food in Canada\". On StatsCan, you can choose various filters for the table views. Here I can choose one of many commodities, and I can choose a reference period. Wonder of wonders, the reference period lets me go back all the way to 1960! This is a jackpot dataset — lots to analyze. I can see that the resulting tables give me supply (broken down into stock, production, imports) vs. disposition (domestic disappearance, exports, manufacturing, and waste). I think this dataset will be worth poking around.\n",
    "\n",
    "<img width=\"600\" src=\"assets/screenshots/sc_001.png\" />\n",
    "\n",
    "### Downloading the data\n",
    "\n",
    "On StatsCan, when you click on `Download Options`, you get quite a range. I'm going to choose the option to download the entire table as a CSV. That gives us the most flexibility to work with it in code.\n",
    "\n",
    "<img width=\"600\" src=\"assets/screenshots/sc_003.png\" />\n",
    "\n",
    "The resulting file, which can be found locally as well [here](data/32100053.csv), is about 10 MB with 16 columns and 70,000 rows for a total of ~1.1 million cells. (This sounds like a lot, but it's far from the largest datasets out there! But it will do fine for our purposes.)\n",
    "\n",
    "### Cleaning the data\n",
    "\n",
    "#### Why clean?\n",
    "\n",
    "Why do we clean data? Because datasets that comes to us from the wild may have various formats (with inconsistent parsing rules), invalid data, missing data, and more. For example, suppose you had data from a number of volunteers who wrote down something like observations of birds with timestamps, but across your volunteers you find timestamps formatted as `3:01`, `3:01 PM`, `3:01 p.m`., `15:03`, `June 1 2023 3:03 P.M. EST`, and so forth. You would need to normalize them to one format so that they could be compared in analysis. Similarly, perhaps you have some numerical data on temperatures, but some of the rows fail to indicate whether the system was in Celsius or Fahrenheit and need to be thrown out.\n",
    "\n",
    "In the case of StatsCan, the dataset already comes to us pretty \"clean\", with well-labelled and predictable formats, but it can still have missing data where there are gaps in their records (usually represented by `-` or `..` in their tables). It will also have a lot of extraneous data, e.g. metadata, columns linking the data with other records, or columns where every row has the same value (e.g. \"Canada\" because we downloaded a composite of all geographic regions).\n",
    "\n",
    "#### How to clean?\n",
    "\n",
    "There are essentially three ways to clean data:\n",
    "\n",
    "* Manually, using a text editor or dedicated CSV editor. For example, VSCode has numerous CSV extensions that let you add or reorder columns and so forth. (Note that while you can use Excel for this, it tends to alter your CSV format in ways you might not expect.)\n",
    "\n",
    "* Via scripting that edits and resaves the CSV file. For example, Python has a built-in CSV module that we could use to read the file row by row, perform operations on rows and columns, etc.\n",
    "\n",
    "* In code at runtime using table-oriented libraries like `pandas`, as we saw in the previous notebook.\n",
    "\n",
    "| Method | Pros | Cons\n",
    "| - | - | -\n",
    "| Manual editing | Requires less technical skill; fast to set up | Limited to find-and-replace or column/row-wise editing\n",
    "| Scripting using `csv` module | Relatively fast and powerful | No model, so somewhat unintuitive to edit data via indices rather than headers\n",
    "| At runtime in `pandas` library | Powerful and intuitive editing | May require pre-cleaning data; slower, is executed again on each run\n",
    "\n",
    "#### Cleaning, part 1\n",
    "\n",
    "Our food dataset is sizable, and a quick glance at the table suggests that it can be trimmed quickly, so I'll do this in three passes: first with manual editing for the broad cleaning, then scripting, and finally with `pandas` at runtime for finer-grained selection from the trimmed dataset.\n",
    "\n",
    "I'll begin by making a copy of our `csv` with a different name, [`food_clean_1.csv`](data/food_clean_1.csv). We always preserve our original data in case something goes wrong, since our cleaning operations can be destructive.\n",
    "\n",
    "Opening it in VSCode's extension `Edit csv`, I see its 16 columns are:\n",
    "\n",
    "`REF_DATE,GEO,DGUID,Commodity,Supply and disposition,UOM,UOM_ID,SCALAR_FACTOR,SCALAR_ID,VECTOR,COORDINATE,VALUE,STATUS,SYMBOL,TERMINATED,DECIMALS`\n",
    "\n",
    "I need `REF_DATE` (the year), `Commodity`, `Supply and disposition`, and `Value`. The rest are empty, metadata, or repeated values. (Even `UOM` (unit of measure) and `SCALAR_FACTOR` (unit multiplier) are just \"Tonnes\" and \"thousands\" in every case, so they are needless on a row-by-row basis.) Incidentally, you might also wonder where the columns went that indicated finer detail like production, imports, domestic disappearance, and exports. It turns out that each commodity occupies up to 10 rows, and those finer details each have their own row. We'll deal with that later. For now, I'll just delete the unnecessary columns. Also, I'll rename `REF_DATE` to `Year`.\n",
    "\n",
    "That's probably about all we can do with manual editing. Some of the things we'd like to be able to do as we skim through the resulting file (which takes up about 1/3 of the space).\n",
    "\n",
    "* Convert the rows into columns (since they consist of 8 identical rows that differ only in the value column)\n",
    "* Identify and possibly remove empty cells\n",
    "* Possibly eliminate data we're not interested in (this requires some thinking about what we want to do with the data)\n",
    "\n",
    "#### Cleaning, part 2\n",
    "\n",
    "Let's start with the conversion of rows into columns. This is something that can be done fairly easily with normal Python logic, but would be somewhat involved if using `pandas` `DataFrames`, so let's use the second method.\n",
    "\n",
    "Our algorithm will be to read each row, identify the first 2 columns, and create a row in a new CSV, and then append successive rows' \"Value\" columns until the first 2 columns change.\n",
    "\n",
    "One minor difficulty we notice as we skim the data is that not all commodities have the full breakdown. This means that we will need to read the label for the available data rather than just relying on an index. (StatsCan has provided somewhat \"dirty\" data, in that true predictability would have been to mark missing data with blank cells, but instead they omitted the rows altogether. That's what makes our job fun...!)\n",
    "\n",
    "Here's some code to clean the CSV. It outputs [`food_clean_2.csv`](data/food_clean_2.csv)."
   ]
  },
  {
   "cell_type": "code",
   "execution_count": 1,
   "metadata": {},
   "outputs": [],
   "source": [
    "# Second pass of food data cleaning, using Python's built-in csv module\n",
    "import csv\n",
    "\n",
    "# Open old and new CSVs. Blank newline because csv adds '\\n' anyway\n",
    "with open('data/food_clean_1.csv', 'r') as f_old:\n",
    "    with open('data/food_clean_2.csv', 'w', newline='') as f_new:\n",
    "        reader = csv.reader(f_old)\n",
    "        writer = csv.writer(f_new)\n",
    "\n",
    "        # Omit the headers; we know them\n",
    "        next(reader)\n",
    "\n",
    "        # Write the headers for the new file\n",
    "        writer.writerow(['Year', 'Commodity', 'Total supply', 'Beginning stocks', 'Production', 'Imports', 'Total disposition', 'Domestic disappearance', 'Exports', 'Waste', 'Ending stocks'])\n",
    "\n",
    "        # Row template\n",
    "        # This is the messy part, where we need to be able to put each value in the right column\n",
    "        # Note: I'm also combining \"Production\" and \"Manufacturing\"\n",
    "        col_indices = {'Total supply': 2, 'Beginning stocks': 3, 'Production': 4, 'Manufacturing': 4, 'Imports': 5, 'Total disposition': 6, 'Domestic disappearance': 7, 'Exports': 8, 'Waste': 9, 'Ending stocks': 10}\n",
    "\n",
    "        # Begin constructing the slimmer CSV's row\n",
    "        new_row = [''] * 11\n",
    "\n",
    "        # Examine each row\n",
    "        for old_row in reader:\n",
    "\n",
    "            # Write a finished row\n",
    "            if new_row[0] and (old_row[:2] != new_row[:2]):\n",
    "                writer.writerow(new_row)\n",
    "                new_row = [''] * 11\n",
    "            \n",
    "            # Construct said row\n",
    "            new_row[0] = old_row[0]\n",
    "            new_row[1] = old_row[1]\n",
    "\n",
    "            label = old_row[2]\n",
    "            col_index = col_indices[label]\n",
    "            value = old_row[3]\n",
    "\n",
    "            new_row[col_index] = value\n",
    "        \n",
    "        # After the loop, write the final row\n",
    "        writer.writerow(new_row)"
   ]
  },
  {
   "attachments": {},
   "cell_type": "markdown",
   "metadata": {},
   "source": [
    "Finally we have quite a manageable dataset: under 1 MB with ~12,000 rows and 4 columns. Further filtration can be done at runtime in `pandas`. I suspect that we'll want to look through it a bit rather than attempting to clean it further at this point."
   ]
  },
  {
   "attachments": {},
   "cell_type": "markdown",
   "metadata": {},
   "source": [
    "## 2. Exploring, analysing, and visualizing data\n",
    "\n",
    "### Some potential questions\n",
    "\n",
    "To discover some questions worth analyzing, we should poke our head around the data a little.\n",
    "\n",
    "First of all, the column names themselves suggest some interesting questions. One might ask ones about changes over time:\n",
    "\n",
    "* How has our production vs. importing changed as a function of our total supply? Do we import more or less than we used to?\n",
    "\n",
    "* How has waste changed over time (again as a function of total disposition)? Are we more or less wasteful now?\n",
    "\n",
    "* Has supply scaled with population? Has disposition scaled with population? (These ones require a secondary data source to correlate population.)\n",
    "\n",
    "* Do our stockpiles tend to grow over time or do they remain the same?\n",
    "\n",
    "These questions could be asked based on totals for the years or could be zoomed into a particular commodity we're interested in.\n",
    "\n",
    "We could also ask questions based on commodities:\n",
    "\n",
    "* Which things do we mostly produce and which do we mostly import?\n",
    "\n",
    "* Which things do we mostly consume domestically and which do we mostly export?\n",
    "\n",
    "* Which things are we most wasteful of?\n",
    "\n",
    "* How has the number of commodities we track changed over the years? (For this we could consider number of blank cells, for instance.)\n",
    "\n",
    "### Subcategories\n",
    "\n",
    "One downside I note is that there are 190 different commodities, the categories aren't that obvious. A more careful reading by year, however, suggests that each year contains the categories: flours, misc, beverages, dairy, meat, oils, fruits, vegetables, fish. We probably do want to combine those if we want to do any comparison between foods, since otherwise we'll be comparing 1% skim milk against 3% skim milk and so forth.\n",
    "\n",
    "There are a few ways to do this. My way will be to use more Python scripting to create (1) a list of unique values and (2) a CSV in which I will manually map values to categories. Because this will be quite a small map, I'll consult it at runtime when doing my data analysis rather than creating a third revision of our dataset.\n",
    "\n",
    "Here's some code that creates the basis for subcategory mapping. It generates [food_categories_stub.csv](data/food_categories_stub.csv)."
   ]
  },
  {
   "cell_type": "code",
   "execution_count": 2,
   "metadata": {},
   "outputs": [],
   "source": [
    "# Create a subcategory mapping\n",
    "import csv\n",
    "\n",
    "# I'll use a set to track the unique commodities since sets inherently resolve duplicates\n",
    "unique_commodities = set()\n",
    "\n",
    "with open('data/food_clean_2.csv', 'r') as f_data:\n",
    "        reader = csv.reader(f_data)\n",
    "\n",
    "        # Skip the headers\n",
    "        next(reader)\n",
    "\n",
    "        # Put each commodity into the set\n",
    "        for row in reader:\n",
    "            commodity = row[1]\n",
    "            unique_commodities.add(commodity)\n",
    "\n",
    "# Write them as a CSV in which I can manually add categories\n",
    "with open('data/food_categories_stub.csv', 'w', newline='') as f_map:\n",
    "    writer = csv.writer(f_map)\n",
    "\n",
    "    # Write the headers\n",
    "    writer.writerow(['Commodity', 'Category'])\n",
    "    \n",
    "    # Write each row with a blank space in the category column\n",
    "    for commodity in sorted(unique_commodities):\n",
    "         writer.writerow([commodity, ''])"
   ]
  },
  {
   "attachments": {},
   "cell_type": "markdown",
   "metadata": {},
   "source": [
    "I'll now create a copy called [food_categories.csv](data/food_categories.csv) (the reason I create a copy is because the above code could easily overwrite and blank out my manual work otherwise). This is a great task to give a student or committee for half an hour or so — labelling underspecified data is an important part of preparing a dataset. A committee could provide some great discussion since they might disagree. For example, I included \"potato chips\" under vegetables along with potatoes, but someone else might put them under miscellaneous or junk food. And I put canned and frozen vegetables together with fresh, but an alternative study might explore Canadian trends between these specific categories, for example. (One could always produce multiple mappings for different studies of the same data.)\n",
    "\n",
    "Also, while doing this, I noticed that some rows only sum up other rows (e.g. \"Beef and veal total\"), which could lead to incorrect sums for categories if we include them. Thus, I will create a third revision of the dataset afterwards that eliminates these rows. Here's the code for that. It produces [food_clean_3.csv](data/food_clean_3.csv)."
   ]
  },
  {
   "cell_type": "code",
   "execution_count": 3,
   "metadata": {},
   "outputs": [],
   "source": [
    "# Remove rows that are just totals of other rows\n",
    "import csv\n",
    "\n",
    "with open('data/food_clean_2.csv', 'r') as f_old:\n",
    "    with open('data/food_clean_3.csv', 'w', newline='') as f_new:\n",
    "        reader = csv.reader(f_old)\n",
    "        writer = csv.writer(f_new)\n",
    "\n",
    "        # Write all rows except those that contain the word 'total'\n",
    "        # (Coarse but in skimming the rows for my categories I know it's sufficient)\n",
    "        for row in reader:\n",
    "            if 'total' not in row[1].lower():\n",
    "                writer.writerow(row)\n",
    "           "
   ]
  },
  {
   "attachments": {},
   "cell_type": "markdown",
   "metadata": {},
   "source": [
    "## Modelling in `pandas`\n",
    "\n",
    "Now it's finally time to get into the `pandas` material that we learned last time and make some `DataFrames`. We're going to do some preliminary exploration of trends to try to generate more specific questions.\n",
    "\n",
    "### Making our first `DataFrame`\n",
    "\n",
    "Let's ingest the CSV files we made.\n",
    "\n",
    "P.S. Two reminders:\n",
    "\n",
    "* Don't forget to run `pip install pandas` in your terminal if you haven't yet.\n",
    "\n",
    "* In Jupyter Notebooks, cells share a memory pool, so which cells you run and which order you run them in can affect the result. You can always hit the `Run all` button to catch up on any that were missed so that future cells work."
   ]
  },
  {
   "cell_type": "code",
   "execution_count": 4,
   "metadata": {},
   "outputs": [],
   "source": [
    "# Ingesting CSVs into a DataFrame\n",
    "import pandas as pd\n",
    "\n",
    "# Beautifully simple\n",
    "df = pd.read_csv('data/food_clean_3.csv')"
   ]
  },
  {
   "attachments": {},
   "cell_type": "markdown",
   "metadata": {},
   "source": [
    "Let's insert a column for the category."
   ]
  },
  {
   "cell_type": "code",
   "execution_count": 5,
   "metadata": {},
   "outputs": [],
   "source": [
    "# Adding a category column\n",
    "\n",
    "# Ingest the category CSV and turn it into a dict\n",
    "df_com_cats = pd.read_csv('data/food_categories.csv')\n",
    "com_to_cat = {k: v for (i, k, v) in df_com_cats.itertuples()}\n",
    "\n",
    "# Create a column by mapping commodity values into the dict\n",
    "cat_column = df['Commodity'].map(com_to_cat)\n",
    "\n",
    "# Insert said column into the main DataFrame at index 1 with the label 'Category'\n",
    "df.insert(1, 'Category', cat_column)"
   ]
  },
  {
   "attachments": {},
   "cell_type": "markdown",
   "metadata": {},
   "source": [
    "Remember that we can view the head (or first few rows) of the `DataFrame` like this in order to verify its structure and contents:"
   ]
  },
  {
   "cell_type": "code",
   "execution_count": 6,
   "metadata": {},
   "outputs": [
    {
     "name": "stdout",
     "output_type": "stream",
     "text": [
      "   Year Category                Commodity  Total supply  Beginning stocks  \\\n",
      "0  1960  Staples              Wheat flour       1934.34             87.07   \n",
      "1  1960  Staples                Rye flour          8.60              0.38   \n",
      "2  1960  Staples  Oatmeal and rolled oats         44.07              1.69   \n",
      "3  1960  Staples     Pot and pearl barley          1.67              0.11   \n",
      "4  1960  Staples      Corn flour and meal         16.41              0.25   \n",
      "\n",
      "   Production  Imports  Total disposition  Domestic disappearance  Exports  \\\n",
      "0       45.07     0.08            1842.27                 1060.01   715.56   \n",
      "1        7.88     0.34               8.36                    8.19      NaN   \n",
      "2       42.38      NaN              42.52                   38.43     3.31   \n",
      "3        1.56      NaN               1.60                    1.57     0.01   \n",
      "4        9.00     7.16              16.13                   13.35     2.51   \n",
      "\n",
      "   Waste  Ending stocks  \n",
      "0  21.63          92.07  \n",
      "1   0.17           0.24  \n",
      "2   0.78           1.55  \n",
      "3   0.02           0.07  \n",
      "4   0.27           0.28  \n"
     ]
    }
   ],
   "source": [
    "# View DataFrame head\n",
    "print(df.head())"
   ]
  },
  {
   "attachments": {},
   "cell_type": "markdown",
   "metadata": {},
   "source": [
    "### Other views of the data\n",
    "\n",
    "Let's create more dataframes as \"views\" of this content. First, a year-wise one with totals of all categories."
   ]
  },
  {
   "cell_type": "code",
   "execution_count": 7,
   "metadata": {},
   "outputs": [
    {
     "name": "stdout",
     "output_type": "stream",
     "text": [
      "      Total supply  Beginning stocks  Production  Imports  Total disposition  \\\n",
      "Year                                                                           \n",
      "1960      13853.38           1432.88     4111.26  1753.66           11224.18   \n",
      "1961      14267.65           1577.80     4361.02  1703.68           11672.31   \n",
      "1962      14826.65           1834.87     4486.84  1657.62           12020.56   \n",
      "1963      15344.77           1884.36     4672.45  1696.54           12681.38   \n",
      "1964      16044.22           1939.14     4964.80  1697.89           13315.62   \n",
      "\n",
      "      Domestic disappearance  Exports   Waste  Ending stocks  \n",
      "Year                                                          \n",
      "1960                10662.27   980.44  574.44        1577.80  \n",
      "1961                10757.33  1055.50  587.83        1834.87  \n",
      "1962                11233.38  1091.39  604.25        1879.59  \n",
      "1963                11738.68  1197.91  601.90        1939.14  \n",
      "1964                11899.07  1664.03  613.95        1872.21  \n"
     ]
    }
   ],
   "source": [
    "# Year-wise DataFrame\n",
    "\n",
    "# Set the index to the year\n",
    "df_years = df.set_index('Year', drop=True)\n",
    "\n",
    "# Group values by shared year and sum them (ignoring blank cells)\n",
    "df_years = df_years.groupby(df_years.index).sum(numeric_only=True)\n",
    "\n",
    "print(df_years.head())"
   ]
  },
  {
   "attachments": {},
   "cell_type": "markdown",
   "metadata": {},
   "source": [
    "### Multi-level frame\n",
    "\n",
    "Nice. Now, suppose we want to create a category-wise `DataFrame`. This suggests that our rows are categories. (We'll eliminate commodities for this frame.) What will the columns be? Suppose we say years. If so, we must pick one of the measures to serve as the vector. For example, if our frame looked like this:\n",
    "\n",
    "| Category | 1960 | 1961 | ... | 2022\n",
    "| - | - | - | - | -\n",
    "| Staples | 200.2 | 250.4 | ... | 678.2\n",
    "| Beverages | 37.3 | 49.1 | ... | 163.0\n",
    "\n",
    "Those numbers can seemingly only represent one of our previous measures: total supply, or total disposition, or perhaps imports or exports or waste.\n",
    "\n",
    "What then? Do we need a separate dataframe for each of the 10 measures? Perhaps we could do that with a function:"
   ]
  },
  {
   "cell_type": "code",
   "execution_count": 8,
   "metadata": {},
   "outputs": [],
   "source": [
    "# Function for creating a category-wise dataframe for a given column\n",
    "\n",
    "def make_catwise(column: str) -> pd.DataFrame:\n",
    "    df_cats = pd.DataFrame()\n",
    "    df_cats['Category'] = df['Category'].unique()\n",
    "    df_cats = df_cats.set_index('Category', drop=True)\n",
    "\n",
    "    # Go through each year\n",
    "    for year in df['Year'].unique():\n",
    "        df_cats[year] = 0.0\n",
    "\n",
    "        # Sum the years for the supplied column for each category\n",
    "        for cat in df_cats.index.get_level_values('Category'):\n",
    "            data = df[(df['Year'] == year) & (df['Category'] == cat)][column]\n",
    "            total = sum(data.fillna(0))\n",
    "            df_cats.loc[cat, year] = total\n",
    "\n",
    "    return df_cats"
   ]
  },
  {
   "cell_type": "code",
   "execution_count": 9,
   "metadata": {},
   "outputs": [
    {
     "name": "stdout",
     "output_type": "stream",
     "text": [
      "                  1960     1961     1962     1963     1964     1965     1966  \\\n",
      "Category                                                                       \n",
      "Staples        2042.90  1953.71  1895.29  2074.76  2307.88  2155.07  2126.68   \n",
      "Miscellaneous  1123.06  1144.71  1205.78  1240.62  1220.53  1275.74  1324.17   \n",
      "Vegetables     4823.68  5048.94  5407.63  5273.20  5512.43  5558.48  5968.45   \n",
      "Beverages        87.84    94.28    98.68   104.57   101.41   101.38    96.09   \n",
      "Dairy          1976.75  2160.15  2208.34  2286.16  2356.69  2656.48  2732.45   \n",
      "\n",
      "                  1967     1968     1969  ...     2013     2014     2015  \\\n",
      "Category                                  ...                              \n",
      "Staples        1947.47  1913.38  1929.39  ...  2665.91  2406.06  2445.21   \n",
      "Miscellaneous  1315.93  1320.08  1350.69  ...  1944.32  1955.77  1898.06   \n",
      "Vegetables     6042.67  6205.26  6195.20  ...  5112.01  5104.00  5198.70   \n",
      "Beverages       109.33   121.80   122.49  ...   365.29   405.31   365.01   \n",
      "Dairy          2801.05  2918.36  3015.31  ...  4279.24  4281.86  4345.49   \n",
      "\n",
      "                  2016     2017     2018     2019     2020     2021     2022  \n",
      "Category                                                                      \n",
      "Staples        2450.85  2486.63  2526.09  2569.17  2580.42  2510.72  2621.17  \n",
      "Miscellaneous  1953.80  2078.90  2125.84  2145.73  2243.70  2258.25  2283.22  \n",
      "Vegetables     5315.48  5328.27  5509.46  5553.37  5536.72  5669.57  5675.59  \n",
      "Beverages       386.20   390.89   396.12   414.90   406.81   430.76   463.86  \n",
      "Dairy          4384.02  4354.82  4369.30  4323.97  4389.33  4266.74  4205.51  \n",
      "\n",
      "[5 rows x 63 columns]\n"
     ]
    }
   ],
   "source": [
    "# Testing said function\n",
    "df_cat_supply = make_catwise('Total supply')\n",
    "print(df_cat_supply.head())"
   ]
  },
  {
   "attachments": {},
   "cell_type": "markdown",
   "metadata": {},
   "source": [
    "However, it seems unintuitive to have 10 separate DataFrames that each focus on one measure.\n",
    "\n",
    "Instead, we can use a [`MultiIndex`](https://pandas.pydata.org/docs/user_guide/advanced.html). Here, indices consist of multiple hierarchical levels. If that sounds complex, here's a table illustration:\n",
    "\n",
    "| Category | Year | Total supply | Total disposition\n",
    "| - | - | - | - \n",
    "| Staples | 1960 | 200.2 | 196.4\n",
    "| | 1961 | 250.4 | 212.3\n",
    "| | ... | ... | ...\n",
    "| | 2022 | 678.2 | 654.7\n",
    "| Beverages | 1960 | 37.3 | 33.4\n",
    "| | 1961 | 49.1 | 48.9\n",
    "| | ... | ... | ...\n",
    "| | 2022 | 163.0 | 155.6\n",
    "\n",
    "This hierarchical indexing lets us capture each year *and* measure while still orienting it around just one of the original columns (Category).\n",
    "\n",
    "Here's how we make it:"
   ]
  },
  {
   "cell_type": "code",
   "execution_count": 10,
   "metadata": {},
   "outputs": [
    {
     "name": "stdout",
     "output_type": "stream",
     "text": [
      "                Total supply  Beginning stocks  Production  Imports  \\\n",
      "Category  Year                                                        \n",
      "Beverages 1960         87.84               0.0         0.0    87.84   \n",
      "          1961         94.28               0.0         0.0    94.28   \n",
      "          1962         98.68               0.0         0.0    98.68   \n",
      "          1963        104.57               0.0         0.0   104.57   \n",
      "          1964        101.41               0.0         0.0   101.41   \n",
      "\n",
      "                Total disposition  Domestic disappearance  Exports  Waste  \\\n",
      "Category  Year                                                              \n",
      "Beverages 1960              87.84                 1262.56     0.50    0.0   \n",
      "          1961              94.28                 1301.38     1.86    0.0   \n",
      "          1962              98.68                 1357.12     2.30    0.0   \n",
      "          1963             104.57                 1424.78     4.61    0.0   \n",
      "          1964             101.41                 1468.73     2.82    0.0   \n",
      "\n",
      "                Ending stocks  \n",
      "Category  Year                 \n",
      "Beverages 1960            0.0  \n",
      "          1961            0.0  \n",
      "          1962            0.0  \n",
      "          1963            0.0  \n",
      "          1964            0.0  \n"
     ]
    }
   ],
   "source": [
    "# Create a category-wise DataFrame with a MultiIndex\n",
    "\n",
    "# Set the multi-index to category and year; drop commodity definition\n",
    "df_cats = df.set_index(['Category', 'Year'])\n",
    "df_cats = df_cats.drop(columns='Commodity')\n",
    "\n",
    "# Sum the years\n",
    "df_cats = df_cats.groupby(level=[0, 1]).sum(numeric_only=True)\n",
    "\n",
    "print(df_cats.head())"
   ]
  },
  {
   "attachments": {},
   "cell_type": "markdown",
   "metadata": {},
   "source": [
    "This is the power of `pandas DataFrames`... think of all the iteration and comparison we would have done on regular Python data structures!\n",
    "\n",
    "Note that seeing this logic, it will be easily to reclaim the commodity-level specifity if we want to:"
   ]
  },
  {
   "cell_type": "code",
   "execution_count": 11,
   "metadata": {},
   "outputs": [
    {
     "name": "stdout",
     "output_type": "stream",
     "text": [
      "                                  Total supply  Beginning stocks  Production  \\\n",
      "Commodity                   Year                                               \n",
      "Ale, beer, stout and porter 1960           0.0               0.0         0.0   \n",
      "                            1961           0.0               0.0         0.0   \n",
      "                            1962           0.0               0.0         0.0   \n",
      "                            1963           0.0               0.0         0.0   \n",
      "                            1964           0.0               0.0         0.0   \n",
      "\n",
      "                                  Imports  Total disposition  \\\n",
      "Commodity                   Year                               \n",
      "Ale, beer, stout and porter 1960      0.0                0.0   \n",
      "                            1961      0.0                0.0   \n",
      "                            1962      0.0                0.0   \n",
      "                            1963      0.0                0.0   \n",
      "                            1964      0.0                0.0   \n",
      "\n",
      "                                  Domestic disappearance  Exports  Waste  \\\n",
      "Commodity                   Year                                           \n",
      "Ale, beer, stout and porter 1960                 1070.44      0.0    0.0   \n",
      "                            1961                 1099.34      0.0    0.0   \n",
      "                            1962                 1145.37      0.0    0.0   \n",
      "                            1963                 1200.16      0.0    0.0   \n",
      "                            1964                 1246.50      0.0    0.0   \n",
      "\n",
      "                                  Ending stocks  \n",
      "Commodity                   Year                 \n",
      "Ale, beer, stout and porter 1960            0.0  \n",
      "                            1961            0.0  \n",
      "                            1962            0.0  \n",
      "                            1963            0.0  \n",
      "                            1964            0.0  \n"
     ]
    }
   ],
   "source": [
    "# Create a commodity-wise DataFrame with a MultiIndex\n",
    "\n",
    "# Set the multi-index to commodity and year\n",
    "df_coms = df.set_index(['Commodity', 'Year'])\n",
    "\n",
    "# Sum the years\n",
    "df_coms = df_coms.groupby(level=[0, 1]).sum(numeric_only=True)\n",
    "\n",
    "print(df_coms.head())"
   ]
  },
  {
   "attachments": {},
   "cell_type": "markdown",
   "metadata": {},
   "source": [
    "### Sketching visualization, part 1\n",
    "\n",
    "We'll begin with some light visualization of various aspects of our data just in order to get a sense of the sorts of insights it might yield. That is, we will turn numbers into images so they can be scanned more readily.\n",
    "\n",
    "Our library for this will be [`plotly`](https://plotly.com/python/), and specifically [`plotly.express`](https://plotly.com/python/plotly-express/). You will also need `iPython` if you don't have it installed in order to display the visual results in a notebook.\n",
    "\n",
    "So go ahead and run:\n",
    "\n",
    "```\n",
    "pip install plotly\n",
    "pip install ipython\n",
    "```\n",
    "\n",
    "Note: depending on your IDE, for visual librairies, restarting your kernel may not be sufficient. You may actually have to close and reopen the IDE. That's what I have to do with VSCode on my staff Macbook."
   ]
  },
  {
   "attachments": {},
   "cell_type": "markdown",
   "metadata": {},
   "source": [
    "Here's how we could create a line graph for one dimension of our data: total supply of all products over the years."
   ]
  },
  {
   "cell_type": "code",
   "execution_count": 12,
   "metadata": {},
   "outputs": [
    {
     "data": {
      "application/vnd.plotly.v1+json": {
       "config": {
        "plotlyServerURL": "https://plot.ly"
       },
       "data": [
        {
         "hovertemplate": "Year=%{x}<br>Total supply=%{y}<extra></extra>",
         "legendgroup": "",
         "line": {
          "color": "#636efa",
          "dash": "solid"
         },
         "marker": {
          "symbol": "circle"
         },
         "mode": "lines",
         "name": "",
         "orientation": "v",
         "showlegend": false,
         "type": "scatter",
         "x": [
          1960,
          1961,
          1962,
          1963,
          1964,
          1965,
          1966,
          1967,
          1968,
          1969,
          1970,
          1971,
          1972,
          1973,
          1974,
          1975,
          1976,
          1977,
          1978,
          1979,
          1980,
          1981,
          1982,
          1983,
          1984,
          1985,
          1986,
          1987,
          1988,
          1989,
          1990,
          1991,
          1992,
          1993,
          1994,
          1995,
          1996,
          1997,
          1998,
          1999,
          2000,
          2001,
          2002,
          2003,
          2004,
          2005,
          2006,
          2007,
          2008,
          2009,
          2010,
          2011,
          2012,
          2013,
          2014,
          2015,
          2016,
          2017,
          2018,
          2019,
          2020,
          2021,
          2022
         ],
         "xaxis": "x",
         "y": [
          13853.38,
          14267.65,
          14826.65,
          15344.77,
          16044.22,
          16325.92,
          16913.3,
          17170.08,
          17363.66,
          17698.27,
          18244.51,
          18313.77,
          18065.19,
          18556.15,
          18918.1,
          19440.09,
          20157.78,
          20727.19,
          21276.85,
          21989.58,
          21831.24,
          22525.69,
          22830.649999999998,
          22585.32,
          23180.55,
          23737.33,
          23977.65,
          25128.75,
          25145.12,
          25039.92,
          25502.530000000002,
          25197.989999999998,
          26313.420000000002,
          26573.13,
          28998.23,
          28760,
          27745.559999999998,
          27738.52,
          29183.87,
          29903.46,
          30623.15,
          31155.68,
          23826.45,
          23883.97,
          24334.53,
          24472.33,
          24524.54,
          24755.75,
          24686.71,
          24697.19,
          24827.42,
          25188.350000000002,
          25313.67,
          25575.84,
          25415.33,
          25723.73,
          26378.05,
          26519,
          27091.63,
          27340.91,
          27667.8,
          27664.2,
          27893.46
         ],
         "yaxis": "y"
        }
       ],
       "layout": {
        "legend": {
         "tracegroupgap": 0
        },
        "template": {
         "data": {
          "bar": [
           {
            "error_x": {
             "color": "#2a3f5f"
            },
            "error_y": {
             "color": "#2a3f5f"
            },
            "marker": {
             "line": {
              "color": "#E5ECF6",
              "width": 0.5
             },
             "pattern": {
              "fillmode": "overlay",
              "size": 10,
              "solidity": 0.2
             }
            },
            "type": "bar"
           }
          ],
          "barpolar": [
           {
            "marker": {
             "line": {
              "color": "#E5ECF6",
              "width": 0.5
             },
             "pattern": {
              "fillmode": "overlay",
              "size": 10,
              "solidity": 0.2
             }
            },
            "type": "barpolar"
           }
          ],
          "carpet": [
           {
            "aaxis": {
             "endlinecolor": "#2a3f5f",
             "gridcolor": "white",
             "linecolor": "white",
             "minorgridcolor": "white",
             "startlinecolor": "#2a3f5f"
            },
            "baxis": {
             "endlinecolor": "#2a3f5f",
             "gridcolor": "white",
             "linecolor": "white",
             "minorgridcolor": "white",
             "startlinecolor": "#2a3f5f"
            },
            "type": "carpet"
           }
          ],
          "choropleth": [
           {
            "colorbar": {
             "outlinewidth": 0,
             "ticks": ""
            },
            "type": "choropleth"
           }
          ],
          "contour": [
           {
            "colorbar": {
             "outlinewidth": 0,
             "ticks": ""
            },
            "colorscale": [
             [
              0,
              "#0d0887"
             ],
             [
              0.1111111111111111,
              "#46039f"
             ],
             [
              0.2222222222222222,
              "#7201a8"
             ],
             [
              0.3333333333333333,
              "#9c179e"
             ],
             [
              0.4444444444444444,
              "#bd3786"
             ],
             [
              0.5555555555555556,
              "#d8576b"
             ],
             [
              0.6666666666666666,
              "#ed7953"
             ],
             [
              0.7777777777777778,
              "#fb9f3a"
             ],
             [
              0.8888888888888888,
              "#fdca26"
             ],
             [
              1,
              "#f0f921"
             ]
            ],
            "type": "contour"
           }
          ],
          "contourcarpet": [
           {
            "colorbar": {
             "outlinewidth": 0,
             "ticks": ""
            },
            "type": "contourcarpet"
           }
          ],
          "heatmap": [
           {
            "colorbar": {
             "outlinewidth": 0,
             "ticks": ""
            },
            "colorscale": [
             [
              0,
              "#0d0887"
             ],
             [
              0.1111111111111111,
              "#46039f"
             ],
             [
              0.2222222222222222,
              "#7201a8"
             ],
             [
              0.3333333333333333,
              "#9c179e"
             ],
             [
              0.4444444444444444,
              "#bd3786"
             ],
             [
              0.5555555555555556,
              "#d8576b"
             ],
             [
              0.6666666666666666,
              "#ed7953"
             ],
             [
              0.7777777777777778,
              "#fb9f3a"
             ],
             [
              0.8888888888888888,
              "#fdca26"
             ],
             [
              1,
              "#f0f921"
             ]
            ],
            "type": "heatmap"
           }
          ],
          "heatmapgl": [
           {
            "colorbar": {
             "outlinewidth": 0,
             "ticks": ""
            },
            "colorscale": [
             [
              0,
              "#0d0887"
             ],
             [
              0.1111111111111111,
              "#46039f"
             ],
             [
              0.2222222222222222,
              "#7201a8"
             ],
             [
              0.3333333333333333,
              "#9c179e"
             ],
             [
              0.4444444444444444,
              "#bd3786"
             ],
             [
              0.5555555555555556,
              "#d8576b"
             ],
             [
              0.6666666666666666,
              "#ed7953"
             ],
             [
              0.7777777777777778,
              "#fb9f3a"
             ],
             [
              0.8888888888888888,
              "#fdca26"
             ],
             [
              1,
              "#f0f921"
             ]
            ],
            "type": "heatmapgl"
           }
          ],
          "histogram": [
           {
            "marker": {
             "pattern": {
              "fillmode": "overlay",
              "size": 10,
              "solidity": 0.2
             }
            },
            "type": "histogram"
           }
          ],
          "histogram2d": [
           {
            "colorbar": {
             "outlinewidth": 0,
             "ticks": ""
            },
            "colorscale": [
             [
              0,
              "#0d0887"
             ],
             [
              0.1111111111111111,
              "#46039f"
             ],
             [
              0.2222222222222222,
              "#7201a8"
             ],
             [
              0.3333333333333333,
              "#9c179e"
             ],
             [
              0.4444444444444444,
              "#bd3786"
             ],
             [
              0.5555555555555556,
              "#d8576b"
             ],
             [
              0.6666666666666666,
              "#ed7953"
             ],
             [
              0.7777777777777778,
              "#fb9f3a"
             ],
             [
              0.8888888888888888,
              "#fdca26"
             ],
             [
              1,
              "#f0f921"
             ]
            ],
            "type": "histogram2d"
           }
          ],
          "histogram2dcontour": [
           {
            "colorbar": {
             "outlinewidth": 0,
             "ticks": ""
            },
            "colorscale": [
             [
              0,
              "#0d0887"
             ],
             [
              0.1111111111111111,
              "#46039f"
             ],
             [
              0.2222222222222222,
              "#7201a8"
             ],
             [
              0.3333333333333333,
              "#9c179e"
             ],
             [
              0.4444444444444444,
              "#bd3786"
             ],
             [
              0.5555555555555556,
              "#d8576b"
             ],
             [
              0.6666666666666666,
              "#ed7953"
             ],
             [
              0.7777777777777778,
              "#fb9f3a"
             ],
             [
              0.8888888888888888,
              "#fdca26"
             ],
             [
              1,
              "#f0f921"
             ]
            ],
            "type": "histogram2dcontour"
           }
          ],
          "mesh3d": [
           {
            "colorbar": {
             "outlinewidth": 0,
             "ticks": ""
            },
            "type": "mesh3d"
           }
          ],
          "parcoords": [
           {
            "line": {
             "colorbar": {
              "outlinewidth": 0,
              "ticks": ""
             }
            },
            "type": "parcoords"
           }
          ],
          "pie": [
           {
            "automargin": true,
            "type": "pie"
           }
          ],
          "scatter": [
           {
            "fillpattern": {
             "fillmode": "overlay",
             "size": 10,
             "solidity": 0.2
            },
            "type": "scatter"
           }
          ],
          "scatter3d": [
           {
            "line": {
             "colorbar": {
              "outlinewidth": 0,
              "ticks": ""
             }
            },
            "marker": {
             "colorbar": {
              "outlinewidth": 0,
              "ticks": ""
             }
            },
            "type": "scatter3d"
           }
          ],
          "scattercarpet": [
           {
            "marker": {
             "colorbar": {
              "outlinewidth": 0,
              "ticks": ""
             }
            },
            "type": "scattercarpet"
           }
          ],
          "scattergeo": [
           {
            "marker": {
             "colorbar": {
              "outlinewidth": 0,
              "ticks": ""
             }
            },
            "type": "scattergeo"
           }
          ],
          "scattergl": [
           {
            "marker": {
             "colorbar": {
              "outlinewidth": 0,
              "ticks": ""
             }
            },
            "type": "scattergl"
           }
          ],
          "scattermapbox": [
           {
            "marker": {
             "colorbar": {
              "outlinewidth": 0,
              "ticks": ""
             }
            },
            "type": "scattermapbox"
           }
          ],
          "scatterpolar": [
           {
            "marker": {
             "colorbar": {
              "outlinewidth": 0,
              "ticks": ""
             }
            },
            "type": "scatterpolar"
           }
          ],
          "scatterpolargl": [
           {
            "marker": {
             "colorbar": {
              "outlinewidth": 0,
              "ticks": ""
             }
            },
            "type": "scatterpolargl"
           }
          ],
          "scatterternary": [
           {
            "marker": {
             "colorbar": {
              "outlinewidth": 0,
              "ticks": ""
             }
            },
            "type": "scatterternary"
           }
          ],
          "surface": [
           {
            "colorbar": {
             "outlinewidth": 0,
             "ticks": ""
            },
            "colorscale": [
             [
              0,
              "#0d0887"
             ],
             [
              0.1111111111111111,
              "#46039f"
             ],
             [
              0.2222222222222222,
              "#7201a8"
             ],
             [
              0.3333333333333333,
              "#9c179e"
             ],
             [
              0.4444444444444444,
              "#bd3786"
             ],
             [
              0.5555555555555556,
              "#d8576b"
             ],
             [
              0.6666666666666666,
              "#ed7953"
             ],
             [
              0.7777777777777778,
              "#fb9f3a"
             ],
             [
              0.8888888888888888,
              "#fdca26"
             ],
             [
              1,
              "#f0f921"
             ]
            ],
            "type": "surface"
           }
          ],
          "table": [
           {
            "cells": {
             "fill": {
              "color": "#EBF0F8"
             },
             "line": {
              "color": "white"
             }
            },
            "header": {
             "fill": {
              "color": "#C8D4E3"
             },
             "line": {
              "color": "white"
             }
            },
            "type": "table"
           }
          ]
         },
         "layout": {
          "annotationdefaults": {
           "arrowcolor": "#2a3f5f",
           "arrowhead": 0,
           "arrowwidth": 1
          },
          "autotypenumbers": "strict",
          "coloraxis": {
           "colorbar": {
            "outlinewidth": 0,
            "ticks": ""
           }
          },
          "colorscale": {
           "diverging": [
            [
             0,
             "#8e0152"
            ],
            [
             0.1,
             "#c51b7d"
            ],
            [
             0.2,
             "#de77ae"
            ],
            [
             0.3,
             "#f1b6da"
            ],
            [
             0.4,
             "#fde0ef"
            ],
            [
             0.5,
             "#f7f7f7"
            ],
            [
             0.6,
             "#e6f5d0"
            ],
            [
             0.7,
             "#b8e186"
            ],
            [
             0.8,
             "#7fbc41"
            ],
            [
             0.9,
             "#4d9221"
            ],
            [
             1,
             "#276419"
            ]
           ],
           "sequential": [
            [
             0,
             "#0d0887"
            ],
            [
             0.1111111111111111,
             "#46039f"
            ],
            [
             0.2222222222222222,
             "#7201a8"
            ],
            [
             0.3333333333333333,
             "#9c179e"
            ],
            [
             0.4444444444444444,
             "#bd3786"
            ],
            [
             0.5555555555555556,
             "#d8576b"
            ],
            [
             0.6666666666666666,
             "#ed7953"
            ],
            [
             0.7777777777777778,
             "#fb9f3a"
            ],
            [
             0.8888888888888888,
             "#fdca26"
            ],
            [
             1,
             "#f0f921"
            ]
           ],
           "sequentialminus": [
            [
             0,
             "#0d0887"
            ],
            [
             0.1111111111111111,
             "#46039f"
            ],
            [
             0.2222222222222222,
             "#7201a8"
            ],
            [
             0.3333333333333333,
             "#9c179e"
            ],
            [
             0.4444444444444444,
             "#bd3786"
            ],
            [
             0.5555555555555556,
             "#d8576b"
            ],
            [
             0.6666666666666666,
             "#ed7953"
            ],
            [
             0.7777777777777778,
             "#fb9f3a"
            ],
            [
             0.8888888888888888,
             "#fdca26"
            ],
            [
             1,
             "#f0f921"
            ]
           ]
          },
          "colorway": [
           "#636efa",
           "#EF553B",
           "#00cc96",
           "#ab63fa",
           "#FFA15A",
           "#19d3f3",
           "#FF6692",
           "#B6E880",
           "#FF97FF",
           "#FECB52"
          ],
          "font": {
           "color": "#2a3f5f"
          },
          "geo": {
           "bgcolor": "white",
           "lakecolor": "white",
           "landcolor": "#E5ECF6",
           "showlakes": true,
           "showland": true,
           "subunitcolor": "white"
          },
          "hoverlabel": {
           "align": "left"
          },
          "hovermode": "closest",
          "mapbox": {
           "style": "light"
          },
          "paper_bgcolor": "white",
          "plot_bgcolor": "#E5ECF6",
          "polar": {
           "angularaxis": {
            "gridcolor": "white",
            "linecolor": "white",
            "ticks": ""
           },
           "bgcolor": "#E5ECF6",
           "radialaxis": {
            "gridcolor": "white",
            "linecolor": "white",
            "ticks": ""
           }
          },
          "scene": {
           "xaxis": {
            "backgroundcolor": "#E5ECF6",
            "gridcolor": "white",
            "gridwidth": 2,
            "linecolor": "white",
            "showbackground": true,
            "ticks": "",
            "zerolinecolor": "white"
           },
           "yaxis": {
            "backgroundcolor": "#E5ECF6",
            "gridcolor": "white",
            "gridwidth": 2,
            "linecolor": "white",
            "showbackground": true,
            "ticks": "",
            "zerolinecolor": "white"
           },
           "zaxis": {
            "backgroundcolor": "#E5ECF6",
            "gridcolor": "white",
            "gridwidth": 2,
            "linecolor": "white",
            "showbackground": true,
            "ticks": "",
            "zerolinecolor": "white"
           }
          },
          "shapedefaults": {
           "line": {
            "color": "#2a3f5f"
           }
          },
          "ternary": {
           "aaxis": {
            "gridcolor": "white",
            "linecolor": "white",
            "ticks": ""
           },
           "baxis": {
            "gridcolor": "white",
            "linecolor": "white",
            "ticks": ""
           },
           "bgcolor": "#E5ECF6",
           "caxis": {
            "gridcolor": "white",
            "linecolor": "white",
            "ticks": ""
           }
          },
          "title": {
           "x": 0.05
          },
          "xaxis": {
           "automargin": true,
           "gridcolor": "white",
           "linecolor": "white",
           "ticks": "",
           "title": {
            "standoff": 15
           },
           "zerolinecolor": "white",
           "zerolinewidth": 2
          },
          "yaxis": {
           "automargin": true,
           "gridcolor": "white",
           "linecolor": "white",
           "ticks": "",
           "title": {
            "standoff": 15
           },
           "zerolinecolor": "white",
           "zerolinewidth": 2
          }
         }
        },
        "title": {
         "text": "Total food supply in Canada"
        },
        "xaxis": {
         "anchor": "y",
         "domain": [
          0,
          1
         ],
         "title": {
          "text": "Year"
         }
        },
        "yaxis": {
         "anchor": "x",
         "domain": [
          0,
          1
         ],
         "title": {
          "text": "Total supply"
         }
        }
       }
      }
     },
     "metadata": {},
     "output_type": "display_data"
    }
   ],
   "source": [
    "# Basic line graph\n",
    "import plotly.express as px\n",
    "\n",
    "fig = px.line(df_years, x=df_years.index, y=\"Total supply\", title='Total food supply in Canada')\n",
    "fig.show()"
   ]
  },
  {
   "attachments": {},
   "cell_type": "markdown",
   "metadata": {},
   "source": [
    "The ratio of features to effort is pretty fantastic.\n",
    "\n",
    "Also, we might suspect that our data has some issues given the unexpected dropoff in 2002. Perhaps the system of tracking changed, and we can only really track either 1960–2001 or 2002–2022.\n",
    "\n",
    "We could actually add more lines if we use the columns as a set of y axes:"
   ]
  },
  {
   "cell_type": "code",
   "execution_count": 13,
   "metadata": {},
   "outputs": [
    {
     "data": {
      "application/vnd.plotly.v1+json": {
       "config": {
        "plotlyServerURL": "https://plot.ly"
       },
       "data": [
        {
         "hovertemplate": "variable=Total supply<br>Year=%{x}<br>Thousands of tonnes=%{y}<extra></extra>",
         "legendgroup": "Total supply",
         "line": {
          "color": "#636efa",
          "dash": "solid"
         },
         "marker": {
          "symbol": "circle"
         },
         "mode": "lines",
         "name": "Total supply",
         "orientation": "v",
         "showlegend": true,
         "type": "scatter",
         "x": [
          1960,
          1961,
          1962,
          1963,
          1964,
          1965,
          1966,
          1967,
          1968,
          1969,
          1970,
          1971,
          1972,
          1973,
          1974,
          1975,
          1976,
          1977,
          1978,
          1979,
          1980,
          1981,
          1982,
          1983,
          1984,
          1985,
          1986,
          1987,
          1988,
          1989,
          1990,
          1991,
          1992,
          1993,
          1994,
          1995,
          1996,
          1997,
          1998,
          1999,
          2000,
          2001,
          2002,
          2003,
          2004,
          2005,
          2006,
          2007,
          2008,
          2009,
          2010,
          2011,
          2012,
          2013,
          2014,
          2015,
          2016,
          2017,
          2018,
          2019,
          2020,
          2021,
          2022
         ],
         "xaxis": "x",
         "y": [
          13853.38,
          14267.65,
          14826.65,
          15344.77,
          16044.22,
          16325.92,
          16913.3,
          17170.08,
          17363.66,
          17698.27,
          18244.51,
          18313.77,
          18065.19,
          18556.15,
          18918.1,
          19440.09,
          20157.78,
          20727.19,
          21276.85,
          21989.58,
          21831.24,
          22525.69,
          22830.649999999998,
          22585.32,
          23180.55,
          23737.33,
          23977.65,
          25128.75,
          25145.12,
          25039.92,
          25502.530000000002,
          25197.989999999998,
          26313.420000000002,
          26573.13,
          28998.23,
          28760,
          27745.559999999998,
          27738.52,
          29183.87,
          29903.46,
          30623.15,
          31155.68,
          23826.45,
          23883.97,
          24334.53,
          24472.33,
          24524.54,
          24755.75,
          24686.71,
          24697.19,
          24827.42,
          25188.350000000002,
          25313.67,
          25575.84,
          25415.33,
          25723.73,
          26378.05,
          26519,
          27091.63,
          27340.91,
          27667.8,
          27664.2,
          27893.46
         ],
         "yaxis": "y"
        },
        {
         "hovertemplate": "variable=Total disposition<br>Year=%{x}<br>Thousands of tonnes=%{y}<extra></extra>",
         "legendgroup": "Total disposition",
         "line": {
          "color": "#EF553B",
          "dash": "solid"
         },
         "marker": {
          "symbol": "circle"
         },
         "mode": "lines",
         "name": "Total disposition",
         "orientation": "v",
         "showlegend": true,
         "type": "scatter",
         "x": [
          1960,
          1961,
          1962,
          1963,
          1964,
          1965,
          1966,
          1967,
          1968,
          1969,
          1970,
          1971,
          1972,
          1973,
          1974,
          1975,
          1976,
          1977,
          1978,
          1979,
          1980,
          1981,
          1982,
          1983,
          1984,
          1985,
          1986,
          1987,
          1988,
          1989,
          1990,
          1991,
          1992,
          1993,
          1994,
          1995,
          1996,
          1997,
          1998,
          1999,
          2000,
          2001,
          2002,
          2003,
          2004,
          2005,
          2006,
          2007,
          2008,
          2009,
          2010,
          2011,
          2012,
          2013,
          2014,
          2015,
          2016,
          2017,
          2018,
          2019,
          2020,
          2021,
          2022
         ],
         "xaxis": "x",
         "y": [
          11224.18,
          11672.31,
          12020.56,
          12681.38,
          13315.62,
          13787.380000000001,
          14248.35,
          14164.57,
          14491.37,
          14635.55,
          15295.03,
          15289.69,
          15031.59,
          15649.59,
          15970.880000000001,
          16075.67,
          16898.65,
          17319.28,
          21988.18,
          22631.43,
          22719.42,
          23634.100000000002,
          23743.62,
          23418.24,
          24309.5,
          24944.39,
          25146.18,
          26393.07,
          29548.47,
          29173.98,
          29719.57,
          29871.42,
          30209.059999999998,
          31667.05,
          34269.66,
          34133.22,
          33279.08,
          33957.06,
          36232.96,
          37199.9,
          37714.75,
          39020.65,
          38829.08,
          40039.01,
          41780.16,
          40709.45,
          34487.24,
          35272.49,
          34749.72,
          34436.57,
          34507.85,
          34891.63,
          34749.35,
          35024.89,
          34414.4,
          34907.29,
          35553.28,
          35972.07,
          36243.73,
          36580.26,
          36850.090000000004,
          37727.03,
          38227.06
         ],
         "yaxis": "y"
        }
       ],
       "layout": {
        "legend": {
         "title": {
          "text": "variable"
         },
         "tracegroupgap": 0
        },
        "template": {
         "data": {
          "bar": [
           {
            "error_x": {
             "color": "#2a3f5f"
            },
            "error_y": {
             "color": "#2a3f5f"
            },
            "marker": {
             "line": {
              "color": "#E5ECF6",
              "width": 0.5
             },
             "pattern": {
              "fillmode": "overlay",
              "size": 10,
              "solidity": 0.2
             }
            },
            "type": "bar"
           }
          ],
          "barpolar": [
           {
            "marker": {
             "line": {
              "color": "#E5ECF6",
              "width": 0.5
             },
             "pattern": {
              "fillmode": "overlay",
              "size": 10,
              "solidity": 0.2
             }
            },
            "type": "barpolar"
           }
          ],
          "carpet": [
           {
            "aaxis": {
             "endlinecolor": "#2a3f5f",
             "gridcolor": "white",
             "linecolor": "white",
             "minorgridcolor": "white",
             "startlinecolor": "#2a3f5f"
            },
            "baxis": {
             "endlinecolor": "#2a3f5f",
             "gridcolor": "white",
             "linecolor": "white",
             "minorgridcolor": "white",
             "startlinecolor": "#2a3f5f"
            },
            "type": "carpet"
           }
          ],
          "choropleth": [
           {
            "colorbar": {
             "outlinewidth": 0,
             "ticks": ""
            },
            "type": "choropleth"
           }
          ],
          "contour": [
           {
            "colorbar": {
             "outlinewidth": 0,
             "ticks": ""
            },
            "colorscale": [
             [
              0,
              "#0d0887"
             ],
             [
              0.1111111111111111,
              "#46039f"
             ],
             [
              0.2222222222222222,
              "#7201a8"
             ],
             [
              0.3333333333333333,
              "#9c179e"
             ],
             [
              0.4444444444444444,
              "#bd3786"
             ],
             [
              0.5555555555555556,
              "#d8576b"
             ],
             [
              0.6666666666666666,
              "#ed7953"
             ],
             [
              0.7777777777777778,
              "#fb9f3a"
             ],
             [
              0.8888888888888888,
              "#fdca26"
             ],
             [
              1,
              "#f0f921"
             ]
            ],
            "type": "contour"
           }
          ],
          "contourcarpet": [
           {
            "colorbar": {
             "outlinewidth": 0,
             "ticks": ""
            },
            "type": "contourcarpet"
           }
          ],
          "heatmap": [
           {
            "colorbar": {
             "outlinewidth": 0,
             "ticks": ""
            },
            "colorscale": [
             [
              0,
              "#0d0887"
             ],
             [
              0.1111111111111111,
              "#46039f"
             ],
             [
              0.2222222222222222,
              "#7201a8"
             ],
             [
              0.3333333333333333,
              "#9c179e"
             ],
             [
              0.4444444444444444,
              "#bd3786"
             ],
             [
              0.5555555555555556,
              "#d8576b"
             ],
             [
              0.6666666666666666,
              "#ed7953"
             ],
             [
              0.7777777777777778,
              "#fb9f3a"
             ],
             [
              0.8888888888888888,
              "#fdca26"
             ],
             [
              1,
              "#f0f921"
             ]
            ],
            "type": "heatmap"
           }
          ],
          "heatmapgl": [
           {
            "colorbar": {
             "outlinewidth": 0,
             "ticks": ""
            },
            "colorscale": [
             [
              0,
              "#0d0887"
             ],
             [
              0.1111111111111111,
              "#46039f"
             ],
             [
              0.2222222222222222,
              "#7201a8"
             ],
             [
              0.3333333333333333,
              "#9c179e"
             ],
             [
              0.4444444444444444,
              "#bd3786"
             ],
             [
              0.5555555555555556,
              "#d8576b"
             ],
             [
              0.6666666666666666,
              "#ed7953"
             ],
             [
              0.7777777777777778,
              "#fb9f3a"
             ],
             [
              0.8888888888888888,
              "#fdca26"
             ],
             [
              1,
              "#f0f921"
             ]
            ],
            "type": "heatmapgl"
           }
          ],
          "histogram": [
           {
            "marker": {
             "pattern": {
              "fillmode": "overlay",
              "size": 10,
              "solidity": 0.2
             }
            },
            "type": "histogram"
           }
          ],
          "histogram2d": [
           {
            "colorbar": {
             "outlinewidth": 0,
             "ticks": ""
            },
            "colorscale": [
             [
              0,
              "#0d0887"
             ],
             [
              0.1111111111111111,
              "#46039f"
             ],
             [
              0.2222222222222222,
              "#7201a8"
             ],
             [
              0.3333333333333333,
              "#9c179e"
             ],
             [
              0.4444444444444444,
              "#bd3786"
             ],
             [
              0.5555555555555556,
              "#d8576b"
             ],
             [
              0.6666666666666666,
              "#ed7953"
             ],
             [
              0.7777777777777778,
              "#fb9f3a"
             ],
             [
              0.8888888888888888,
              "#fdca26"
             ],
             [
              1,
              "#f0f921"
             ]
            ],
            "type": "histogram2d"
           }
          ],
          "histogram2dcontour": [
           {
            "colorbar": {
             "outlinewidth": 0,
             "ticks": ""
            },
            "colorscale": [
             [
              0,
              "#0d0887"
             ],
             [
              0.1111111111111111,
              "#46039f"
             ],
             [
              0.2222222222222222,
              "#7201a8"
             ],
             [
              0.3333333333333333,
              "#9c179e"
             ],
             [
              0.4444444444444444,
              "#bd3786"
             ],
             [
              0.5555555555555556,
              "#d8576b"
             ],
             [
              0.6666666666666666,
              "#ed7953"
             ],
             [
              0.7777777777777778,
              "#fb9f3a"
             ],
             [
              0.8888888888888888,
              "#fdca26"
             ],
             [
              1,
              "#f0f921"
             ]
            ],
            "type": "histogram2dcontour"
           }
          ],
          "mesh3d": [
           {
            "colorbar": {
             "outlinewidth": 0,
             "ticks": ""
            },
            "type": "mesh3d"
           }
          ],
          "parcoords": [
           {
            "line": {
             "colorbar": {
              "outlinewidth": 0,
              "ticks": ""
             }
            },
            "type": "parcoords"
           }
          ],
          "pie": [
           {
            "automargin": true,
            "type": "pie"
           }
          ],
          "scatter": [
           {
            "fillpattern": {
             "fillmode": "overlay",
             "size": 10,
             "solidity": 0.2
            },
            "type": "scatter"
           }
          ],
          "scatter3d": [
           {
            "line": {
             "colorbar": {
              "outlinewidth": 0,
              "ticks": ""
             }
            },
            "marker": {
             "colorbar": {
              "outlinewidth": 0,
              "ticks": ""
             }
            },
            "type": "scatter3d"
           }
          ],
          "scattercarpet": [
           {
            "marker": {
             "colorbar": {
              "outlinewidth": 0,
              "ticks": ""
             }
            },
            "type": "scattercarpet"
           }
          ],
          "scattergeo": [
           {
            "marker": {
             "colorbar": {
              "outlinewidth": 0,
              "ticks": ""
             }
            },
            "type": "scattergeo"
           }
          ],
          "scattergl": [
           {
            "marker": {
             "colorbar": {
              "outlinewidth": 0,
              "ticks": ""
             }
            },
            "type": "scattergl"
           }
          ],
          "scattermapbox": [
           {
            "marker": {
             "colorbar": {
              "outlinewidth": 0,
              "ticks": ""
             }
            },
            "type": "scattermapbox"
           }
          ],
          "scatterpolar": [
           {
            "marker": {
             "colorbar": {
              "outlinewidth": 0,
              "ticks": ""
             }
            },
            "type": "scatterpolar"
           }
          ],
          "scatterpolargl": [
           {
            "marker": {
             "colorbar": {
              "outlinewidth": 0,
              "ticks": ""
             }
            },
            "type": "scatterpolargl"
           }
          ],
          "scatterternary": [
           {
            "marker": {
             "colorbar": {
              "outlinewidth": 0,
              "ticks": ""
             }
            },
            "type": "scatterternary"
           }
          ],
          "surface": [
           {
            "colorbar": {
             "outlinewidth": 0,
             "ticks": ""
            },
            "colorscale": [
             [
              0,
              "#0d0887"
             ],
             [
              0.1111111111111111,
              "#46039f"
             ],
             [
              0.2222222222222222,
              "#7201a8"
             ],
             [
              0.3333333333333333,
              "#9c179e"
             ],
             [
              0.4444444444444444,
              "#bd3786"
             ],
             [
              0.5555555555555556,
              "#d8576b"
             ],
             [
              0.6666666666666666,
              "#ed7953"
             ],
             [
              0.7777777777777778,
              "#fb9f3a"
             ],
             [
              0.8888888888888888,
              "#fdca26"
             ],
             [
              1,
              "#f0f921"
             ]
            ],
            "type": "surface"
           }
          ],
          "table": [
           {
            "cells": {
             "fill": {
              "color": "#EBF0F8"
             },
             "line": {
              "color": "white"
             }
            },
            "header": {
             "fill": {
              "color": "#C8D4E3"
             },
             "line": {
              "color": "white"
             }
            },
            "type": "table"
           }
          ]
         },
         "layout": {
          "annotationdefaults": {
           "arrowcolor": "#2a3f5f",
           "arrowhead": 0,
           "arrowwidth": 1
          },
          "autotypenumbers": "strict",
          "coloraxis": {
           "colorbar": {
            "outlinewidth": 0,
            "ticks": ""
           }
          },
          "colorscale": {
           "diverging": [
            [
             0,
             "#8e0152"
            ],
            [
             0.1,
             "#c51b7d"
            ],
            [
             0.2,
             "#de77ae"
            ],
            [
             0.3,
             "#f1b6da"
            ],
            [
             0.4,
             "#fde0ef"
            ],
            [
             0.5,
             "#f7f7f7"
            ],
            [
             0.6,
             "#e6f5d0"
            ],
            [
             0.7,
             "#b8e186"
            ],
            [
             0.8,
             "#7fbc41"
            ],
            [
             0.9,
             "#4d9221"
            ],
            [
             1,
             "#276419"
            ]
           ],
           "sequential": [
            [
             0,
             "#0d0887"
            ],
            [
             0.1111111111111111,
             "#46039f"
            ],
            [
             0.2222222222222222,
             "#7201a8"
            ],
            [
             0.3333333333333333,
             "#9c179e"
            ],
            [
             0.4444444444444444,
             "#bd3786"
            ],
            [
             0.5555555555555556,
             "#d8576b"
            ],
            [
             0.6666666666666666,
             "#ed7953"
            ],
            [
             0.7777777777777778,
             "#fb9f3a"
            ],
            [
             0.8888888888888888,
             "#fdca26"
            ],
            [
             1,
             "#f0f921"
            ]
           ],
           "sequentialminus": [
            [
             0,
             "#0d0887"
            ],
            [
             0.1111111111111111,
             "#46039f"
            ],
            [
             0.2222222222222222,
             "#7201a8"
            ],
            [
             0.3333333333333333,
             "#9c179e"
            ],
            [
             0.4444444444444444,
             "#bd3786"
            ],
            [
             0.5555555555555556,
             "#d8576b"
            ],
            [
             0.6666666666666666,
             "#ed7953"
            ],
            [
             0.7777777777777778,
             "#fb9f3a"
            ],
            [
             0.8888888888888888,
             "#fdca26"
            ],
            [
             1,
             "#f0f921"
            ]
           ]
          },
          "colorway": [
           "#636efa",
           "#EF553B",
           "#00cc96",
           "#ab63fa",
           "#FFA15A",
           "#19d3f3",
           "#FF6692",
           "#B6E880",
           "#FF97FF",
           "#FECB52"
          ],
          "font": {
           "color": "#2a3f5f"
          },
          "geo": {
           "bgcolor": "white",
           "lakecolor": "white",
           "landcolor": "#E5ECF6",
           "showlakes": true,
           "showland": true,
           "subunitcolor": "white"
          },
          "hoverlabel": {
           "align": "left"
          },
          "hovermode": "closest",
          "mapbox": {
           "style": "light"
          },
          "paper_bgcolor": "white",
          "plot_bgcolor": "#E5ECF6",
          "polar": {
           "angularaxis": {
            "gridcolor": "white",
            "linecolor": "white",
            "ticks": ""
           },
           "bgcolor": "#E5ECF6",
           "radialaxis": {
            "gridcolor": "white",
            "linecolor": "white",
            "ticks": ""
           }
          },
          "scene": {
           "xaxis": {
            "backgroundcolor": "#E5ECF6",
            "gridcolor": "white",
            "gridwidth": 2,
            "linecolor": "white",
            "showbackground": true,
            "ticks": "",
            "zerolinecolor": "white"
           },
           "yaxis": {
            "backgroundcolor": "#E5ECF6",
            "gridcolor": "white",
            "gridwidth": 2,
            "linecolor": "white",
            "showbackground": true,
            "ticks": "",
            "zerolinecolor": "white"
           },
           "zaxis": {
            "backgroundcolor": "#E5ECF6",
            "gridcolor": "white",
            "gridwidth": 2,
            "linecolor": "white",
            "showbackground": true,
            "ticks": "",
            "zerolinecolor": "white"
           }
          },
          "shapedefaults": {
           "line": {
            "color": "#2a3f5f"
           }
          },
          "ternary": {
           "aaxis": {
            "gridcolor": "white",
            "linecolor": "white",
            "ticks": ""
           },
           "baxis": {
            "gridcolor": "white",
            "linecolor": "white",
            "ticks": ""
           },
           "bgcolor": "#E5ECF6",
           "caxis": {
            "gridcolor": "white",
            "linecolor": "white",
            "ticks": ""
           }
          },
          "title": {
           "x": 0.05
          },
          "xaxis": {
           "automargin": true,
           "gridcolor": "white",
           "linecolor": "white",
           "ticks": "",
           "title": {
            "standoff": 15
           },
           "zerolinecolor": "white",
           "zerolinewidth": 2
          },
          "yaxis": {
           "automargin": true,
           "gridcolor": "white",
           "linecolor": "white",
           "ticks": "",
           "title": {
            "standoff": 15
           },
           "zerolinecolor": "white",
           "zerolinewidth": 2
          }
         }
        },
        "title": {
         "text": "Food supply and disposition in Canada"
        },
        "xaxis": {
         "anchor": "y",
         "domain": [
          0,
          1
         ],
         "title": {
          "text": "Year"
         }
        },
        "yaxis": {
         "anchor": "x",
         "domain": [
          0,
          1
         ],
         "title": {
          "text": "Thousands of tonnes"
         }
        }
       }
      }
     },
     "metadata": {},
     "output_type": "display_data"
    }
   ],
   "source": [
    "# Multiple lines\n",
    "fig = px.line(df_years, x=df_years.index, y=['Total supply', 'Total disposition'],\n",
    "              \n",
    "              # In this case we have to specify the y axis label, since it defaults\n",
    "              # to 'value' when you use more than one series of data for an axis\n",
    "              title='Food supply and disposition in Canada', labels={'value': 'Thousands of tonnes'})\n",
    "fig.show()"
   ]
  },
  {
   "attachments": {},
   "cell_type": "markdown",
   "metadata": {},
   "source": [
    "### Improving data quality"
   ]
  },
  {
   "attachments": {},
   "cell_type": "markdown",
   "metadata": {},
   "source": [
    "While this graph is delightful, we now have a more unsettling observation to make: in 1978, total disposition somehow exceeds total supply (despite the fact that the latter includes beginning stock), and it never goes back under. What can be happening?\n",
    "\n",
    "I have a suspicion that missing data might account for this. We could create a `DataFrame` that counts the missing cells per column, with or without an index by year."
   ]
  },
  {
   "cell_type": "code",
   "execution_count": 14,
   "metadata": {},
   "outputs": [
    {
     "name": "stdout",
     "output_type": "stream",
     "text": [
      "Year                         0\n",
      "Category                     0\n",
      "Commodity                    0\n",
      "Total supply              1812\n",
      "Beginning stocks          8322\n",
      "Production                5305\n",
      "Imports                   2861\n",
      "Total disposition         2186\n",
      "Domestic disappearance    2025\n",
      "Exports                   5863\n",
      "Waste                     7434\n",
      "Ending stocks             8366\n",
      "dtype: int64\n"
     ]
    }
   ],
   "source": [
    "# Counting total NaNs\n",
    "df_nans = df.isna().sum()\n",
    "\n",
    "print(df_nans)"
   ]
  },
  {
   "cell_type": "code",
   "execution_count": 15,
   "metadata": {},
   "outputs": [
    {
     "name": "stdout",
     "output_type": "stream",
     "text": [
      "      Year  Category  Commodity  Total supply  Beginning stocks  Production  \\\n",
      "Year                                                                          \n",
      "1960     0         0          0            61               117          83   \n",
      "1961     0         0          0            57               117          81   \n",
      "1962     0         0          0            53               117          78   \n",
      "1963     0         0          0            49               115          74   \n",
      "1964     0         0          0            48               115          76   \n",
      "\n",
      "      Imports  Total disposition  Domestic disappearance  Exports  Waste  \\\n",
      "Year                                                                       \n",
      "1960      104                 54                      60      140    137   \n",
      "1961       96                 50                      56      136    135   \n",
      "1962       91                 46                      52      134    135   \n",
      "1963       86                 41                      49      129    135   \n",
      "1964       86                 41                      49      128    135   \n",
      "\n",
      "      Ending stocks  \n",
      "Year                 \n",
      "1960            117  \n",
      "1961            117  \n",
      "1962            117  \n",
      "1963            115  \n",
      "1964            115  \n"
     ]
    }
   ],
   "source": [
    "# Counting NaNs by year\n",
    "df_nans_by_year = df.isna().groupby(df.Year).sum()\n",
    "print(df_nans_by_year.head())"
   ]
  },
  {
   "attachments": {},
   "cell_type": "markdown",
   "metadata": {},
   "source": [
    "There are a lot. Let's produce a cleaner set of `DataFrames` that omit all commodities with missing cells. Go ahead and run all these."
   ]
  },
  {
   "cell_type": "code",
   "execution_count": 16,
   "metadata": {},
   "outputs": [
    {
     "name": "stdout",
     "output_type": "stream",
     "text": [
      "      Total supply  Beginning stocks  Production  Imports  Total disposition  \\\n",
      "Year                                                                           \n",
      "1960       5795.87            790.87      501.35   251.85            4235.09   \n",
      "1961       6003.91            875.85      514.73   252.87            4537.83   \n",
      "1962       6389.98           1062.34      534.53   210.64            4761.68   \n",
      "1963       6584.34           1055.09      527.43   242.66            4985.01   \n",
      "1964       6908.36           1159.04      555.52   216.29            5253.24   \n",
      "\n",
      "      Domestic disappearance  Exports   Waste  Ending stocks  \n",
      "Year                                                          \n",
      "1960                 3133.75   831.88  473.23         864.66  \n",
      "1961                 3072.07   885.50  487.26        1060.51  \n",
      "1962                 3419.99   911.00  518.57        1056.64  \n",
      "1963                 3448.98   951.17  511.34        1159.04  \n",
      "1964                 3339.11  1380.29  520.37        1127.24  \n"
     ]
    }
   ],
   "source": [
    "# Year-wise, version 2\n",
    "df_years_2 = df.set_index('Year', drop=True)\n",
    "\n",
    "# This is the new line: we select only rows where it is not (~) the case\n",
    "# that there is a NaN value in any of the columns (axis=1)\n",
    "df_years_2 = df_years_2[~df_years_2.isna().any(axis=1)]\n",
    "\n",
    "df_years_2 = df_years_2.groupby(df_years_2.index).sum(numeric_only=True)\n",
    "\n",
    "print(df_years_2.head())"
   ]
  },
  {
   "cell_type": "code",
   "execution_count": 17,
   "metadata": {},
   "outputs": [
    {
     "name": "stdout",
     "output_type": "stream",
     "text": [
      "                   Total supply  Beginning stocks  Production  Imports  \\\n",
      "Commodity    Year                                                        \n",
      "Apples fresh 1960        434.81            106.90      118.71    23.48   \n",
      "             1961        462.20             98.53      124.75    26.44   \n",
      "             1962        551.04            123.72       95.94    22.71   \n",
      "             1963        628.11            141.19      126.01    16.73   \n",
      "             1964        598.80            161.50      136.90    28.01   \n",
      "\n",
      "                   Total disposition  Domestic disappearance  Exports  Waste  \\\n",
      "Commodity    Year                                                              \n",
      "Apples fresh 1960             336.28                  156.05    49.77  11.75   \n",
      "             1961             338.48                  157.56    45.40  10.77   \n",
      "             1962             409.85                  242.68    56.29  14.94   \n",
      "             1963             466.61                  260.20    66.13  14.27   \n",
      "             1964             460.55                  245.84    65.69  12.12   \n",
      "\n",
      "                   Ending stocks  \n",
      "Commodity    Year                 \n",
      "Apples fresh 1960          98.53  \n",
      "             1961         123.72  \n",
      "             1962         141.19  \n",
      "             1963         161.50  \n",
      "             1964         138.25  \n"
     ]
    }
   ],
   "source": [
    "# Commodity-wise, version 2\n",
    "df_coms_2 = df.set_index(['Commodity', 'Year']).drop('Category', axis=1)\n",
    "df_coms_2 = df_coms_2[~df_coms_2.isna().any(axis=1)]\n",
    "df_coms_2 = df_coms_2.groupby(level=[0, 1]).sum(numeric_only=True)\n",
    "\n",
    "print(df_coms_2.head())"
   ]
  },
  {
   "cell_type": "code",
   "execution_count": 18,
   "metadata": {},
   "outputs": [
    {
     "name": "stdout",
     "output_type": "stream",
     "text": [
      "               Total supply  Beginning stocks  Production  Imports  \\\n",
      "Category Year                                                        \n",
      "Fruits   1960        483.77            108.01      139.80    35.64   \n",
      "         1961        508.82            100.39      141.89    37.71   \n",
      "         1962        603.66            124.92      117.61    35.12   \n",
      "         1963        676.05            144.02      143.14    23.56   \n",
      "         1964        657.40            163.41      160.66    39.35   \n",
      "\n",
      "               Total disposition  Domestic disappearance  Exports  Waste  \\\n",
      "Category Year                                                              \n",
      "Fruits   1960             383.38                  179.69    50.63  13.26   \n",
      "         1961             383.90                  183.04    46.62  12.35   \n",
      "         1962             459.64                  268.42    56.97  16.64   \n",
      "         1963             512.64                  283.31    70.44  15.75   \n",
      "         1964             517.18                  272.36    70.35  13.81   \n",
      "\n",
      "               Ending stocks  \n",
      "Category Year                 \n",
      "Fruits   1960         100.39  \n",
      "         1961         124.92  \n",
      "         1962         144.02  \n",
      "         1963         163.41  \n",
      "         1964         140.22  \n"
     ]
    }
   ],
   "source": [
    "# Category-wise, version 2\n",
    "df_cats_2 = df.set_index(['Category', 'Year']).drop('Commodity', axis=1)\n",
    "df_cats_2 = df_cats_2[~df_cats_2.isna().any(axis=1)]\n",
    "df_cats_2 = df_cats_2.groupby(level=[0, 1]).sum(numeric_only=True)\n",
    "\n",
    "print(df_cats_2.head())"
   ]
  },
  {
   "attachments": {},
   "cell_type": "markdown",
   "metadata": {},
   "source": [
    "We can now try our line graphs again. The numbers will be much lower, but our data won't have holes in it anymore. Note that we could have easily filtered out this gappy data in other ways. For example, instead of omitting rows that had a missing cell in any column, we could have eliminated columns we were uninterested in first; that might leave us with more data. We might return to this later on. For now: "
   ]
  },
  {
   "cell_type": "code",
   "execution_count": 19,
   "metadata": {},
   "outputs": [
    {
     "data": {
      "application/vnd.plotly.v1+json": {
       "config": {
        "plotlyServerURL": "https://plot.ly"
       },
       "data": [
        {
         "hovertemplate": "variable=Total supply<br>Year=%{x}<br>Thousands of tonnes=%{y}<extra></extra>",
         "legendgroup": "Total supply",
         "line": {
          "color": "#636efa",
          "dash": "solid"
         },
         "marker": {
          "symbol": "circle"
         },
         "mode": "lines",
         "name": "Total supply",
         "orientation": "v",
         "showlegend": true,
         "type": "scatter",
         "x": [
          1960,
          1961,
          1962,
          1963,
          1964,
          1965,
          1966,
          1967,
          1968,
          1969,
          1970,
          1971,
          1972,
          1973,
          1974,
          1975,
          1976,
          1977,
          1978,
          1979,
          1980,
          1981,
          1982,
          1983,
          1984,
          1985,
          1986,
          1987,
          1988,
          1989,
          1990,
          1991,
          1992,
          1993,
          1994,
          1995,
          1996,
          1997,
          1998,
          1999,
          2000,
          2001,
          2002,
          2003,
          2004,
          2005,
          2006,
          2007,
          2008,
          2009,
          2010,
          2011,
          2012,
          2013,
          2014,
          2015,
          2016,
          2017,
          2018,
          2019,
          2020,
          2021,
          2022
         ],
         "xaxis": "x",
         "y": [
          5795.87,
          6003.91,
          6389.98,
          6584.34,
          6908.360000000001,
          4591.24,
          7141.01,
          5208.25,
          5280.95,
          5396.25,
          5553.96,
          5512.76,
          5221.05,
          5157.43,
          5616.32,
          5597.81,
          5590.88,
          5667.03,
          5866.42,
          6459.68,
          6374.799999999999,
          6450.969999999999,
          6793.4,
          6606.08,
          6571.98,
          7150.39,
          7503.48,
          7917.380000000001,
          9497.970000000001,
          9353.51,
          9481.400000000001,
          9266.08,
          10108.53,
          10434.39,
          10819.380000000001,
          11045.96,
          11574.039999999999,
          11963.39,
          12623.29,
          12966.91,
          13289.92,
          13889.91,
          6626.38,
          6737.54,
          6799.8099999999995,
          6925.39,
          6306.219999999999,
          6387.28,
          6930.85,
          7132.07,
          7142.15,
          7221.45,
          7160.66,
          7240.490000000001,
          7355.2300000000005,
          7502.2300000000005,
          7547.509999999999,
          7624.84,
          7755.4800000000005,
          7873.14,
          8070.92,
          7449.43,
          8115.54
         ],
         "yaxis": "y"
        },
        {
         "hovertemplate": "variable=Total disposition<br>Year=%{x}<br>Thousands of tonnes=%{y}<extra></extra>",
         "legendgroup": "Total disposition",
         "line": {
          "color": "#EF553B",
          "dash": "solid"
         },
         "marker": {
          "symbol": "circle"
         },
         "mode": "lines",
         "name": "Total disposition",
         "orientation": "v",
         "showlegend": true,
         "type": "scatter",
         "x": [
          1960,
          1961,
          1962,
          1963,
          1964,
          1965,
          1966,
          1967,
          1968,
          1969,
          1970,
          1971,
          1972,
          1973,
          1974,
          1975,
          1976,
          1977,
          1978,
          1979,
          1980,
          1981,
          1982,
          1983,
          1984,
          1985,
          1986,
          1987,
          1988,
          1989,
          1990,
          1991,
          1992,
          1993,
          1994,
          1995,
          1996,
          1997,
          1998,
          1999,
          2000,
          2001,
          2002,
          2003,
          2004,
          2005,
          2006,
          2007,
          2008,
          2009,
          2010,
          2011,
          2012,
          2013,
          2014,
          2015,
          2016,
          2017,
          2018,
          2019,
          2020,
          2021,
          2022
         ],
         "xaxis": "x",
         "y": [
          4235.09,
          4537.83,
          4761.68,
          4985.01,
          5253.24,
          3170.41,
          5566.790000000001,
          3399.8199999999997,
          3624.56,
          3563.7200000000003,
          3833.8399999999997,
          3702.82,
          3402.0299999999997,
          3393.61,
          3885.83,
          3647.84,
          3791.7,
          3778.17,
          3913.3,
          4325.88,
          4353.0599999999995,
          4644.87,
          4849.08,
          4320.85,
          4647.33,
          5144.83,
          5340.389999999999,
          5696.57,
          7553.75,
          7278.360000000001,
          7398.95,
          7332.9400000000005,
          7558.52,
          8221.51,
          8566.49,
          8457.32,
          8863.12,
          8996.56,
          9587.36,
          9998,
          10078.400000000001,
          10878.17,
          6131.64,
          6205.5,
          6247.25,
          6531.24,
          5991.45,
          6034.71,
          6480.59,
          6671.719999999999,
          6748.4400000000005,
          6774.63,
          6782.11,
          6798.21,
          6862.71,
          7119.9400000000005,
          7108.64,
          7189.299999999999,
          7328.84,
          7392.64,
          7650,
          7033.49,
          7624.52
         ],
         "yaxis": "y"
        }
       ],
       "layout": {
        "legend": {
         "title": {
          "text": "variable"
         },
         "tracegroupgap": 0
        },
        "template": {
         "data": {
          "bar": [
           {
            "error_x": {
             "color": "#2a3f5f"
            },
            "error_y": {
             "color": "#2a3f5f"
            },
            "marker": {
             "line": {
              "color": "#E5ECF6",
              "width": 0.5
             },
             "pattern": {
              "fillmode": "overlay",
              "size": 10,
              "solidity": 0.2
             }
            },
            "type": "bar"
           }
          ],
          "barpolar": [
           {
            "marker": {
             "line": {
              "color": "#E5ECF6",
              "width": 0.5
             },
             "pattern": {
              "fillmode": "overlay",
              "size": 10,
              "solidity": 0.2
             }
            },
            "type": "barpolar"
           }
          ],
          "carpet": [
           {
            "aaxis": {
             "endlinecolor": "#2a3f5f",
             "gridcolor": "white",
             "linecolor": "white",
             "minorgridcolor": "white",
             "startlinecolor": "#2a3f5f"
            },
            "baxis": {
             "endlinecolor": "#2a3f5f",
             "gridcolor": "white",
             "linecolor": "white",
             "minorgridcolor": "white",
             "startlinecolor": "#2a3f5f"
            },
            "type": "carpet"
           }
          ],
          "choropleth": [
           {
            "colorbar": {
             "outlinewidth": 0,
             "ticks": ""
            },
            "type": "choropleth"
           }
          ],
          "contour": [
           {
            "colorbar": {
             "outlinewidth": 0,
             "ticks": ""
            },
            "colorscale": [
             [
              0,
              "#0d0887"
             ],
             [
              0.1111111111111111,
              "#46039f"
             ],
             [
              0.2222222222222222,
              "#7201a8"
             ],
             [
              0.3333333333333333,
              "#9c179e"
             ],
             [
              0.4444444444444444,
              "#bd3786"
             ],
             [
              0.5555555555555556,
              "#d8576b"
             ],
             [
              0.6666666666666666,
              "#ed7953"
             ],
             [
              0.7777777777777778,
              "#fb9f3a"
             ],
             [
              0.8888888888888888,
              "#fdca26"
             ],
             [
              1,
              "#f0f921"
             ]
            ],
            "type": "contour"
           }
          ],
          "contourcarpet": [
           {
            "colorbar": {
             "outlinewidth": 0,
             "ticks": ""
            },
            "type": "contourcarpet"
           }
          ],
          "heatmap": [
           {
            "colorbar": {
             "outlinewidth": 0,
             "ticks": ""
            },
            "colorscale": [
             [
              0,
              "#0d0887"
             ],
             [
              0.1111111111111111,
              "#46039f"
             ],
             [
              0.2222222222222222,
              "#7201a8"
             ],
             [
              0.3333333333333333,
              "#9c179e"
             ],
             [
              0.4444444444444444,
              "#bd3786"
             ],
             [
              0.5555555555555556,
              "#d8576b"
             ],
             [
              0.6666666666666666,
              "#ed7953"
             ],
             [
              0.7777777777777778,
              "#fb9f3a"
             ],
             [
              0.8888888888888888,
              "#fdca26"
             ],
             [
              1,
              "#f0f921"
             ]
            ],
            "type": "heatmap"
           }
          ],
          "heatmapgl": [
           {
            "colorbar": {
             "outlinewidth": 0,
             "ticks": ""
            },
            "colorscale": [
             [
              0,
              "#0d0887"
             ],
             [
              0.1111111111111111,
              "#46039f"
             ],
             [
              0.2222222222222222,
              "#7201a8"
             ],
             [
              0.3333333333333333,
              "#9c179e"
             ],
             [
              0.4444444444444444,
              "#bd3786"
             ],
             [
              0.5555555555555556,
              "#d8576b"
             ],
             [
              0.6666666666666666,
              "#ed7953"
             ],
             [
              0.7777777777777778,
              "#fb9f3a"
             ],
             [
              0.8888888888888888,
              "#fdca26"
             ],
             [
              1,
              "#f0f921"
             ]
            ],
            "type": "heatmapgl"
           }
          ],
          "histogram": [
           {
            "marker": {
             "pattern": {
              "fillmode": "overlay",
              "size": 10,
              "solidity": 0.2
             }
            },
            "type": "histogram"
           }
          ],
          "histogram2d": [
           {
            "colorbar": {
             "outlinewidth": 0,
             "ticks": ""
            },
            "colorscale": [
             [
              0,
              "#0d0887"
             ],
             [
              0.1111111111111111,
              "#46039f"
             ],
             [
              0.2222222222222222,
              "#7201a8"
             ],
             [
              0.3333333333333333,
              "#9c179e"
             ],
             [
              0.4444444444444444,
              "#bd3786"
             ],
             [
              0.5555555555555556,
              "#d8576b"
             ],
             [
              0.6666666666666666,
              "#ed7953"
             ],
             [
              0.7777777777777778,
              "#fb9f3a"
             ],
             [
              0.8888888888888888,
              "#fdca26"
             ],
             [
              1,
              "#f0f921"
             ]
            ],
            "type": "histogram2d"
           }
          ],
          "histogram2dcontour": [
           {
            "colorbar": {
             "outlinewidth": 0,
             "ticks": ""
            },
            "colorscale": [
             [
              0,
              "#0d0887"
             ],
             [
              0.1111111111111111,
              "#46039f"
             ],
             [
              0.2222222222222222,
              "#7201a8"
             ],
             [
              0.3333333333333333,
              "#9c179e"
             ],
             [
              0.4444444444444444,
              "#bd3786"
             ],
             [
              0.5555555555555556,
              "#d8576b"
             ],
             [
              0.6666666666666666,
              "#ed7953"
             ],
             [
              0.7777777777777778,
              "#fb9f3a"
             ],
             [
              0.8888888888888888,
              "#fdca26"
             ],
             [
              1,
              "#f0f921"
             ]
            ],
            "type": "histogram2dcontour"
           }
          ],
          "mesh3d": [
           {
            "colorbar": {
             "outlinewidth": 0,
             "ticks": ""
            },
            "type": "mesh3d"
           }
          ],
          "parcoords": [
           {
            "line": {
             "colorbar": {
              "outlinewidth": 0,
              "ticks": ""
             }
            },
            "type": "parcoords"
           }
          ],
          "pie": [
           {
            "automargin": true,
            "type": "pie"
           }
          ],
          "scatter": [
           {
            "fillpattern": {
             "fillmode": "overlay",
             "size": 10,
             "solidity": 0.2
            },
            "type": "scatter"
           }
          ],
          "scatter3d": [
           {
            "line": {
             "colorbar": {
              "outlinewidth": 0,
              "ticks": ""
             }
            },
            "marker": {
             "colorbar": {
              "outlinewidth": 0,
              "ticks": ""
             }
            },
            "type": "scatter3d"
           }
          ],
          "scattercarpet": [
           {
            "marker": {
             "colorbar": {
              "outlinewidth": 0,
              "ticks": ""
             }
            },
            "type": "scattercarpet"
           }
          ],
          "scattergeo": [
           {
            "marker": {
             "colorbar": {
              "outlinewidth": 0,
              "ticks": ""
             }
            },
            "type": "scattergeo"
           }
          ],
          "scattergl": [
           {
            "marker": {
             "colorbar": {
              "outlinewidth": 0,
              "ticks": ""
             }
            },
            "type": "scattergl"
           }
          ],
          "scattermapbox": [
           {
            "marker": {
             "colorbar": {
              "outlinewidth": 0,
              "ticks": ""
             }
            },
            "type": "scattermapbox"
           }
          ],
          "scatterpolar": [
           {
            "marker": {
             "colorbar": {
              "outlinewidth": 0,
              "ticks": ""
             }
            },
            "type": "scatterpolar"
           }
          ],
          "scatterpolargl": [
           {
            "marker": {
             "colorbar": {
              "outlinewidth": 0,
              "ticks": ""
             }
            },
            "type": "scatterpolargl"
           }
          ],
          "scatterternary": [
           {
            "marker": {
             "colorbar": {
              "outlinewidth": 0,
              "ticks": ""
             }
            },
            "type": "scatterternary"
           }
          ],
          "surface": [
           {
            "colorbar": {
             "outlinewidth": 0,
             "ticks": ""
            },
            "colorscale": [
             [
              0,
              "#0d0887"
             ],
             [
              0.1111111111111111,
              "#46039f"
             ],
             [
              0.2222222222222222,
              "#7201a8"
             ],
             [
              0.3333333333333333,
              "#9c179e"
             ],
             [
              0.4444444444444444,
              "#bd3786"
             ],
             [
              0.5555555555555556,
              "#d8576b"
             ],
             [
              0.6666666666666666,
              "#ed7953"
             ],
             [
              0.7777777777777778,
              "#fb9f3a"
             ],
             [
              0.8888888888888888,
              "#fdca26"
             ],
             [
              1,
              "#f0f921"
             ]
            ],
            "type": "surface"
           }
          ],
          "table": [
           {
            "cells": {
             "fill": {
              "color": "#EBF0F8"
             },
             "line": {
              "color": "white"
             }
            },
            "header": {
             "fill": {
              "color": "#C8D4E3"
             },
             "line": {
              "color": "white"
             }
            },
            "type": "table"
           }
          ]
         },
         "layout": {
          "annotationdefaults": {
           "arrowcolor": "#2a3f5f",
           "arrowhead": 0,
           "arrowwidth": 1
          },
          "autotypenumbers": "strict",
          "coloraxis": {
           "colorbar": {
            "outlinewidth": 0,
            "ticks": ""
           }
          },
          "colorscale": {
           "diverging": [
            [
             0,
             "#8e0152"
            ],
            [
             0.1,
             "#c51b7d"
            ],
            [
             0.2,
             "#de77ae"
            ],
            [
             0.3,
             "#f1b6da"
            ],
            [
             0.4,
             "#fde0ef"
            ],
            [
             0.5,
             "#f7f7f7"
            ],
            [
             0.6,
             "#e6f5d0"
            ],
            [
             0.7,
             "#b8e186"
            ],
            [
             0.8,
             "#7fbc41"
            ],
            [
             0.9,
             "#4d9221"
            ],
            [
             1,
             "#276419"
            ]
           ],
           "sequential": [
            [
             0,
             "#0d0887"
            ],
            [
             0.1111111111111111,
             "#46039f"
            ],
            [
             0.2222222222222222,
             "#7201a8"
            ],
            [
             0.3333333333333333,
             "#9c179e"
            ],
            [
             0.4444444444444444,
             "#bd3786"
            ],
            [
             0.5555555555555556,
             "#d8576b"
            ],
            [
             0.6666666666666666,
             "#ed7953"
            ],
            [
             0.7777777777777778,
             "#fb9f3a"
            ],
            [
             0.8888888888888888,
             "#fdca26"
            ],
            [
             1,
             "#f0f921"
            ]
           ],
           "sequentialminus": [
            [
             0,
             "#0d0887"
            ],
            [
             0.1111111111111111,
             "#46039f"
            ],
            [
             0.2222222222222222,
             "#7201a8"
            ],
            [
             0.3333333333333333,
             "#9c179e"
            ],
            [
             0.4444444444444444,
             "#bd3786"
            ],
            [
             0.5555555555555556,
             "#d8576b"
            ],
            [
             0.6666666666666666,
             "#ed7953"
            ],
            [
             0.7777777777777778,
             "#fb9f3a"
            ],
            [
             0.8888888888888888,
             "#fdca26"
            ],
            [
             1,
             "#f0f921"
            ]
           ]
          },
          "colorway": [
           "#636efa",
           "#EF553B",
           "#00cc96",
           "#ab63fa",
           "#FFA15A",
           "#19d3f3",
           "#FF6692",
           "#B6E880",
           "#FF97FF",
           "#FECB52"
          ],
          "font": {
           "color": "#2a3f5f"
          },
          "geo": {
           "bgcolor": "white",
           "lakecolor": "white",
           "landcolor": "#E5ECF6",
           "showlakes": true,
           "showland": true,
           "subunitcolor": "white"
          },
          "hoverlabel": {
           "align": "left"
          },
          "hovermode": "closest",
          "mapbox": {
           "style": "light"
          },
          "paper_bgcolor": "white",
          "plot_bgcolor": "#E5ECF6",
          "polar": {
           "angularaxis": {
            "gridcolor": "white",
            "linecolor": "white",
            "ticks": ""
           },
           "bgcolor": "#E5ECF6",
           "radialaxis": {
            "gridcolor": "white",
            "linecolor": "white",
            "ticks": ""
           }
          },
          "scene": {
           "xaxis": {
            "backgroundcolor": "#E5ECF6",
            "gridcolor": "white",
            "gridwidth": 2,
            "linecolor": "white",
            "showbackground": true,
            "ticks": "",
            "zerolinecolor": "white"
           },
           "yaxis": {
            "backgroundcolor": "#E5ECF6",
            "gridcolor": "white",
            "gridwidth": 2,
            "linecolor": "white",
            "showbackground": true,
            "ticks": "",
            "zerolinecolor": "white"
           },
           "zaxis": {
            "backgroundcolor": "#E5ECF6",
            "gridcolor": "white",
            "gridwidth": 2,
            "linecolor": "white",
            "showbackground": true,
            "ticks": "",
            "zerolinecolor": "white"
           }
          },
          "shapedefaults": {
           "line": {
            "color": "#2a3f5f"
           }
          },
          "ternary": {
           "aaxis": {
            "gridcolor": "white",
            "linecolor": "white",
            "ticks": ""
           },
           "baxis": {
            "gridcolor": "white",
            "linecolor": "white",
            "ticks": ""
           },
           "bgcolor": "#E5ECF6",
           "caxis": {
            "gridcolor": "white",
            "linecolor": "white",
            "ticks": ""
           }
          },
          "title": {
           "x": 0.05
          },
          "xaxis": {
           "automargin": true,
           "gridcolor": "white",
           "linecolor": "white",
           "ticks": "",
           "title": {
            "standoff": 15
           },
           "zerolinecolor": "white",
           "zerolinewidth": 2
          },
          "yaxis": {
           "automargin": true,
           "gridcolor": "white",
           "linecolor": "white",
           "ticks": "",
           "title": {
            "standoff": 15
           },
           "zerolinecolor": "white",
           "zerolinewidth": 2
          }
         }
        },
        "title": {
         "text": "Food supply and disposition in Canada"
        },
        "xaxis": {
         "anchor": "y",
         "domain": [
          0,
          1
         ],
         "title": {
          "text": "Year"
         }
        },
        "yaxis": {
         "anchor": "x",
         "domain": [
          0,
          1
         ],
         "title": {
          "text": "Thousands of tonnes"
         }
        }
       }
      }
     },
     "metadata": {},
     "output_type": "display_data"
    }
   ],
   "source": [
    "# Muliple-line graph on cleaner data\n",
    "\n",
    "fig = px.line(df_years_2, x=df_years_2.index, y=['Total supply', 'Total disposition'],\n",
    "              title='Food supply and disposition in Canada', labels={'value': 'Thousands of tonnes'})\n",
    "fig.show()"
   ]
  },
  {
   "attachments": {},
   "cell_type": "markdown",
   "metadata": {},
   "source": [
    "Much better! Disposition is now always less than or equal to supply, as we would have hoped. We still have that dramatic shift in 2002 suggesting that the data collection or tallying method changed. There are also odd spikes at 1965 and 1988 Let's limit ourselves to 2002–2022 from now on."
   ]
  },
  {
   "cell_type": "code",
   "execution_count": 20,
   "metadata": {},
   "outputs": [
    {
     "name": "stdout",
     "output_type": "stream",
     "text": [
      "      Total supply  Beginning stocks  Production  Imports  Total disposition  \\\n",
      "Year                                                                           \n",
      "2002       6626.38            486.97      456.60   606.01            6131.64   \n",
      "2003       6737.54            494.73      491.37   624.45            6205.50   \n",
      "2004       6799.81            532.04      463.61   603.77            6247.25   \n",
      "2005       6925.39            552.57      499.14   639.19            6531.24   \n",
      "2006       6306.22            327.14      349.21   533.72            5991.45   \n",
      "\n",
      "      Domestic disappearance  Exports   Waste  Ending stocks  \n",
      "Year                                                          \n",
      "2002                 4113.66  1323.53  237.85         494.73  \n",
      "2003                 4066.04  1406.73  241.37         532.04  \n",
      "2004                 4111.66  1428.11  243.86         552.57  \n",
      "2005                 4246.84  1531.02  254.22         394.15  \n",
      "2006                 3977.78  1467.62  196.82         314.78  \n"
     ]
    }
   ],
   "source": [
    "# Year-wise, version 3\n",
    "df_years_3 = df_years_2.loc[df_years_2.index > 2001]\n",
    "print(df_years_3.head())"
   ]
  },
  {
   "cell_type": "code",
   "execution_count": 21,
   "metadata": {},
   "outputs": [
    {
     "name": "stdout",
     "output_type": "stream",
     "text": [
      "                   Total supply  Beginning stocks  Production  Imports  \\\n",
      "Commodity    Year                                                        \n",
      "Apples fresh 2002        692.85            175.24      145.69   165.33   \n",
      "             2003        761.25            185.18      180.15   173.65   \n",
      "             2004        743.54            203.46      152.74   153.79   \n",
      "             2005        787.32            213.73      173.93   159.15   \n",
      "             2006        722.97            163.50      152.62   156.69   \n",
      "\n",
      "                   Total disposition  Domestic disappearance  Exports  Waste  \\\n",
      "Commodity    Year                                                              \n",
      "Apples fresh 2002             507.67                  287.11    62.91  11.96   \n",
      "             2003             557.79                  315.32    49.18  13.14   \n",
      "             2004             529.81                  319.51    44.25  13.31   \n",
      "             2005             623.82                  379.86    54.20  15.83   \n",
      "             2006             582.62                  366.14    48.60  15.26   \n",
      "\n",
      "                   Ending stocks  \n",
      "Commodity    Year                 \n",
      "Apples fresh 2002         185.18  \n",
      "             2003         203.46  \n",
      "             2004         213.73  \n",
      "             2005         163.50  \n",
      "             2006         140.35  \n"
     ]
    }
   ],
   "source": [
    "# Commodity-wise, version 3\n",
    "\n",
    "# Slightly more complex since we have a MultiIndex for these ones\n",
    "df_coms_3 = df_coms_2.loc[df_coms_2.index.get_level_values('Year') > 2001]\n",
    "print(df_coms_3.head())"
   ]
  },
  {
   "cell_type": "code",
   "execution_count": 22,
   "metadata": {},
   "outputs": [
    {
     "name": "stdout",
     "output_type": "stream",
     "text": [
      "               Total supply  Beginning stocks  Production  Imports  \\\n",
      "Category Year                                                        \n",
      "Fruits   2002        692.85            175.24      145.69   165.33   \n",
      "         2003        761.25            185.18      180.15   173.65   \n",
      "         2004        743.54            203.46      152.74   153.79   \n",
      "         2005        787.32            213.73      173.93   159.15   \n",
      "         2006        722.97            163.50      152.62   156.69   \n",
      "\n",
      "               Total disposition  Domestic disappearance  Exports  Waste  \\\n",
      "Category Year                                                              \n",
      "Fruits   2002             507.67                  287.11    62.91  11.96   \n",
      "         2003             557.79                  315.32    49.18  13.14   \n",
      "         2004             529.81                  319.51    44.25  13.31   \n",
      "         2005             623.82                  379.86    54.20  15.83   \n",
      "         2006             582.62                  366.14    48.60  15.26   \n",
      "\n",
      "               Ending stocks  \n",
      "Category Year                 \n",
      "Fruits   2002         185.18  \n",
      "         2003         203.46  \n",
      "         2004         213.73  \n",
      "         2005         163.50  \n",
      "         2006         140.35  \n"
     ]
    }
   ],
   "source": [
    "# Category-wise, version 3\n",
    "df_cats_3 = df_cats_2.loc[df_cats_2.index.get_level_values('Year') > 2001]\n",
    "print(df_cats_3.head())"
   ]
  },
  {
   "cell_type": "code",
   "execution_count": 23,
   "metadata": {},
   "outputs": [
    {
     "data": {
      "application/vnd.plotly.v1+json": {
       "config": {
        "plotlyServerURL": "https://plot.ly"
       },
       "data": [
        {
         "hovertemplate": "variable=Total supply<br>Year=%{x}<br>Thousands of tonnes=%{y}<extra></extra>",
         "legendgroup": "Total supply",
         "line": {
          "color": "#636efa",
          "dash": "solid"
         },
         "marker": {
          "symbol": "circle"
         },
         "mode": "lines",
         "name": "Total supply",
         "orientation": "v",
         "showlegend": true,
         "type": "scatter",
         "x": [
          2002,
          2003,
          2004,
          2005,
          2006,
          2007,
          2008,
          2009,
          2010,
          2011,
          2012,
          2013,
          2014,
          2015,
          2016,
          2017,
          2018,
          2019,
          2020,
          2021,
          2022
         ],
         "xaxis": "x",
         "y": [
          6626.38,
          6737.54,
          6799.8099999999995,
          6925.39,
          6306.219999999999,
          6387.28,
          6930.85,
          7132.07,
          7142.15,
          7221.45,
          7160.66,
          7240.490000000001,
          7355.2300000000005,
          7502.2300000000005,
          7547.509999999999,
          7624.84,
          7755.4800000000005,
          7873.14,
          8070.92,
          7449.43,
          8115.54
         ],
         "yaxis": "y"
        },
        {
         "hovertemplate": "variable=Total disposition<br>Year=%{x}<br>Thousands of tonnes=%{y}<extra></extra>",
         "legendgroup": "Total disposition",
         "line": {
          "color": "#EF553B",
          "dash": "solid"
         },
         "marker": {
          "symbol": "circle"
         },
         "mode": "lines",
         "name": "Total disposition",
         "orientation": "v",
         "showlegend": true,
         "type": "scatter",
         "x": [
          2002,
          2003,
          2004,
          2005,
          2006,
          2007,
          2008,
          2009,
          2010,
          2011,
          2012,
          2013,
          2014,
          2015,
          2016,
          2017,
          2018,
          2019,
          2020,
          2021,
          2022
         ],
         "xaxis": "x",
         "y": [
          6131.64,
          6205.5,
          6247.25,
          6531.24,
          5991.45,
          6034.71,
          6480.59,
          6671.719999999999,
          6748.4400000000005,
          6774.63,
          6782.11,
          6798.21,
          6862.71,
          7119.9400000000005,
          7108.64,
          7189.299999999999,
          7328.84,
          7392.64,
          7650,
          7033.49,
          7624.52
         ],
         "yaxis": "y"
        }
       ],
       "layout": {
        "legend": {
         "title": {
          "text": "variable"
         },
         "tracegroupgap": 0
        },
        "template": {
         "data": {
          "bar": [
           {
            "error_x": {
             "color": "#2a3f5f"
            },
            "error_y": {
             "color": "#2a3f5f"
            },
            "marker": {
             "line": {
              "color": "#E5ECF6",
              "width": 0.5
             },
             "pattern": {
              "fillmode": "overlay",
              "size": 10,
              "solidity": 0.2
             }
            },
            "type": "bar"
           }
          ],
          "barpolar": [
           {
            "marker": {
             "line": {
              "color": "#E5ECF6",
              "width": 0.5
             },
             "pattern": {
              "fillmode": "overlay",
              "size": 10,
              "solidity": 0.2
             }
            },
            "type": "barpolar"
           }
          ],
          "carpet": [
           {
            "aaxis": {
             "endlinecolor": "#2a3f5f",
             "gridcolor": "white",
             "linecolor": "white",
             "minorgridcolor": "white",
             "startlinecolor": "#2a3f5f"
            },
            "baxis": {
             "endlinecolor": "#2a3f5f",
             "gridcolor": "white",
             "linecolor": "white",
             "minorgridcolor": "white",
             "startlinecolor": "#2a3f5f"
            },
            "type": "carpet"
           }
          ],
          "choropleth": [
           {
            "colorbar": {
             "outlinewidth": 0,
             "ticks": ""
            },
            "type": "choropleth"
           }
          ],
          "contour": [
           {
            "colorbar": {
             "outlinewidth": 0,
             "ticks": ""
            },
            "colorscale": [
             [
              0,
              "#0d0887"
             ],
             [
              0.1111111111111111,
              "#46039f"
             ],
             [
              0.2222222222222222,
              "#7201a8"
             ],
             [
              0.3333333333333333,
              "#9c179e"
             ],
             [
              0.4444444444444444,
              "#bd3786"
             ],
             [
              0.5555555555555556,
              "#d8576b"
             ],
             [
              0.6666666666666666,
              "#ed7953"
             ],
             [
              0.7777777777777778,
              "#fb9f3a"
             ],
             [
              0.8888888888888888,
              "#fdca26"
             ],
             [
              1,
              "#f0f921"
             ]
            ],
            "type": "contour"
           }
          ],
          "contourcarpet": [
           {
            "colorbar": {
             "outlinewidth": 0,
             "ticks": ""
            },
            "type": "contourcarpet"
           }
          ],
          "heatmap": [
           {
            "colorbar": {
             "outlinewidth": 0,
             "ticks": ""
            },
            "colorscale": [
             [
              0,
              "#0d0887"
             ],
             [
              0.1111111111111111,
              "#46039f"
             ],
             [
              0.2222222222222222,
              "#7201a8"
             ],
             [
              0.3333333333333333,
              "#9c179e"
             ],
             [
              0.4444444444444444,
              "#bd3786"
             ],
             [
              0.5555555555555556,
              "#d8576b"
             ],
             [
              0.6666666666666666,
              "#ed7953"
             ],
             [
              0.7777777777777778,
              "#fb9f3a"
             ],
             [
              0.8888888888888888,
              "#fdca26"
             ],
             [
              1,
              "#f0f921"
             ]
            ],
            "type": "heatmap"
           }
          ],
          "heatmapgl": [
           {
            "colorbar": {
             "outlinewidth": 0,
             "ticks": ""
            },
            "colorscale": [
             [
              0,
              "#0d0887"
             ],
             [
              0.1111111111111111,
              "#46039f"
             ],
             [
              0.2222222222222222,
              "#7201a8"
             ],
             [
              0.3333333333333333,
              "#9c179e"
             ],
             [
              0.4444444444444444,
              "#bd3786"
             ],
             [
              0.5555555555555556,
              "#d8576b"
             ],
             [
              0.6666666666666666,
              "#ed7953"
             ],
             [
              0.7777777777777778,
              "#fb9f3a"
             ],
             [
              0.8888888888888888,
              "#fdca26"
             ],
             [
              1,
              "#f0f921"
             ]
            ],
            "type": "heatmapgl"
           }
          ],
          "histogram": [
           {
            "marker": {
             "pattern": {
              "fillmode": "overlay",
              "size": 10,
              "solidity": 0.2
             }
            },
            "type": "histogram"
           }
          ],
          "histogram2d": [
           {
            "colorbar": {
             "outlinewidth": 0,
             "ticks": ""
            },
            "colorscale": [
             [
              0,
              "#0d0887"
             ],
             [
              0.1111111111111111,
              "#46039f"
             ],
             [
              0.2222222222222222,
              "#7201a8"
             ],
             [
              0.3333333333333333,
              "#9c179e"
             ],
             [
              0.4444444444444444,
              "#bd3786"
             ],
             [
              0.5555555555555556,
              "#d8576b"
             ],
             [
              0.6666666666666666,
              "#ed7953"
             ],
             [
              0.7777777777777778,
              "#fb9f3a"
             ],
             [
              0.8888888888888888,
              "#fdca26"
             ],
             [
              1,
              "#f0f921"
             ]
            ],
            "type": "histogram2d"
           }
          ],
          "histogram2dcontour": [
           {
            "colorbar": {
             "outlinewidth": 0,
             "ticks": ""
            },
            "colorscale": [
             [
              0,
              "#0d0887"
             ],
             [
              0.1111111111111111,
              "#46039f"
             ],
             [
              0.2222222222222222,
              "#7201a8"
             ],
             [
              0.3333333333333333,
              "#9c179e"
             ],
             [
              0.4444444444444444,
              "#bd3786"
             ],
             [
              0.5555555555555556,
              "#d8576b"
             ],
             [
              0.6666666666666666,
              "#ed7953"
             ],
             [
              0.7777777777777778,
              "#fb9f3a"
             ],
             [
              0.8888888888888888,
              "#fdca26"
             ],
             [
              1,
              "#f0f921"
             ]
            ],
            "type": "histogram2dcontour"
           }
          ],
          "mesh3d": [
           {
            "colorbar": {
             "outlinewidth": 0,
             "ticks": ""
            },
            "type": "mesh3d"
           }
          ],
          "parcoords": [
           {
            "line": {
             "colorbar": {
              "outlinewidth": 0,
              "ticks": ""
             }
            },
            "type": "parcoords"
           }
          ],
          "pie": [
           {
            "automargin": true,
            "type": "pie"
           }
          ],
          "scatter": [
           {
            "fillpattern": {
             "fillmode": "overlay",
             "size": 10,
             "solidity": 0.2
            },
            "type": "scatter"
           }
          ],
          "scatter3d": [
           {
            "line": {
             "colorbar": {
              "outlinewidth": 0,
              "ticks": ""
             }
            },
            "marker": {
             "colorbar": {
              "outlinewidth": 0,
              "ticks": ""
             }
            },
            "type": "scatter3d"
           }
          ],
          "scattercarpet": [
           {
            "marker": {
             "colorbar": {
              "outlinewidth": 0,
              "ticks": ""
             }
            },
            "type": "scattercarpet"
           }
          ],
          "scattergeo": [
           {
            "marker": {
             "colorbar": {
              "outlinewidth": 0,
              "ticks": ""
             }
            },
            "type": "scattergeo"
           }
          ],
          "scattergl": [
           {
            "marker": {
             "colorbar": {
              "outlinewidth": 0,
              "ticks": ""
             }
            },
            "type": "scattergl"
           }
          ],
          "scattermapbox": [
           {
            "marker": {
             "colorbar": {
              "outlinewidth": 0,
              "ticks": ""
             }
            },
            "type": "scattermapbox"
           }
          ],
          "scatterpolar": [
           {
            "marker": {
             "colorbar": {
              "outlinewidth": 0,
              "ticks": ""
             }
            },
            "type": "scatterpolar"
           }
          ],
          "scatterpolargl": [
           {
            "marker": {
             "colorbar": {
              "outlinewidth": 0,
              "ticks": ""
             }
            },
            "type": "scatterpolargl"
           }
          ],
          "scatterternary": [
           {
            "marker": {
             "colorbar": {
              "outlinewidth": 0,
              "ticks": ""
             }
            },
            "type": "scatterternary"
           }
          ],
          "surface": [
           {
            "colorbar": {
             "outlinewidth": 0,
             "ticks": ""
            },
            "colorscale": [
             [
              0,
              "#0d0887"
             ],
             [
              0.1111111111111111,
              "#46039f"
             ],
             [
              0.2222222222222222,
              "#7201a8"
             ],
             [
              0.3333333333333333,
              "#9c179e"
             ],
             [
              0.4444444444444444,
              "#bd3786"
             ],
             [
              0.5555555555555556,
              "#d8576b"
             ],
             [
              0.6666666666666666,
              "#ed7953"
             ],
             [
              0.7777777777777778,
              "#fb9f3a"
             ],
             [
              0.8888888888888888,
              "#fdca26"
             ],
             [
              1,
              "#f0f921"
             ]
            ],
            "type": "surface"
           }
          ],
          "table": [
           {
            "cells": {
             "fill": {
              "color": "#EBF0F8"
             },
             "line": {
              "color": "white"
             }
            },
            "header": {
             "fill": {
              "color": "#C8D4E3"
             },
             "line": {
              "color": "white"
             }
            },
            "type": "table"
           }
          ]
         },
         "layout": {
          "annotationdefaults": {
           "arrowcolor": "#2a3f5f",
           "arrowhead": 0,
           "arrowwidth": 1
          },
          "autotypenumbers": "strict",
          "coloraxis": {
           "colorbar": {
            "outlinewidth": 0,
            "ticks": ""
           }
          },
          "colorscale": {
           "diverging": [
            [
             0,
             "#8e0152"
            ],
            [
             0.1,
             "#c51b7d"
            ],
            [
             0.2,
             "#de77ae"
            ],
            [
             0.3,
             "#f1b6da"
            ],
            [
             0.4,
             "#fde0ef"
            ],
            [
             0.5,
             "#f7f7f7"
            ],
            [
             0.6,
             "#e6f5d0"
            ],
            [
             0.7,
             "#b8e186"
            ],
            [
             0.8,
             "#7fbc41"
            ],
            [
             0.9,
             "#4d9221"
            ],
            [
             1,
             "#276419"
            ]
           ],
           "sequential": [
            [
             0,
             "#0d0887"
            ],
            [
             0.1111111111111111,
             "#46039f"
            ],
            [
             0.2222222222222222,
             "#7201a8"
            ],
            [
             0.3333333333333333,
             "#9c179e"
            ],
            [
             0.4444444444444444,
             "#bd3786"
            ],
            [
             0.5555555555555556,
             "#d8576b"
            ],
            [
             0.6666666666666666,
             "#ed7953"
            ],
            [
             0.7777777777777778,
             "#fb9f3a"
            ],
            [
             0.8888888888888888,
             "#fdca26"
            ],
            [
             1,
             "#f0f921"
            ]
           ],
           "sequentialminus": [
            [
             0,
             "#0d0887"
            ],
            [
             0.1111111111111111,
             "#46039f"
            ],
            [
             0.2222222222222222,
             "#7201a8"
            ],
            [
             0.3333333333333333,
             "#9c179e"
            ],
            [
             0.4444444444444444,
             "#bd3786"
            ],
            [
             0.5555555555555556,
             "#d8576b"
            ],
            [
             0.6666666666666666,
             "#ed7953"
            ],
            [
             0.7777777777777778,
             "#fb9f3a"
            ],
            [
             0.8888888888888888,
             "#fdca26"
            ],
            [
             1,
             "#f0f921"
            ]
           ]
          },
          "colorway": [
           "#636efa",
           "#EF553B",
           "#00cc96",
           "#ab63fa",
           "#FFA15A",
           "#19d3f3",
           "#FF6692",
           "#B6E880",
           "#FF97FF",
           "#FECB52"
          ],
          "font": {
           "color": "#2a3f5f"
          },
          "geo": {
           "bgcolor": "white",
           "lakecolor": "white",
           "landcolor": "#E5ECF6",
           "showlakes": true,
           "showland": true,
           "subunitcolor": "white"
          },
          "hoverlabel": {
           "align": "left"
          },
          "hovermode": "closest",
          "mapbox": {
           "style": "light"
          },
          "paper_bgcolor": "white",
          "plot_bgcolor": "#E5ECF6",
          "polar": {
           "angularaxis": {
            "gridcolor": "white",
            "linecolor": "white",
            "ticks": ""
           },
           "bgcolor": "#E5ECF6",
           "radialaxis": {
            "gridcolor": "white",
            "linecolor": "white",
            "ticks": ""
           }
          },
          "scene": {
           "xaxis": {
            "backgroundcolor": "#E5ECF6",
            "gridcolor": "white",
            "gridwidth": 2,
            "linecolor": "white",
            "showbackground": true,
            "ticks": "",
            "zerolinecolor": "white"
           },
           "yaxis": {
            "backgroundcolor": "#E5ECF6",
            "gridcolor": "white",
            "gridwidth": 2,
            "linecolor": "white",
            "showbackground": true,
            "ticks": "",
            "zerolinecolor": "white"
           },
           "zaxis": {
            "backgroundcolor": "#E5ECF6",
            "gridcolor": "white",
            "gridwidth": 2,
            "linecolor": "white",
            "showbackground": true,
            "ticks": "",
            "zerolinecolor": "white"
           }
          },
          "shapedefaults": {
           "line": {
            "color": "#2a3f5f"
           }
          },
          "ternary": {
           "aaxis": {
            "gridcolor": "white",
            "linecolor": "white",
            "ticks": ""
           },
           "baxis": {
            "gridcolor": "white",
            "linecolor": "white",
            "ticks": ""
           },
           "bgcolor": "#E5ECF6",
           "caxis": {
            "gridcolor": "white",
            "linecolor": "white",
            "ticks": ""
           }
          },
          "title": {
           "x": 0.05
          },
          "xaxis": {
           "automargin": true,
           "gridcolor": "white",
           "linecolor": "white",
           "ticks": "",
           "title": {
            "standoff": 15
           },
           "zerolinecolor": "white",
           "zerolinewidth": 2
          },
          "yaxis": {
           "automargin": true,
           "gridcolor": "white",
           "linecolor": "white",
           "ticks": "",
           "title": {
            "standoff": 15
           },
           "zerolinecolor": "white",
           "zerolinewidth": 2
          }
         }
        },
        "title": {
         "text": "Food supply and disposition in Canada"
        },
        "xaxis": {
         "anchor": "y",
         "domain": [
          0,
          1
         ],
         "title": {
          "text": "Year"
         }
        },
        "yaxis": {
         "anchor": "x",
         "domain": [
          0,
          1
         ],
         "title": {
          "text": "Thousands of tonnes"
         }
        }
       }
      }
     },
     "metadata": {},
     "output_type": "display_data"
    }
   ],
   "source": [
    "# Muliple-line graph on year-restricted data\n",
    "\n",
    "fig = px.line(df_years_3, x=df_years_3.index, y=['Total supply', 'Total disposition'],\n",
    "              title='Food supply and disposition in Canada', labels={'value': 'Thousands of tonnes'})\n",
    "fig.show()"
   ]
  },
  {
   "attachments": {},
   "cell_type": "markdown",
   "metadata": {},
   "source": [
    "### Sketching visualization, part 2\n",
    "\n",
    "Let's explore a few more ways to look at this data before we dive into some of the bigger insights we could draw out of it."
   ]
  },
  {
   "cell_type": "code",
   "execution_count": 24,
   "metadata": {},
   "outputs": [
    {
     "data": {
      "application/vnd.plotly.v1+json": {
       "config": {
        "plotlyServerURL": "https://plot.ly"
       },
       "data": [
        {
         "fillpattern": {
          "shape": ""
         },
         "hovertemplate": "variable=Beginning stocks<br>Year=%{x}<br>Tonnes x 1,000=%{y}<extra></extra>",
         "legendgroup": "Beginning stocks",
         "line": {
          "color": "#636efa"
         },
         "marker": {
          "symbol": "circle"
         },
         "mode": "lines",
         "name": "Beginning stocks",
         "orientation": "v",
         "showlegend": true,
         "stackgroup": "1",
         "type": "scatter",
         "x": [
          2002,
          2003,
          2004,
          2005,
          2006,
          2007,
          2008,
          2009,
          2010,
          2011,
          2012,
          2013,
          2014,
          2015,
          2016,
          2017,
          2018,
          2019,
          2020,
          2021,
          2022
         ],
         "xaxis": "x",
         "y": [
          215.24,
          222.4,
          251.11,
          265.22,
          83.24,
          100.84,
          197.31,
          177.54,
          188.79000000000002,
          157.71,
          178.14000000000001,
          161.5,
          170.56,
          202.11,
          134.39000000000001,
          159.92,
          171.63,
          160.42000000000002,
          193.21,
          115.72000000000001,
          185.58
         ],
         "yaxis": "y"
        },
        {
         "fillpattern": {
          "shape": ""
         },
         "hovertemplate": "variable=Production<br>Year=%{x}<br>Tonnes x 1,000=%{y}<extra></extra>",
         "legendgroup": "Production",
         "line": {
          "color": "#EF553B"
         },
         "marker": {
          "symbol": "circle"
         },
         "mode": "lines",
         "name": "Production",
         "orientation": "v",
         "showlegend": true,
         "stackgroup": "1",
         "type": "scatter",
         "x": [
          2002,
          2003,
          2004,
          2005,
          2006,
          2007,
          2008,
          2009,
          2010,
          2011,
          2012,
          2013,
          2014,
          2015,
          2016,
          2017,
          2018,
          2019,
          2020,
          2021,
          2022
         ],
         "xaxis": "x",
         "y": [
          133.49,
          135.05,
          134.1,
          146.57999999999998,
          19.88,
          23.72,
          135.83,
          144.68,
          142.81,
          148.05,
          137.26999999999998,
          145.89,
          134.53,
          114.39000000000001,
          137.71,
          152.56,
          151.81,
          155.67,
          171.59,
          65.11,
          178.24
         ],
         "yaxis": "y"
        },
        {
         "fillpattern": {
          "shape": ""
         },
         "hovertemplate": "variable=Imports<br>Year=%{x}<br>Tonnes x 1,000=%{y}<extra></extra>",
         "legendgroup": "Imports",
         "line": {
          "color": "#00cc96"
         },
         "marker": {
          "symbol": "circle"
         },
         "mode": "lines",
         "name": "Imports",
         "orientation": "v",
         "showlegend": true,
         "stackgroup": "1",
         "type": "scatter",
         "x": [
          2002,
          2003,
          2004,
          2005,
          2006,
          2007,
          2008,
          2009,
          2010,
          2011,
          2012,
          2013,
          2014,
          2015,
          2016,
          2017,
          2018,
          2019,
          2020,
          2021,
          2022
         ],
         "xaxis": "x",
         "y": [
          296.64000000000004,
          299.83,
          259.76000000000005,
          261.37,
          150.37,
          156.4,
          319.5,
          328.78000000000003,
          327.53000000000003,
          357.7,
          350.21000000000004,
          377.5,
          371.75,
          350.56,
          392.61,
          367.63,
          412.78999999999996,
          440.36,
          429.74,
          365.02,
          438.31
         ],
         "yaxis": "y"
        }
       ],
       "layout": {
        "legend": {
         "title": {
          "text": "variable"
         },
         "tracegroupgap": 0
        },
        "template": {
         "data": {
          "bar": [
           {
            "error_x": {
             "color": "#2a3f5f"
            },
            "error_y": {
             "color": "#2a3f5f"
            },
            "marker": {
             "line": {
              "color": "#E5ECF6",
              "width": 0.5
             },
             "pattern": {
              "fillmode": "overlay",
              "size": 10,
              "solidity": 0.2
             }
            },
            "type": "bar"
           }
          ],
          "barpolar": [
           {
            "marker": {
             "line": {
              "color": "#E5ECF6",
              "width": 0.5
             },
             "pattern": {
              "fillmode": "overlay",
              "size": 10,
              "solidity": 0.2
             }
            },
            "type": "barpolar"
           }
          ],
          "carpet": [
           {
            "aaxis": {
             "endlinecolor": "#2a3f5f",
             "gridcolor": "white",
             "linecolor": "white",
             "minorgridcolor": "white",
             "startlinecolor": "#2a3f5f"
            },
            "baxis": {
             "endlinecolor": "#2a3f5f",
             "gridcolor": "white",
             "linecolor": "white",
             "minorgridcolor": "white",
             "startlinecolor": "#2a3f5f"
            },
            "type": "carpet"
           }
          ],
          "choropleth": [
           {
            "colorbar": {
             "outlinewidth": 0,
             "ticks": ""
            },
            "type": "choropleth"
           }
          ],
          "contour": [
           {
            "colorbar": {
             "outlinewidth": 0,
             "ticks": ""
            },
            "colorscale": [
             [
              0,
              "#0d0887"
             ],
             [
              0.1111111111111111,
              "#46039f"
             ],
             [
              0.2222222222222222,
              "#7201a8"
             ],
             [
              0.3333333333333333,
              "#9c179e"
             ],
             [
              0.4444444444444444,
              "#bd3786"
             ],
             [
              0.5555555555555556,
              "#d8576b"
             ],
             [
              0.6666666666666666,
              "#ed7953"
             ],
             [
              0.7777777777777778,
              "#fb9f3a"
             ],
             [
              0.8888888888888888,
              "#fdca26"
             ],
             [
              1,
              "#f0f921"
             ]
            ],
            "type": "contour"
           }
          ],
          "contourcarpet": [
           {
            "colorbar": {
             "outlinewidth": 0,
             "ticks": ""
            },
            "type": "contourcarpet"
           }
          ],
          "heatmap": [
           {
            "colorbar": {
             "outlinewidth": 0,
             "ticks": ""
            },
            "colorscale": [
             [
              0,
              "#0d0887"
             ],
             [
              0.1111111111111111,
              "#46039f"
             ],
             [
              0.2222222222222222,
              "#7201a8"
             ],
             [
              0.3333333333333333,
              "#9c179e"
             ],
             [
              0.4444444444444444,
              "#bd3786"
             ],
             [
              0.5555555555555556,
              "#d8576b"
             ],
             [
              0.6666666666666666,
              "#ed7953"
             ],
             [
              0.7777777777777778,
              "#fb9f3a"
             ],
             [
              0.8888888888888888,
              "#fdca26"
             ],
             [
              1,
              "#f0f921"
             ]
            ],
            "type": "heatmap"
           }
          ],
          "heatmapgl": [
           {
            "colorbar": {
             "outlinewidth": 0,
             "ticks": ""
            },
            "colorscale": [
             [
              0,
              "#0d0887"
             ],
             [
              0.1111111111111111,
              "#46039f"
             ],
             [
              0.2222222222222222,
              "#7201a8"
             ],
             [
              0.3333333333333333,
              "#9c179e"
             ],
             [
              0.4444444444444444,
              "#bd3786"
             ],
             [
              0.5555555555555556,
              "#d8576b"
             ],
             [
              0.6666666666666666,
              "#ed7953"
             ],
             [
              0.7777777777777778,
              "#fb9f3a"
             ],
             [
              0.8888888888888888,
              "#fdca26"
             ],
             [
              1,
              "#f0f921"
             ]
            ],
            "type": "heatmapgl"
           }
          ],
          "histogram": [
           {
            "marker": {
             "pattern": {
              "fillmode": "overlay",
              "size": 10,
              "solidity": 0.2
             }
            },
            "type": "histogram"
           }
          ],
          "histogram2d": [
           {
            "colorbar": {
             "outlinewidth": 0,
             "ticks": ""
            },
            "colorscale": [
             [
              0,
              "#0d0887"
             ],
             [
              0.1111111111111111,
              "#46039f"
             ],
             [
              0.2222222222222222,
              "#7201a8"
             ],
             [
              0.3333333333333333,
              "#9c179e"
             ],
             [
              0.4444444444444444,
              "#bd3786"
             ],
             [
              0.5555555555555556,
              "#d8576b"
             ],
             [
              0.6666666666666666,
              "#ed7953"
             ],
             [
              0.7777777777777778,
              "#fb9f3a"
             ],
             [
              0.8888888888888888,
              "#fdca26"
             ],
             [
              1,
              "#f0f921"
             ]
            ],
            "type": "histogram2d"
           }
          ],
          "histogram2dcontour": [
           {
            "colorbar": {
             "outlinewidth": 0,
             "ticks": ""
            },
            "colorscale": [
             [
              0,
              "#0d0887"
             ],
             [
              0.1111111111111111,
              "#46039f"
             ],
             [
              0.2222222222222222,
              "#7201a8"
             ],
             [
              0.3333333333333333,
              "#9c179e"
             ],
             [
              0.4444444444444444,
              "#bd3786"
             ],
             [
              0.5555555555555556,
              "#d8576b"
             ],
             [
              0.6666666666666666,
              "#ed7953"
             ],
             [
              0.7777777777777778,
              "#fb9f3a"
             ],
             [
              0.8888888888888888,
              "#fdca26"
             ],
             [
              1,
              "#f0f921"
             ]
            ],
            "type": "histogram2dcontour"
           }
          ],
          "mesh3d": [
           {
            "colorbar": {
             "outlinewidth": 0,
             "ticks": ""
            },
            "type": "mesh3d"
           }
          ],
          "parcoords": [
           {
            "line": {
             "colorbar": {
              "outlinewidth": 0,
              "ticks": ""
             }
            },
            "type": "parcoords"
           }
          ],
          "pie": [
           {
            "automargin": true,
            "type": "pie"
           }
          ],
          "scatter": [
           {
            "fillpattern": {
             "fillmode": "overlay",
             "size": 10,
             "solidity": 0.2
            },
            "type": "scatter"
           }
          ],
          "scatter3d": [
           {
            "line": {
             "colorbar": {
              "outlinewidth": 0,
              "ticks": ""
             }
            },
            "marker": {
             "colorbar": {
              "outlinewidth": 0,
              "ticks": ""
             }
            },
            "type": "scatter3d"
           }
          ],
          "scattercarpet": [
           {
            "marker": {
             "colorbar": {
              "outlinewidth": 0,
              "ticks": ""
             }
            },
            "type": "scattercarpet"
           }
          ],
          "scattergeo": [
           {
            "marker": {
             "colorbar": {
              "outlinewidth": 0,
              "ticks": ""
             }
            },
            "type": "scattergeo"
           }
          ],
          "scattergl": [
           {
            "marker": {
             "colorbar": {
              "outlinewidth": 0,
              "ticks": ""
             }
            },
            "type": "scattergl"
           }
          ],
          "scattermapbox": [
           {
            "marker": {
             "colorbar": {
              "outlinewidth": 0,
              "ticks": ""
             }
            },
            "type": "scattermapbox"
           }
          ],
          "scatterpolar": [
           {
            "marker": {
             "colorbar": {
              "outlinewidth": 0,
              "ticks": ""
             }
            },
            "type": "scatterpolar"
           }
          ],
          "scatterpolargl": [
           {
            "marker": {
             "colorbar": {
              "outlinewidth": 0,
              "ticks": ""
             }
            },
            "type": "scatterpolargl"
           }
          ],
          "scatterternary": [
           {
            "marker": {
             "colorbar": {
              "outlinewidth": 0,
              "ticks": ""
             }
            },
            "type": "scatterternary"
           }
          ],
          "surface": [
           {
            "colorbar": {
             "outlinewidth": 0,
             "ticks": ""
            },
            "colorscale": [
             [
              0,
              "#0d0887"
             ],
             [
              0.1111111111111111,
              "#46039f"
             ],
             [
              0.2222222222222222,
              "#7201a8"
             ],
             [
              0.3333333333333333,
              "#9c179e"
             ],
             [
              0.4444444444444444,
              "#bd3786"
             ],
             [
              0.5555555555555556,
              "#d8576b"
             ],
             [
              0.6666666666666666,
              "#ed7953"
             ],
             [
              0.7777777777777778,
              "#fb9f3a"
             ],
             [
              0.8888888888888888,
              "#fdca26"
             ],
             [
              1,
              "#f0f921"
             ]
            ],
            "type": "surface"
           }
          ],
          "table": [
           {
            "cells": {
             "fill": {
              "color": "#EBF0F8"
             },
             "line": {
              "color": "white"
             }
            },
            "header": {
             "fill": {
              "color": "#C8D4E3"
             },
             "line": {
              "color": "white"
             }
            },
            "type": "table"
           }
          ]
         },
         "layout": {
          "annotationdefaults": {
           "arrowcolor": "#2a3f5f",
           "arrowhead": 0,
           "arrowwidth": 1
          },
          "autotypenumbers": "strict",
          "coloraxis": {
           "colorbar": {
            "outlinewidth": 0,
            "ticks": ""
           }
          },
          "colorscale": {
           "diverging": [
            [
             0,
             "#8e0152"
            ],
            [
             0.1,
             "#c51b7d"
            ],
            [
             0.2,
             "#de77ae"
            ],
            [
             0.3,
             "#f1b6da"
            ],
            [
             0.4,
             "#fde0ef"
            ],
            [
             0.5,
             "#f7f7f7"
            ],
            [
             0.6,
             "#e6f5d0"
            ],
            [
             0.7,
             "#b8e186"
            ],
            [
             0.8,
             "#7fbc41"
            ],
            [
             0.9,
             "#4d9221"
            ],
            [
             1,
             "#276419"
            ]
           ],
           "sequential": [
            [
             0,
             "#0d0887"
            ],
            [
             0.1111111111111111,
             "#46039f"
            ],
            [
             0.2222222222222222,
             "#7201a8"
            ],
            [
             0.3333333333333333,
             "#9c179e"
            ],
            [
             0.4444444444444444,
             "#bd3786"
            ],
            [
             0.5555555555555556,
             "#d8576b"
            ],
            [
             0.6666666666666666,
             "#ed7953"
            ],
            [
             0.7777777777777778,
             "#fb9f3a"
            ],
            [
             0.8888888888888888,
             "#fdca26"
            ],
            [
             1,
             "#f0f921"
            ]
           ],
           "sequentialminus": [
            [
             0,
             "#0d0887"
            ],
            [
             0.1111111111111111,
             "#46039f"
            ],
            [
             0.2222222222222222,
             "#7201a8"
            ],
            [
             0.3333333333333333,
             "#9c179e"
            ],
            [
             0.4444444444444444,
             "#bd3786"
            ],
            [
             0.5555555555555556,
             "#d8576b"
            ],
            [
             0.6666666666666666,
             "#ed7953"
            ],
            [
             0.7777777777777778,
             "#fb9f3a"
            ],
            [
             0.8888888888888888,
             "#fdca26"
            ],
            [
             1,
             "#f0f921"
            ]
           ]
          },
          "colorway": [
           "#636efa",
           "#EF553B",
           "#00cc96",
           "#ab63fa",
           "#FFA15A",
           "#19d3f3",
           "#FF6692",
           "#B6E880",
           "#FF97FF",
           "#FECB52"
          ],
          "font": {
           "color": "#2a3f5f"
          },
          "geo": {
           "bgcolor": "white",
           "lakecolor": "white",
           "landcolor": "#E5ECF6",
           "showlakes": true,
           "showland": true,
           "subunitcolor": "white"
          },
          "hoverlabel": {
           "align": "left"
          },
          "hovermode": "closest",
          "mapbox": {
           "style": "light"
          },
          "paper_bgcolor": "white",
          "plot_bgcolor": "#E5ECF6",
          "polar": {
           "angularaxis": {
            "gridcolor": "white",
            "linecolor": "white",
            "ticks": ""
           },
           "bgcolor": "#E5ECF6",
           "radialaxis": {
            "gridcolor": "white",
            "linecolor": "white",
            "ticks": ""
           }
          },
          "scene": {
           "xaxis": {
            "backgroundcolor": "#E5ECF6",
            "gridcolor": "white",
            "gridwidth": 2,
            "linecolor": "white",
            "showbackground": true,
            "ticks": "",
            "zerolinecolor": "white"
           },
           "yaxis": {
            "backgroundcolor": "#E5ECF6",
            "gridcolor": "white",
            "gridwidth": 2,
            "linecolor": "white",
            "showbackground": true,
            "ticks": "",
            "zerolinecolor": "white"
           },
           "zaxis": {
            "backgroundcolor": "#E5ECF6",
            "gridcolor": "white",
            "gridwidth": 2,
            "linecolor": "white",
            "showbackground": true,
            "ticks": "",
            "zerolinecolor": "white"
           }
          },
          "shapedefaults": {
           "line": {
            "color": "#2a3f5f"
           }
          },
          "ternary": {
           "aaxis": {
            "gridcolor": "white",
            "linecolor": "white",
            "ticks": ""
           },
           "baxis": {
            "gridcolor": "white",
            "linecolor": "white",
            "ticks": ""
           },
           "bgcolor": "#E5ECF6",
           "caxis": {
            "gridcolor": "white",
            "linecolor": "white",
            "ticks": ""
           }
          },
          "title": {
           "x": 0.05
          },
          "xaxis": {
           "automargin": true,
           "gridcolor": "white",
           "linecolor": "white",
           "ticks": "",
           "title": {
            "standoff": 15
           },
           "zerolinecolor": "white",
           "zerolinewidth": 2
          },
          "yaxis": {
           "automargin": true,
           "gridcolor": "white",
           "linecolor": "white",
           "ticks": "",
           "title": {
            "standoff": 15
           },
           "zerolinecolor": "white",
           "zerolinewidth": 2
          }
         }
        },
        "title": {
         "text": "Yearly supply of vegetables in Canada"
        },
        "xaxis": {
         "anchor": "y",
         "domain": [
          0,
          1
         ],
         "title": {
          "text": "Year"
         }
        },
        "yaxis": {
         "anchor": "x",
         "domain": [
          0,
          1
         ],
         "title": {
          "text": "Tonnes x 1,000"
         }
        }
       }
      }
     },
     "metadata": {},
     "output_type": "display_data"
    }
   ],
   "source": [
    "# Filled (stacked) area plot for one category's supply\n",
    "cat = df_cats_3.loc['Vegetables']\n",
    "fig = px.area(cat, x=cat.index, y=cat.columns[1:4], title='Yearly supply of vegetables in Canada',\n",
    "              labels={'value': 'Tonnes x 1,000'})\n",
    "fig.show()"
   ]
  },
  {
   "cell_type": "code",
   "execution_count": 25,
   "metadata": {},
   "outputs": [
    {
     "data": {
      "application/vnd.plotly.v1+json": {
       "config": {
        "plotlyServerURL": "https://plot.ly"
       },
       "data": [
        {
         "fillpattern": {
          "shape": ""
         },
         "hovertemplate": "variable=Domestic disappearance<br>Year=%{x}<br>Thousands of tonnes=%{y}<extra></extra>",
         "legendgroup": "Domestic disappearance",
         "line": {
          "color": "#636efa"
         },
         "marker": {
          "symbol": "circle"
         },
         "mode": "lines",
         "name": "Domestic disappearance",
         "orientation": "v",
         "showlegend": true,
         "stackgroup": "1",
         "type": "scatter",
         "x": [
          2002,
          2003,
          2004,
          2005,
          2006,
          2007,
          2008,
          2009,
          2010,
          2011,
          2012,
          2013,
          2014,
          2015,
          2016,
          2017,
          2018,
          2019,
          2020,
          2021,
          2022
         ],
         "xaxis": "x",
         "y": [
          478.03999999999996,
          506.57,
          470.96,
          611.86,
          296.62,
          312.64,
          564.24,
          717.86,
          768.6,
          815.74,
          828.36,
          772.88,
          767.51,
          851.31,
          790.7,
          762.18,
          783.9300000000001,
          779.9200000000001,
          821.88,
          556.78,
          796.37
         ],
         "yaxis": "y"
        },
        {
         "fillpattern": {
          "shape": ""
         },
         "hovertemplate": "variable=Exports<br>Year=%{x}<br>Thousands of tonnes=%{y}<extra></extra>",
         "legendgroup": "Exports",
         "line": {
          "color": "#EF553B"
         },
         "marker": {
          "symbol": "circle"
         },
         "mode": "lines",
         "name": "Exports",
         "orientation": "v",
         "showlegend": true,
         "stackgroup": "1",
         "type": "scatter",
         "x": [
          2002,
          2003,
          2004,
          2005,
          2006,
          2007,
          2008,
          2009,
          2010,
          2011,
          2012,
          2013,
          2014,
          2015,
          2016,
          2017,
          2018,
          2019,
          2020,
          2021,
          2022
         ],
         "xaxis": "x",
         "y": [
          118.26,
          122.91000000000001,
          134.6,
          123.1,
          63.589999999999996,
          76.85000000000001,
          207.87,
          161.13,
          198.38,
          182.19,
          179.89000000000001,
          190.13,
          204.26000000000002,
          234.70999999999998,
          212.42,
          229.21,
          246.51,
          235.2,
          220.3,
          146.26,
          263.23
         ],
         "yaxis": "y"
        },
        {
         "fillpattern": {
          "shape": ""
         },
         "hovertemplate": "variable=Waste<br>Year=%{x}<br>Thousands of tonnes=%{y}<extra></extra>",
         "legendgroup": "Waste",
         "line": {
          "color": "#00cc96"
         },
         "marker": {
          "symbol": "circle"
         },
         "mode": "lines",
         "name": "Waste",
         "orientation": "v",
         "showlegend": true,
         "stackgroup": "1",
         "type": "scatter",
         "x": [
          2002,
          2003,
          2004,
          2005,
          2006,
          2007,
          2008,
          2009,
          2010,
          2011,
          2012,
          2013,
          2014,
          2015,
          2016,
          2017,
          2018,
          2019,
          2020,
          2021,
          2022
         ],
         "xaxis": "x",
         "y": [
          25.79,
          26.93,
          24.79,
          32.82,
          21.2,
          22.58,
          33.18,
          42.92,
          42.17,
          46.93,
          47.32,
          44.650000000000006,
          46.150000000000006,
          49.32,
          45.870000000000005,
          44.26,
          46.12,
          46.22,
          48.660000000000004,
          40.03,
          47.53
         ],
         "yaxis": "y"
        }
       ],
       "layout": {
        "legend": {
         "title": {
          "text": "variable"
         },
         "tracegroupgap": 0
        },
        "template": {
         "data": {
          "bar": [
           {
            "error_x": {
             "color": "#2a3f5f"
            },
            "error_y": {
             "color": "#2a3f5f"
            },
            "marker": {
             "line": {
              "color": "#E5ECF6",
              "width": 0.5
             },
             "pattern": {
              "fillmode": "overlay",
              "size": 10,
              "solidity": 0.2
             }
            },
            "type": "bar"
           }
          ],
          "barpolar": [
           {
            "marker": {
             "line": {
              "color": "#E5ECF6",
              "width": 0.5
             },
             "pattern": {
              "fillmode": "overlay",
              "size": 10,
              "solidity": 0.2
             }
            },
            "type": "barpolar"
           }
          ],
          "carpet": [
           {
            "aaxis": {
             "endlinecolor": "#2a3f5f",
             "gridcolor": "white",
             "linecolor": "white",
             "minorgridcolor": "white",
             "startlinecolor": "#2a3f5f"
            },
            "baxis": {
             "endlinecolor": "#2a3f5f",
             "gridcolor": "white",
             "linecolor": "white",
             "minorgridcolor": "white",
             "startlinecolor": "#2a3f5f"
            },
            "type": "carpet"
           }
          ],
          "choropleth": [
           {
            "colorbar": {
             "outlinewidth": 0,
             "ticks": ""
            },
            "type": "choropleth"
           }
          ],
          "contour": [
           {
            "colorbar": {
             "outlinewidth": 0,
             "ticks": ""
            },
            "colorscale": [
             [
              0,
              "#0d0887"
             ],
             [
              0.1111111111111111,
              "#46039f"
             ],
             [
              0.2222222222222222,
              "#7201a8"
             ],
             [
              0.3333333333333333,
              "#9c179e"
             ],
             [
              0.4444444444444444,
              "#bd3786"
             ],
             [
              0.5555555555555556,
              "#d8576b"
             ],
             [
              0.6666666666666666,
              "#ed7953"
             ],
             [
              0.7777777777777778,
              "#fb9f3a"
             ],
             [
              0.8888888888888888,
              "#fdca26"
             ],
             [
              1,
              "#f0f921"
             ]
            ],
            "type": "contour"
           }
          ],
          "contourcarpet": [
           {
            "colorbar": {
             "outlinewidth": 0,
             "ticks": ""
            },
            "type": "contourcarpet"
           }
          ],
          "heatmap": [
           {
            "colorbar": {
             "outlinewidth": 0,
             "ticks": ""
            },
            "colorscale": [
             [
              0,
              "#0d0887"
             ],
             [
              0.1111111111111111,
              "#46039f"
             ],
             [
              0.2222222222222222,
              "#7201a8"
             ],
             [
              0.3333333333333333,
              "#9c179e"
             ],
             [
              0.4444444444444444,
              "#bd3786"
             ],
             [
              0.5555555555555556,
              "#d8576b"
             ],
             [
              0.6666666666666666,
              "#ed7953"
             ],
             [
              0.7777777777777778,
              "#fb9f3a"
             ],
             [
              0.8888888888888888,
              "#fdca26"
             ],
             [
              1,
              "#f0f921"
             ]
            ],
            "type": "heatmap"
           }
          ],
          "heatmapgl": [
           {
            "colorbar": {
             "outlinewidth": 0,
             "ticks": ""
            },
            "colorscale": [
             [
              0,
              "#0d0887"
             ],
             [
              0.1111111111111111,
              "#46039f"
             ],
             [
              0.2222222222222222,
              "#7201a8"
             ],
             [
              0.3333333333333333,
              "#9c179e"
             ],
             [
              0.4444444444444444,
              "#bd3786"
             ],
             [
              0.5555555555555556,
              "#d8576b"
             ],
             [
              0.6666666666666666,
              "#ed7953"
             ],
             [
              0.7777777777777778,
              "#fb9f3a"
             ],
             [
              0.8888888888888888,
              "#fdca26"
             ],
             [
              1,
              "#f0f921"
             ]
            ],
            "type": "heatmapgl"
           }
          ],
          "histogram": [
           {
            "marker": {
             "pattern": {
              "fillmode": "overlay",
              "size": 10,
              "solidity": 0.2
             }
            },
            "type": "histogram"
           }
          ],
          "histogram2d": [
           {
            "colorbar": {
             "outlinewidth": 0,
             "ticks": ""
            },
            "colorscale": [
             [
              0,
              "#0d0887"
             ],
             [
              0.1111111111111111,
              "#46039f"
             ],
             [
              0.2222222222222222,
              "#7201a8"
             ],
             [
              0.3333333333333333,
              "#9c179e"
             ],
             [
              0.4444444444444444,
              "#bd3786"
             ],
             [
              0.5555555555555556,
              "#d8576b"
             ],
             [
              0.6666666666666666,
              "#ed7953"
             ],
             [
              0.7777777777777778,
              "#fb9f3a"
             ],
             [
              0.8888888888888888,
              "#fdca26"
             ],
             [
              1,
              "#f0f921"
             ]
            ],
            "type": "histogram2d"
           }
          ],
          "histogram2dcontour": [
           {
            "colorbar": {
             "outlinewidth": 0,
             "ticks": ""
            },
            "colorscale": [
             [
              0,
              "#0d0887"
             ],
             [
              0.1111111111111111,
              "#46039f"
             ],
             [
              0.2222222222222222,
              "#7201a8"
             ],
             [
              0.3333333333333333,
              "#9c179e"
             ],
             [
              0.4444444444444444,
              "#bd3786"
             ],
             [
              0.5555555555555556,
              "#d8576b"
             ],
             [
              0.6666666666666666,
              "#ed7953"
             ],
             [
              0.7777777777777778,
              "#fb9f3a"
             ],
             [
              0.8888888888888888,
              "#fdca26"
             ],
             [
              1,
              "#f0f921"
             ]
            ],
            "type": "histogram2dcontour"
           }
          ],
          "mesh3d": [
           {
            "colorbar": {
             "outlinewidth": 0,
             "ticks": ""
            },
            "type": "mesh3d"
           }
          ],
          "parcoords": [
           {
            "line": {
             "colorbar": {
              "outlinewidth": 0,
              "ticks": ""
             }
            },
            "type": "parcoords"
           }
          ],
          "pie": [
           {
            "automargin": true,
            "type": "pie"
           }
          ],
          "scatter": [
           {
            "fillpattern": {
             "fillmode": "overlay",
             "size": 10,
             "solidity": 0.2
            },
            "type": "scatter"
           }
          ],
          "scatter3d": [
           {
            "line": {
             "colorbar": {
              "outlinewidth": 0,
              "ticks": ""
             }
            },
            "marker": {
             "colorbar": {
              "outlinewidth": 0,
              "ticks": ""
             }
            },
            "type": "scatter3d"
           }
          ],
          "scattercarpet": [
           {
            "marker": {
             "colorbar": {
              "outlinewidth": 0,
              "ticks": ""
             }
            },
            "type": "scattercarpet"
           }
          ],
          "scattergeo": [
           {
            "marker": {
             "colorbar": {
              "outlinewidth": 0,
              "ticks": ""
             }
            },
            "type": "scattergeo"
           }
          ],
          "scattergl": [
           {
            "marker": {
             "colorbar": {
              "outlinewidth": 0,
              "ticks": ""
             }
            },
            "type": "scattergl"
           }
          ],
          "scattermapbox": [
           {
            "marker": {
             "colorbar": {
              "outlinewidth": 0,
              "ticks": ""
             }
            },
            "type": "scattermapbox"
           }
          ],
          "scatterpolar": [
           {
            "marker": {
             "colorbar": {
              "outlinewidth": 0,
              "ticks": ""
             }
            },
            "type": "scatterpolar"
           }
          ],
          "scatterpolargl": [
           {
            "marker": {
             "colorbar": {
              "outlinewidth": 0,
              "ticks": ""
             }
            },
            "type": "scatterpolargl"
           }
          ],
          "scatterternary": [
           {
            "marker": {
             "colorbar": {
              "outlinewidth": 0,
              "ticks": ""
             }
            },
            "type": "scatterternary"
           }
          ],
          "surface": [
           {
            "colorbar": {
             "outlinewidth": 0,
             "ticks": ""
            },
            "colorscale": [
             [
              0,
              "#0d0887"
             ],
             [
              0.1111111111111111,
              "#46039f"
             ],
             [
              0.2222222222222222,
              "#7201a8"
             ],
             [
              0.3333333333333333,
              "#9c179e"
             ],
             [
              0.4444444444444444,
              "#bd3786"
             ],
             [
              0.5555555555555556,
              "#d8576b"
             ],
             [
              0.6666666666666666,
              "#ed7953"
             ],
             [
              0.7777777777777778,
              "#fb9f3a"
             ],
             [
              0.8888888888888888,
              "#fdca26"
             ],
             [
              1,
              "#f0f921"
             ]
            ],
            "type": "surface"
           }
          ],
          "table": [
           {
            "cells": {
             "fill": {
              "color": "#EBF0F8"
             },
             "line": {
              "color": "white"
             }
            },
            "header": {
             "fill": {
              "color": "#C8D4E3"
             },
             "line": {
              "color": "white"
             }
            },
            "type": "table"
           }
          ]
         },
         "layout": {
          "annotationdefaults": {
           "arrowcolor": "#2a3f5f",
           "arrowhead": 0,
           "arrowwidth": 1
          },
          "autotypenumbers": "strict",
          "coloraxis": {
           "colorbar": {
            "outlinewidth": 0,
            "ticks": ""
           }
          },
          "colorscale": {
           "diverging": [
            [
             0,
             "#8e0152"
            ],
            [
             0.1,
             "#c51b7d"
            ],
            [
             0.2,
             "#de77ae"
            ],
            [
             0.3,
             "#f1b6da"
            ],
            [
             0.4,
             "#fde0ef"
            ],
            [
             0.5,
             "#f7f7f7"
            ],
            [
             0.6,
             "#e6f5d0"
            ],
            [
             0.7,
             "#b8e186"
            ],
            [
             0.8,
             "#7fbc41"
            ],
            [
             0.9,
             "#4d9221"
            ],
            [
             1,
             "#276419"
            ]
           ],
           "sequential": [
            [
             0,
             "#0d0887"
            ],
            [
             0.1111111111111111,
             "#46039f"
            ],
            [
             0.2222222222222222,
             "#7201a8"
            ],
            [
             0.3333333333333333,
             "#9c179e"
            ],
            [
             0.4444444444444444,
             "#bd3786"
            ],
            [
             0.5555555555555556,
             "#d8576b"
            ],
            [
             0.6666666666666666,
             "#ed7953"
            ],
            [
             0.7777777777777778,
             "#fb9f3a"
            ],
            [
             0.8888888888888888,
             "#fdca26"
            ],
            [
             1,
             "#f0f921"
            ]
           ],
           "sequentialminus": [
            [
             0,
             "#0d0887"
            ],
            [
             0.1111111111111111,
             "#46039f"
            ],
            [
             0.2222222222222222,
             "#7201a8"
            ],
            [
             0.3333333333333333,
             "#9c179e"
            ],
            [
             0.4444444444444444,
             "#bd3786"
            ],
            [
             0.5555555555555556,
             "#d8576b"
            ],
            [
             0.6666666666666666,
             "#ed7953"
            ],
            [
             0.7777777777777778,
             "#fb9f3a"
            ],
            [
             0.8888888888888888,
             "#fdca26"
            ],
            [
             1,
             "#f0f921"
            ]
           ]
          },
          "colorway": [
           "#636efa",
           "#EF553B",
           "#00cc96",
           "#ab63fa",
           "#FFA15A",
           "#19d3f3",
           "#FF6692",
           "#B6E880",
           "#FF97FF",
           "#FECB52"
          ],
          "font": {
           "color": "#2a3f5f"
          },
          "geo": {
           "bgcolor": "white",
           "lakecolor": "white",
           "landcolor": "#E5ECF6",
           "showlakes": true,
           "showland": true,
           "subunitcolor": "white"
          },
          "hoverlabel": {
           "align": "left"
          },
          "hovermode": "closest",
          "mapbox": {
           "style": "light"
          },
          "paper_bgcolor": "white",
          "plot_bgcolor": "#E5ECF6",
          "polar": {
           "angularaxis": {
            "gridcolor": "white",
            "linecolor": "white",
            "ticks": ""
           },
           "bgcolor": "#E5ECF6",
           "radialaxis": {
            "gridcolor": "white",
            "linecolor": "white",
            "ticks": ""
           }
          },
          "scene": {
           "xaxis": {
            "backgroundcolor": "#E5ECF6",
            "gridcolor": "white",
            "gridwidth": 2,
            "linecolor": "white",
            "showbackground": true,
            "ticks": "",
            "zerolinecolor": "white"
           },
           "yaxis": {
            "backgroundcolor": "#E5ECF6",
            "gridcolor": "white",
            "gridwidth": 2,
            "linecolor": "white",
            "showbackground": true,
            "ticks": "",
            "zerolinecolor": "white"
           },
           "zaxis": {
            "backgroundcolor": "#E5ECF6",
            "gridcolor": "white",
            "gridwidth": 2,
            "linecolor": "white",
            "showbackground": true,
            "ticks": "",
            "zerolinecolor": "white"
           }
          },
          "shapedefaults": {
           "line": {
            "color": "#2a3f5f"
           }
          },
          "ternary": {
           "aaxis": {
            "gridcolor": "white",
            "linecolor": "white",
            "ticks": ""
           },
           "baxis": {
            "gridcolor": "white",
            "linecolor": "white",
            "ticks": ""
           },
           "bgcolor": "#E5ECF6",
           "caxis": {
            "gridcolor": "white",
            "linecolor": "white",
            "ticks": ""
           }
          },
          "title": {
           "x": 0.05
          },
          "xaxis": {
           "automargin": true,
           "gridcolor": "white",
           "linecolor": "white",
           "ticks": "",
           "title": {
            "standoff": 15
           },
           "zerolinecolor": "white",
           "zerolinewidth": 2
          },
          "yaxis": {
           "automargin": true,
           "gridcolor": "white",
           "linecolor": "white",
           "ticks": "",
           "title": {
            "standoff": 15
           },
           "zerolinecolor": "white",
           "zerolinewidth": 2
          }
         }
        },
        "title": {
         "text": "Yearly disposition of fresh apples in Canada"
        },
        "xaxis": {
         "anchor": "y",
         "domain": [
          0,
          1
         ],
         "title": {
          "text": "Year"
         }
        },
        "yaxis": {
         "anchor": "x",
         "domain": [
          0,
          1
         ],
         "title": {
          "text": "Thousands of tonnes"
         }
        }
       }
      }
     },
     "metadata": {},
     "output_type": "display_data"
    }
   ],
   "source": [
    "# Filled (stacked) area plot for one commodity's disposition\n",
    "com = df_coms_3.loc['Apples fresh']\n",
    "fig = px.area(cat, x=cat.index, y=cat.columns[5:8], title='Yearly disposition of fresh apples in Canada',\n",
    "              labels={'value': 'Thousands of tonnes'})\n",
    "fig.show()"
   ]
  },
  {
   "cell_type": "code",
   "execution_count": 32,
   "metadata": {},
   "outputs": [
    {
     "data": {
      "application/vnd.plotly.v1+json": {
       "config": {
        "plotlyServerURL": "https://plot.ly"
       },
       "data": [],
       "layout": {
        "barmode": "relative",
        "legend": {
         "tracegroupgap": 0
        },
        "template": {
         "data": {
          "bar": [
           {
            "error_x": {
             "color": "#2a3f5f"
            },
            "error_y": {
             "color": "#2a3f5f"
            },
            "marker": {
             "line": {
              "color": "#E5ECF6",
              "width": 0.5
             },
             "pattern": {
              "fillmode": "overlay",
              "size": 10,
              "solidity": 0.2
             }
            },
            "type": "bar"
           }
          ],
          "barpolar": [
           {
            "marker": {
             "line": {
              "color": "#E5ECF6",
              "width": 0.5
             },
             "pattern": {
              "fillmode": "overlay",
              "size": 10,
              "solidity": 0.2
             }
            },
            "type": "barpolar"
           }
          ],
          "carpet": [
           {
            "aaxis": {
             "endlinecolor": "#2a3f5f",
             "gridcolor": "white",
             "linecolor": "white",
             "minorgridcolor": "white",
             "startlinecolor": "#2a3f5f"
            },
            "baxis": {
             "endlinecolor": "#2a3f5f",
             "gridcolor": "white",
             "linecolor": "white",
             "minorgridcolor": "white",
             "startlinecolor": "#2a3f5f"
            },
            "type": "carpet"
           }
          ],
          "choropleth": [
           {
            "colorbar": {
             "outlinewidth": 0,
             "ticks": ""
            },
            "type": "choropleth"
           }
          ],
          "contour": [
           {
            "colorbar": {
             "outlinewidth": 0,
             "ticks": ""
            },
            "colorscale": [
             [
              0,
              "#0d0887"
             ],
             [
              0.1111111111111111,
              "#46039f"
             ],
             [
              0.2222222222222222,
              "#7201a8"
             ],
             [
              0.3333333333333333,
              "#9c179e"
             ],
             [
              0.4444444444444444,
              "#bd3786"
             ],
             [
              0.5555555555555556,
              "#d8576b"
             ],
             [
              0.6666666666666666,
              "#ed7953"
             ],
             [
              0.7777777777777778,
              "#fb9f3a"
             ],
             [
              0.8888888888888888,
              "#fdca26"
             ],
             [
              1,
              "#f0f921"
             ]
            ],
            "type": "contour"
           }
          ],
          "contourcarpet": [
           {
            "colorbar": {
             "outlinewidth": 0,
             "ticks": ""
            },
            "type": "contourcarpet"
           }
          ],
          "heatmap": [
           {
            "colorbar": {
             "outlinewidth": 0,
             "ticks": ""
            },
            "colorscale": [
             [
              0,
              "#0d0887"
             ],
             [
              0.1111111111111111,
              "#46039f"
             ],
             [
              0.2222222222222222,
              "#7201a8"
             ],
             [
              0.3333333333333333,
              "#9c179e"
             ],
             [
              0.4444444444444444,
              "#bd3786"
             ],
             [
              0.5555555555555556,
              "#d8576b"
             ],
             [
              0.6666666666666666,
              "#ed7953"
             ],
             [
              0.7777777777777778,
              "#fb9f3a"
             ],
             [
              0.8888888888888888,
              "#fdca26"
             ],
             [
              1,
              "#f0f921"
             ]
            ],
            "type": "heatmap"
           }
          ],
          "heatmapgl": [
           {
            "colorbar": {
             "outlinewidth": 0,
             "ticks": ""
            },
            "colorscale": [
             [
              0,
              "#0d0887"
             ],
             [
              0.1111111111111111,
              "#46039f"
             ],
             [
              0.2222222222222222,
              "#7201a8"
             ],
             [
              0.3333333333333333,
              "#9c179e"
             ],
             [
              0.4444444444444444,
              "#bd3786"
             ],
             [
              0.5555555555555556,
              "#d8576b"
             ],
             [
              0.6666666666666666,
              "#ed7953"
             ],
             [
              0.7777777777777778,
              "#fb9f3a"
             ],
             [
              0.8888888888888888,
              "#fdca26"
             ],
             [
              1,
              "#f0f921"
             ]
            ],
            "type": "heatmapgl"
           }
          ],
          "histogram": [
           {
            "marker": {
             "pattern": {
              "fillmode": "overlay",
              "size": 10,
              "solidity": 0.2
             }
            },
            "type": "histogram"
           }
          ],
          "histogram2d": [
           {
            "colorbar": {
             "outlinewidth": 0,
             "ticks": ""
            },
            "colorscale": [
             [
              0,
              "#0d0887"
             ],
             [
              0.1111111111111111,
              "#46039f"
             ],
             [
              0.2222222222222222,
              "#7201a8"
             ],
             [
              0.3333333333333333,
              "#9c179e"
             ],
             [
              0.4444444444444444,
              "#bd3786"
             ],
             [
              0.5555555555555556,
              "#d8576b"
             ],
             [
              0.6666666666666666,
              "#ed7953"
             ],
             [
              0.7777777777777778,
              "#fb9f3a"
             ],
             [
              0.8888888888888888,
              "#fdca26"
             ],
             [
              1,
              "#f0f921"
             ]
            ],
            "type": "histogram2d"
           }
          ],
          "histogram2dcontour": [
           {
            "colorbar": {
             "outlinewidth": 0,
             "ticks": ""
            },
            "colorscale": [
             [
              0,
              "#0d0887"
             ],
             [
              0.1111111111111111,
              "#46039f"
             ],
             [
              0.2222222222222222,
              "#7201a8"
             ],
             [
              0.3333333333333333,
              "#9c179e"
             ],
             [
              0.4444444444444444,
              "#bd3786"
             ],
             [
              0.5555555555555556,
              "#d8576b"
             ],
             [
              0.6666666666666666,
              "#ed7953"
             ],
             [
              0.7777777777777778,
              "#fb9f3a"
             ],
             [
              0.8888888888888888,
              "#fdca26"
             ],
             [
              1,
              "#f0f921"
             ]
            ],
            "type": "histogram2dcontour"
           }
          ],
          "mesh3d": [
           {
            "colorbar": {
             "outlinewidth": 0,
             "ticks": ""
            },
            "type": "mesh3d"
           }
          ],
          "parcoords": [
           {
            "line": {
             "colorbar": {
              "outlinewidth": 0,
              "ticks": ""
             }
            },
            "type": "parcoords"
           }
          ],
          "pie": [
           {
            "automargin": true,
            "type": "pie"
           }
          ],
          "scatter": [
           {
            "fillpattern": {
             "fillmode": "overlay",
             "size": 10,
             "solidity": 0.2
            },
            "type": "scatter"
           }
          ],
          "scatter3d": [
           {
            "line": {
             "colorbar": {
              "outlinewidth": 0,
              "ticks": ""
             }
            },
            "marker": {
             "colorbar": {
              "outlinewidth": 0,
              "ticks": ""
             }
            },
            "type": "scatter3d"
           }
          ],
          "scattercarpet": [
           {
            "marker": {
             "colorbar": {
              "outlinewidth": 0,
              "ticks": ""
             }
            },
            "type": "scattercarpet"
           }
          ],
          "scattergeo": [
           {
            "marker": {
             "colorbar": {
              "outlinewidth": 0,
              "ticks": ""
             }
            },
            "type": "scattergeo"
           }
          ],
          "scattergl": [
           {
            "marker": {
             "colorbar": {
              "outlinewidth": 0,
              "ticks": ""
             }
            },
            "type": "scattergl"
           }
          ],
          "scattermapbox": [
           {
            "marker": {
             "colorbar": {
              "outlinewidth": 0,
              "ticks": ""
             }
            },
            "type": "scattermapbox"
           }
          ],
          "scatterpolar": [
           {
            "marker": {
             "colorbar": {
              "outlinewidth": 0,
              "ticks": ""
             }
            },
            "type": "scatterpolar"
           }
          ],
          "scatterpolargl": [
           {
            "marker": {
             "colorbar": {
              "outlinewidth": 0,
              "ticks": ""
             }
            },
            "type": "scatterpolargl"
           }
          ],
          "scatterternary": [
           {
            "marker": {
             "colorbar": {
              "outlinewidth": 0,
              "ticks": ""
             }
            },
            "type": "scatterternary"
           }
          ],
          "surface": [
           {
            "colorbar": {
             "outlinewidth": 0,
             "ticks": ""
            },
            "colorscale": [
             [
              0,
              "#0d0887"
             ],
             [
              0.1111111111111111,
              "#46039f"
             ],
             [
              0.2222222222222222,
              "#7201a8"
             ],
             [
              0.3333333333333333,
              "#9c179e"
             ],
             [
              0.4444444444444444,
              "#bd3786"
             ],
             [
              0.5555555555555556,
              "#d8576b"
             ],
             [
              0.6666666666666666,
              "#ed7953"
             ],
             [
              0.7777777777777778,
              "#fb9f3a"
             ],
             [
              0.8888888888888888,
              "#fdca26"
             ],
             [
              1,
              "#f0f921"
             ]
            ],
            "type": "surface"
           }
          ],
          "table": [
           {
            "cells": {
             "fill": {
              "color": "#EBF0F8"
             },
             "line": {
              "color": "white"
             }
            },
            "header": {
             "fill": {
              "color": "#C8D4E3"
             },
             "line": {
              "color": "white"
             }
            },
            "type": "table"
           }
          ]
         },
         "layout": {
          "annotationdefaults": {
           "arrowcolor": "#2a3f5f",
           "arrowhead": 0,
           "arrowwidth": 1
          },
          "autotypenumbers": "strict",
          "coloraxis": {
           "colorbar": {
            "outlinewidth": 0,
            "ticks": ""
           }
          },
          "colorscale": {
           "diverging": [
            [
             0,
             "#8e0152"
            ],
            [
             0.1,
             "#c51b7d"
            ],
            [
             0.2,
             "#de77ae"
            ],
            [
             0.3,
             "#f1b6da"
            ],
            [
             0.4,
             "#fde0ef"
            ],
            [
             0.5,
             "#f7f7f7"
            ],
            [
             0.6,
             "#e6f5d0"
            ],
            [
             0.7,
             "#b8e186"
            ],
            [
             0.8,
             "#7fbc41"
            ],
            [
             0.9,
             "#4d9221"
            ],
            [
             1,
             "#276419"
            ]
           ],
           "sequential": [
            [
             0,
             "#0d0887"
            ],
            [
             0.1111111111111111,
             "#46039f"
            ],
            [
             0.2222222222222222,
             "#7201a8"
            ],
            [
             0.3333333333333333,
             "#9c179e"
            ],
            [
             0.4444444444444444,
             "#bd3786"
            ],
            [
             0.5555555555555556,
             "#d8576b"
            ],
            [
             0.6666666666666666,
             "#ed7953"
            ],
            [
             0.7777777777777778,
             "#fb9f3a"
            ],
            [
             0.8888888888888888,
             "#fdca26"
            ],
            [
             1,
             "#f0f921"
            ]
           ],
           "sequentialminus": [
            [
             0,
             "#0d0887"
            ],
            [
             0.1111111111111111,
             "#46039f"
            ],
            [
             0.2222222222222222,
             "#7201a8"
            ],
            [
             0.3333333333333333,
             "#9c179e"
            ],
            [
             0.4444444444444444,
             "#bd3786"
            ],
            [
             0.5555555555555556,
             "#d8576b"
            ],
            [
             0.6666666666666666,
             "#ed7953"
            ],
            [
             0.7777777777777778,
             "#fb9f3a"
            ],
            [
             0.8888888888888888,
             "#fdca26"
            ],
            [
             1,
             "#f0f921"
            ]
           ]
          },
          "colorway": [
           "#636efa",
           "#EF553B",
           "#00cc96",
           "#ab63fa",
           "#FFA15A",
           "#19d3f3",
           "#FF6692",
           "#B6E880",
           "#FF97FF",
           "#FECB52"
          ],
          "font": {
           "color": "#2a3f5f"
          },
          "geo": {
           "bgcolor": "white",
           "lakecolor": "white",
           "landcolor": "#E5ECF6",
           "showlakes": true,
           "showland": true,
           "subunitcolor": "white"
          },
          "hoverlabel": {
           "align": "left"
          },
          "hovermode": "closest",
          "mapbox": {
           "style": "light"
          },
          "paper_bgcolor": "white",
          "plot_bgcolor": "#E5ECF6",
          "polar": {
           "angularaxis": {
            "gridcolor": "white",
            "linecolor": "white",
            "ticks": ""
           },
           "bgcolor": "#E5ECF6",
           "radialaxis": {
            "gridcolor": "white",
            "linecolor": "white",
            "ticks": ""
           }
          },
          "scene": {
           "xaxis": {
            "backgroundcolor": "#E5ECF6",
            "gridcolor": "white",
            "gridwidth": 2,
            "linecolor": "white",
            "showbackground": true,
            "ticks": "",
            "zerolinecolor": "white"
           },
           "yaxis": {
            "backgroundcolor": "#E5ECF6",
            "gridcolor": "white",
            "gridwidth": 2,
            "linecolor": "white",
            "showbackground": true,
            "ticks": "",
            "zerolinecolor": "white"
           },
           "zaxis": {
            "backgroundcolor": "#E5ECF6",
            "gridcolor": "white",
            "gridwidth": 2,
            "linecolor": "white",
            "showbackground": true,
            "ticks": "",
            "zerolinecolor": "white"
           }
          },
          "shapedefaults": {
           "line": {
            "color": "#2a3f5f"
           }
          },
          "ternary": {
           "aaxis": {
            "gridcolor": "white",
            "linecolor": "white",
            "ticks": ""
           },
           "baxis": {
            "gridcolor": "white",
            "linecolor": "white",
            "ticks": ""
           },
           "bgcolor": "#E5ECF6",
           "caxis": {
            "gridcolor": "white",
            "linecolor": "white",
            "ticks": ""
           }
          },
          "title": {
           "x": 0.05
          },
          "xaxis": {
           "automargin": true,
           "gridcolor": "white",
           "linecolor": "white",
           "ticks": "",
           "title": {
            "standoff": 15
           },
           "zerolinecolor": "white",
           "zerolinewidth": 2
          },
          "yaxis": {
           "automargin": true,
           "gridcolor": "white",
           "linecolor": "white",
           "ticks": "",
           "title": {
            "standoff": 15
           },
           "zerolinecolor": "white",
           "zerolinewidth": 2
          }
         }
        },
        "title": {
         "text": "Canadian food waste in 1991"
        },
        "xaxis": {
         "anchor": "y",
         "domain": [
          0,
          1
         ],
         "title": {
          "text": "value"
         }
        },
        "yaxis": {
         "anchor": "x",
         "domain": [
          0,
          1
         ],
         "title": {
          "text": "Thousands of tonnes of waste"
         }
        }
       }
      }
     },
     "metadata": {},
     "output_type": "display_data"
    }
   ],
   "source": [
    "# Bar chart for categories' waste in one year\n",
    "sub = df_cats_3.loc[df_cats_3.index.get_level_values('Year') == 1991]\n",
    "fig = px.bar(sub, x=sub.index.get_level_values('Category'), y='Waste', title='Canadian food waste in 1991',\n",
    "             labels={'Waste': 'Thousands of tonnes of waste', 'x': 'Category'})\n",
    "fig.show()"
   ]
  },
  {
   "cell_type": "code",
   "execution_count": 31,
   "metadata": {},
   "outputs": [
    {
     "data": {
      "application/vnd.plotly.v1+json": {
       "config": {
        "plotlyServerURL": "https://plot.ly"
       },
       "data": [
        {
         "domain": {
          "x": [
           0,
           1
          ],
          "y": [
           0,
           1
          ]
         },
         "hovertemplate": "label=%{label}<br>Waste=%{value}<extra></extra>",
         "labels": [],
         "legendgroup": "",
         "name": "",
         "showlegend": true,
         "type": "pie",
         "values": []
        }
       ],
       "layout": {
        "legend": {
         "tracegroupgap": 0
        },
        "template": {
         "data": {
          "bar": [
           {
            "error_x": {
             "color": "#2a3f5f"
            },
            "error_y": {
             "color": "#2a3f5f"
            },
            "marker": {
             "line": {
              "color": "#E5ECF6",
              "width": 0.5
             },
             "pattern": {
              "fillmode": "overlay",
              "size": 10,
              "solidity": 0.2
             }
            },
            "type": "bar"
           }
          ],
          "barpolar": [
           {
            "marker": {
             "line": {
              "color": "#E5ECF6",
              "width": 0.5
             },
             "pattern": {
              "fillmode": "overlay",
              "size": 10,
              "solidity": 0.2
             }
            },
            "type": "barpolar"
           }
          ],
          "carpet": [
           {
            "aaxis": {
             "endlinecolor": "#2a3f5f",
             "gridcolor": "white",
             "linecolor": "white",
             "minorgridcolor": "white",
             "startlinecolor": "#2a3f5f"
            },
            "baxis": {
             "endlinecolor": "#2a3f5f",
             "gridcolor": "white",
             "linecolor": "white",
             "minorgridcolor": "white",
             "startlinecolor": "#2a3f5f"
            },
            "type": "carpet"
           }
          ],
          "choropleth": [
           {
            "colorbar": {
             "outlinewidth": 0,
             "ticks": ""
            },
            "type": "choropleth"
           }
          ],
          "contour": [
           {
            "colorbar": {
             "outlinewidth": 0,
             "ticks": ""
            },
            "colorscale": [
             [
              0,
              "#0d0887"
             ],
             [
              0.1111111111111111,
              "#46039f"
             ],
             [
              0.2222222222222222,
              "#7201a8"
             ],
             [
              0.3333333333333333,
              "#9c179e"
             ],
             [
              0.4444444444444444,
              "#bd3786"
             ],
             [
              0.5555555555555556,
              "#d8576b"
             ],
             [
              0.6666666666666666,
              "#ed7953"
             ],
             [
              0.7777777777777778,
              "#fb9f3a"
             ],
             [
              0.8888888888888888,
              "#fdca26"
             ],
             [
              1,
              "#f0f921"
             ]
            ],
            "type": "contour"
           }
          ],
          "contourcarpet": [
           {
            "colorbar": {
             "outlinewidth": 0,
             "ticks": ""
            },
            "type": "contourcarpet"
           }
          ],
          "heatmap": [
           {
            "colorbar": {
             "outlinewidth": 0,
             "ticks": ""
            },
            "colorscale": [
             [
              0,
              "#0d0887"
             ],
             [
              0.1111111111111111,
              "#46039f"
             ],
             [
              0.2222222222222222,
              "#7201a8"
             ],
             [
              0.3333333333333333,
              "#9c179e"
             ],
             [
              0.4444444444444444,
              "#bd3786"
             ],
             [
              0.5555555555555556,
              "#d8576b"
             ],
             [
              0.6666666666666666,
              "#ed7953"
             ],
             [
              0.7777777777777778,
              "#fb9f3a"
             ],
             [
              0.8888888888888888,
              "#fdca26"
             ],
             [
              1,
              "#f0f921"
             ]
            ],
            "type": "heatmap"
           }
          ],
          "heatmapgl": [
           {
            "colorbar": {
             "outlinewidth": 0,
             "ticks": ""
            },
            "colorscale": [
             [
              0,
              "#0d0887"
             ],
             [
              0.1111111111111111,
              "#46039f"
             ],
             [
              0.2222222222222222,
              "#7201a8"
             ],
             [
              0.3333333333333333,
              "#9c179e"
             ],
             [
              0.4444444444444444,
              "#bd3786"
             ],
             [
              0.5555555555555556,
              "#d8576b"
             ],
             [
              0.6666666666666666,
              "#ed7953"
             ],
             [
              0.7777777777777778,
              "#fb9f3a"
             ],
             [
              0.8888888888888888,
              "#fdca26"
             ],
             [
              1,
              "#f0f921"
             ]
            ],
            "type": "heatmapgl"
           }
          ],
          "histogram": [
           {
            "marker": {
             "pattern": {
              "fillmode": "overlay",
              "size": 10,
              "solidity": 0.2
             }
            },
            "type": "histogram"
           }
          ],
          "histogram2d": [
           {
            "colorbar": {
             "outlinewidth": 0,
             "ticks": ""
            },
            "colorscale": [
             [
              0,
              "#0d0887"
             ],
             [
              0.1111111111111111,
              "#46039f"
             ],
             [
              0.2222222222222222,
              "#7201a8"
             ],
             [
              0.3333333333333333,
              "#9c179e"
             ],
             [
              0.4444444444444444,
              "#bd3786"
             ],
             [
              0.5555555555555556,
              "#d8576b"
             ],
             [
              0.6666666666666666,
              "#ed7953"
             ],
             [
              0.7777777777777778,
              "#fb9f3a"
             ],
             [
              0.8888888888888888,
              "#fdca26"
             ],
             [
              1,
              "#f0f921"
             ]
            ],
            "type": "histogram2d"
           }
          ],
          "histogram2dcontour": [
           {
            "colorbar": {
             "outlinewidth": 0,
             "ticks": ""
            },
            "colorscale": [
             [
              0,
              "#0d0887"
             ],
             [
              0.1111111111111111,
              "#46039f"
             ],
             [
              0.2222222222222222,
              "#7201a8"
             ],
             [
              0.3333333333333333,
              "#9c179e"
             ],
             [
              0.4444444444444444,
              "#bd3786"
             ],
             [
              0.5555555555555556,
              "#d8576b"
             ],
             [
              0.6666666666666666,
              "#ed7953"
             ],
             [
              0.7777777777777778,
              "#fb9f3a"
             ],
             [
              0.8888888888888888,
              "#fdca26"
             ],
             [
              1,
              "#f0f921"
             ]
            ],
            "type": "histogram2dcontour"
           }
          ],
          "mesh3d": [
           {
            "colorbar": {
             "outlinewidth": 0,
             "ticks": ""
            },
            "type": "mesh3d"
           }
          ],
          "parcoords": [
           {
            "line": {
             "colorbar": {
              "outlinewidth": 0,
              "ticks": ""
             }
            },
            "type": "parcoords"
           }
          ],
          "pie": [
           {
            "automargin": true,
            "type": "pie"
           }
          ],
          "scatter": [
           {
            "fillpattern": {
             "fillmode": "overlay",
             "size": 10,
             "solidity": 0.2
            },
            "type": "scatter"
           }
          ],
          "scatter3d": [
           {
            "line": {
             "colorbar": {
              "outlinewidth": 0,
              "ticks": ""
             }
            },
            "marker": {
             "colorbar": {
              "outlinewidth": 0,
              "ticks": ""
             }
            },
            "type": "scatter3d"
           }
          ],
          "scattercarpet": [
           {
            "marker": {
             "colorbar": {
              "outlinewidth": 0,
              "ticks": ""
             }
            },
            "type": "scattercarpet"
           }
          ],
          "scattergeo": [
           {
            "marker": {
             "colorbar": {
              "outlinewidth": 0,
              "ticks": ""
             }
            },
            "type": "scattergeo"
           }
          ],
          "scattergl": [
           {
            "marker": {
             "colorbar": {
              "outlinewidth": 0,
              "ticks": ""
             }
            },
            "type": "scattergl"
           }
          ],
          "scattermapbox": [
           {
            "marker": {
             "colorbar": {
              "outlinewidth": 0,
              "ticks": ""
             }
            },
            "type": "scattermapbox"
           }
          ],
          "scatterpolar": [
           {
            "marker": {
             "colorbar": {
              "outlinewidth": 0,
              "ticks": ""
             }
            },
            "type": "scatterpolar"
           }
          ],
          "scatterpolargl": [
           {
            "marker": {
             "colorbar": {
              "outlinewidth": 0,
              "ticks": ""
             }
            },
            "type": "scatterpolargl"
           }
          ],
          "scatterternary": [
           {
            "marker": {
             "colorbar": {
              "outlinewidth": 0,
              "ticks": ""
             }
            },
            "type": "scatterternary"
           }
          ],
          "surface": [
           {
            "colorbar": {
             "outlinewidth": 0,
             "ticks": ""
            },
            "colorscale": [
             [
              0,
              "#0d0887"
             ],
             [
              0.1111111111111111,
              "#46039f"
             ],
             [
              0.2222222222222222,
              "#7201a8"
             ],
             [
              0.3333333333333333,
              "#9c179e"
             ],
             [
              0.4444444444444444,
              "#bd3786"
             ],
             [
              0.5555555555555556,
              "#d8576b"
             ],
             [
              0.6666666666666666,
              "#ed7953"
             ],
             [
              0.7777777777777778,
              "#fb9f3a"
             ],
             [
              0.8888888888888888,
              "#fdca26"
             ],
             [
              1,
              "#f0f921"
             ]
            ],
            "type": "surface"
           }
          ],
          "table": [
           {
            "cells": {
             "fill": {
              "color": "#EBF0F8"
             },
             "line": {
              "color": "white"
             }
            },
            "header": {
             "fill": {
              "color": "#C8D4E3"
             },
             "line": {
              "color": "white"
             }
            },
            "type": "table"
           }
          ]
         },
         "layout": {
          "annotationdefaults": {
           "arrowcolor": "#2a3f5f",
           "arrowhead": 0,
           "arrowwidth": 1
          },
          "autotypenumbers": "strict",
          "coloraxis": {
           "colorbar": {
            "outlinewidth": 0,
            "ticks": ""
           }
          },
          "colorscale": {
           "diverging": [
            [
             0,
             "#8e0152"
            ],
            [
             0.1,
             "#c51b7d"
            ],
            [
             0.2,
             "#de77ae"
            ],
            [
             0.3,
             "#f1b6da"
            ],
            [
             0.4,
             "#fde0ef"
            ],
            [
             0.5,
             "#f7f7f7"
            ],
            [
             0.6,
             "#e6f5d0"
            ],
            [
             0.7,
             "#b8e186"
            ],
            [
             0.8,
             "#7fbc41"
            ],
            [
             0.9,
             "#4d9221"
            ],
            [
             1,
             "#276419"
            ]
           ],
           "sequential": [
            [
             0,
             "#0d0887"
            ],
            [
             0.1111111111111111,
             "#46039f"
            ],
            [
             0.2222222222222222,
             "#7201a8"
            ],
            [
             0.3333333333333333,
             "#9c179e"
            ],
            [
             0.4444444444444444,
             "#bd3786"
            ],
            [
             0.5555555555555556,
             "#d8576b"
            ],
            [
             0.6666666666666666,
             "#ed7953"
            ],
            [
             0.7777777777777778,
             "#fb9f3a"
            ],
            [
             0.8888888888888888,
             "#fdca26"
            ],
            [
             1,
             "#f0f921"
            ]
           ],
           "sequentialminus": [
            [
             0,
             "#0d0887"
            ],
            [
             0.1111111111111111,
             "#46039f"
            ],
            [
             0.2222222222222222,
             "#7201a8"
            ],
            [
             0.3333333333333333,
             "#9c179e"
            ],
            [
             0.4444444444444444,
             "#bd3786"
            ],
            [
             0.5555555555555556,
             "#d8576b"
            ],
            [
             0.6666666666666666,
             "#ed7953"
            ],
            [
             0.7777777777777778,
             "#fb9f3a"
            ],
            [
             0.8888888888888888,
             "#fdca26"
            ],
            [
             1,
             "#f0f921"
            ]
           ]
          },
          "colorway": [
           "#636efa",
           "#EF553B",
           "#00cc96",
           "#ab63fa",
           "#FFA15A",
           "#19d3f3",
           "#FF6692",
           "#B6E880",
           "#FF97FF",
           "#FECB52"
          ],
          "font": {
           "color": "#2a3f5f"
          },
          "geo": {
           "bgcolor": "white",
           "lakecolor": "white",
           "landcolor": "#E5ECF6",
           "showlakes": true,
           "showland": true,
           "subunitcolor": "white"
          },
          "hoverlabel": {
           "align": "left"
          },
          "hovermode": "closest",
          "mapbox": {
           "style": "light"
          },
          "paper_bgcolor": "white",
          "plot_bgcolor": "#E5ECF6",
          "polar": {
           "angularaxis": {
            "gridcolor": "white",
            "linecolor": "white",
            "ticks": ""
           },
           "bgcolor": "#E5ECF6",
           "radialaxis": {
            "gridcolor": "white",
            "linecolor": "white",
            "ticks": ""
           }
          },
          "scene": {
           "xaxis": {
            "backgroundcolor": "#E5ECF6",
            "gridcolor": "white",
            "gridwidth": 2,
            "linecolor": "white",
            "showbackground": true,
            "ticks": "",
            "zerolinecolor": "white"
           },
           "yaxis": {
            "backgroundcolor": "#E5ECF6",
            "gridcolor": "white",
            "gridwidth": 2,
            "linecolor": "white",
            "showbackground": true,
            "ticks": "",
            "zerolinecolor": "white"
           },
           "zaxis": {
            "backgroundcolor": "#E5ECF6",
            "gridcolor": "white",
            "gridwidth": 2,
            "linecolor": "white",
            "showbackground": true,
            "ticks": "",
            "zerolinecolor": "white"
           }
          },
          "shapedefaults": {
           "line": {
            "color": "#2a3f5f"
           }
          },
          "ternary": {
           "aaxis": {
            "gridcolor": "white",
            "linecolor": "white",
            "ticks": ""
           },
           "baxis": {
            "gridcolor": "white",
            "linecolor": "white",
            "ticks": ""
           },
           "bgcolor": "#E5ECF6",
           "caxis": {
            "gridcolor": "white",
            "linecolor": "white",
            "ticks": ""
           }
          },
          "title": {
           "x": 0.05
          },
          "xaxis": {
           "automargin": true,
           "gridcolor": "white",
           "linecolor": "white",
           "ticks": "",
           "title": {
            "standoff": 15
           },
           "zerolinecolor": "white",
           "zerolinewidth": 2
          },
          "yaxis": {
           "automargin": true,
           "gridcolor": "white",
           "linecolor": "white",
           "ticks": "",
           "title": {
            "standoff": 15
           },
           "zerolinecolor": "white",
           "zerolinewidth": 2
          }
         }
        },
        "title": {
         "text": "Canadian food production in 1991"
        }
       }
      }
     },
     "metadata": {},
     "output_type": "display_data"
    }
   ],
   "source": [
    "# Pie chart of categories' production in one year\n",
    "sub = df_cats_3.loc[df_cats_3.index.get_level_values('Year') == 1991]\n",
    "fig = px.pie(sub, values='Waste', names=sub.index.get_level_values('Category'), title='Canadian food production in 1991')\n",
    "fig.show()"
   ]
  },
  {
   "attachments": {},
   "cell_type": "markdown",
   "metadata": {},
   "source": [
    "By poking around the data like this, we can begin to form insights."
   ]
  },
  {
   "attachments": {},
   "cell_type": "markdown",
   "metadata": {},
   "source": [
    "### Richer visualizations\n",
    "\n",
    "Earlier, I posed some potential questions. Let's see if we can suggest answers to some of them."
   ]
  },
  {
   "attachments": {},
   "cell_type": "markdown",
   "metadata": {},
   "source": [
    "* **How has our production vs. importing changed as a function of our total supply?\n",
    "\n",
    "Let's try a stacked area plot to graph total production vs. total imports over years."
   ]
  },
  {
   "cell_type": "code",
   "execution_count": 28,
   "metadata": {},
   "outputs": [
    {
     "data": {
      "application/vnd.plotly.v1+json": {
       "config": {
        "plotlyServerURL": "https://plot.ly"
       },
       "data": [
        {
         "fillpattern": {
          "shape": ""
         },
         "hovertemplate": "variable=Production<br>Year=%{x}<br>Tonnes x 1,000=%{y}<extra></extra>",
         "legendgroup": "Production",
         "line": {
          "color": "#636efa"
         },
         "marker": {
          "symbol": "circle"
         },
         "mode": "lines",
         "name": "Production",
         "orientation": "v",
         "showlegend": true,
         "stackgroup": "1",
         "type": "scatter",
         "x": [
          2002,
          2003,
          2004,
          2005,
          2006,
          2007,
          2008,
          2009,
          2010,
          2011,
          2012,
          2013,
          2014,
          2015,
          2016,
          2017,
          2018,
          2019,
          2020,
          2021,
          2022
         ],
         "xaxis": "x",
         "y": [
          456.6,
          491.37,
          463.61,
          499.14,
          349.21000000000004,
          387.26,
          474.96999999999997,
          493.69,
          491.72999999999996,
          492.21,
          434.83,
          481.54,
          462.07,
          439.84999999999997,
          492.06,
          494.56,
          513.75,
          511.13,
          534.67,
          422.36,
          564.1899999999999
         ],
         "yaxis": "y"
        },
        {
         "fillpattern": {
          "shape": ""
         },
         "hovertemplate": "variable=Imports<br>Year=%{x}<br>Tonnes x 1,000=%{y}<extra></extra>",
         "legendgroup": "Imports",
         "line": {
          "color": "#EF553B"
         },
         "marker": {
          "symbol": "circle"
         },
         "mode": "lines",
         "name": "Imports",
         "orientation": "v",
         "showlegend": true,
         "stackgroup": "1",
         "type": "scatter",
         "x": [
          2002,
          2003,
          2004,
          2005,
          2006,
          2007,
          2008,
          2009,
          2010,
          2011,
          2012,
          2013,
          2014,
          2015,
          2016,
          2017,
          2018,
          2019,
          2020,
          2021,
          2022
         ],
         "xaxis": "x",
         "y": [
          606.01,
          624.45,
          603.77,
          639.19,
          533.72,
          631.9,
          821.37,
          827.91,
          815.89,
          883.26,
          938.61,
          974.98,
          976.73,
          961.71,
          1024.55,
          971.02,
          1016.85,
          1046.07,
          1041.98,
          967.15,
          1048.79
         ],
         "yaxis": "y"
        }
       ],
       "layout": {
        "legend": {
         "title": {
          "text": "variable"
         },
         "tracegroupgap": 0
        },
        "template": {
         "data": {
          "bar": [
           {
            "error_x": {
             "color": "#2a3f5f"
            },
            "error_y": {
             "color": "#2a3f5f"
            },
            "marker": {
             "line": {
              "color": "#E5ECF6",
              "width": 0.5
             },
             "pattern": {
              "fillmode": "overlay",
              "size": 10,
              "solidity": 0.2
             }
            },
            "type": "bar"
           }
          ],
          "barpolar": [
           {
            "marker": {
             "line": {
              "color": "#E5ECF6",
              "width": 0.5
             },
             "pattern": {
              "fillmode": "overlay",
              "size": 10,
              "solidity": 0.2
             }
            },
            "type": "barpolar"
           }
          ],
          "carpet": [
           {
            "aaxis": {
             "endlinecolor": "#2a3f5f",
             "gridcolor": "white",
             "linecolor": "white",
             "minorgridcolor": "white",
             "startlinecolor": "#2a3f5f"
            },
            "baxis": {
             "endlinecolor": "#2a3f5f",
             "gridcolor": "white",
             "linecolor": "white",
             "minorgridcolor": "white",
             "startlinecolor": "#2a3f5f"
            },
            "type": "carpet"
           }
          ],
          "choropleth": [
           {
            "colorbar": {
             "outlinewidth": 0,
             "ticks": ""
            },
            "type": "choropleth"
           }
          ],
          "contour": [
           {
            "colorbar": {
             "outlinewidth": 0,
             "ticks": ""
            },
            "colorscale": [
             [
              0,
              "#0d0887"
             ],
             [
              0.1111111111111111,
              "#46039f"
             ],
             [
              0.2222222222222222,
              "#7201a8"
             ],
             [
              0.3333333333333333,
              "#9c179e"
             ],
             [
              0.4444444444444444,
              "#bd3786"
             ],
             [
              0.5555555555555556,
              "#d8576b"
             ],
             [
              0.6666666666666666,
              "#ed7953"
             ],
             [
              0.7777777777777778,
              "#fb9f3a"
             ],
             [
              0.8888888888888888,
              "#fdca26"
             ],
             [
              1,
              "#f0f921"
             ]
            ],
            "type": "contour"
           }
          ],
          "contourcarpet": [
           {
            "colorbar": {
             "outlinewidth": 0,
             "ticks": ""
            },
            "type": "contourcarpet"
           }
          ],
          "heatmap": [
           {
            "colorbar": {
             "outlinewidth": 0,
             "ticks": ""
            },
            "colorscale": [
             [
              0,
              "#0d0887"
             ],
             [
              0.1111111111111111,
              "#46039f"
             ],
             [
              0.2222222222222222,
              "#7201a8"
             ],
             [
              0.3333333333333333,
              "#9c179e"
             ],
             [
              0.4444444444444444,
              "#bd3786"
             ],
             [
              0.5555555555555556,
              "#d8576b"
             ],
             [
              0.6666666666666666,
              "#ed7953"
             ],
             [
              0.7777777777777778,
              "#fb9f3a"
             ],
             [
              0.8888888888888888,
              "#fdca26"
             ],
             [
              1,
              "#f0f921"
             ]
            ],
            "type": "heatmap"
           }
          ],
          "heatmapgl": [
           {
            "colorbar": {
             "outlinewidth": 0,
             "ticks": ""
            },
            "colorscale": [
             [
              0,
              "#0d0887"
             ],
             [
              0.1111111111111111,
              "#46039f"
             ],
             [
              0.2222222222222222,
              "#7201a8"
             ],
             [
              0.3333333333333333,
              "#9c179e"
             ],
             [
              0.4444444444444444,
              "#bd3786"
             ],
             [
              0.5555555555555556,
              "#d8576b"
             ],
             [
              0.6666666666666666,
              "#ed7953"
             ],
             [
              0.7777777777777778,
              "#fb9f3a"
             ],
             [
              0.8888888888888888,
              "#fdca26"
             ],
             [
              1,
              "#f0f921"
             ]
            ],
            "type": "heatmapgl"
           }
          ],
          "histogram": [
           {
            "marker": {
             "pattern": {
              "fillmode": "overlay",
              "size": 10,
              "solidity": 0.2
             }
            },
            "type": "histogram"
           }
          ],
          "histogram2d": [
           {
            "colorbar": {
             "outlinewidth": 0,
             "ticks": ""
            },
            "colorscale": [
             [
              0,
              "#0d0887"
             ],
             [
              0.1111111111111111,
              "#46039f"
             ],
             [
              0.2222222222222222,
              "#7201a8"
             ],
             [
              0.3333333333333333,
              "#9c179e"
             ],
             [
              0.4444444444444444,
              "#bd3786"
             ],
             [
              0.5555555555555556,
              "#d8576b"
             ],
             [
              0.6666666666666666,
              "#ed7953"
             ],
             [
              0.7777777777777778,
              "#fb9f3a"
             ],
             [
              0.8888888888888888,
              "#fdca26"
             ],
             [
              1,
              "#f0f921"
             ]
            ],
            "type": "histogram2d"
           }
          ],
          "histogram2dcontour": [
           {
            "colorbar": {
             "outlinewidth": 0,
             "ticks": ""
            },
            "colorscale": [
             [
              0,
              "#0d0887"
             ],
             [
              0.1111111111111111,
              "#46039f"
             ],
             [
              0.2222222222222222,
              "#7201a8"
             ],
             [
              0.3333333333333333,
              "#9c179e"
             ],
             [
              0.4444444444444444,
              "#bd3786"
             ],
             [
              0.5555555555555556,
              "#d8576b"
             ],
             [
              0.6666666666666666,
              "#ed7953"
             ],
             [
              0.7777777777777778,
              "#fb9f3a"
             ],
             [
              0.8888888888888888,
              "#fdca26"
             ],
             [
              1,
              "#f0f921"
             ]
            ],
            "type": "histogram2dcontour"
           }
          ],
          "mesh3d": [
           {
            "colorbar": {
             "outlinewidth": 0,
             "ticks": ""
            },
            "type": "mesh3d"
           }
          ],
          "parcoords": [
           {
            "line": {
             "colorbar": {
              "outlinewidth": 0,
              "ticks": ""
             }
            },
            "type": "parcoords"
           }
          ],
          "pie": [
           {
            "automargin": true,
            "type": "pie"
           }
          ],
          "scatter": [
           {
            "fillpattern": {
             "fillmode": "overlay",
             "size": 10,
             "solidity": 0.2
            },
            "type": "scatter"
           }
          ],
          "scatter3d": [
           {
            "line": {
             "colorbar": {
              "outlinewidth": 0,
              "ticks": ""
             }
            },
            "marker": {
             "colorbar": {
              "outlinewidth": 0,
              "ticks": ""
             }
            },
            "type": "scatter3d"
           }
          ],
          "scattercarpet": [
           {
            "marker": {
             "colorbar": {
              "outlinewidth": 0,
              "ticks": ""
             }
            },
            "type": "scattercarpet"
           }
          ],
          "scattergeo": [
           {
            "marker": {
             "colorbar": {
              "outlinewidth": 0,
              "ticks": ""
             }
            },
            "type": "scattergeo"
           }
          ],
          "scattergl": [
           {
            "marker": {
             "colorbar": {
              "outlinewidth": 0,
              "ticks": ""
             }
            },
            "type": "scattergl"
           }
          ],
          "scattermapbox": [
           {
            "marker": {
             "colorbar": {
              "outlinewidth": 0,
              "ticks": ""
             }
            },
            "type": "scattermapbox"
           }
          ],
          "scatterpolar": [
           {
            "marker": {
             "colorbar": {
              "outlinewidth": 0,
              "ticks": ""
             }
            },
            "type": "scatterpolar"
           }
          ],
          "scatterpolargl": [
           {
            "marker": {
             "colorbar": {
              "outlinewidth": 0,
              "ticks": ""
             }
            },
            "type": "scatterpolargl"
           }
          ],
          "scatterternary": [
           {
            "marker": {
             "colorbar": {
              "outlinewidth": 0,
              "ticks": ""
             }
            },
            "type": "scatterternary"
           }
          ],
          "surface": [
           {
            "colorbar": {
             "outlinewidth": 0,
             "ticks": ""
            },
            "colorscale": [
             [
              0,
              "#0d0887"
             ],
             [
              0.1111111111111111,
              "#46039f"
             ],
             [
              0.2222222222222222,
              "#7201a8"
             ],
             [
              0.3333333333333333,
              "#9c179e"
             ],
             [
              0.4444444444444444,
              "#bd3786"
             ],
             [
              0.5555555555555556,
              "#d8576b"
             ],
             [
              0.6666666666666666,
              "#ed7953"
             ],
             [
              0.7777777777777778,
              "#fb9f3a"
             ],
             [
              0.8888888888888888,
              "#fdca26"
             ],
             [
              1,
              "#f0f921"
             ]
            ],
            "type": "surface"
           }
          ],
          "table": [
           {
            "cells": {
             "fill": {
              "color": "#EBF0F8"
             },
             "line": {
              "color": "white"
             }
            },
            "header": {
             "fill": {
              "color": "#C8D4E3"
             },
             "line": {
              "color": "white"
             }
            },
            "type": "table"
           }
          ]
         },
         "layout": {
          "annotationdefaults": {
           "arrowcolor": "#2a3f5f",
           "arrowhead": 0,
           "arrowwidth": 1
          },
          "autotypenumbers": "strict",
          "coloraxis": {
           "colorbar": {
            "outlinewidth": 0,
            "ticks": ""
           }
          },
          "colorscale": {
           "diverging": [
            [
             0,
             "#8e0152"
            ],
            [
             0.1,
             "#c51b7d"
            ],
            [
             0.2,
             "#de77ae"
            ],
            [
             0.3,
             "#f1b6da"
            ],
            [
             0.4,
             "#fde0ef"
            ],
            [
             0.5,
             "#f7f7f7"
            ],
            [
             0.6,
             "#e6f5d0"
            ],
            [
             0.7,
             "#b8e186"
            ],
            [
             0.8,
             "#7fbc41"
            ],
            [
             0.9,
             "#4d9221"
            ],
            [
             1,
             "#276419"
            ]
           ],
           "sequential": [
            [
             0,
             "#0d0887"
            ],
            [
             0.1111111111111111,
             "#46039f"
            ],
            [
             0.2222222222222222,
             "#7201a8"
            ],
            [
             0.3333333333333333,
             "#9c179e"
            ],
            [
             0.4444444444444444,
             "#bd3786"
            ],
            [
             0.5555555555555556,
             "#d8576b"
            ],
            [
             0.6666666666666666,
             "#ed7953"
            ],
            [
             0.7777777777777778,
             "#fb9f3a"
            ],
            [
             0.8888888888888888,
             "#fdca26"
            ],
            [
             1,
             "#f0f921"
            ]
           ],
           "sequentialminus": [
            [
             0,
             "#0d0887"
            ],
            [
             0.1111111111111111,
             "#46039f"
            ],
            [
             0.2222222222222222,
             "#7201a8"
            ],
            [
             0.3333333333333333,
             "#9c179e"
            ],
            [
             0.4444444444444444,
             "#bd3786"
            ],
            [
             0.5555555555555556,
             "#d8576b"
            ],
            [
             0.6666666666666666,
             "#ed7953"
            ],
            [
             0.7777777777777778,
             "#fb9f3a"
            ],
            [
             0.8888888888888888,
             "#fdca26"
            ],
            [
             1,
             "#f0f921"
            ]
           ]
          },
          "colorway": [
           "#636efa",
           "#EF553B",
           "#00cc96",
           "#ab63fa",
           "#FFA15A",
           "#19d3f3",
           "#FF6692",
           "#B6E880",
           "#FF97FF",
           "#FECB52"
          ],
          "font": {
           "color": "#2a3f5f"
          },
          "geo": {
           "bgcolor": "white",
           "lakecolor": "white",
           "landcolor": "#E5ECF6",
           "showlakes": true,
           "showland": true,
           "subunitcolor": "white"
          },
          "hoverlabel": {
           "align": "left"
          },
          "hovermode": "closest",
          "mapbox": {
           "style": "light"
          },
          "paper_bgcolor": "white",
          "plot_bgcolor": "#E5ECF6",
          "polar": {
           "angularaxis": {
            "gridcolor": "white",
            "linecolor": "white",
            "ticks": ""
           },
           "bgcolor": "#E5ECF6",
           "radialaxis": {
            "gridcolor": "white",
            "linecolor": "white",
            "ticks": ""
           }
          },
          "scene": {
           "xaxis": {
            "backgroundcolor": "#E5ECF6",
            "gridcolor": "white",
            "gridwidth": 2,
            "linecolor": "white",
            "showbackground": true,
            "ticks": "",
            "zerolinecolor": "white"
           },
           "yaxis": {
            "backgroundcolor": "#E5ECF6",
            "gridcolor": "white",
            "gridwidth": 2,
            "linecolor": "white",
            "showbackground": true,
            "ticks": "",
            "zerolinecolor": "white"
           },
           "zaxis": {
            "backgroundcolor": "#E5ECF6",
            "gridcolor": "white",
            "gridwidth": 2,
            "linecolor": "white",
            "showbackground": true,
            "ticks": "",
            "zerolinecolor": "white"
           }
          },
          "shapedefaults": {
           "line": {
            "color": "#2a3f5f"
           }
          },
          "ternary": {
           "aaxis": {
            "gridcolor": "white",
            "linecolor": "white",
            "ticks": ""
           },
           "baxis": {
            "gridcolor": "white",
            "linecolor": "white",
            "ticks": ""
           },
           "bgcolor": "#E5ECF6",
           "caxis": {
            "gridcolor": "white",
            "linecolor": "white",
            "ticks": ""
           }
          },
          "title": {
           "x": 0.05
          },
          "xaxis": {
           "automargin": true,
           "gridcolor": "white",
           "linecolor": "white",
           "ticks": "",
           "title": {
            "standoff": 15
           },
           "zerolinecolor": "white",
           "zerolinewidth": 2
          },
          "yaxis": {
           "automargin": true,
           "gridcolor": "white",
           "linecolor": "white",
           "ticks": "",
           "title": {
            "standoff": 15
           },
           "zerolinecolor": "white",
           "zerolinewidth": 2
          }
         }
        },
        "title": {
         "text": "All food production and importing in Canada"
        },
        "xaxis": {
         "anchor": "y",
         "domain": [
          0,
          1
         ],
         "title": {
          "text": "Year"
         }
        },
        "yaxis": {
         "anchor": "x",
         "domain": [
          0,
          1
         ],
         "title": {
          "text": "Tonnes x 1,000"
         }
        }
       }
      }
     },
     "metadata": {},
     "output_type": "display_data"
    }
   ],
   "source": [
    "# Production vs. imports\n",
    "fig = px.area(df_years_3, x=df_years_3.index, y=['Production', 'Imports'],\n",
    "              title='All food production and importing in Canada',\n",
    "              labels={'value': 'Tonnes x 1,000'})\n",
    "fig.show()"
   ]
  },
  {
   "attachments": {},
   "cell_type": "markdown",
   "metadata": {},
   "source": [
    "Part of my question, however, was \"as a function of our total supply\", a.k.a. a part-of-whole chart. While we can see the two areas' relative growth and visually compare them, perhaps we should see them as proportions."
   ]
  },
  {
   "cell_type": "code",
   "execution_count": 33,
   "metadata": {},
   "outputs": [
    {
     "data": {
      "application/vnd.plotly.v1+json": {
       "config": {
        "plotlyServerURL": "https://plot.ly"
       },
       "data": [
        {
         "fillpattern": {
          "shape": ""
         },
         "hovertemplate": "variable=Production<br>Year=%{x}<br>% of supply=%{y}<extra></extra>",
         "legendgroup": "Production",
         "line": {
          "color": "#636efa"
         },
         "marker": {
          "symbol": "circle"
         },
         "mode": "lines",
         "name": "Production",
         "orientation": "v",
         "showlegend": true,
         "stackgroup": "1",
         "type": "scatter",
         "x": [
          1960,
          1961,
          1962,
          1963,
          1964,
          1965,
          1966,
          1967,
          1968,
          1969,
          1970,
          1971,
          1972,
          1973,
          1974,
          1975,
          1976,
          1977,
          1978,
          1979,
          1980,
          1981,
          1982,
          1983,
          1984,
          1985,
          1986,
          1987,
          1988,
          1989,
          1990,
          1991,
          1992,
          1993,
          1994,
          1995,
          1996,
          1997,
          1998,
          1999,
          2000,
          2001,
          2002,
          2003,
          2004,
          2005,
          2006,
          2007,
          2008,
          2009,
          2010,
          2011,
          2012,
          2013,
          2014,
          2015,
          2016,
          2017,
          2018,
          2019,
          2020,
          2021,
          2022
         ],
         "xaxis": "x",
         "y": [
          70.09916588802575,
          71.90825597309018,
          73.02252761023752,
          73.36249546631413,
          74.5164490618654,
          74.7300527416215,
          74.18232257659348,
          73.25928972987796,
          73.22055026961755,
          71.5855871381072,
          72.60523383787603,
          75.04459313106028,
          73.96220496801,
          72.58569173237916,
          71.86633331692701,
          71.48232547153373,
          68.83965586906346,
          70.21077822390282,
          69.11535819443796,
          69.3625378562397,
          69.76433283736152,
          68.57324243467869,
          69.89480714643513,
          68.85816753721609,
          70.56837263500942,
          70.28967250718469,
          68.93521596850105,
          68.17096774641762,
          76.31641189787328,
          74.82961955095466,
          74.41005544628825,
          73.69121809359643,
          72.72733671732645,
          71.30336867613643,
          72.66099117287568,
          71.74916726677519,
          71.67245167548913,
          69.76122286430885,
          71.36330017654086,
          71.66722698266177,
          71.05824294870729,
          65.06992689825607,
          61.429031656408426,
          63.17644573054375,
          64.69670597621669,
          62.64438347179618,
          62.74176682577505,
          61.35168678590973,
          60.424078090659144,
          59.663774976665486,
          58.58643342025281,
          56.810437365948246,
          57.252723837205785,
          56.65524812026494,
          56.94311351696526,
          56.753755267907884,
          57.28280688153017,
          57.36559892336818,
          56.71511377149582,
          57.01196410312592,
          56.73809357287081,
          57.27216655405456,
          58.22833362312774
         ],
         "yaxis": "y"
        },
        {
         "fillpattern": {
          "shape": ""
         },
         "hovertemplate": "variable=Imports<br>Year=%{x}<br>% of supply=%{y}<extra></extra>",
         "legendgroup": "Imports",
         "line": {
          "color": "#EF553B"
         },
         "marker": {
          "symbol": "circle"
         },
         "mode": "lines",
         "name": "Imports",
         "orientation": "v",
         "showlegend": true,
         "stackgroup": "1",
         "type": "scatter",
         "x": [
          1960,
          1961,
          1962,
          1963,
          1964,
          1965,
          1966,
          1967,
          1968,
          1969,
          1970,
          1971,
          1972,
          1973,
          1974,
          1975,
          1976,
          1977,
          1978,
          1979,
          1980,
          1981,
          1982,
          1983,
          1984,
          1985,
          1986,
          1987,
          1988,
          1989,
          1990,
          1991,
          1992,
          1993,
          1994,
          1995,
          1996,
          1997,
          1998,
          1999,
          2000,
          2001,
          2002,
          2003,
          2004,
          2005,
          2006,
          2007,
          2008,
          2009,
          2010,
          2011,
          2012,
          2013,
          2014,
          2015,
          2016,
          2017,
          2018,
          2019,
          2020,
          2021,
          2022
         ],
         "xaxis": "x",
         "y": [
          29.900834111974245,
          28.091744026909822,
          26.977472389762486,
          26.637504533685878,
          25.483550938134595,
          25.269947258378487,
          25.817677423406522,
          26.740710270122037,
          26.77944973038246,
          28.41441286189279,
          27.39476616212397,
          24.95540686893971,
          26.037795031989997,
          27.414308267620854,
          28.133666683072992,
          28.517674528466273,
          31.160344130936544,
          29.78922177609718,
          30.884641805562048,
          30.63746214376029,
          30.235667162638478,
          31.426757565321303,
          30.10519285356487,
          31.14183246278391,
          29.43162736499057,
          29.710327492815313,
          31.064784031498935,
          31.82903225358238,
          23.683588102126723,
          25.170380449045346,
          25.58994455371174,
          26.308781906403567,
          27.272663282673545,
          28.696631323863574,
          27.339008827124324,
          28.2508327332248,
          28.32754832451087,
          30.23877713569117,
          28.636699823459143,
          28.332773017338216,
          28.94175705129269,
          34.93007310174393,
          38.570968343591574,
          36.82355426945625,
          35.30329402378332,
          37.35561652820381,
          37.25823317422494,
          38.64831321409029,
          39.575921909340856,
          40.33622502333451,
          41.413566579747176,
          43.189562634051754,
          42.74727616279421,
          43.34475187973505,
          43.05688648303474,
          43.246244732092116,
          42.71719311846983,
          42.63440107663182,
          43.28488622850418,
          42.98803589687409,
          43.261906427129205,
          42.72783344594545,
          41.771666376872275
         ],
         "yaxis": "y"
        }
       ],
       "layout": {
        "legend": {
         "title": {
          "text": "variable"
         },
         "tracegroupgap": 0
        },
        "template": {
         "data": {
          "bar": [
           {
            "error_x": {
             "color": "#2a3f5f"
            },
            "error_y": {
             "color": "#2a3f5f"
            },
            "marker": {
             "line": {
              "color": "#E5ECF6",
              "width": 0.5
             },
             "pattern": {
              "fillmode": "overlay",
              "size": 10,
              "solidity": 0.2
             }
            },
            "type": "bar"
           }
          ],
          "barpolar": [
           {
            "marker": {
             "line": {
              "color": "#E5ECF6",
              "width": 0.5
             },
             "pattern": {
              "fillmode": "overlay",
              "size": 10,
              "solidity": 0.2
             }
            },
            "type": "barpolar"
           }
          ],
          "carpet": [
           {
            "aaxis": {
             "endlinecolor": "#2a3f5f",
             "gridcolor": "white",
             "linecolor": "white",
             "minorgridcolor": "white",
             "startlinecolor": "#2a3f5f"
            },
            "baxis": {
             "endlinecolor": "#2a3f5f",
             "gridcolor": "white",
             "linecolor": "white",
             "minorgridcolor": "white",
             "startlinecolor": "#2a3f5f"
            },
            "type": "carpet"
           }
          ],
          "choropleth": [
           {
            "colorbar": {
             "outlinewidth": 0,
             "ticks": ""
            },
            "type": "choropleth"
           }
          ],
          "contour": [
           {
            "colorbar": {
             "outlinewidth": 0,
             "ticks": ""
            },
            "colorscale": [
             [
              0,
              "#0d0887"
             ],
             [
              0.1111111111111111,
              "#46039f"
             ],
             [
              0.2222222222222222,
              "#7201a8"
             ],
             [
              0.3333333333333333,
              "#9c179e"
             ],
             [
              0.4444444444444444,
              "#bd3786"
             ],
             [
              0.5555555555555556,
              "#d8576b"
             ],
             [
              0.6666666666666666,
              "#ed7953"
             ],
             [
              0.7777777777777778,
              "#fb9f3a"
             ],
             [
              0.8888888888888888,
              "#fdca26"
             ],
             [
              1,
              "#f0f921"
             ]
            ],
            "type": "contour"
           }
          ],
          "contourcarpet": [
           {
            "colorbar": {
             "outlinewidth": 0,
             "ticks": ""
            },
            "type": "contourcarpet"
           }
          ],
          "heatmap": [
           {
            "colorbar": {
             "outlinewidth": 0,
             "ticks": ""
            },
            "colorscale": [
             [
              0,
              "#0d0887"
             ],
             [
              0.1111111111111111,
              "#46039f"
             ],
             [
              0.2222222222222222,
              "#7201a8"
             ],
             [
              0.3333333333333333,
              "#9c179e"
             ],
             [
              0.4444444444444444,
              "#bd3786"
             ],
             [
              0.5555555555555556,
              "#d8576b"
             ],
             [
              0.6666666666666666,
              "#ed7953"
             ],
             [
              0.7777777777777778,
              "#fb9f3a"
             ],
             [
              0.8888888888888888,
              "#fdca26"
             ],
             [
              1,
              "#f0f921"
             ]
            ],
            "type": "heatmap"
           }
          ],
          "heatmapgl": [
           {
            "colorbar": {
             "outlinewidth": 0,
             "ticks": ""
            },
            "colorscale": [
             [
              0,
              "#0d0887"
             ],
             [
              0.1111111111111111,
              "#46039f"
             ],
             [
              0.2222222222222222,
              "#7201a8"
             ],
             [
              0.3333333333333333,
              "#9c179e"
             ],
             [
              0.4444444444444444,
              "#bd3786"
             ],
             [
              0.5555555555555556,
              "#d8576b"
             ],
             [
              0.6666666666666666,
              "#ed7953"
             ],
             [
              0.7777777777777778,
              "#fb9f3a"
             ],
             [
              0.8888888888888888,
              "#fdca26"
             ],
             [
              1,
              "#f0f921"
             ]
            ],
            "type": "heatmapgl"
           }
          ],
          "histogram": [
           {
            "marker": {
             "pattern": {
              "fillmode": "overlay",
              "size": 10,
              "solidity": 0.2
             }
            },
            "type": "histogram"
           }
          ],
          "histogram2d": [
           {
            "colorbar": {
             "outlinewidth": 0,
             "ticks": ""
            },
            "colorscale": [
             [
              0,
              "#0d0887"
             ],
             [
              0.1111111111111111,
              "#46039f"
             ],
             [
              0.2222222222222222,
              "#7201a8"
             ],
             [
              0.3333333333333333,
              "#9c179e"
             ],
             [
              0.4444444444444444,
              "#bd3786"
             ],
             [
              0.5555555555555556,
              "#d8576b"
             ],
             [
              0.6666666666666666,
              "#ed7953"
             ],
             [
              0.7777777777777778,
              "#fb9f3a"
             ],
             [
              0.8888888888888888,
              "#fdca26"
             ],
             [
              1,
              "#f0f921"
             ]
            ],
            "type": "histogram2d"
           }
          ],
          "histogram2dcontour": [
           {
            "colorbar": {
             "outlinewidth": 0,
             "ticks": ""
            },
            "colorscale": [
             [
              0,
              "#0d0887"
             ],
             [
              0.1111111111111111,
              "#46039f"
             ],
             [
              0.2222222222222222,
              "#7201a8"
             ],
             [
              0.3333333333333333,
              "#9c179e"
             ],
             [
              0.4444444444444444,
              "#bd3786"
             ],
             [
              0.5555555555555556,
              "#d8576b"
             ],
             [
              0.6666666666666666,
              "#ed7953"
             ],
             [
              0.7777777777777778,
              "#fb9f3a"
             ],
             [
              0.8888888888888888,
              "#fdca26"
             ],
             [
              1,
              "#f0f921"
             ]
            ],
            "type": "histogram2dcontour"
           }
          ],
          "mesh3d": [
           {
            "colorbar": {
             "outlinewidth": 0,
             "ticks": ""
            },
            "type": "mesh3d"
           }
          ],
          "parcoords": [
           {
            "line": {
             "colorbar": {
              "outlinewidth": 0,
              "ticks": ""
             }
            },
            "type": "parcoords"
           }
          ],
          "pie": [
           {
            "automargin": true,
            "type": "pie"
           }
          ],
          "scatter": [
           {
            "fillpattern": {
             "fillmode": "overlay",
             "size": 10,
             "solidity": 0.2
            },
            "type": "scatter"
           }
          ],
          "scatter3d": [
           {
            "line": {
             "colorbar": {
              "outlinewidth": 0,
              "ticks": ""
             }
            },
            "marker": {
             "colorbar": {
              "outlinewidth": 0,
              "ticks": ""
             }
            },
            "type": "scatter3d"
           }
          ],
          "scattercarpet": [
           {
            "marker": {
             "colorbar": {
              "outlinewidth": 0,
              "ticks": ""
             }
            },
            "type": "scattercarpet"
           }
          ],
          "scattergeo": [
           {
            "marker": {
             "colorbar": {
              "outlinewidth": 0,
              "ticks": ""
             }
            },
            "type": "scattergeo"
           }
          ],
          "scattergl": [
           {
            "marker": {
             "colorbar": {
              "outlinewidth": 0,
              "ticks": ""
             }
            },
            "type": "scattergl"
           }
          ],
          "scattermapbox": [
           {
            "marker": {
             "colorbar": {
              "outlinewidth": 0,
              "ticks": ""
             }
            },
            "type": "scattermapbox"
           }
          ],
          "scatterpolar": [
           {
            "marker": {
             "colorbar": {
              "outlinewidth": 0,
              "ticks": ""
             }
            },
            "type": "scatterpolar"
           }
          ],
          "scatterpolargl": [
           {
            "marker": {
             "colorbar": {
              "outlinewidth": 0,
              "ticks": ""
             }
            },
            "type": "scatterpolargl"
           }
          ],
          "scatterternary": [
           {
            "marker": {
             "colorbar": {
              "outlinewidth": 0,
              "ticks": ""
             }
            },
            "type": "scatterternary"
           }
          ],
          "surface": [
           {
            "colorbar": {
             "outlinewidth": 0,
             "ticks": ""
            },
            "colorscale": [
             [
              0,
              "#0d0887"
             ],
             [
              0.1111111111111111,
              "#46039f"
             ],
             [
              0.2222222222222222,
              "#7201a8"
             ],
             [
              0.3333333333333333,
              "#9c179e"
             ],
             [
              0.4444444444444444,
              "#bd3786"
             ],
             [
              0.5555555555555556,
              "#d8576b"
             ],
             [
              0.6666666666666666,
              "#ed7953"
             ],
             [
              0.7777777777777778,
              "#fb9f3a"
             ],
             [
              0.8888888888888888,
              "#fdca26"
             ],
             [
              1,
              "#f0f921"
             ]
            ],
            "type": "surface"
           }
          ],
          "table": [
           {
            "cells": {
             "fill": {
              "color": "#EBF0F8"
             },
             "line": {
              "color": "white"
             }
            },
            "header": {
             "fill": {
              "color": "#C8D4E3"
             },
             "line": {
              "color": "white"
             }
            },
            "type": "table"
           }
          ]
         },
         "layout": {
          "annotationdefaults": {
           "arrowcolor": "#2a3f5f",
           "arrowhead": 0,
           "arrowwidth": 1
          },
          "autotypenumbers": "strict",
          "coloraxis": {
           "colorbar": {
            "outlinewidth": 0,
            "ticks": ""
           }
          },
          "colorscale": {
           "diverging": [
            [
             0,
             "#8e0152"
            ],
            [
             0.1,
             "#c51b7d"
            ],
            [
             0.2,
             "#de77ae"
            ],
            [
             0.3,
             "#f1b6da"
            ],
            [
             0.4,
             "#fde0ef"
            ],
            [
             0.5,
             "#f7f7f7"
            ],
            [
             0.6,
             "#e6f5d0"
            ],
            [
             0.7,
             "#b8e186"
            ],
            [
             0.8,
             "#7fbc41"
            ],
            [
             0.9,
             "#4d9221"
            ],
            [
             1,
             "#276419"
            ]
           ],
           "sequential": [
            [
             0,
             "#0d0887"
            ],
            [
             0.1111111111111111,
             "#46039f"
            ],
            [
             0.2222222222222222,
             "#7201a8"
            ],
            [
             0.3333333333333333,
             "#9c179e"
            ],
            [
             0.4444444444444444,
             "#bd3786"
            ],
            [
             0.5555555555555556,
             "#d8576b"
            ],
            [
             0.6666666666666666,
             "#ed7953"
            ],
            [
             0.7777777777777778,
             "#fb9f3a"
            ],
            [
             0.8888888888888888,
             "#fdca26"
            ],
            [
             1,
             "#f0f921"
            ]
           ],
           "sequentialminus": [
            [
             0,
             "#0d0887"
            ],
            [
             0.1111111111111111,
             "#46039f"
            ],
            [
             0.2222222222222222,
             "#7201a8"
            ],
            [
             0.3333333333333333,
             "#9c179e"
            ],
            [
             0.4444444444444444,
             "#bd3786"
            ],
            [
             0.5555555555555556,
             "#d8576b"
            ],
            [
             0.6666666666666666,
             "#ed7953"
            ],
            [
             0.7777777777777778,
             "#fb9f3a"
            ],
            [
             0.8888888888888888,
             "#fdca26"
            ],
            [
             1,
             "#f0f921"
            ]
           ]
          },
          "colorway": [
           "#636efa",
           "#EF553B",
           "#00cc96",
           "#ab63fa",
           "#FFA15A",
           "#19d3f3",
           "#FF6692",
           "#B6E880",
           "#FF97FF",
           "#FECB52"
          ],
          "font": {
           "color": "#2a3f5f"
          },
          "geo": {
           "bgcolor": "white",
           "lakecolor": "white",
           "landcolor": "#E5ECF6",
           "showlakes": true,
           "showland": true,
           "subunitcolor": "white"
          },
          "hoverlabel": {
           "align": "left"
          },
          "hovermode": "closest",
          "mapbox": {
           "style": "light"
          },
          "paper_bgcolor": "white",
          "plot_bgcolor": "#E5ECF6",
          "polar": {
           "angularaxis": {
            "gridcolor": "white",
            "linecolor": "white",
            "ticks": ""
           },
           "bgcolor": "#E5ECF6",
           "radialaxis": {
            "gridcolor": "white",
            "linecolor": "white",
            "ticks": ""
           }
          },
          "scene": {
           "xaxis": {
            "backgroundcolor": "#E5ECF6",
            "gridcolor": "white",
            "gridwidth": 2,
            "linecolor": "white",
            "showbackground": true,
            "ticks": "",
            "zerolinecolor": "white"
           },
           "yaxis": {
            "backgroundcolor": "#E5ECF6",
            "gridcolor": "white",
            "gridwidth": 2,
            "linecolor": "white",
            "showbackground": true,
            "ticks": "",
            "zerolinecolor": "white"
           },
           "zaxis": {
            "backgroundcolor": "#E5ECF6",
            "gridcolor": "white",
            "gridwidth": 2,
            "linecolor": "white",
            "showbackground": true,
            "ticks": "",
            "zerolinecolor": "white"
           }
          },
          "shapedefaults": {
           "line": {
            "color": "#2a3f5f"
           }
          },
          "ternary": {
           "aaxis": {
            "gridcolor": "white",
            "linecolor": "white",
            "ticks": ""
           },
           "baxis": {
            "gridcolor": "white",
            "linecolor": "white",
            "ticks": ""
           },
           "bgcolor": "#E5ECF6",
           "caxis": {
            "gridcolor": "white",
            "linecolor": "white",
            "ticks": ""
           }
          },
          "title": {
           "x": 0.05
          },
          "xaxis": {
           "automargin": true,
           "gridcolor": "white",
           "linecolor": "white",
           "ticks": "",
           "title": {
            "standoff": 15
           },
           "zerolinecolor": "white",
           "zerolinewidth": 2
          },
          "yaxis": {
           "automargin": true,
           "gridcolor": "white",
           "linecolor": "white",
           "ticks": "",
           "title": {
            "standoff": 15
           },
           "zerolinecolor": "white",
           "zerolinewidth": 2
          }
         }
        },
        "title": {
         "text": "All food production and importing in Canada (as proportion)"
        },
        "xaxis": {
         "anchor": "y",
         "domain": [
          0,
          1
         ],
         "title": {
          "text": "Year"
         }
        },
        "yaxis": {
         "anchor": "x",
         "domain": [
          0,
          1
         ],
         "title": {
          "text": "% of supply"
         }
        }
       }
      }
     },
     "metadata": {},
     "output_type": "display_data"
    }
   ],
   "source": [
    "# Production vs. imports, proportionally\n",
    "prop = df_years_3.drop(['Total supply', 'Beginning stocks', 'Total disposition', 'Domestic disappearance', 'Exports', 'Waste', 'Ending stocks'], axis=1)\n",
    "prop['Denominator'] = prop['Production'] + prop['Imports']\n",
    "prop['Production'] /= prop['Denominator'] / 100\n",
    "prop['Imports'] /= prop['Denominator'] / 100\n",
    "prop = prop.drop('Denominator', axis=1)\n",
    "\n",
    "fig = px.area(prop, x=prop.index, y=prop.columns,\n",
    "              title='All food production and importing in Canada (as proportion)',\n",
    "              labels={'value': '% of supply'})\n",
    "fig.show()"
   ]
  },
  {
   "attachments": {},
   "cell_type": "markdown",
   "metadata": {},
   "source": [
    "Here we can see that the share of the supply furnished by imports has steadily grown.\n",
    "\n",
    "Let's bring in a powerful feature of `plotly`: animated charts. Animation means that we can add a slider to quickly compare different subsets, essentially adding a third dimension. Let's do this chart again, but we'll do it as stacked bar chart by category, animated by year."
   ]
  },
  {
   "cell_type": "code",
   "execution_count": 34,
   "metadata": {},
   "outputs": [
    {
     "data": {
      "application/vnd.plotly.v1+json": {
       "config": {
        "plotlyServerURL": "https://plot.ly"
       },
       "data": [
        {
         "alignmentgroup": "True",
         "hovertemplate": "variable=Production<br>animation_frame=1960<br>Category=%{x}<br>% of supply=%{y}<extra></extra>",
         "legendgroup": "Production",
         "marker": {
          "color": "#636efa",
          "pattern": {
           "shape": ""
          }
         },
         "name": "Production",
         "offsetgroup": "Production",
         "orientation": "v",
         "showlegend": true,
         "textposition": "auto",
         "type": "bar",
         "x": [
          "Beverages",
          "Dairy",
          "Fish",
          "Fruits",
          "Meats",
          "Miscellaneous",
          "Oils",
          "Staples",
          "Vegetables"
         ],
         "xaxis": "x",
         "y": [
          0,
          99.6825160470323,
          null,
          26.500369118389866,
          71.72713223931122,
          54.33987980918158,
          100,
          69.9960338445267,
          69.75111019312196
         ],
         "yaxis": "y"
        },
        {
         "alignmentgroup": "True",
         "hovertemplate": "variable=Imports<br>animation_frame=1960<br>Category=%{x}<br>% of supply=%{y}<extra></extra>",
         "legendgroup": "Imports",
         "marker": {
          "color": "#EF553B",
          "pattern": {
           "shape": ""
          }
         },
         "name": "Imports",
         "offsetgroup": "Imports",
         "orientation": "v",
         "showlegend": true,
         "textposition": "auto",
         "type": "bar",
         "x": [
          "Beverages",
          "Dairy",
          "Fish",
          "Fruits",
          "Meats",
          "Miscellaneous",
          "Oils",
          "Staples",
          "Vegetables"
         ],
         "xaxis": "x",
         "y": [
          100,
          0.3174839529677038,
          null,
          73.49963088161014,
          28.272867760688797,
          45.660120190818404,
          0,
          30.003966155473297,
          30.248889806878033
         ],
         "yaxis": "y"
        }
       ],
       "frames": [
        {
         "data": [
          {
           "alignmentgroup": "True",
           "hovertemplate": "variable=Production<br>animation_frame=1960<br>Category=%{x}<br>% of supply=%{y}<extra></extra>",
           "legendgroup": "Production",
           "marker": {
            "color": "#636efa",
            "pattern": {
             "shape": ""
            }
           },
           "name": "Production",
           "offsetgroup": "Production",
           "orientation": "v",
           "showlegend": true,
           "textposition": "auto",
           "type": "bar",
           "x": [
            "Beverages",
            "Dairy",
            "Fish",
            "Fruits",
            "Meats",
            "Miscellaneous",
            "Oils",
            "Staples",
            "Vegetables"
           ],
           "xaxis": "x",
           "y": [
            0,
            99.6825160470323,
            null,
            26.500369118389866,
            71.72713223931122,
            54.33987980918158,
            100,
            69.9960338445267,
            69.75111019312196
           ],
           "yaxis": "y"
          },
          {
           "alignmentgroup": "True",
           "hovertemplate": "variable=Imports<br>animation_frame=1960<br>Category=%{x}<br>% of supply=%{y}<extra></extra>",
           "legendgroup": "Imports",
           "marker": {
            "color": "#EF553B",
            "pattern": {
             "shape": ""
            }
           },
           "name": "Imports",
           "offsetgroup": "Imports",
           "orientation": "v",
           "showlegend": true,
           "textposition": "auto",
           "type": "bar",
           "x": [
            "Beverages",
            "Dairy",
            "Fish",
            "Fruits",
            "Meats",
            "Miscellaneous",
            "Oils",
            "Staples",
            "Vegetables"
           ],
           "xaxis": "x",
           "y": [
            100,
            0.3174839529677038,
            null,
            73.49963088161014,
            28.272867760688797,
            45.660120190818404,
            0,
            30.003966155473297,
            30.248889806878033
           ],
           "yaxis": "y"
          }
         ],
         "name": "1960"
        },
        {
         "data": [
          {
           "alignmentgroup": "True",
           "hovertemplate": "variable=Production<br>animation_frame=1961<br>Category=%{x}<br>% of supply=%{y}<extra></extra>",
           "legendgroup": "Production",
           "marker": {
            "color": "#636efa",
            "pattern": {
             "shape": ""
            }
           },
           "name": "Production",
           "offsetgroup": "Production",
           "orientation": "v",
           "showlegend": true,
           "textposition": "auto",
           "type": "bar",
           "x": [
            "Beverages",
            "Dairy",
            "Fish",
            "Fruits",
            "Meats",
            "Miscellaneous",
            "Oils",
            "Staples",
            "Vegetables"
           ],
           "xaxis": "x",
           "y": [
            0,
            99.67526302721072,
            null,
            29.63622689308475,
            68.62163395709722,
            54.900436524547025,
            100,
            73.48264896999862,
            70.04143585685395
           ],
           "yaxis": "y"
          },
          {
           "alignmentgroup": "True",
           "hovertemplate": "variable=Imports<br>animation_frame=1961<br>Category=%{x}<br>% of supply=%{y}<extra></extra>",
           "legendgroup": "Imports",
           "marker": {
            "color": "#EF553B",
            "pattern": {
             "shape": ""
            }
           },
           "name": "Imports",
           "offsetgroup": "Imports",
           "orientation": "v",
           "showlegend": true,
           "textposition": "auto",
           "type": "bar",
           "x": [
            "Beverages",
            "Dairy",
            "Fish",
            "Fruits",
            "Meats",
            "Miscellaneous",
            "Oils",
            "Staples",
            "Vegetables"
           ],
           "xaxis": "x",
           "y": [
            100,
            0.3247369727892813,
            null,
            70.36377310691525,
            31.378366042902787,
            45.09956347545297,
            0,
            26.517351030001386,
            29.95856414314605
           ],
           "yaxis": "y"
          }
         ],
         "name": "1961"
        },
        {
         "data": [
          {
           "alignmentgroup": "True",
           "hovertemplate": "variable=Production<br>animation_frame=1962<br>Category=%{x}<br>% of supply=%{y}<extra></extra>",
           "legendgroup": "Production",
           "marker": {
            "color": "#636efa",
            "pattern": {
             "shape": ""
            }
           },
           "name": "Production",
           "offsetgroup": "Production",
           "orientation": "v",
           "showlegend": true,
           "textposition": "auto",
           "type": "bar",
           "x": [
            "Beverages",
            "Dairy",
            "Fish",
            "Fruits",
            "Meats",
            "Miscellaneous",
            "Oils",
            "Staples",
            "Vegetables"
           ],
           "xaxis": "x",
           "y": [
            0,
            99.68243932579425,
            null,
            27.972155013666505,
            68.79328791035532,
            52.70575952670959,
            100,
            72.49341284149217,
            73.37433955478456
           ],
           "yaxis": "y"
          },
          {
           "alignmentgroup": "True",
           "hovertemplate": "variable=Imports<br>animation_frame=1962<br>Category=%{x}<br>% of supply=%{y}<extra></extra>",
           "legendgroup": "Imports",
           "marker": {
            "color": "#EF553B",
            "pattern": {
             "shape": ""
            }
           },
           "name": "Imports",
           "offsetgroup": "Imports",
           "orientation": "v",
           "showlegend": true,
           "textposition": "auto",
           "type": "bar",
           "x": [
            "Beverages",
            "Dairy",
            "Fish",
            "Fruits",
            "Meats",
            "Miscellaneous",
            "Oils",
            "Staples",
            "Vegetables"
           ],
           "xaxis": "x",
           "y": [
            100,
            0.3175606742057391,
            null,
            72.02784498633349,
            31.206712089644686,
            47.29424047329041,
            0,
            27.506587158507838,
            26.625660445215438
           ],
           "yaxis": "y"
          }
         ],
         "name": "1962"
        },
        {
         "data": [
          {
           "alignmentgroup": "True",
           "hovertemplate": "variable=Production<br>animation_frame=1963<br>Category=%{x}<br>% of supply=%{y}<extra></extra>",
           "legendgroup": "Production",
           "marker": {
            "color": "#636efa",
            "pattern": {
             "shape": ""
            }
           },
           "name": "Production",
           "offsetgroup": "Production",
           "orientation": "v",
           "showlegend": true,
           "textposition": "auto",
           "type": "bar",
           "x": [
            "Beverages",
            "Dairy",
            "Fish",
            "Fruits",
            "Meats",
            "Miscellaneous",
            "Oils",
            "Staples",
            "Vegetables"
           ],
           "xaxis": "x",
           "y": [
            0,
            99.67606495384274,
            null,
            31.770837642192344,
            78.89981460186337,
            55.18039107683834,
            99.43677680189602,
            69.36505009527322,
            69.63416495649668
           ],
           "yaxis": "y"
          },
          {
           "alignmentgroup": "True",
           "hovertemplate": "variable=Imports<br>animation_frame=1963<br>Category=%{x}<br>% of supply=%{y}<extra></extra>",
           "legendgroup": "Imports",
           "marker": {
            "color": "#EF553B",
            "pattern": {
             "shape": ""
            }
           },
           "name": "Imports",
           "offsetgroup": "Imports",
           "orientation": "v",
           "showlegend": true,
           "textposition": "auto",
           "type": "bar",
           "x": [
            "Beverages",
            "Dairy",
            "Fish",
            "Fruits",
            "Meats",
            "Miscellaneous",
            "Oils",
            "Staples",
            "Vegetables"
           ],
           "xaxis": "x",
           "y": [
            100.00000000000001,
            0.3239350461572684,
            null,
            68.22916235780765,
            21.10018539813663,
            44.81960892316166,
            0.5632231981040012,
            30.634949904726778,
            30.365835043503335
           ],
           "yaxis": "y"
          }
         ],
         "name": "1963"
        },
        {
         "data": [
          {
           "alignmentgroup": "True",
           "hovertemplate": "variable=Production<br>animation_frame=1964<br>Category=%{x}<br>% of supply=%{y}<extra></extra>",
           "legendgroup": "Production",
           "marker": {
            "color": "#636efa",
            "pattern": {
             "shape": ""
            }
           },
           "name": "Production",
           "offsetgroup": "Production",
           "orientation": "v",
           "showlegend": true,
           "textposition": "auto",
           "type": "bar",
           "x": [
            "Beverages",
            "Dairy",
            "Fish",
            "Fruits",
            "Meats",
            "Miscellaneous",
            "Oils",
            "Staples",
            "Vegetables"
           ],
           "xaxis": "x",
           "y": [
            0,
            99.68978110346738,
            null,
            33.028172300608254,
            85.10443342809484,
            50.444911826565274,
            98.84181568088034,
            66.64593955975626,
            72.91958951400602
           ],
           "yaxis": "y"
          },
          {
           "alignmentgroup": "True",
           "hovertemplate": "variable=Imports<br>animation_frame=1964<br>Category=%{x}<br>% of supply=%{y}<extra></extra>",
           "legendgroup": "Imports",
           "marker": {
            "color": "#EF553B",
            "pattern": {
             "shape": ""
            }
           },
           "name": "Imports",
           "offsetgroup": "Imports",
           "orientation": "v",
           "showlegend": true,
           "textposition": "auto",
           "type": "bar",
           "x": [
            "Beverages",
            "Dairy",
            "Fish",
            "Fruits",
            "Meats",
            "Miscellaneous",
            "Oils",
            "Staples",
            "Vegetables"
           ],
           "xaxis": "x",
           "y": [
            100,
            0.310218896532611,
            null,
            66.97182769939175,
            14.895566571905178,
            49.55508817343472,
            1.1581843191196701,
            33.35406044024376,
            27.080410485993976
           ],
           "yaxis": "y"
          }
         ],
         "name": "1964"
        },
        {
         "data": [
          {
           "alignmentgroup": "True",
           "hovertemplate": "variable=Production<br>animation_frame=1965<br>Category=%{x}<br>% of supply=%{y}<extra></extra>",
           "legendgroup": "Production",
           "marker": {
            "color": "#636efa",
            "pattern": {
             "shape": ""
            }
           },
           "name": "Production",
           "offsetgroup": "Production",
           "orientation": "v",
           "showlegend": true,
           "textposition": "auto",
           "type": "bar",
           "x": [
            "Beverages",
            "Dairy",
            "Fish",
            "Fruits",
            "Meats",
            "Miscellaneous",
            "Oils",
            "Staples",
            "Vegetables"
           ],
           "xaxis": "x",
           "y": [
            0,
            99.6829192017956,
            null,
            30.623130534722318,
            88.5639295088114,
            50.397724533577595,
            98.36647327212302,
            60.55064827728705,
            73.70588264061071
           ],
           "yaxis": "y"
          },
          {
           "alignmentgroup": "True",
           "hovertemplate": "variable=Imports<br>animation_frame=1965<br>Category=%{x}<br>% of supply=%{y}<extra></extra>",
           "legendgroup": "Imports",
           "marker": {
            "color": "#EF553B",
            "pattern": {
             "shape": ""
            }
           },
           "name": "Imports",
           "offsetgroup": "Imports",
           "orientation": "v",
           "showlegend": true,
           "textposition": "auto",
           "type": "bar",
           "x": [
            "Beverages",
            "Dairy",
            "Fish",
            "Fruits",
            "Meats",
            "Miscellaneous",
            "Oils",
            "Staples",
            "Vegetables"
           ],
           "xaxis": "x",
           "y": [
            99.99999999999999,
            0.31708079820439633,
            null,
            69.37686946527768,
            11.436070491188604,
            49.60227546642241,
            1.6335267278769787,
            39.449351722712954,
            26.29411735938929
           ],
           "yaxis": "y"
          }
         ],
         "name": "1965"
        },
        {
         "data": [
          {
           "alignmentgroup": "True",
           "hovertemplate": "variable=Production<br>animation_frame=1966<br>Category=%{x}<br>% of supply=%{y}<extra></extra>",
           "legendgroup": "Production",
           "marker": {
            "color": "#636efa",
            "pattern": {
             "shape": ""
            }
           },
           "name": "Production",
           "offsetgroup": "Production",
           "orientation": "v",
           "showlegend": true,
           "textposition": "auto",
           "type": "bar",
           "x": [
            "Beverages",
            "Dairy",
            "Fish",
            "Fruits",
            "Meats",
            "Miscellaneous",
            "Oils",
            "Staples",
            "Vegetables"
           ],
           "xaxis": "x",
           "y": [
            0,
            99.68147837172668,
            null,
            32.46240957191308,
            85.09977736473375,
            53.99693114883928,
            98.53872124920869,
            62.33819481051954,
            69.10886768876813
           ],
           "yaxis": "y"
          },
          {
           "alignmentgroup": "True",
           "hovertemplate": "variable=Imports<br>animation_frame=1966<br>Category=%{x}<br>% of supply=%{y}<extra></extra>",
           "legendgroup": "Imports",
           "marker": {
            "color": "#EF553B",
            "pattern": {
             "shape": ""
            }
           },
           "name": "Imports",
           "offsetgroup": "Imports",
           "orientation": "v",
           "showlegend": true,
           "textposition": "auto",
           "type": "bar",
           "x": [
            "Beverages",
            "Dairy",
            "Fish",
            "Fruits",
            "Meats",
            "Miscellaneous",
            "Oils",
            "Staples",
            "Vegetables"
           ],
           "xaxis": "x",
           "y": [
            100,
            0.31852162827332,
            null,
            67.53759042808693,
            14.900222635266243,
            46.00306885116071,
            1.4612787507913063,
            37.66180518948047,
            30.89113231123188
           ],
           "yaxis": "y"
          }
         ],
         "name": "1966"
        },
        {
         "data": [
          {
           "alignmentgroup": "True",
           "hovertemplate": "variable=Production<br>animation_frame=1967<br>Category=%{x}<br>% of supply=%{y}<extra></extra>",
           "legendgroup": "Production",
           "marker": {
            "color": "#636efa",
            "pattern": {
             "shape": ""
            }
           },
           "name": "Production",
           "offsetgroup": "Production",
           "orientation": "v",
           "showlegend": true,
           "textposition": "auto",
           "type": "bar",
           "x": [
            "Beverages",
            "Dairy",
            "Fish",
            "Fruits",
            "Meats",
            "Miscellaneous",
            "Oils",
            "Staples",
            "Vegetables"
           ],
           "xaxis": "x",
           "y": [
            0,
            99.59426837975573,
            null,
            29.750101584721662,
            83.85470401588444,
            51.77028294899017,
            99.06391762475099,
            59.595168866025496,
            70.01552324700894
           ],
           "yaxis": "y"
          },
          {
           "alignmentgroup": "True",
           "hovertemplate": "variable=Imports<br>animation_frame=1967<br>Category=%{x}<br>% of supply=%{y}<extra></extra>",
           "legendgroup": "Imports",
           "marker": {
            "color": "#EF553B",
            "pattern": {
             "shape": ""
            }
           },
           "name": "Imports",
           "offsetgroup": "Imports",
           "orientation": "v",
           "showlegend": true,
           "textposition": "auto",
           "type": "bar",
           "x": [
            "Beverages",
            "Dairy",
            "Fish",
            "Fruits",
            "Meats",
            "Miscellaneous",
            "Oils",
            "Staples",
            "Vegetables"
           ],
           "xaxis": "x",
           "y": [
            100,
            0.4057316202442701,
            null,
            70.24989841527835,
            16.14529598411555,
            48.229717051009814,
            0.9360823752490219,
            40.4048311339745,
            29.984476752991068
           ],
           "yaxis": "y"
          }
         ],
         "name": "1967"
        },
        {
         "data": [
          {
           "alignmentgroup": "True",
           "hovertemplate": "variable=Production<br>animation_frame=1968<br>Category=%{x}<br>% of supply=%{y}<extra></extra>",
           "legendgroup": "Production",
           "marker": {
            "color": "#636efa",
            "pattern": {
             "shape": ""
            }
           },
           "name": "Production",
           "offsetgroup": "Production",
           "orientation": "v",
           "showlegend": true,
           "textposition": "auto",
           "type": "bar",
           "x": [
            "Beverages",
            "Dairy",
            "Fish",
            "Fruits",
            "Meats",
            "Miscellaneous",
            "Oils",
            "Staples",
            "Vegetables"
           ],
           "xaxis": "x",
           "y": [
            0,
            99.55026017246767,
            null,
            26.602177442175655,
            82.5531914893617,
            50.738514821228485,
            98.96413972500929,
            56.467464979665614,
            69.08415478764339
           ],
           "yaxis": "y"
          },
          {
           "alignmentgroup": "True",
           "hovertemplate": "variable=Imports<br>animation_frame=1968<br>Category=%{x}<br>% of supply=%{y}<extra></extra>",
           "legendgroup": "Imports",
           "marker": {
            "color": "#EF553B",
            "pattern": {
             "shape": ""
            }
           },
           "name": "Imports",
           "offsetgroup": "Imports",
           "orientation": "v",
           "showlegend": true,
           "textposition": "auto",
           "type": "bar",
           "x": [
            "Beverages",
            "Dairy",
            "Fish",
            "Fruits",
            "Meats",
            "Miscellaneous",
            "Oils",
            "Staples",
            "Vegetables"
           ],
           "xaxis": "x",
           "y": [
            100,
            0.4497398275323147,
            null,
            73.39782255782434,
            17.4468085106383,
            49.261485178771515,
            1.0358602749907098,
            43.532535020334386,
            30.915845212356633
           ],
           "yaxis": "y"
          }
         ],
         "name": "1968"
        },
        {
         "data": [
          {
           "alignmentgroup": "True",
           "hovertemplate": "variable=Production<br>animation_frame=1969<br>Category=%{x}<br>% of supply=%{y}<extra></extra>",
           "legendgroup": "Production",
           "marker": {
            "color": "#636efa",
            "pattern": {
             "shape": ""
            }
           },
           "name": "Production",
           "offsetgroup": "Production",
           "orientation": "v",
           "showlegend": true,
           "textposition": "auto",
           "type": "bar",
           "x": [
            "Beverages",
            "Dairy",
            "Fish",
            "Fruits",
            "Meats",
            "Miscellaneous",
            "Oils",
            "Staples",
            "Vegetables"
           ],
           "xaxis": "x",
           "y": [
            0,
            99.49042663293469,
            null,
            24.93078672973135,
            75.40831060484518,
            55.403997817568566,
            99.34046542406529,
            56.53936176285893,
            67.40948303312057
           ],
           "yaxis": "y"
          },
          {
           "alignmentgroup": "True",
           "hovertemplate": "variable=Imports<br>animation_frame=1969<br>Category=%{x}<br>% of supply=%{y}<extra></extra>",
           "legendgroup": "Imports",
           "marker": {
            "color": "#EF553B",
            "pattern": {
             "shape": ""
            }
           },
           "name": "Imports",
           "offsetgroup": "Imports",
           "orientation": "v",
           "showlegend": true,
           "textposition": "auto",
           "type": "bar",
           "x": [
            "Beverages",
            "Dairy",
            "Fish",
            "Fruits",
            "Meats",
            "Miscellaneous",
            "Oils",
            "Staples",
            "Vegetables"
           ],
           "xaxis": "x",
           "y": [
            100.00000000000001,
            0.5095733670653174,
            null,
            75.06921327026865,
            24.591689395154823,
            44.59600218243142,
            0.6595345759347083,
            43.460638237141055,
            32.590516966879434
           ],
           "yaxis": "y"
          }
         ],
         "name": "1969"
        },
        {
         "data": [
          {
           "alignmentgroup": "True",
           "hovertemplate": "variable=Production<br>animation_frame=1970<br>Category=%{x}<br>% of supply=%{y}<extra></extra>",
           "legendgroup": "Production",
           "marker": {
            "color": "#636efa",
            "pattern": {
             "shape": ""
            }
           },
           "name": "Production",
           "offsetgroup": "Production",
           "orientation": "v",
           "showlegend": true,
           "textposition": "auto",
           "type": "bar",
           "x": [
            "Beverages",
            "Dairy",
            "Fish",
            "Fruits",
            "Meats",
            "Miscellaneous",
            "Oils",
            "Staples",
            "Vegetables"
           ],
           "xaxis": "x",
           "y": [
            0,
            99.51017704104646,
            null,
            28.309553246232497,
            79.26625733053638,
            54.39008042895443,
            99.47284237085763,
            56.584134994480365,
            67.31552192381793
           ],
           "yaxis": "y"
          },
          {
           "alignmentgroup": "True",
           "hovertemplate": "variable=Imports<br>animation_frame=1970<br>Category=%{x}<br>% of supply=%{y}<extra></extra>",
           "legendgroup": "Imports",
           "marker": {
            "color": "#EF553B",
            "pattern": {
             "shape": ""
            }
           },
           "name": "Imports",
           "offsetgroup": "Imports",
           "orientation": "v",
           "showlegend": true,
           "textposition": "auto",
           "type": "bar",
           "x": [
            "Beverages",
            "Dairy",
            "Fish",
            "Fruits",
            "Meats",
            "Miscellaneous",
            "Oils",
            "Staples",
            "Vegetables"
           ],
           "xaxis": "x",
           "y": [
            100,
            0.4898229589535408,
            null,
            71.6904467537675,
            20.73374266946363,
            45.60991957104557,
            0.527157629142355,
            43.415865005519635,
            32.684478076182074
           ],
           "yaxis": "y"
          }
         ],
         "name": "1970"
        },
        {
         "data": [
          {
           "alignmentgroup": "True",
           "hovertemplate": "variable=Production<br>animation_frame=1971<br>Category=%{x}<br>% of supply=%{y}<extra></extra>",
           "legendgroup": "Production",
           "marker": {
            "color": "#636efa",
            "pattern": {
             "shape": ""
            }
           },
           "name": "Production",
           "offsetgroup": "Production",
           "orientation": "v",
           "showlegend": true,
           "textposition": "auto",
           "type": "bar",
           "x": [
            "Beverages",
            "Dairy",
            "Fish",
            "Fruits",
            "Meats",
            "Miscellaneous",
            "Oils",
            "Staples",
            "Vegetables"
           ],
           "xaxis": "x",
           "y": [
            0,
            99.45349104351882,
            null,
            26.685378624085025,
            92.0472261178696,
            53.965261882321265,
            98.42801083808277,
            50.7622253019204,
            68.81055681077859
           ],
           "yaxis": "y"
          },
          {
           "alignmentgroup": "True",
           "hovertemplate": "variable=Imports<br>animation_frame=1971<br>Category=%{x}<br>% of supply=%{y}<extra></extra>",
           "legendgroup": "Imports",
           "marker": {
            "color": "#EF553B",
            "pattern": {
             "shape": ""
            }
           },
           "name": "Imports",
           "offsetgroup": "Imports",
           "orientation": "v",
           "showlegend": true,
           "textposition": "auto",
           "type": "bar",
           "x": [
            "Beverages",
            "Dairy",
            "Fish",
            "Fruits",
            "Meats",
            "Miscellaneous",
            "Oils",
            "Staples",
            "Vegetables"
           ],
           "xaxis": "x",
           "y": [
            100,
            0.5465089564811785,
            null,
            73.31462137591498,
            7.952773882130394,
            46.034738117678735,
            1.5719891619172193,
            49.23777469807958,
            31.189443189221404
           ],
           "yaxis": "y"
          }
         ],
         "name": "1971"
        },
        {
         "data": [
          {
           "alignmentgroup": "True",
           "hovertemplate": "variable=Production<br>animation_frame=1972<br>Category=%{x}<br>% of supply=%{y}<extra></extra>",
           "legendgroup": "Production",
           "marker": {
            "color": "#636efa",
            "pattern": {
             "shape": ""
            }
           },
           "name": "Production",
           "offsetgroup": "Production",
           "orientation": "v",
           "showlegend": true,
           "textposition": "auto",
           "type": "bar",
           "x": [
            "Beverages",
            "Dairy",
            "Fish",
            "Fruits",
            "Meats",
            "Miscellaneous",
            "Oils",
            "Staples",
            "Vegetables"
           ],
           "xaxis": "x",
           "y": [
            0,
            99.42658657296198,
            null,
            25.782048928861737,
            89.63308346627412,
            53.31277640280764,
            98.32875705359652,
            49.4895010595261,
            64.72319285204513
           ],
           "yaxis": "y"
          },
          {
           "alignmentgroup": "True",
           "hovertemplate": "variable=Imports<br>animation_frame=1972<br>Category=%{x}<br>% of supply=%{y}<extra></extra>",
           "legendgroup": "Imports",
           "marker": {
            "color": "#EF553B",
            "pattern": {
             "shape": ""
            }
           },
           "name": "Imports",
           "offsetgroup": "Imports",
           "orientation": "v",
           "showlegend": true,
           "textposition": "auto",
           "type": "bar",
           "x": [
            "Beverages",
            "Dairy",
            "Fish",
            "Fruits",
            "Meats",
            "Miscellaneous",
            "Oils",
            "Staples",
            "Vegetables"
           ],
           "xaxis": "x",
           "y": [
            100,
            0.5734134270380266,
            null,
            74.21795107113827,
            10.366916533725895,
            46.68722359719235,
            1.6712429464034764,
            50.510498940473894,
            35.27680714795489
           ],
           "yaxis": "y"
          }
         ],
         "name": "1972"
        },
        {
         "data": [
          {
           "alignmentgroup": "True",
           "hovertemplate": "variable=Production<br>animation_frame=1973<br>Category=%{x}<br>% of supply=%{y}<extra></extra>",
           "legendgroup": "Production",
           "marker": {
            "color": "#636efa",
            "pattern": {
             "shape": ""
            }
           },
           "name": "Production",
           "offsetgroup": "Production",
           "orientation": "v",
           "showlegend": true,
           "textposition": "auto",
           "type": "bar",
           "x": [
            "Beverages",
            "Dairy",
            "Fish",
            "Fruits",
            "Meats",
            "Miscellaneous",
            "Oils",
            "Staples",
            "Vegetables"
           ],
           "xaxis": "x",
           "y": [
            0,
            99.35497253941286,
            null,
            21.909563474666502,
            89.79298183309963,
            54.20488707315193,
            93.0621417673498,
            44.221105527638194,
            64.8233092363583
           ],
           "yaxis": "y"
          },
          {
           "alignmentgroup": "True",
           "hovertemplate": "variable=Imports<br>animation_frame=1973<br>Category=%{x}<br>% of supply=%{y}<extra></extra>",
           "legendgroup": "Imports",
           "marker": {
            "color": "#EF553B",
            "pattern": {
             "shape": ""
            }
           },
           "name": "Imports",
           "offsetgroup": "Imports",
           "orientation": "v",
           "showlegend": true,
           "textposition": "auto",
           "type": "bar",
           "x": [
            "Beverages",
            "Dairy",
            "Fish",
            "Fruits",
            "Meats",
            "Miscellaneous",
            "Oils",
            "Staples",
            "Vegetables"
           ],
           "xaxis": "x",
           "y": [
            100,
            0.6450274605871429,
            null,
            78.0904365253335,
            10.20701816690036,
            45.79511292684807,
            6.937858232650201,
            55.77889447236181,
            35.1766907636417
           ],
           "yaxis": "y"
          }
         ],
         "name": "1973"
        },
        {
         "data": [
          {
           "alignmentgroup": "True",
           "hovertemplate": "variable=Production<br>animation_frame=1974<br>Category=%{x}<br>% of supply=%{y}<extra></extra>",
           "legendgroup": "Production",
           "marker": {
            "color": "#636efa",
            "pattern": {
             "shape": ""
            }
           },
           "name": "Production",
           "offsetgroup": "Production",
           "orientation": "v",
           "showlegend": true,
           "textposition": "auto",
           "type": "bar",
           "x": [
            "Beverages",
            "Dairy",
            "Fish",
            "Fruits",
            "Meats",
            "Miscellaneous",
            "Oils",
            "Staples",
            "Vegetables"
           ],
           "xaxis": "x",
           "y": [
            0,
            99.28262173863692,
            null,
            22.669213540744895,
            90.98595111493832,
            45.86496746203905,
            92.31488065007618,
            46.924247631204274,
            62.05097126866886
           ],
           "yaxis": "y"
          },
          {
           "alignmentgroup": "True",
           "hovertemplate": "variable=Imports<br>animation_frame=1974<br>Category=%{x}<br>% of supply=%{y}<extra></extra>",
           "legendgroup": "Imports",
           "marker": {
            "color": "#EF553B",
            "pattern": {
             "shape": ""
            }
           },
           "name": "Imports",
           "offsetgroup": "Imports",
           "orientation": "v",
           "showlegend": true,
           "textposition": "auto",
           "type": "bar",
           "x": [
            "Beverages",
            "Dairy",
            "Fish",
            "Fruits",
            "Meats",
            "Miscellaneous",
            "Oils",
            "Staples",
            "Vegetables"
           ],
           "xaxis": "x",
           "y": [
            99.99999999999999,
            0.7173782613630836,
            null,
            77.3307864592551,
            9.014048885061694,
            54.13503253796096,
            7.685119349923818,
            53.07575236879571,
            37.94902873133115
           ],
           "yaxis": "y"
          }
         ],
         "name": "1974"
        },
        {
         "data": [
          {
           "alignmentgroup": "True",
           "hovertemplate": "variable=Production<br>animation_frame=1975<br>Category=%{x}<br>% of supply=%{y}<extra></extra>",
           "legendgroup": "Production",
           "marker": {
            "color": "#636efa",
            "pattern": {
             "shape": ""
            }
           },
           "name": "Production",
           "offsetgroup": "Production",
           "orientation": "v",
           "showlegend": true,
           "textposition": "auto",
           "type": "bar",
           "x": [
            "Beverages",
            "Dairy",
            "Fish",
            "Fruits",
            "Meats",
            "Miscellaneous",
            "Oils",
            "Staples",
            "Vegetables"
           ],
           "xaxis": "x",
           "y": [
            0,
            99.28398865018241,
            null,
            25.070917493348905,
            90.11185453802544,
            39.493481192866774,
            95.92853128694068,
            48.82522058094577,
            62.5246905385454
           ],
           "yaxis": "y"
          },
          {
           "alignmentgroup": "True",
           "hovertemplate": "variable=Imports<br>animation_frame=1975<br>Category=%{x}<br>% of supply=%{y}<extra></extra>",
           "legendgroup": "Imports",
           "marker": {
            "color": "#EF553B",
            "pattern": {
             "shape": ""
            }
           },
           "name": "Imports",
           "offsetgroup": "Imports",
           "orientation": "v",
           "showlegend": true,
           "textposition": "auto",
           "type": "bar",
           "x": [
            "Beverages",
            "Dairy",
            "Fish",
            "Fruits",
            "Meats",
            "Miscellaneous",
            "Oils",
            "Staples",
            "Vegetables"
           ],
           "xaxis": "x",
           "y": [
            100,
            0.7160113498175923,
            null,
            74.9290825066511,
            9.888145461974567,
            60.50651880713323,
            4.071468713059319,
            51.174779419054225,
            37.47530946145459
           ],
           "yaxis": "y"
          }
         ],
         "name": "1975"
        },
        {
         "data": [
          {
           "alignmentgroup": "True",
           "hovertemplate": "variable=Production<br>animation_frame=1976<br>Category=%{x}<br>% of supply=%{y}<extra></extra>",
           "legendgroup": "Production",
           "marker": {
            "color": "#636efa",
            "pattern": {
             "shape": ""
            }
           },
           "name": "Production",
           "offsetgroup": "Production",
           "orientation": "v",
           "showlegend": true,
           "textposition": "auto",
           "type": "bar",
           "x": [
            "Beverages",
            "Dairy",
            "Fish",
            "Fruits",
            "Meats",
            "Miscellaneous",
            "Oils",
            "Staples",
            "Vegetables"
           ],
           "xaxis": "x",
           "y": [
            0,
            99.26516219579338,
            null,
            21.0941891694947,
            84.6180147769337,
            44.90342787541325,
            96.80037277210421,
            48.872720310181414,
            57.29985260537189
           ],
           "yaxis": "y"
          },
          {
           "alignmentgroup": "True",
           "hovertemplate": "variable=Imports<br>animation_frame=1976<br>Category=%{x}<br>% of supply=%{y}<extra></extra>",
           "legendgroup": "Imports",
           "marker": {
            "color": "#EF553B",
            "pattern": {
             "shape": ""
            }
           },
           "name": "Imports",
           "offsetgroup": "Imports",
           "orientation": "v",
           "showlegend": true,
           "textposition": "auto",
           "type": "bar",
           "x": [
            "Beverages",
            "Dairy",
            "Fish",
            "Fruits",
            "Meats",
            "Miscellaneous",
            "Oils",
            "Staples",
            "Vegetables"
           ],
           "xaxis": "x",
           "y": [
            100,
            0.7348378042066203,
            null,
            78.9058108305053,
            15.381985223066284,
            55.09657212458673,
            3.1996272278957787,
            51.12727968981858,
            42.70014739462812
           ],
           "yaxis": "y"
          }
         ],
         "name": "1976"
        },
        {
         "data": [
          {
           "alignmentgroup": "True",
           "hovertemplate": "variable=Production<br>animation_frame=1977<br>Category=%{x}<br>% of supply=%{y}<extra></extra>",
           "legendgroup": "Production",
           "marker": {
            "color": "#636efa",
            "pattern": {
             "shape": ""
            }
           },
           "name": "Production",
           "offsetgroup": "Production",
           "orientation": "v",
           "showlegend": true,
           "textposition": "auto",
           "type": "bar",
           "x": [
            "Beverages",
            "Dairy",
            "Fish",
            "Fruits",
            "Meats",
            "Miscellaneous",
            "Oils",
            "Staples",
            "Vegetables"
           ],
           "xaxis": "x",
           "y": [
            0,
            99.33281328867068,
            null,
            23.530725689773334,
            86.92064435776925,
            55.24297660796177,
            97.00617861823628,
            46.3448531455573,
            58.02644575902119
           ],
           "yaxis": "y"
          },
          {
           "alignmentgroup": "True",
           "hovertemplate": "variable=Imports<br>animation_frame=1977<br>Category=%{x}<br>% of supply=%{y}<extra></extra>",
           "legendgroup": "Imports",
           "marker": {
            "color": "#EF553B",
            "pattern": {
             "shape": ""
            }
           },
           "name": "Imports",
           "offsetgroup": "Imports",
           "orientation": "v",
           "showlegend": true,
           "textposition": "auto",
           "type": "bar",
           "x": [
            "Beverages",
            "Dairy",
            "Fish",
            "Fruits",
            "Meats",
            "Miscellaneous",
            "Oils",
            "Staples",
            "Vegetables"
           ],
           "xaxis": "x",
           "y": [
            100,
            0.6671867113293259,
            null,
            76.46927431022667,
            13.079355642230754,
            44.75702339203823,
            2.993821381763715,
            53.6551468544427,
            41.97355424097881
           ],
           "yaxis": "y"
          }
         ],
         "name": "1977"
        },
        {
         "data": [
          {
           "alignmentgroup": "True",
           "hovertemplate": "variable=Production<br>animation_frame=1978<br>Category=%{x}<br>% of supply=%{y}<extra></extra>",
           "legendgroup": "Production",
           "marker": {
            "color": "#636efa",
            "pattern": {
             "shape": ""
            }
           },
           "name": "Production",
           "offsetgroup": "Production",
           "orientation": "v",
           "showlegend": true,
           "textposition": "auto",
           "type": "bar",
           "x": [
            "Beverages",
            "Dairy",
            "Fish",
            "Fruits",
            "Meats",
            "Miscellaneous",
            "Oils",
            "Staples",
            "Vegetables"
           ],
           "xaxis": "x",
           "y": [
            0,
            99.35814765284574,
            null,
            24.47999767217424,
            87.90673208017091,
            52.30257141812064,
            96.4759998460295,
            46.39768126610232,
            59.616052236986924
           ],
           "yaxis": "y"
          },
          {
           "alignmentgroup": "True",
           "hovertemplate": "variable=Imports<br>animation_frame=1978<br>Category=%{x}<br>% of supply=%{y}<extra></extra>",
           "legendgroup": "Imports",
           "marker": {
            "color": "#EF553B",
            "pattern": {
             "shape": ""
            }
           },
           "name": "Imports",
           "offsetgroup": "Imports",
           "orientation": "v",
           "showlegend": true,
           "textposition": "auto",
           "type": "bar",
           "x": [
            "Beverages",
            "Dairy",
            "Fish",
            "Fruits",
            "Meats",
            "Miscellaneous",
            "Oils",
            "Staples",
            "Vegetables"
           ],
           "xaxis": "x",
           "y": [
            100,
            0.6418523471542561,
            null,
            75.52000232782576,
            12.093267919829096,
            47.69742858187937,
            3.524000153970515,
            53.602318733897675,
            40.38394776301308
           ],
           "yaxis": "y"
          }
         ],
         "name": "1978"
        },
        {
         "data": [
          {
           "alignmentgroup": "True",
           "hovertemplate": "variable=Production<br>animation_frame=1979<br>Category=%{x}<br>% of supply=%{y}<extra></extra>",
           "legendgroup": "Production",
           "marker": {
            "color": "#636efa",
            "pattern": {
             "shape": ""
            }
           },
           "name": "Production",
           "offsetgroup": "Production",
           "orientation": "v",
           "showlegend": true,
           "textposition": "auto",
           "type": "bar",
           "x": [
            "Beverages",
            "Dairy",
            "Fish",
            "Fruits",
            "Meats",
            "Miscellaneous",
            "Oils",
            "Staples",
            "Vegetables"
           ],
           "xaxis": "x",
           "y": [
            0,
            99.28990509059533,
            null,
            24.227198662653375,
            88.99610431892943,
            51.84436769784702,
            99.35661947218966,
            43.71887830872718,
            59.881413101366945
           ],
           "yaxis": "y"
          },
          {
           "alignmentgroup": "True",
           "hovertemplate": "variable=Imports<br>animation_frame=1979<br>Category=%{x}<br>% of supply=%{y}<extra></extra>",
           "legendgroup": "Imports",
           "marker": {
            "color": "#EF553B",
            "pattern": {
             "shape": ""
            }
           },
           "name": "Imports",
           "offsetgroup": "Imports",
           "orientation": "v",
           "showlegend": true,
           "textposition": "auto",
           "type": "bar",
           "x": [
            "Beverages",
            "Dairy",
            "Fish",
            "Fruits",
            "Meats",
            "Miscellaneous",
            "Oils",
            "Staples",
            "Vegetables"
           ],
           "xaxis": "x",
           "y": [
            100,
            0.710094909404659,
            null,
            75.77280133734662,
            11.003895681070583,
            48.15563230215299,
            0.6433805278103218,
            56.28112169127283,
            40.11858689863306
           ],
           "yaxis": "y"
          }
         ],
         "name": "1979"
        },
        {
         "data": [
          {
           "alignmentgroup": "True",
           "hovertemplate": "variable=Production<br>animation_frame=1980<br>Category=%{x}<br>% of supply=%{y}<extra></extra>",
           "legendgroup": "Production",
           "marker": {
            "color": "#636efa",
            "pattern": {
             "shape": ""
            }
           },
           "name": "Production",
           "offsetgroup": "Production",
           "orientation": "v",
           "showlegend": true,
           "textposition": "auto",
           "type": "bar",
           "x": [
            "Beverages",
            "Dairy",
            "Fish",
            "Fruits",
            "Meats",
            "Miscellaneous",
            "Oils",
            "Staples",
            "Vegetables"
           ],
           "xaxis": "x",
           "y": [
            0,
            99.3917997046206,
            null,
            26.30353670476027,
            91.5759292760351,
            50.20179043146463,
            99.24523330008093,
            43.65338012868723,
            59.62436910145036
           ],
           "yaxis": "y"
          },
          {
           "alignmentgroup": "True",
           "hovertemplate": "variable=Imports<br>animation_frame=1980<br>Category=%{x}<br>% of supply=%{y}<extra></extra>",
           "legendgroup": "Imports",
           "marker": {
            "color": "#EF553B",
            "pattern": {
             "shape": ""
            }
           },
           "name": "Imports",
           "offsetgroup": "Imports",
           "orientation": "v",
           "showlegend": true,
           "textposition": "auto",
           "type": "bar",
           "x": [
            "Beverages",
            "Dairy",
            "Fish",
            "Fruits",
            "Meats",
            "Miscellaneous",
            "Oils",
            "Staples",
            "Vegetables"
           ],
           "xaxis": "x",
           "y": [
            100,
            0.6082002953794221,
            null,
            73.69646329523972,
            8.424070723964912,
            49.79820956853537,
            0.7547666999190649,
            56.346619871312775,
            40.37563089854964
           ],
           "yaxis": "y"
          }
         ],
         "name": "1980"
        },
        {
         "data": [
          {
           "alignmentgroup": "True",
           "hovertemplate": "variable=Production<br>animation_frame=1981<br>Category=%{x}<br>% of supply=%{y}<extra></extra>",
           "legendgroup": "Production",
           "marker": {
            "color": "#636efa",
            "pattern": {
             "shape": ""
            }
           },
           "name": "Production",
           "offsetgroup": "Production",
           "orientation": "v",
           "showlegend": true,
           "textposition": "auto",
           "type": "bar",
           "x": [
            "Beverages",
            "Dairy",
            "Fish",
            "Fruits",
            "Meats",
            "Miscellaneous",
            "Oils",
            "Staples",
            "Vegetables"
           ],
           "xaxis": "x",
           "y": [
            0,
            99.41448477183695,
            null,
            23.146368480273896,
            91.57549777387908,
            48.87138603400249,
            99.75418596366227,
            42.88913773796193,
            58.62071325192375
           ],
           "yaxis": "y"
          },
          {
           "alignmentgroup": "True",
           "hovertemplate": "variable=Imports<br>animation_frame=1981<br>Category=%{x}<br>% of supply=%{y}<extra></extra>",
           "legendgroup": "Imports",
           "marker": {
            "color": "#EF553B",
            "pattern": {
             "shape": ""
            }
           },
           "name": "Imports",
           "offsetgroup": "Imports",
           "orientation": "v",
           "showlegend": true,
           "textposition": "auto",
           "type": "bar",
           "x": [
            "Beverages",
            "Dairy",
            "Fish",
            "Fruits",
            "Meats",
            "Miscellaneous",
            "Oils",
            "Staples",
            "Vegetables"
           ],
           "xaxis": "x",
           "y": [
            100,
            0.5855152281630581,
            null,
            76.8536315197261,
            8.424502226120921,
            51.1286139659975,
            0.24581403633772714,
            57.110862262038076,
            41.37928674807625
           ],
           "yaxis": "y"
          }
         ],
         "name": "1981"
        },
        {
         "data": [
          {
           "alignmentgroup": "True",
           "hovertemplate": "variable=Production<br>animation_frame=1982<br>Category=%{x}<br>% of supply=%{y}<extra></extra>",
           "legendgroup": "Production",
           "marker": {
            "color": "#636efa",
            "pattern": {
             "shape": ""
            }
           },
           "name": "Production",
           "offsetgroup": "Production",
           "orientation": "v",
           "showlegend": true,
           "textposition": "auto",
           "type": "bar",
           "x": [
            "Beverages",
            "Dairy",
            "Fish",
            "Fruits",
            "Meats",
            "Miscellaneous",
            "Oils",
            "Staples",
            "Vegetables"
           ],
           "xaxis": "x",
           "y": [
            0,
            99.28654718680748,
            null,
            22.900161303259036,
            91.3404345880581,
            50.41360143861369,
            99.65303077617016,
            41.76669385852465,
            62.82410640010958
           ],
           "yaxis": "y"
          },
          {
           "alignmentgroup": "True",
           "hovertemplate": "variable=Imports<br>animation_frame=1982<br>Category=%{x}<br>% of supply=%{y}<extra></extra>",
           "legendgroup": "Imports",
           "marker": {
            "color": "#EF553B",
            "pattern": {
             "shape": ""
            }
           },
           "name": "Imports",
           "offsetgroup": "Imports",
           "orientation": "v",
           "showlegend": true,
           "textposition": "auto",
           "type": "bar",
           "x": [
            "Beverages",
            "Dairy",
            "Fish",
            "Fruits",
            "Meats",
            "Miscellaneous",
            "Oils",
            "Staples",
            "Vegetables"
           ],
           "xaxis": "x",
           "y": [
            100,
            0.7134528131925217,
            null,
            77.09983869674096,
            8.659565411941896,
            49.58639856138629,
            0.34696922382984624,
            58.23330614147535,
            37.175893599890415
           ],
           "yaxis": "y"
          }
         ],
         "name": "1982"
        },
        {
         "data": [
          {
           "alignmentgroup": "True",
           "hovertemplate": "variable=Production<br>animation_frame=1983<br>Category=%{x}<br>% of supply=%{y}<extra></extra>",
           "legendgroup": "Production",
           "marker": {
            "color": "#636efa",
            "pattern": {
             "shape": ""
            }
           },
           "name": "Production",
           "offsetgroup": "Production",
           "orientation": "v",
           "showlegend": true,
           "textposition": "auto",
           "type": "bar",
           "x": [
            "Beverages",
            "Dairy",
            "Fish",
            "Fruits",
            "Meats",
            "Miscellaneous",
            "Oils",
            "Staples",
            "Vegetables"
           ],
           "xaxis": "x",
           "y": [
            0,
            99.24357372367012,
            null,
            25.861509647783453,
            90.28714402302306,
            44.85877033296141,
            99.66623655913978,
            41.216030204113736,
            58.26111215114508
           ],
           "yaxis": "y"
          },
          {
           "alignmentgroup": "True",
           "hovertemplate": "variable=Imports<br>animation_frame=1983<br>Category=%{x}<br>% of supply=%{y}<extra></extra>",
           "legendgroup": "Imports",
           "marker": {
            "color": "#EF553B",
            "pattern": {
             "shape": ""
            }
           },
           "name": "Imports",
           "offsetgroup": "Imports",
           "orientation": "v",
           "showlegend": true,
           "textposition": "auto",
           "type": "bar",
           "x": [
            "Beverages",
            "Dairy",
            "Fish",
            "Fruits",
            "Meats",
            "Miscellaneous",
            "Oils",
            "Staples",
            "Vegetables"
           ],
           "xaxis": "x",
           "y": [
            100,
            0.7564262763298824,
            null,
            74.13849035221655,
            9.712855976976934,
            55.14122966703857,
            0.3337634408602151,
            58.783969795886264,
            41.73888784885492
           ],
           "yaxis": "y"
          }
         ],
         "name": "1983"
        },
        {
         "data": [
          {
           "alignmentgroup": "True",
           "hovertemplate": "variable=Production<br>animation_frame=1984<br>Category=%{x}<br>% of supply=%{y}<extra></extra>",
           "legendgroup": "Production",
           "marker": {
            "color": "#636efa",
            "pattern": {
             "shape": ""
            }
           },
           "name": "Production",
           "offsetgroup": "Production",
           "orientation": "v",
           "showlegend": true,
           "textposition": "auto",
           "type": "bar",
           "x": [
            "Beverages",
            "Dairy",
            "Fish",
            "Fruits",
            "Meats",
            "Miscellaneous",
            "Oils",
            "Staples",
            "Vegetables"
           ],
           "xaxis": "x",
           "y": [
            0,
            99.36586408554533,
            null,
            23.882896764252692,
            89.12728357954424,
            84.13980164399446,
            99.21062261487795,
            41.752736241714196,
            60.815557213802336
           ],
           "yaxis": "y"
          },
          {
           "alignmentgroup": "True",
           "hovertemplate": "variable=Imports<br>animation_frame=1984<br>Category=%{x}<br>% of supply=%{y}<extra></extra>",
           "legendgroup": "Imports",
           "marker": {
            "color": "#EF553B",
            "pattern": {
             "shape": ""
            }
           },
           "name": "Imports",
           "offsetgroup": "Imports",
           "orientation": "v",
           "showlegend": true,
           "textposition": "auto",
           "type": "bar",
           "x": [
            "Beverages",
            "Dairy",
            "Fish",
            "Fruits",
            "Meats",
            "Miscellaneous",
            "Oils",
            "Staples",
            "Vegetables"
           ],
           "xaxis": "x",
           "y": [
            100,
            0.6341359144546815,
            null,
            76.1171032357473,
            10.872716420455756,
            15.860198356005549,
            0.789377385122066,
            58.247263758285804,
            39.18444278619767
           ],
           "yaxis": "y"
          }
         ],
         "name": "1984"
        },
        {
         "data": [
          {
           "alignmentgroup": "True",
           "hovertemplate": "variable=Production<br>animation_frame=1985<br>Category=%{x}<br>% of supply=%{y}<extra></extra>",
           "legendgroup": "Production",
           "marker": {
            "color": "#636efa",
            "pattern": {
             "shape": ""
            }
           },
           "name": "Production",
           "offsetgroup": "Production",
           "orientation": "v",
           "showlegend": true,
           "textposition": "auto",
           "type": "bar",
           "x": [
            "Beverages",
            "Dairy",
            "Fish",
            "Fruits",
            "Meats",
            "Miscellaneous",
            "Oils",
            "Staples",
            "Vegetables"
           ],
           "xaxis": "x",
           "y": [
            0,
            99.33060781916453,
            null,
            25.82005385175526,
            89.56521739130436,
            80.14992335063218,
            99.48219954841011,
            41.88760090286545,
            59.71273887253161
           ],
           "yaxis": "y"
          },
          {
           "alignmentgroup": "True",
           "hovertemplate": "variable=Imports<br>animation_frame=1985<br>Category=%{x}<br>% of supply=%{y}<extra></extra>",
           "legendgroup": "Imports",
           "marker": {
            "color": "#EF553B",
            "pattern": {
             "shape": ""
            }
           },
           "name": "Imports",
           "offsetgroup": "Imports",
           "orientation": "v",
           "showlegend": true,
           "textposition": "auto",
           "type": "bar",
           "x": [
            "Beverages",
            "Dairy",
            "Fish",
            "Fruits",
            "Meats",
            "Miscellaneous",
            "Oils",
            "Staples",
            "Vegetables"
           ],
           "xaxis": "x",
           "y": [
            100.00000000000001,
            0.6693921808354678,
            null,
            74.17994614824474,
            10.43478260869565,
            19.850076649367818,
            0.5178004515899021,
            58.112399097134556,
            40.28726112746839
           ],
           "yaxis": "y"
          }
         ],
         "name": "1985"
        },
        {
         "data": [
          {
           "alignmentgroup": "True",
           "hovertemplate": "variable=Production<br>animation_frame=1986<br>Category=%{x}<br>% of supply=%{y}<extra></extra>",
           "legendgroup": "Production",
           "marker": {
            "color": "#636efa",
            "pattern": {
             "shape": ""
            }
           },
           "name": "Production",
           "offsetgroup": "Production",
           "orientation": "v",
           "showlegend": true,
           "textposition": "auto",
           "type": "bar",
           "x": [
            "Beverages",
            "Dairy",
            "Fish",
            "Fruits",
            "Meats",
            "Miscellaneous",
            "Oils",
            "Staples",
            "Vegetables"
           ],
           "xaxis": "x",
           "y": [
            0,
            99.12396222584381,
            null,
            21.543200942791575,
            89.42273722885608,
            79.44803593218579,
            99.7419420128523,
            40.022413419130935,
            56.62105825402531
           ],
           "yaxis": "y"
          },
          {
           "alignmentgroup": "True",
           "hovertemplate": "variable=Imports<br>animation_frame=1986<br>Category=%{x}<br>% of supply=%{y}<extra></extra>",
           "legendgroup": "Imports",
           "marker": {
            "color": "#EF553B",
            "pattern": {
             "shape": ""
            }
           },
           "name": "Imports",
           "offsetgroup": "Imports",
           "orientation": "v",
           "showlegend": true,
           "textposition": "auto",
           "type": "bar",
           "x": [
            "Beverages",
            "Dairy",
            "Fish",
            "Fruits",
            "Meats",
            "Miscellaneous",
            "Oils",
            "Staples",
            "Vegetables"
           ],
           "xaxis": "x",
           "y": [
            100,
            0.8760377741561998,
            null,
            78.45679905720843,
            10.577262771143927,
            20.55196406781421,
            0.2580579871477003,
            59.97758658086906,
            43.378941745974686
           ],
           "yaxis": "y"
          }
         ],
         "name": "1986"
        },
        {
         "data": [
          {
           "alignmentgroup": "True",
           "hovertemplate": "variable=Production<br>animation_frame=1987<br>Category=%{x}<br>% of supply=%{y}<extra></extra>",
           "legendgroup": "Production",
           "marker": {
            "color": "#636efa",
            "pattern": {
             "shape": ""
            }
           },
           "name": "Production",
           "offsetgroup": "Production",
           "orientation": "v",
           "showlegend": true,
           "textposition": "auto",
           "type": "bar",
           "x": [
            "Beverages",
            "Dairy",
            "Fish",
            "Fruits",
            "Meats",
            "Miscellaneous",
            "Oils",
            "Staples",
            "Vegetables"
           ],
           "xaxis": "x",
           "y": [
            0,
            99.20856458809446,
            null,
            25.650415126919796,
            87.67022009970927,
            78.0387833192814,
            99.69220852469583,
            40.656855582228715,
            55.88178142727302
           ],
           "yaxis": "y"
          },
          {
           "alignmentgroup": "True",
           "hovertemplate": "variable=Imports<br>animation_frame=1987<br>Category=%{x}<br>% of supply=%{y}<extra></extra>",
           "legendgroup": "Imports",
           "marker": {
            "color": "#EF553B",
            "pattern": {
             "shape": ""
            }
           },
           "name": "Imports",
           "offsetgroup": "Imports",
           "orientation": "v",
           "showlegend": true,
           "textposition": "auto",
           "type": "bar",
           "x": [
            "Beverages",
            "Dairy",
            "Fish",
            "Fruits",
            "Meats",
            "Miscellaneous",
            "Oils",
            "Staples",
            "Vegetables"
           ],
           "xaxis": "x",
           "y": [
            100,
            0.7914354119055393,
            null,
            74.34958487308019,
            12.329779900290735,
            21.961216680718593,
            0.3077914753041657,
            59.343144417771285,
            44.118218572726995
           ],
           "yaxis": "y"
          }
         ],
         "name": "1987"
        },
        {
         "data": [
          {
           "alignmentgroup": "True",
           "hovertemplate": "variable=Production<br>animation_frame=1988<br>Category=%{x}<br>% of supply=%{y}<extra></extra>",
           "legendgroup": "Production",
           "marker": {
            "color": "#636efa",
            "pattern": {
             "shape": ""
            }
           },
           "name": "Production",
           "offsetgroup": "Production",
           "orientation": "v",
           "showlegend": true,
           "textposition": "auto",
           "type": "bar",
           "x": [
            "Beverages",
            "Dairy",
            "Fish",
            "Fruits",
            "Meats",
            "Miscellaneous",
            "Oils",
            "Staples",
            "Vegetables"
           ],
           "xaxis": "x",
           "y": [
            0,
            99.35340555131613,
            87.65329164495397,
            27.90101718364331,
            87.38030825742722,
            77.17929992980865,
            97.37091293934161,
            43.4148421084686,
            80.3661872580732
           ],
           "yaxis": "y"
          },
          {
           "alignmentgroup": "True",
           "hovertemplate": "variable=Imports<br>animation_frame=1988<br>Category=%{x}<br>% of supply=%{y}<extra></extra>",
           "legendgroup": "Imports",
           "marker": {
            "color": "#EF553B",
            "pattern": {
             "shape": ""
            }
           },
           "name": "Imports",
           "offsetgroup": "Imports",
           "orientation": "v",
           "showlegend": true,
           "textposition": "auto",
           "type": "bar",
           "x": [
            "Beverages",
            "Dairy",
            "Fish",
            "Fruits",
            "Meats",
            "Miscellaneous",
            "Oils",
            "Staples",
            "Vegetables"
           ],
           "xaxis": "x",
           "y": [
            100,
            0.646594448683864,
            12.34670835504603,
            72.0989828163567,
            12.619691742572783,
            22.820700070191364,
            2.6290870606583856,
            56.58515789153141,
            19.6338127419268
           ],
           "yaxis": "y"
          }
         ],
         "name": "1988"
        },
        {
         "data": [
          {
           "alignmentgroup": "True",
           "hovertemplate": "variable=Production<br>animation_frame=1989<br>Category=%{x}<br>% of supply=%{y}<extra></extra>",
           "legendgroup": "Production",
           "marker": {
            "color": "#636efa",
            "pattern": {
             "shape": ""
            }
           },
           "name": "Production",
           "offsetgroup": "Production",
           "orientation": "v",
           "showlegend": true,
           "textposition": "auto",
           "type": "bar",
           "x": [
            "Beverages",
            "Dairy",
            "Fish",
            "Fruits",
            "Meats",
            "Miscellaneous",
            "Oils",
            "Staples",
            "Vegetables"
           ],
           "xaxis": "x",
           "y": [
            0,
            99.3895572808629,
            85.02024291497976,
            24.425917970035105,
            87.04750545827318,
            76.54813127478276,
            97.4247534113198,
            41.03900719722773,
            79.40791431486056
           ],
           "yaxis": "y"
          },
          {
           "alignmentgroup": "True",
           "hovertemplate": "variable=Imports<br>animation_frame=1989<br>Category=%{x}<br>% of supply=%{y}<extra></extra>",
           "legendgroup": "Imports",
           "marker": {
            "color": "#EF553B",
            "pattern": {
             "shape": ""
            }
           },
           "name": "Imports",
           "offsetgroup": "Imports",
           "orientation": "v",
           "showlegend": true,
           "textposition": "auto",
           "type": "bar",
           "x": [
            "Beverages",
            "Dairy",
            "Fish",
            "Fruits",
            "Meats",
            "Miscellaneous",
            "Oils",
            "Staples",
            "Vegetables"
           ],
           "xaxis": "x",
           "y": [
            100,
            0.6104427191370828,
            14.97975708502024,
            75.5740820299649,
            12.952494541726836,
            23.451868725217246,
            2.575246588680203,
            58.96099280277226,
            20.59208568513945
           ],
           "yaxis": "y"
          }
         ],
         "name": "1989"
        },
        {
         "data": [
          {
           "alignmentgroup": "True",
           "hovertemplate": "variable=Production<br>animation_frame=1990<br>Category=%{x}<br>% of supply=%{y}<extra></extra>",
           "legendgroup": "Production",
           "marker": {
            "color": "#636efa",
            "pattern": {
             "shape": ""
            }
           },
           "name": "Production",
           "offsetgroup": "Production",
           "orientation": "v",
           "showlegend": true,
           "textposition": "auto",
           "type": "bar",
           "x": [
            "Beverages",
            "Dairy",
            "Fish",
            "Fruits",
            "Meats",
            "Miscellaneous",
            "Oils",
            "Staples",
            "Vegetables"
           ],
           "xaxis": "x",
           "y": [
            0,
            99.357724930258,
            87.29165944765931,
            22.794864115320138,
            84.64010438060261,
            74.16242718190685,
            97.15198114112633,
            37.271149934186916,
            79.55551670533315
           ],
           "yaxis": "y"
          },
          {
           "alignmentgroup": "True",
           "hovertemplate": "variable=Imports<br>animation_frame=1990<br>Category=%{x}<br>% of supply=%{y}<extra></extra>",
           "legendgroup": "Imports",
           "marker": {
            "color": "#EF553B",
            "pattern": {
             "shape": ""
            }
           },
           "name": "Imports",
           "offsetgroup": "Imports",
           "orientation": "v",
           "showlegend": true,
           "textposition": "auto",
           "type": "bar",
           "x": [
            "Beverages",
            "Dairy",
            "Fish",
            "Fruits",
            "Meats",
            "Miscellaneous",
            "Oils",
            "Staples",
            "Vegetables"
           ],
           "xaxis": "x",
           "y": [
            100.00000000000001,
            0.6422750697419899,
            12.70834055234069,
            77.20513588467986,
            15.359895619397394,
            25.837572818093157,
            2.848018858873676,
            62.7288500658131,
            20.444483294666863
           ],
           "yaxis": "y"
          }
         ],
         "name": "1990"
        },
        {
         "data": [
          {
           "alignmentgroup": "True",
           "hovertemplate": "variable=Production<br>animation_frame=1991<br>Category=%{x}<br>% of supply=%{y}<extra></extra>",
           "legendgroup": "Production",
           "marker": {
            "color": "#636efa",
            "pattern": {
             "shape": ""
            }
           },
           "name": "Production",
           "offsetgroup": "Production",
           "orientation": "v",
           "showlegend": true,
           "textposition": "auto",
           "type": "bar",
           "x": [
            "Beverages",
            "Dairy",
            "Fish",
            "Fruits",
            "Meats",
            "Miscellaneous",
            "Oils",
            "Staples",
            "Vegetables"
           ],
           "xaxis": "x",
           "y": [
            0,
            99.37506895742037,
            84.38593191649426,
            22.298788292851473,
            82.7966761880031,
            71.54529167404958,
            97.27377829713703,
            21.965685945982173,
            79.2912500526091
           ],
           "yaxis": "y"
          },
          {
           "alignmentgroup": "True",
           "hovertemplate": "variable=Imports<br>animation_frame=1991<br>Category=%{x}<br>% of supply=%{y}<extra></extra>",
           "legendgroup": "Imports",
           "marker": {
            "color": "#EF553B",
            "pattern": {
             "shape": ""
            }
           },
           "name": "Imports",
           "offsetgroup": "Imports",
           "orientation": "v",
           "showlegend": true,
           "textposition": "auto",
           "type": "bar",
           "x": [
            "Beverages",
            "Dairy",
            "Fish",
            "Fruits",
            "Meats",
            "Miscellaneous",
            "Oils",
            "Staples",
            "Vegetables"
           ],
           "xaxis": "x",
           "y": [
            100,
            0.6249310425796157,
            15.614068083505735,
            77.70121170714852,
            17.203323811996885,
            28.454708325950428,
            2.7262217028629676,
            78.03431405401783,
            20.70874994739089
           ],
           "yaxis": "y"
          }
         ],
         "name": "1991"
        },
        {
         "data": [
          {
           "alignmentgroup": "True",
           "hovertemplate": "variable=Production<br>animation_frame=1992<br>Category=%{x}<br>% of supply=%{y}<extra></extra>",
           "legendgroup": "Production",
           "marker": {
            "color": "#636efa",
            "pattern": {
             "shape": ""
            }
           },
           "name": "Production",
           "offsetgroup": "Production",
           "orientation": "v",
           "showlegend": true,
           "textposition": "auto",
           "type": "bar",
           "x": [
            "Beverages",
            "Dairy",
            "Fish",
            "Fruits",
            "Meats",
            "Miscellaneous",
            "Oils",
            "Staples",
            "Vegetables"
           ],
           "xaxis": "x",
           "y": [
            0,
            99.31320016698214,
            82.53724530024483,
            23.364837441639352,
            82.44599270550829,
            69.57459845640385,
            96.33538870753235,
            20.385921580734795,
            78.32057995228787
           ],
           "yaxis": "y"
          },
          {
           "alignmentgroup": "True",
           "hovertemplate": "variable=Imports<br>animation_frame=1992<br>Category=%{x}<br>% of supply=%{y}<extra></extra>",
           "legendgroup": "Imports",
           "marker": {
            "color": "#EF553B",
            "pattern": {
             "shape": ""
            }
           },
           "name": "Imports",
           "offsetgroup": "Imports",
           "orientation": "v",
           "showlegend": true,
           "textposition": "auto",
           "type": "bar",
           "x": [
            "Beverages",
            "Dairy",
            "Fish",
            "Fruits",
            "Meats",
            "Miscellaneous",
            "Oils",
            "Staples",
            "Vegetables"
           ],
           "xaxis": "x",
           "y": [
            100,
            0.6867998330178591,
            17.462754699755152,
            76.63516255836065,
            17.554007294491722,
            30.42540154359616,
            3.6646112924676584,
            79.61407841926521,
            21.679420047712146
           ],
           "yaxis": "y"
          }
         ],
         "name": "1992"
        },
        {
         "data": [
          {
           "alignmentgroup": "True",
           "hovertemplate": "variable=Production<br>animation_frame=1993<br>Category=%{x}<br>% of supply=%{y}<extra></extra>",
           "legendgroup": "Production",
           "marker": {
            "color": "#636efa",
            "pattern": {
             "shape": ""
            }
           },
           "name": "Production",
           "offsetgroup": "Production",
           "orientation": "v",
           "showlegend": true,
           "textposition": "auto",
           "type": "bar",
           "x": [
            "Beverages",
            "Dairy",
            "Fish",
            "Fruits",
            "Meats",
            "Miscellaneous",
            "Oils",
            "Staples",
            "Vegetables"
           ],
           "xaxis": "x",
           "y": [
            0,
            99.05941841421095,
            73.83189517417706,
            21.024953382639488,
            80.54024786979724,
            66.78495559599968,
            95.4699551773566,
            20.587710427696152,
            77.68851698661513
           ],
           "yaxis": "y"
          },
          {
           "alignmentgroup": "True",
           "hovertemplate": "variable=Imports<br>animation_frame=1993<br>Category=%{x}<br>% of supply=%{y}<extra></extra>",
           "legendgroup": "Imports",
           "marker": {
            "color": "#EF553B",
            "pattern": {
             "shape": ""
            }
           },
           "name": "Imports",
           "offsetgroup": "Imports",
           "orientation": "v",
           "showlegend": true,
           "textposition": "auto",
           "type": "bar",
           "x": [
            "Beverages",
            "Dairy",
            "Fish",
            "Fruits",
            "Meats",
            "Miscellaneous",
            "Oils",
            "Staples",
            "Vegetables"
           ],
           "xaxis": "x",
           "y": [
            99.99999999999999,
            0.9405815857890577,
            26.168104825822947,
            78.9750466173605,
            19.45975213020277,
            33.215044404000324,
            4.530044822643397,
            79.41228957230385,
            22.311483013384873
           ],
           "yaxis": "y"
          }
         ],
         "name": "1993"
        },
        {
         "data": [
          {
           "alignmentgroup": "True",
           "hovertemplate": "variable=Production<br>animation_frame=1994<br>Category=%{x}<br>% of supply=%{y}<extra></extra>",
           "legendgroup": "Production",
           "marker": {
            "color": "#636efa",
            "pattern": {
             "shape": ""
            }
           },
           "name": "Production",
           "offsetgroup": "Production",
           "orientation": "v",
           "showlegend": true,
           "textposition": "auto",
           "type": "bar",
           "x": [
            "Beverages",
            "Dairy",
            "Fish",
            "Fruits",
            "Meats",
            "Miscellaneous",
            "Oils",
            "Staples",
            "Vegetables"
           ],
           "xaxis": "x",
           "y": [
            0,
            98.96957691941829,
            65.13857971085399,
            21.301943950117504,
            80.82573894492677,
            67.74927424610462,
            95.29045379433074,
            20.177377465878326,
            80.15071668886569
           ],
           "yaxis": "y"
          },
          {
           "alignmentgroup": "True",
           "hovertemplate": "variable=Imports<br>animation_frame=1994<br>Category=%{x}<br>% of supply=%{y}<extra></extra>",
           "legendgroup": "Imports",
           "marker": {
            "color": "#EF553B",
            "pattern": {
             "shape": ""
            }
           },
           "name": "Imports",
           "offsetgroup": "Imports",
           "orientation": "v",
           "showlegend": true,
           "textposition": "auto",
           "type": "bar",
           "x": [
            "Beverages",
            "Dairy",
            "Fish",
            "Fruits",
            "Meats",
            "Miscellaneous",
            "Oils",
            "Staples",
            "Vegetables"
           ],
           "xaxis": "x",
           "y": [
            99.99999999999999,
            1.030423080581715,
            34.86142028914602,
            78.6980560498825,
            19.174261055073252,
            32.250725753895374,
            4.709546205669251,
            79.82262253412168,
            19.849283311134315
           ],
           "yaxis": "y"
          }
         ],
         "name": "1994"
        },
        {
         "data": [
          {
           "alignmentgroup": "True",
           "hovertemplate": "variable=Production<br>animation_frame=1995<br>Category=%{x}<br>% of supply=%{y}<extra></extra>",
           "legendgroup": "Production",
           "marker": {
            "color": "#636efa",
            "pattern": {
             "shape": ""
            }
           },
           "name": "Production",
           "offsetgroup": "Production",
           "orientation": "v",
           "showlegend": true,
           "textposition": "auto",
           "type": "bar",
           "x": [
            "Beverages",
            "Dairy",
            "Fish",
            "Fruits",
            "Meats",
            "Miscellaneous",
            "Oils",
            "Staples",
            "Vegetables"
           ],
           "xaxis": "x",
           "y": [
            0,
            99.22080882434702,
            53.36470976797952,
            14.645860493102017,
            82.0090587733886,
            69.08158797343647,
            90.83611929429678,
            20.57444314185229,
            79.99301822510311
           ],
           "yaxis": "y"
          },
          {
           "alignmentgroup": "True",
           "hovertemplate": "variable=Imports<br>animation_frame=1995<br>Category=%{x}<br>% of supply=%{y}<extra></extra>",
           "legendgroup": "Imports",
           "marker": {
            "color": "#EF553B",
            "pattern": {
             "shape": ""
            }
           },
           "name": "Imports",
           "offsetgroup": "Imports",
           "orientation": "v",
           "showlegend": true,
           "textposition": "auto",
           "type": "bar",
           "x": [
            "Beverages",
            "Dairy",
            "Fish",
            "Fruits",
            "Meats",
            "Miscellaneous",
            "Oils",
            "Staples",
            "Vegetables"
           ],
           "xaxis": "x",
           "y": [
            100,
            0.7791911756529861,
            46.63529023202048,
            85.354139506898,
            17.9909412266114,
            30.918412026563523,
            9.163880705703221,
            79.42555685814771,
            20.006981774896897
           ],
           "yaxis": "y"
          }
         ],
         "name": "1995"
        },
        {
         "data": [
          {
           "alignmentgroup": "True",
           "hovertemplate": "variable=Production<br>animation_frame=1996<br>Category=%{x}<br>% of supply=%{y}<extra></extra>",
           "legendgroup": "Production",
           "marker": {
            "color": "#636efa",
            "pattern": {
             "shape": ""
            }
           },
           "name": "Production",
           "offsetgroup": "Production",
           "orientation": "v",
           "showlegend": true,
           "textposition": "auto",
           "type": "bar",
           "x": [
            "Beverages",
            "Dairy",
            "Fish",
            "Fruits",
            "Meats",
            "Miscellaneous",
            "Oils",
            "Staples",
            "Vegetables"
           ],
           "xaxis": "x",
           "y": [
            0,
            99.10108272408863,
            59.19735788630906,
            10.683861933371288,
            82.6855430924771,
            78.21733772670042,
            90.75665240925092,
            19.188323246707014,
            79.37795301711269
           ],
           "yaxis": "y"
          },
          {
           "alignmentgroup": "True",
           "hovertemplate": "variable=Imports<br>animation_frame=1996<br>Category=%{x}<br>% of supply=%{y}<extra></extra>",
           "legendgroup": "Imports",
           "marker": {
            "color": "#EF553B",
            "pattern": {
             "shape": ""
            }
           },
           "name": "Imports",
           "offsetgroup": "Imports",
           "orientation": "v",
           "showlegend": true,
           "textposition": "auto",
           "type": "bar",
           "x": [
            "Beverages",
            "Dairy",
            "Fish",
            "Fruits",
            "Meats",
            "Miscellaneous",
            "Oils",
            "Staples",
            "Vegetables"
           ],
           "xaxis": "x",
           "y": [
            100,
            0.8989172759113873,
            40.80264211369095,
            89.31613806662871,
            17.314456907522906,
            21.782662273299582,
            9.243347590749082,
            80.81167675329299,
            20.622046982887312
           ],
           "yaxis": "y"
          }
         ],
         "name": "1996"
        },
        {
         "data": [
          {
           "alignmentgroup": "True",
           "hovertemplate": "variable=Production<br>animation_frame=1997<br>Category=%{x}<br>% of supply=%{y}<extra></extra>",
           "legendgroup": "Production",
           "marker": {
            "color": "#636efa",
            "pattern": {
             "shape": ""
            }
           },
           "name": "Production",
           "offsetgroup": "Production",
           "orientation": "v",
           "showlegend": true,
           "textposition": "auto",
           "type": "bar",
           "x": [
            "Beverages",
            "Dairy",
            "Fish",
            "Fruits",
            "Meats",
            "Miscellaneous",
            "Oils",
            "Staples",
            "Vegetables"
           ],
           "xaxis": "x",
           "y": [
            0,
            99.11571154373458,
            63.62483264040589,
            11.93432301633434,
            81.3688156588481,
            78.66014252405503,
            38.770296600995884,
            19.184463236347998,
            78.23569309795977
           ],
           "yaxis": "y"
          },
          {
           "alignmentgroup": "True",
           "hovertemplate": "variable=Imports<br>animation_frame=1997<br>Category=%{x}<br>% of supply=%{y}<extra></extra>",
           "legendgroup": "Imports",
           "marker": {
            "color": "#EF553B",
            "pattern": {
             "shape": ""
            }
           },
           "name": "Imports",
           "offsetgroup": "Imports",
           "orientation": "v",
           "showlegend": true,
           "textposition": "auto",
           "type": "bar",
           "x": [
            "Beverages",
            "Dairy",
            "Fish",
            "Fruits",
            "Meats",
            "Miscellaneous",
            "Oils",
            "Staples",
            "Vegetables"
           ],
           "xaxis": "x",
           "y": [
            100.00000000000001,
            0.8842884562654235,
            36.375167359594116,
            88.06567698366565,
            18.63118434115189,
            21.339857475944964,
            61.229703399004116,
            80.81553676365199,
            21.764306902040225
           ],
           "yaxis": "y"
          }
         ],
         "name": "1997"
        },
        {
         "data": [
          {
           "alignmentgroup": "True",
           "hovertemplate": "variable=Production<br>animation_frame=1998<br>Category=%{x}<br>% of supply=%{y}<extra></extra>",
           "legendgroup": "Production",
           "marker": {
            "color": "#636efa",
            "pattern": {
             "shape": ""
            }
           },
           "name": "Production",
           "offsetgroup": "Production",
           "orientation": "v",
           "showlegend": true,
           "textposition": "auto",
           "type": "bar",
           "x": [
            "Beverages",
            "Dairy",
            "Fish",
            "Fruits",
            "Meats",
            "Miscellaneous",
            "Oils",
            "Staples",
            "Vegetables"
           ],
           "xaxis": "x",
           "y": [
            0,
            99.07069248046048,
            62.38777940637596,
            12.785305114396458,
            82.16678855231343,
            74.61402244830627,
            85.04459373067692,
            19.76593601611588,
            79.23740449591035
           ],
           "yaxis": "y"
          },
          {
           "alignmentgroup": "True",
           "hovertemplate": "variable=Imports<br>animation_frame=1998<br>Category=%{x}<br>% of supply=%{y}<extra></extra>",
           "legendgroup": "Imports",
           "marker": {
            "color": "#EF553B",
            "pattern": {
             "shape": ""
            }
           },
           "name": "Imports",
           "offsetgroup": "Imports",
           "orientation": "v",
           "showlegend": true,
           "textposition": "auto",
           "type": "bar",
           "x": [
            "Beverages",
            "Dairy",
            "Fish",
            "Fruits",
            "Meats",
            "Miscellaneous",
            "Oils",
            "Staples",
            "Vegetables"
           ],
           "xaxis": "x",
           "y": [
            100,
            0.9293075195395318,
            37.612220593624045,
            87.21469488560354,
            17.83321144768656,
            25.385977551693724,
            14.955406269323074,
            80.23406398388411,
            20.76259550408964
           ],
           "yaxis": "y"
          }
         ],
         "name": "1998"
        },
        {
         "data": [
          {
           "alignmentgroup": "True",
           "hovertemplate": "variable=Production<br>animation_frame=1999<br>Category=%{x}<br>% of supply=%{y}<extra></extra>",
           "legendgroup": "Production",
           "marker": {
            "color": "#636efa",
            "pattern": {
             "shape": ""
            }
           },
           "name": "Production",
           "offsetgroup": "Production",
           "orientation": "v",
           "showlegend": true,
           "textposition": "auto",
           "type": "bar",
           "x": [
            "Beverages",
            "Dairy",
            "Fish",
            "Fruits",
            "Meats",
            "Miscellaneous",
            "Oils",
            "Staples",
            "Vegetables"
           ],
           "xaxis": "x",
           "y": [
            0,
            98.93574959712274,
            59.84827259208173,
            16.960033795893285,
            82.29643576784594,
            75.53092189149123,
            80.90300636383586,
            20.65188672447337,
            79.91619218485894
           ],
           "yaxis": "y"
          },
          {
           "alignmentgroup": "True",
           "hovertemplate": "variable=Imports<br>animation_frame=1999<br>Category=%{x}<br>% of supply=%{y}<extra></extra>",
           "legendgroup": "Imports",
           "marker": {
            "color": "#EF553B",
            "pattern": {
             "shape": ""
            }
           },
           "name": "Imports",
           "offsetgroup": "Imports",
           "orientation": "v",
           "showlegend": true,
           "textposition": "auto",
           "type": "bar",
           "x": [
            "Beverages",
            "Dairy",
            "Fish",
            "Fruits",
            "Meats",
            "Miscellaneous",
            "Oils",
            "Staples",
            "Vegetables"
           ],
           "xaxis": "x",
           "y": [
            100,
            1.0642504028772664,
            40.15172740791828,
            83.03996620410672,
            17.703564232154065,
            24.469078108508786,
            19.096993636164147,
            79.34811327552663,
            20.083807815141057
           ],
           "yaxis": "y"
          }
         ],
         "name": "1999"
        },
        {
         "data": [
          {
           "alignmentgroup": "True",
           "hovertemplate": "variable=Production<br>animation_frame=2000<br>Category=%{x}<br>% of supply=%{y}<extra></extra>",
           "legendgroup": "Production",
           "marker": {
            "color": "#636efa",
            "pattern": {
             "shape": ""
            }
           },
           "name": "Production",
           "offsetgroup": "Production",
           "orientation": "v",
           "showlegend": true,
           "textposition": "auto",
           "type": "bar",
           "x": [
            "Beverages",
            "Dairy",
            "Fish",
            "Fruits",
            "Meats",
            "Miscellaneous",
            "Oils",
            "Staples",
            "Vegetables"
           ],
           "xaxis": "x",
           "y": [
            0,
            98.42967903921897,
            58.156870966990475,
            14.258818772526686,
            82.11030528346834,
            73.30653776463575,
            75.47904874252802,
            21.397794493536846,
            80.02759779686178
           ],
           "yaxis": "y"
          },
          {
           "alignmentgroup": "True",
           "hovertemplate": "variable=Imports<br>animation_frame=2000<br>Category=%{x}<br>% of supply=%{y}<extra></extra>",
           "legendgroup": "Imports",
           "marker": {
            "color": "#EF553B",
            "pattern": {
             "shape": ""
            }
           },
           "name": "Imports",
           "offsetgroup": "Imports",
           "orientation": "v",
           "showlegend": true,
           "textposition": "auto",
           "type": "bar",
           "x": [
            "Beverages",
            "Dairy",
            "Fish",
            "Fruits",
            "Meats",
            "Miscellaneous",
            "Oils",
            "Staples",
            "Vegetables"
           ],
           "xaxis": "x",
           "y": [
            100,
            1.5703209607810387,
            41.84312903300953,
            85.74118122747332,
            17.889694716531668,
            26.693462235364247,
            24.520951257471967,
            78.60220550646315,
            19.972402203138216
           ],
           "yaxis": "y"
          }
         ],
         "name": "2000"
        },
        {
         "data": [
          {
           "alignmentgroup": "True",
           "hovertemplate": "variable=Production<br>animation_frame=2001<br>Category=%{x}<br>% of supply=%{y}<extra></extra>",
           "legendgroup": "Production",
           "marker": {
            "color": "#636efa",
            "pattern": {
             "shape": ""
            }
           },
           "name": "Production",
           "offsetgroup": "Production",
           "orientation": "v",
           "showlegend": true,
           "textposition": "auto",
           "type": "bar",
           "x": [
            "Beverages",
            "Dairy",
            "Fish",
            "Fruits",
            "Meats",
            "Miscellaneous",
            "Oils",
            "Staples",
            "Vegetables"
           ],
           "xaxis": "x",
           "y": [
            0,
            98.34550058805455,
            62.13479099133456,
            13.41368092966234,
            80.51841537496367,
            72.95704370018139,
            76.6259499014917,
            21.89099816289039,
            68.60520446615655
           ],
           "yaxis": "y"
          },
          {
           "alignmentgroup": "True",
           "hovertemplate": "variable=Imports<br>animation_frame=2001<br>Category=%{x}<br>% of supply=%{y}<extra></extra>",
           "legendgroup": "Imports",
           "marker": {
            "color": "#EF553B",
            "pattern": {
             "shape": ""
            }
           },
           "name": "Imports",
           "offsetgroup": "Imports",
           "orientation": "v",
           "showlegend": true,
           "textposition": "auto",
           "type": "bar",
           "x": [
            "Beverages",
            "Dairy",
            "Fish",
            "Fruits",
            "Meats",
            "Miscellaneous",
            "Oils",
            "Staples",
            "Vegetables"
           ],
           "xaxis": "x",
           "y": [
            99.99999999999999,
            1.6544994119454541,
            37.86520900866544,
            86.58631907033767,
            19.48158462503634,
            27.042956299818606,
            23.374050098508302,
            78.10900183710962,
            31.39479553384346
           ],
           "yaxis": "y"
          }
         ],
         "name": "2001"
        },
        {
         "data": [
          {
           "alignmentgroup": "True",
           "hovertemplate": "variable=Production<br>animation_frame=2002<br>Category=%{x}<br>% of supply=%{y}<extra></extra>",
           "legendgroup": "Production",
           "marker": {
            "color": "#636efa",
            "pattern": {
             "shape": ""
            }
           },
           "name": "Production",
           "offsetgroup": "Production",
           "orientation": "v",
           "showlegend": true,
           "textposition": "auto",
           "type": "bar",
           "x": [
            "Beverages",
            "Dairy",
            "Fish",
            "Fruits",
            "Meats",
            "Miscellaneous",
            "Oils",
            "Staples",
            "Vegetables"
           ],
           "xaxis": "x",
           "y": [
            0,
            98.21864362814384,
            61.92091789525631,
            10.411977875262254,
            80.35581157914592,
            71.59317163672564,
            23.689472039987503,
            23.85318717855473,
            66.26812284753095
           ],
           "yaxis": "y"
          },
          {
           "alignmentgroup": "True",
           "hovertemplate": "variable=Imports<br>animation_frame=2002<br>Category=%{x}<br>% of supply=%{y}<extra></extra>",
           "legendgroup": "Imports",
           "marker": {
            "color": "#EF553B",
            "pattern": {
             "shape": ""
            }
           },
           "name": "Imports",
           "offsetgroup": "Imports",
           "orientation": "v",
           "showlegend": true,
           "textposition": "auto",
           "type": "bar",
           "x": [
            "Beverages",
            "Dairy",
            "Fish",
            "Fruits",
            "Meats",
            "Miscellaneous",
            "Oils",
            "Staples",
            "Vegetables"
           ],
           "xaxis": "x",
           "y": [
            99.99999999999999,
            1.7813563718561574,
            38.07908210474369,
            89.58802212473775,
            19.64418842085408,
            28.40682836327436,
            76.3105279600125,
            76.14681282144527,
            33.731877152469046
           ],
           "yaxis": "y"
          }
         ],
         "name": "2002"
        },
        {
         "data": [
          {
           "alignmentgroup": "True",
           "hovertemplate": "variable=Production<br>animation_frame=2003<br>Category=%{x}<br>% of supply=%{y}<extra></extra>",
           "legendgroup": "Production",
           "marker": {
            "color": "#636efa",
            "pattern": {
             "shape": ""
            }
           },
           "name": "Production",
           "offsetgroup": "Production",
           "orientation": "v",
           "showlegend": true,
           "textposition": "auto",
           "type": "bar",
           "x": [
            "Beverages",
            "Dairy",
            "Fish",
            "Fruits",
            "Meats",
            "Miscellaneous",
            "Oils",
            "Staples",
            "Vegetables"
           ],
           "xaxis": "x",
           "y": [
            0,
            98.30447406347638,
            62.67520051851251,
            11.32768119507617,
            80.4958434993955,
            73.69857351787873,
            26.31595507032061,
            22.644590724084217,
            69.91351728070454
           ],
           "yaxis": "y"
          },
          {
           "alignmentgroup": "True",
           "hovertemplate": "variable=Imports<br>animation_frame=2003<br>Category=%{x}<br>% of supply=%{y}<extra></extra>",
           "legendgroup": "Imports",
           "marker": {
            "color": "#EF553B",
            "pattern": {
             "shape": ""
            }
           },
           "name": "Imports",
           "offsetgroup": "Imports",
           "orientation": "v",
           "showlegend": true,
           "textposition": "auto",
           "type": "bar",
           "x": [
            "Beverages",
            "Dairy",
            "Fish",
            "Fruits",
            "Meats",
            "Miscellaneous",
            "Oils",
            "Staples",
            "Vegetables"
           ],
           "xaxis": "x",
           "y": [
            100,
            1.6955259365236328,
            37.324799481487474,
            88.67231880492383,
            19.5041565006045,
            26.301426482121286,
            73.68404492967939,
            77.35540927591578,
            30.08648271929547
           ],
           "yaxis": "y"
          }
         ],
         "name": "2003"
        },
        {
         "data": [
          {
           "alignmentgroup": "True",
           "hovertemplate": "variable=Production<br>animation_frame=2004<br>Category=%{x}<br>% of supply=%{y}<extra></extra>",
           "legendgroup": "Production",
           "marker": {
            "color": "#636efa",
            "pattern": {
             "shape": ""
            }
           },
           "name": "Production",
           "offsetgroup": "Production",
           "orientation": "v",
           "showlegend": true,
           "textposition": "auto",
           "type": "bar",
           "x": [
            "Beverages",
            "Dairy",
            "Fish",
            "Fruits",
            "Meats",
            "Miscellaneous",
            "Oils",
            "Staples",
            "Vegetables"
           ],
           "xaxis": "x",
           "y": [
            0,
            98.29668260625101,
            61.32855680655067,
            11.80500188527728,
            85.16286774333068,
            73.8058745722144,
            24.43241051778061,
            20.083551842140352,
            71.2233233025492
           ],
           "yaxis": "y"
          },
          {
           "alignmentgroup": "True",
           "hovertemplate": "variable=Imports<br>animation_frame=2004<br>Category=%{x}<br>% of supply=%{y}<extra></extra>",
           "legendgroup": "Imports",
           "marker": {
            "color": "#EF553B",
            "pattern": {
             "shape": ""
            }
           },
           "name": "Imports",
           "offsetgroup": "Imports",
           "orientation": "v",
           "showlegend": true,
           "textposition": "auto",
           "type": "bar",
           "x": [
            "Beverages",
            "Dairy",
            "Fish",
            "Fruits",
            "Meats",
            "Miscellaneous",
            "Oils",
            "Staples",
            "Vegetables"
           ],
           "xaxis": "x",
           "y": [
            100,
            1.7033173937490007,
            38.671443193449335,
            88.19499811472272,
            14.837132256669323,
            26.194125427785597,
            75.56758948221939,
            79.91644815785966,
            28.776676697450796
           ],
           "yaxis": "y"
          }
         ],
         "name": "2004"
        },
        {
         "data": [
          {
           "alignmentgroup": "True",
           "hovertemplate": "variable=Production<br>animation_frame=2005<br>Category=%{x}<br>% of supply=%{y}<extra></extra>",
           "legendgroup": "Production",
           "marker": {
            "color": "#636efa",
            "pattern": {
             "shape": ""
            }
           },
           "name": "Production",
           "offsetgroup": "Production",
           "orientation": "v",
           "showlegend": true,
           "textposition": "auto",
           "type": "bar",
           "x": [
            "Beverages",
            "Dairy",
            "Fish",
            "Fruits",
            "Meats",
            "Miscellaneous",
            "Oils",
            "Staples",
            "Vegetables"
           ],
           "xaxis": "x",
           "y": [
            0,
            98.18292145878354,
            62.90904833453664,
            10.871428732559583,
            84.26036529812434,
            71.26292714648318,
            24.58278145695364,
            20.733389098636763,
            68.24705285420283
           ],
           "yaxis": "y"
          },
          {
           "alignmentgroup": "True",
           "hovertemplate": "variable=Imports<br>animation_frame=2005<br>Category=%{x}<br>% of supply=%{y}<extra></extra>",
           "legendgroup": "Imports",
           "marker": {
            "color": "#EF553B",
            "pattern": {
             "shape": ""
            }
           },
           "name": "Imports",
           "offsetgroup": "Imports",
           "orientation": "v",
           "showlegend": true,
           "textposition": "auto",
           "type": "bar",
           "x": [
            "Beverages",
            "Dairy",
            "Fish",
            "Fruits",
            "Meats",
            "Miscellaneous",
            "Oils",
            "Staples",
            "Vegetables"
           ],
           "xaxis": "x",
           "y": [
            100.00000000000001,
            1.8170785412164725,
            37.09095166546334,
            89.12857126744042,
            15.73963470187566,
            28.737072853516814,
            75.41721854304636,
            79.26661090136324,
            31.75294714579718
           ],
           "yaxis": "y"
          }
         ],
         "name": "2005"
        },
        {
         "data": [
          {
           "alignmentgroup": "True",
           "hovertemplate": "variable=Production<br>animation_frame=2006<br>Category=%{x}<br>% of supply=%{y}<extra></extra>",
           "legendgroup": "Production",
           "marker": {
            "color": "#636efa",
            "pattern": {
             "shape": ""
            }
           },
           "name": "Production",
           "offsetgroup": "Production",
           "orientation": "v",
           "showlegend": true,
           "textposition": "auto",
           "type": "bar",
           "x": [
            "Beverages",
            "Dairy",
            "Fish",
            "Fruits",
            "Meats",
            "Miscellaneous",
            "Oils",
            "Staples",
            "Vegetables"
           ],
           "xaxis": "x",
           "y": [
            0,
            98.38120677855296,
            62.615977354930024,
            11.458852867830425,
            82.15450832847158,
            71.57333470712483,
            20.638787016257048,
            19.60057428161227,
            70.94697611384042
           ],
           "yaxis": "y"
          },
          {
           "alignmentgroup": "True",
           "hovertemplate": "variable=Imports<br>animation_frame=2006<br>Category=%{x}<br>% of supply=%{y}<extra></extra>",
           "legendgroup": "Imports",
           "marker": {
            "color": "#EF553B",
            "pattern": {
             "shape": ""
            }
           },
           "name": "Imports",
           "offsetgroup": "Imports",
           "orientation": "v",
           "showlegend": true,
           "textposition": "auto",
           "type": "bar",
           "x": [
            "Beverages",
            "Dairy",
            "Fish",
            "Fruits",
            "Meats",
            "Miscellaneous",
            "Oils",
            "Staples",
            "Vegetables"
           ],
           "xaxis": "x",
           "y": [
            100,
            1.618793221447031,
            37.38402264506998,
            88.54114713216958,
            17.845491671528414,
            28.426665292875175,
            79.36121298374296,
            80.39942571838773,
            29.053023886159583
           ],
           "yaxis": "y"
          }
         ],
         "name": "2006"
        },
        {
         "data": [
          {
           "alignmentgroup": "True",
           "hovertemplate": "variable=Production<br>animation_frame=2007<br>Category=%{x}<br>% of supply=%{y}<extra></extra>",
           "legendgroup": "Production",
           "marker": {
            "color": "#636efa",
            "pattern": {
             "shape": ""
            }
           },
           "name": "Production",
           "offsetgroup": "Production",
           "orientation": "v",
           "showlegend": true,
           "textposition": "auto",
           "type": "bar",
           "x": [
            "Beverages",
            "Dairy",
            "Fish",
            "Fruits",
            "Meats",
            "Miscellaneous",
            "Oils",
            "Staples",
            "Vegetables"
           ],
           "xaxis": "x",
           "y": [
            0,
            98.85493331822035,
            59.542567233129844,
            11.129768788323165,
            79.76027969289075,
            69.214573416331,
            24.287085487816203,
            17.81196647524445,
            70.62699123192039
           ],
           "yaxis": "y"
          },
          {
           "alignmentgroup": "True",
           "hovertemplate": "variable=Imports<br>animation_frame=2007<br>Category=%{x}<br>% of supply=%{y}<extra></extra>",
           "legendgroup": "Imports",
           "marker": {
            "color": "#EF553B",
            "pattern": {
             "shape": ""
            }
           },
           "name": "Imports",
           "offsetgroup": "Imports",
           "orientation": "v",
           "showlegend": true,
           "textposition": "auto",
           "type": "bar",
           "x": [
            "Beverages",
            "Dairy",
            "Fish",
            "Fruits",
            "Meats",
            "Miscellaneous",
            "Oils",
            "Staples",
            "Vegetables"
           ],
           "xaxis": "x",
           "y": [
            100,
            1.1450666817796578,
            40.45743276687015,
            88.87023121167684,
            20.23972030710924,
            30.785426583668983,
            75.71291451218379,
            82.18803352475554,
            29.3730087680796
           ],
           "yaxis": "y"
          }
         ],
         "name": "2007"
        },
        {
         "data": [
          {
           "alignmentgroup": "True",
           "hovertemplate": "variable=Production<br>animation_frame=2008<br>Category=%{x}<br>% of supply=%{y}<extra></extra>",
           "legendgroup": "Production",
           "marker": {
            "color": "#636efa",
            "pattern": {
             "shape": ""
            }
           },
           "name": "Production",
           "offsetgroup": "Production",
           "orientation": "v",
           "showlegend": true,
           "textposition": "auto",
           "type": "bar",
           "x": [
            "Beverages",
            "Dairy",
            "Fish",
            "Fruits",
            "Meats",
            "Miscellaneous",
            "Oils",
            "Staples",
            "Vegetables"
           ],
           "xaxis": "x",
           "y": [
            0,
            98.84414209657835,
            57.98716427095696,
            11.061674731403265,
            79.6136250941985,
            67.7307327842051,
            25.662402231249622,
            15.518551908221529,
            69.42342235175163
           ],
           "yaxis": "y"
          },
          {
           "alignmentgroup": "True",
           "hovertemplate": "variable=Imports<br>animation_frame=2008<br>Category=%{x}<br>% of supply=%{y}<extra></extra>",
           "legendgroup": "Imports",
           "marker": {
            "color": "#EF553B",
            "pattern": {
             "shape": ""
            }
           },
           "name": "Imports",
           "offsetgroup": "Imports",
           "orientation": "v",
           "showlegend": true,
           "textposition": "auto",
           "type": "bar",
           "x": [
            "Beverages",
            "Dairy",
            "Fish",
            "Fruits",
            "Meats",
            "Miscellaneous",
            "Oils",
            "Staples",
            "Vegetables"
           ],
           "xaxis": "x",
           "y": [
            100,
            1.1558579034216507,
            42.01283572904303,
            88.93832526859674,
            20.386374905801507,
            32.2692672157949,
            74.33759776875038,
            84.48144809177849,
            30.57657764824838
           ],
           "yaxis": "y"
          }
         ],
         "name": "2008"
        },
        {
         "data": [
          {
           "alignmentgroup": "True",
           "hovertemplate": "variable=Production<br>animation_frame=2009<br>Category=%{x}<br>% of supply=%{y}<extra></extra>",
           "legendgroup": "Production",
           "marker": {
            "color": "#636efa",
            "pattern": {
             "shape": ""
            }
           },
           "name": "Production",
           "offsetgroup": "Production",
           "orientation": "v",
           "showlegend": true,
           "textposition": "auto",
           "type": "bar",
           "x": [
            "Beverages",
            "Dairy",
            "Fish",
            "Fruits",
            "Meats",
            "Miscellaneous",
            "Oils",
            "Staples",
            "Vegetables"
           ],
           "xaxis": "x",
           "y": [
            0,
            99.00625162802812,
            57.97330675564415,
            11.763882298950708,
            78.51783463340318,
            65.56438095848146,
            28.044641691685158,
            16.333785319016382,
            67.88481401864009
           ],
           "yaxis": "y"
          },
          {
           "alignmentgroup": "True",
           "hovertemplate": "variable=Imports<br>animation_frame=2009<br>Category=%{x}<br>% of supply=%{y}<extra></extra>",
           "legendgroup": "Imports",
           "marker": {
            "color": "#EF553B",
            "pattern": {
             "shape": ""
            }
           },
           "name": "Imports",
           "offsetgroup": "Imports",
           "orientation": "v",
           "showlegend": true,
           "textposition": "auto",
           "type": "bar",
           "x": [
            "Beverages",
            "Dairy",
            "Fish",
            "Fruits",
            "Meats",
            "Miscellaneous",
            "Oils",
            "Staples",
            "Vegetables"
           ],
           "xaxis": "x",
           "y": [
            100,
            0.9937483719718674,
            42.02669324435586,
            88.23611770104928,
            21.48216536659683,
            34.435619041518535,
            71.95535830831484,
            83.66621468098363,
            32.11518598135993
           ],
           "yaxis": "y"
          }
         ],
         "name": "2009"
        },
        {
         "data": [
          {
           "alignmentgroup": "True",
           "hovertemplate": "variable=Production<br>animation_frame=2010<br>Category=%{x}<br>% of supply=%{y}<extra></extra>",
           "legendgroup": "Production",
           "marker": {
            "color": "#636efa",
            "pattern": {
             "shape": ""
            }
           },
           "name": "Production",
           "offsetgroup": "Production",
           "orientation": "v",
           "showlegend": true,
           "textposition": "auto",
           "type": "bar",
           "x": [
            "Beverages",
            "Dairy",
            "Fish",
            "Fruits",
            "Meats",
            "Miscellaneous",
            "Oils",
            "Staples",
            "Vegetables"
           ],
           "xaxis": "x",
           "y": [
            0,
            98.99551474576944,
            58.276184877974444,
            11.04254569670603,
            78.89733570965102,
            65.76966234826074,
            29.09910564967644,
            17.664807352561684,
            65.33203782624172
           ],
           "yaxis": "y"
          },
          {
           "alignmentgroup": "True",
           "hovertemplate": "variable=Imports<br>animation_frame=2010<br>Category=%{x}<br>% of supply=%{y}<extra></extra>",
           "legendgroup": "Imports",
           "marker": {
            "color": "#EF553B",
            "pattern": {
             "shape": ""
            }
           },
           "name": "Imports",
           "offsetgroup": "Imports",
           "orientation": "v",
           "showlegend": true,
           "textposition": "auto",
           "type": "bar",
           "x": [
            "Beverages",
            "Dairy",
            "Fish",
            "Fruits",
            "Meats",
            "Miscellaneous",
            "Oils",
            "Staples",
            "Vegetables"
           ],
           "xaxis": "x",
           "y": [
            100,
            1.0044852542305607,
            41.723815122025556,
            88.95745430329396,
            21.102664290348997,
            34.23033765173927,
            70.90089435032357,
            82.33519264743832,
            34.66796217375828
           ],
           "yaxis": "y"
          }
         ],
         "name": "2010"
        },
        {
         "data": [
          {
           "alignmentgroup": "True",
           "hovertemplate": "variable=Production<br>animation_frame=2011<br>Category=%{x}<br>% of supply=%{y}<extra></extra>",
           "legendgroup": "Production",
           "marker": {
            "color": "#636efa",
            "pattern": {
             "shape": ""
            }
           },
           "name": "Production",
           "offsetgroup": "Production",
           "orientation": "v",
           "showlegend": true,
           "textposition": "auto",
           "type": "bar",
           "x": [
            "Beverages",
            "Dairy",
            "Fish",
            "Fruits",
            "Meats",
            "Miscellaneous",
            "Oils",
            "Staples",
            "Vegetables"
           ],
           "xaxis": "x",
           "y": [
            0,
            99.05193778012128,
            55.28051354203306,
            11.600385914610225,
            76.81489608694015,
            63.85733998513958,
            32.509352306902365,
            16.52822030040965,
            62.877341851059
           ],
           "yaxis": "y"
          },
          {
           "alignmentgroup": "True",
           "hovertemplate": "variable=Imports<br>animation_frame=2011<br>Category=%{x}<br>% of supply=%{y}<extra></extra>",
           "legendgroup": "Imports",
           "marker": {
            "color": "#EF553B",
            "pattern": {
             "shape": ""
            }
           },
           "name": "Imports",
           "offsetgroup": "Imports",
           "orientation": "v",
           "showlegend": true,
           "textposition": "auto",
           "type": "bar",
           "x": [
            "Beverages",
            "Dairy",
            "Fish",
            "Fruits",
            "Meats",
            "Miscellaneous",
            "Oils",
            "Staples",
            "Vegetables"
           ],
           "xaxis": "x",
           "y": [
            100,
            0.948062219878724,
            44.71948645796694,
            88.39961408538979,
            23.185103913059837,
            36.14266001486042,
            67.49064769309763,
            83.47177969959034,
            37.12265814894101
           ],
           "yaxis": "y"
          }
         ],
         "name": "2011"
        },
        {
         "data": [
          {
           "alignmentgroup": "True",
           "hovertemplate": "variable=Production<br>animation_frame=2012<br>Category=%{x}<br>% of supply=%{y}<extra></extra>",
           "legendgroup": "Production",
           "marker": {
            "color": "#636efa",
            "pattern": {
             "shape": ""
            }
           },
           "name": "Production",
           "offsetgroup": "Production",
           "orientation": "v",
           "showlegend": true,
           "textposition": "auto",
           "type": "bar",
           "x": [
            "Beverages",
            "Dairy",
            "Fish",
            "Fruits",
            "Meats",
            "Miscellaneous",
            "Oils",
            "Staples",
            "Vegetables"
           ],
           "xaxis": "x",
           "y": [
            0,
            99.0429134310887,
            54.17127383504457,
            12.058229987753764,
            74.41730304857467,
            65.11285548567655,
            35.10002878526194,
            16.272761055369752,
            63.93360840716934
           ],
           "yaxis": "y"
          },
          {
           "alignmentgroup": "True",
           "hovertemplate": "variable=Imports<br>animation_frame=2012<br>Category=%{x}<br>% of supply=%{y}<extra></extra>",
           "legendgroup": "Imports",
           "marker": {
            "color": "#EF553B",
            "pattern": {
             "shape": ""
            }
           },
           "name": "Imports",
           "offsetgroup": "Imports",
           "orientation": "v",
           "showlegend": true,
           "textposition": "auto",
           "type": "bar",
           "x": [
            "Beverages",
            "Dairy",
            "Fish",
            "Fruits",
            "Meats",
            "Miscellaneous",
            "Oils",
            "Staples",
            "Vegetables"
           ],
           "xaxis": "x",
           "y": [
            100,
            0.9570865689112781,
            45.828726164955434,
            87.94177001224624,
            25.58269695142533,
            34.88714451432347,
            64.89997121473804,
            83.72723894463024,
            36.06639159283066
           ],
           "yaxis": "y"
          }
         ],
         "name": "2012"
        },
        {
         "data": [
          {
           "alignmentgroup": "True",
           "hovertemplate": "variable=Production<br>animation_frame=2013<br>Category=%{x}<br>% of supply=%{y}<extra></extra>",
           "legendgroup": "Production",
           "marker": {
            "color": "#636efa",
            "pattern": {
             "shape": ""
            }
           },
           "name": "Production",
           "offsetgroup": "Production",
           "orientation": "v",
           "showlegend": true,
           "textposition": "auto",
           "type": "bar",
           "x": [
            "Beverages",
            "Dairy",
            "Fish",
            "Fruits",
            "Meats",
            "Miscellaneous",
            "Oils",
            "Staples",
            "Vegetables"
           ],
           "xaxis": "x",
           "y": [
            0,
            99.08673862862382,
            52.01048758455064,
            12.574703822725311,
            74.71470088913188,
            65.87291845669162,
            33.51588581717243,
            15.478668972087936,
            63.01914203642344
           ],
           "yaxis": "y"
          },
          {
           "alignmentgroup": "True",
           "hovertemplate": "variable=Imports<br>animation_frame=2013<br>Category=%{x}<br>% of supply=%{y}<extra></extra>",
           "legendgroup": "Imports",
           "marker": {
            "color": "#EF553B",
            "pattern": {
             "shape": ""
            }
           },
           "name": "Imports",
           "offsetgroup": "Imports",
           "orientation": "v",
           "showlegend": true,
           "textposition": "auto",
           "type": "bar",
           "x": [
            "Beverages",
            "Dairy",
            "Fish",
            "Fruits",
            "Meats",
            "Miscellaneous",
            "Oils",
            "Staples",
            "Vegetables"
           ],
           "xaxis": "x",
           "y": [
            100,
            0.913261371376173,
            47.989512415449354,
            87.42529617727469,
            25.285299110868127,
            34.12708154330837,
            66.48411418282757,
            84.52133102791205,
            36.98085796357656
           ],
           "yaxis": "y"
          }
         ],
         "name": "2013"
        },
        {
         "data": [
          {
           "alignmentgroup": "True",
           "hovertemplate": "variable=Production<br>animation_frame=2014<br>Category=%{x}<br>% of supply=%{y}<extra></extra>",
           "legendgroup": "Production",
           "marker": {
            "color": "#636efa",
            "pattern": {
             "shape": ""
            }
           },
           "name": "Production",
           "offsetgroup": "Production",
           "orientation": "v",
           "showlegend": true,
           "textposition": "auto",
           "type": "bar",
           "x": [
            "Beverages",
            "Dairy",
            "Fish",
            "Fruits",
            "Meats",
            "Miscellaneous",
            "Oils",
            "Staples",
            "Vegetables"
           ],
           "xaxis": "x",
           "y": [
            0,
            98.982249988723,
            51.82836077210176,
            14.205645694766849,
            75.3773491241756,
            65.0237236763816,
            31.997690531177824,
            15.713482432751084,
            65.04898930069898
           ],
           "yaxis": "y"
          },
          {
           "alignmentgroup": "True",
           "hovertemplate": "variable=Imports<br>animation_frame=2014<br>Category=%{x}<br>% of supply=%{y}<extra></extra>",
           "legendgroup": "Imports",
           "marker": {
            "color": "#EF553B",
            "pattern": {
             "shape": ""
            }
           },
           "name": "Imports",
           "offsetgroup": "Imports",
           "orientation": "v",
           "showlegend": true,
           "textposition": "auto",
           "type": "bar",
           "x": [
            "Beverages",
            "Dairy",
            "Fish",
            "Fruits",
            "Meats",
            "Miscellaneous",
            "Oils",
            "Staples",
            "Vegetables"
           ],
           "xaxis": "x",
           "y": [
            100,
            1.0177500112770084,
            48.17163922789824,
            85.79435430523317,
            24.622650875824412,
            34.97627632361841,
            68.00230946882216,
            84.28651756724891,
            34.95101069930103
           ],
           "yaxis": "y"
          }
         ],
         "name": "2014"
        },
        {
         "data": [
          {
           "alignmentgroup": "True",
           "hovertemplate": "variable=Production<br>animation_frame=2015<br>Category=%{x}<br>% of supply=%{y}<extra></extra>",
           "legendgroup": "Production",
           "marker": {
            "color": "#636efa",
            "pattern": {
             "shape": ""
            }
           },
           "name": "Production",
           "offsetgroup": "Production",
           "orientation": "v",
           "showlegend": true,
           "textposition": "auto",
           "type": "bar",
           "x": [
            "Beverages",
            "Dairy",
            "Fish",
            "Fruits",
            "Meats",
            "Miscellaneous",
            "Oils",
            "Staples",
            "Vegetables"
           ],
           "xaxis": "x",
           "y": [
            0,
            99.08399169097598,
            54.652902778078975,
            13.601707255357848,
            74.26792184446174,
            60.16612443497538,
            33.200155159038026,
            16.066088240723644,
            66.54799766377657
           ],
           "yaxis": "y"
          },
          {
           "alignmentgroup": "True",
           "hovertemplate": "variable=Imports<br>animation_frame=2015<br>Category=%{x}<br>% of supply=%{y}<extra></extra>",
           "legendgroup": "Imports",
           "marker": {
            "color": "#EF553B",
            "pattern": {
             "shape": ""
            }
           },
           "name": "Imports",
           "offsetgroup": "Imports",
           "orientation": "v",
           "showlegend": true,
           "textposition": "auto",
           "type": "bar",
           "x": [
            "Beverages",
            "Dairy",
            "Fish",
            "Fruits",
            "Meats",
            "Miscellaneous",
            "Oils",
            "Staples",
            "Vegetables"
           ],
           "xaxis": "x",
           "y": [
            99.99999999999999,
            0.9160083090240256,
            45.34709722192101,
            86.39829274464215,
            25.732078155538257,
            39.83387556502461,
            66.799844840962,
            83.93391175927634,
            33.452002336223416
           ],
           "yaxis": "y"
          }
         ],
         "name": "2015"
        },
        {
         "data": [
          {
           "alignmentgroup": "True",
           "hovertemplate": "variable=Production<br>animation_frame=2016<br>Category=%{x}<br>% of supply=%{y}<extra></extra>",
           "legendgroup": "Production",
           "marker": {
            "color": "#636efa",
            "pattern": {
             "shape": ""
            }
           },
           "name": "Production",
           "offsetgroup": "Production",
           "orientation": "v",
           "showlegend": true,
           "textposition": "auto",
           "type": "bar",
           "x": [
            "Beverages",
            "Dairy",
            "Fish",
            "Fruits",
            "Meats",
            "Miscellaneous",
            "Oils",
            "Staples",
            "Vegetables"
           ],
           "xaxis": "x",
           "y": [
            0,
            99.16559511710307,
            55.954638928264814,
            15.81162547448717,
            76.63892974101876,
            60.25925823082406,
            36.05975219052766,
            15.854849208071167,
            66.33452996075228
           ],
           "yaxis": "y"
          },
          {
           "alignmentgroup": "True",
           "hovertemplate": "variable=Imports<br>animation_frame=2016<br>Category=%{x}<br>% of supply=%{y}<extra></extra>",
           "legendgroup": "Imports",
           "marker": {
            "color": "#EF553B",
            "pattern": {
             "shape": ""
            }
           },
           "name": "Imports",
           "offsetgroup": "Imports",
           "orientation": "v",
           "showlegend": true,
           "textposition": "auto",
           "type": "bar",
           "x": [
            "Beverages",
            "Dairy",
            "Fish",
            "Fruits",
            "Meats",
            "Miscellaneous",
            "Oils",
            "Staples",
            "Vegetables"
           ],
           "xaxis": "x",
           "y": [
            100,
            0.8344048828969461,
            44.04536107173518,
            84.18837452551284,
            23.361070258981243,
            39.740741769175955,
            63.940247809472346,
            84.14515079192884,
            33.66547003924772
           ],
           "yaxis": "y"
          }
         ],
         "name": "2016"
        },
        {
         "data": [
          {
           "alignmentgroup": "True",
           "hovertemplate": "variable=Production<br>animation_frame=2017<br>Category=%{x}<br>% of supply=%{y}<extra></extra>",
           "legendgroup": "Production",
           "marker": {
            "color": "#636efa",
            "pattern": {
             "shape": ""
            }
           },
           "name": "Production",
           "offsetgroup": "Production",
           "orientation": "v",
           "showlegend": true,
           "textposition": "auto",
           "type": "bar",
           "x": [
            "Beverages",
            "Dairy",
            "Fish",
            "Fruits",
            "Meats",
            "Miscellaneous",
            "Oils",
            "Staples",
            "Vegetables"
           ],
           "xaxis": "x",
           "y": [
            0,
            99.04287630558763,
            54.557831548982,
            13.590623668400768,
            78.514751749363,
            60.639025384388944,
            44.379615651393365,
            15.778703368344802,
            65.65522566075964
           ],
           "yaxis": "y"
          },
          {
           "alignmentgroup": "True",
           "hovertemplate": "variable=Imports<br>animation_frame=2017<br>Category=%{x}<br>% of supply=%{y}<extra></extra>",
           "legendgroup": "Imports",
           "marker": {
            "color": "#EF553B",
            "pattern": {
             "shape": ""
            }
           },
           "name": "Imports",
           "offsetgroup": "Imports",
           "orientation": "v",
           "showlegend": true,
           "textposition": "auto",
           "type": "bar",
           "x": [
            "Beverages",
            "Dairy",
            "Fish",
            "Fruits",
            "Meats",
            "Miscellaneous",
            "Oils",
            "Staples",
            "Vegetables"
           ],
           "xaxis": "x",
           "y": [
            100,
            0.9571236944123829,
            45.44216845101801,
            86.40937633159922,
            21.485248250636985,
            39.360974615611056,
            55.620384348606635,
            84.22129663165519,
            34.344774339240345
           ],
           "yaxis": "y"
          }
         ],
         "name": "2017"
        },
        {
         "data": [
          {
           "alignmentgroup": "True",
           "hovertemplate": "variable=Production<br>animation_frame=2018<br>Category=%{x}<br>% of supply=%{y}<extra></extra>",
           "legendgroup": "Production",
           "marker": {
            "color": "#636efa",
            "pattern": {
             "shape": ""
            }
           },
           "name": "Production",
           "offsetgroup": "Production",
           "orientation": "v",
           "showlegend": true,
           "textposition": "auto",
           "type": "bar",
           "x": [
            "Beverages",
            "Dairy",
            "Fish",
            "Fruits",
            "Meats",
            "Miscellaneous",
            "Oils",
            "Staples",
            "Vegetables"
           ],
           "xaxis": "x",
           "y": [
            0,
            98.87803071634728,
            55.92955773464078,
            13.955440450451492,
            78.6953912067101,
            62.19566594402662,
            42.983494930056985,
            16.277676950998185,
            64.19878398862085
           ],
           "yaxis": "y"
          },
          {
           "alignmentgroup": "True",
           "hovertemplate": "variable=Imports<br>animation_frame=2018<br>Category=%{x}<br>% of supply=%{y}<extra></extra>",
           "legendgroup": "Imports",
           "marker": {
            "color": "#EF553B",
            "pattern": {
             "shape": ""
            }
           },
           "name": "Imports",
           "offsetgroup": "Imports",
           "orientation": "v",
           "showlegend": true,
           "textposition": "auto",
           "type": "bar",
           "x": [
            "Beverages",
            "Dairy",
            "Fish",
            "Fruits",
            "Meats",
            "Miscellaneous",
            "Oils",
            "Staples",
            "Vegetables"
           ],
           "xaxis": "x",
           "y": [
            100,
            1.121969283652718,
            44.07044226535921,
            86.04455954954851,
            21.304608793289905,
            37.80433405597337,
            57.016505069943,
            83.72232304900182,
            35.80121601137915
           ],
           "yaxis": "y"
          }
         ],
         "name": "2018"
        },
        {
         "data": [
          {
           "alignmentgroup": "True",
           "hovertemplate": "variable=Production<br>animation_frame=2019<br>Category=%{x}<br>% of supply=%{y}<extra></extra>",
           "legendgroup": "Production",
           "marker": {
            "color": "#636efa",
            "pattern": {
             "shape": ""
            }
           },
           "name": "Production",
           "offsetgroup": "Production",
           "orientation": "v",
           "showlegend": true,
           "textposition": "auto",
           "type": "bar",
           "x": [
            "Beverages",
            "Dairy",
            "Fish",
            "Fruits",
            "Meats",
            "Miscellaneous",
            "Oils",
            "Staples",
            "Vegetables"
           ],
           "xaxis": "x",
           "y": [
            0,
            98.74818298418126,
            53.59362616276644,
            14.555988714937582,
            79.51141001902091,
            63.37883640660468,
            42.49517830805885,
            16.34550342554852,
            63.11431073145611
           ],
           "yaxis": "y"
          },
          {
           "alignmentgroup": "True",
           "hovertemplate": "variable=Imports<br>animation_frame=2019<br>Category=%{x}<br>% of supply=%{y}<extra></extra>",
           "legendgroup": "Imports",
           "marker": {
            "color": "#EF553B",
            "pattern": {
             "shape": ""
            }
           },
           "name": "Imports",
           "offsetgroup": "Imports",
           "orientation": "v",
           "showlegend": true,
           "textposition": "auto",
           "type": "bar",
           "x": [
            "Beverages",
            "Dairy",
            "Fish",
            "Fruits",
            "Meats",
            "Miscellaneous",
            "Oils",
            "Staples",
            "Vegetables"
           ],
           "xaxis": "x",
           "y": [
            100,
            1.2518170158187256,
            46.40637383723355,
            85.44401128506242,
            20.488589980979096,
            36.621163593395316,
            57.50482169194116,
            83.65449657445149,
            36.885689268543906
           ],
           "yaxis": "y"
          }
         ],
         "name": "2019"
        },
        {
         "data": [
          {
           "alignmentgroup": "True",
           "hovertemplate": "variable=Production<br>animation_frame=2020<br>Category=%{x}<br>% of supply=%{y}<extra></extra>",
           "legendgroup": "Production",
           "marker": {
            "color": "#636efa",
            "pattern": {
             "shape": ""
            }
           },
           "name": "Production",
           "offsetgroup": "Production",
           "orientation": "v",
           "showlegend": true,
           "textposition": "auto",
           "type": "bar",
           "x": [
            "Beverages",
            "Dairy",
            "Fish",
            "Fruits",
            "Meats",
            "Miscellaneous",
            "Oils",
            "Staples",
            "Vegetables"
           ],
           "xaxis": "x",
           "y": [
            0,
            98.70713787863205,
            52.3569059139217,
            13.696134564282389,
            77.91081967541224,
            62.24537896453766,
            39.26152211449064,
            15.485967117830494,
            64.06763609230369
           ],
           "yaxis": "y"
          },
          {
           "alignmentgroup": "True",
           "hovertemplate": "variable=Imports<br>animation_frame=2020<br>Category=%{x}<br>% of supply=%{y}<extra></extra>",
           "legendgroup": "Imports",
           "marker": {
            "color": "#EF553B",
            "pattern": {
             "shape": ""
            }
           },
           "name": "Imports",
           "offsetgroup": "Imports",
           "orientation": "v",
           "showlegend": true,
           "textposition": "auto",
           "type": "bar",
           "x": [
            "Beverages",
            "Dairy",
            "Fish",
            "Fruits",
            "Meats",
            "Miscellaneous",
            "Oils",
            "Staples",
            "Vegetables"
           ],
           "xaxis": "x",
           "y": [
            100,
            1.2928621213679314,
            47.64309408607831,
            86.30386543571761,
            22.08918032458776,
            37.754621035462364,
            60.73847788550937,
            84.5140328821695,
            35.93236390769631
           ],
           "yaxis": "y"
          }
         ],
         "name": "2020"
        },
        {
         "data": [
          {
           "alignmentgroup": "True",
           "hovertemplate": "variable=Production<br>animation_frame=2021<br>Category=%{x}<br>% of supply=%{y}<extra></extra>",
           "legendgroup": "Production",
           "marker": {
            "color": "#636efa",
            "pattern": {
             "shape": ""
            }
           },
           "name": "Production",
           "offsetgroup": "Production",
           "orientation": "v",
           "showlegend": true,
           "textposition": "auto",
           "type": "bar",
           "x": [
            "Beverages",
            "Dairy",
            "Fish",
            "Fruits",
            "Meats",
            "Miscellaneous",
            "Oils",
            "Staples",
            "Vegetables"
           ],
           "xaxis": "x",
           "y": [
            0,
            98.49262159401745,
            48.80375843371,
            13.181857892650013,
            79.85557956157544,
            64.31836617433333,
            39.292527023861325,
            16.647467511429497,
            64.60519635239888
           ],
           "yaxis": "y"
          },
          {
           "alignmentgroup": "True",
           "hovertemplate": "variable=Imports<br>animation_frame=2021<br>Category=%{x}<br>% of supply=%{y}<extra></extra>",
           "legendgroup": "Imports",
           "marker": {
            "color": "#EF553B",
            "pattern": {
             "shape": ""
            }
           },
           "name": "Imports",
           "offsetgroup": "Imports",
           "orientation": "v",
           "showlegend": true,
           "textposition": "auto",
           "type": "bar",
           "x": [
            "Beverages",
            "Dairy",
            "Fish",
            "Fruits",
            "Meats",
            "Miscellaneous",
            "Oils",
            "Staples",
            "Vegetables"
           ],
           "xaxis": "x",
           "y": [
            100,
            1.5073784059825548,
            51.19624156628999,
            86.81814210734998,
            20.144420438424557,
            35.68163382566668,
            60.70747297613869,
            83.3525324885705,
            35.394803647601115
           ],
           "yaxis": "y"
          }
         ],
         "name": "2021"
        },
        {
         "data": [
          {
           "alignmentgroup": "True",
           "hovertemplate": "variable=Production<br>animation_frame=2022<br>Category=%{x}<br>% of supply=%{y}<extra></extra>",
           "legendgroup": "Production",
           "marker": {
            "color": "#636efa",
            "pattern": {
             "shape": ""
            }
           },
           "name": "Production",
           "offsetgroup": "Production",
           "orientation": "v",
           "showlegend": true,
           "textposition": "auto",
           "type": "bar",
           "x": [
            "Beverages",
            "Dairy",
            "Fish",
            "Fruits",
            "Meats",
            "Miscellaneous",
            "Oils",
            "Staples",
            "Vegetables"
           ],
           "xaxis": "x",
           "y": [
            0,
            98.36538233831436,
            48.65205738609491,
            12.536867374305025,
            80.36807541443086,
            66.03759846145279,
            35.54112961394926,
            14.923239480390333,
            66.89841265055699
           ],
           "yaxis": "y"
          },
          {
           "alignmentgroup": "True",
           "hovertemplate": "variable=Imports<br>animation_frame=2022<br>Category=%{x}<br>% of supply=%{y}<extra></extra>",
           "legendgroup": "Imports",
           "marker": {
            "color": "#EF553B",
            "pattern": {
             "shape": ""
            }
           },
           "name": "Imports",
           "offsetgroup": "Imports",
           "orientation": "v",
           "showlegend": true,
           "textposition": "auto",
           "type": "bar",
           "x": [
            "Beverages",
            "Dairy",
            "Fish",
            "Fruits",
            "Meats",
            "Miscellaneous",
            "Oils",
            "Staples",
            "Vegetables"
           ],
           "xaxis": "x",
           "y": [
            100,
            1.6346176616856514,
            51.3479426139051,
            87.46313262569498,
            19.63192458556913,
            33.962401538547205,
            64.45887038605075,
            85.07676051960968,
            33.101587349442994
           ],
           "yaxis": "y"
          }
         ],
         "name": "2022"
        }
       ],
       "layout": {
        "barmode": "relative",
        "legend": {
         "title": {
          "text": "variable"
         },
         "tracegroupgap": 0
        },
        "sliders": [
         {
          "active": 0,
          "currentvalue": {
           "prefix": "animation_frame="
          },
          "len": 0.9,
          "pad": {
           "b": 10,
           "t": 60
          },
          "steps": [
           {
            "args": [
             [
              "1960"
             ],
             {
              "frame": {
               "duration": 0,
               "redraw": true
              },
              "fromcurrent": true,
              "mode": "immediate",
              "transition": {
               "duration": 0,
               "easing": "linear"
              }
             }
            ],
            "label": "1960",
            "method": "animate"
           },
           {
            "args": [
             [
              "1961"
             ],
             {
              "frame": {
               "duration": 0,
               "redraw": true
              },
              "fromcurrent": true,
              "mode": "immediate",
              "transition": {
               "duration": 0,
               "easing": "linear"
              }
             }
            ],
            "label": "1961",
            "method": "animate"
           },
           {
            "args": [
             [
              "1962"
             ],
             {
              "frame": {
               "duration": 0,
               "redraw": true
              },
              "fromcurrent": true,
              "mode": "immediate",
              "transition": {
               "duration": 0,
               "easing": "linear"
              }
             }
            ],
            "label": "1962",
            "method": "animate"
           },
           {
            "args": [
             [
              "1963"
             ],
             {
              "frame": {
               "duration": 0,
               "redraw": true
              },
              "fromcurrent": true,
              "mode": "immediate",
              "transition": {
               "duration": 0,
               "easing": "linear"
              }
             }
            ],
            "label": "1963",
            "method": "animate"
           },
           {
            "args": [
             [
              "1964"
             ],
             {
              "frame": {
               "duration": 0,
               "redraw": true
              },
              "fromcurrent": true,
              "mode": "immediate",
              "transition": {
               "duration": 0,
               "easing": "linear"
              }
             }
            ],
            "label": "1964",
            "method": "animate"
           },
           {
            "args": [
             [
              "1965"
             ],
             {
              "frame": {
               "duration": 0,
               "redraw": true
              },
              "fromcurrent": true,
              "mode": "immediate",
              "transition": {
               "duration": 0,
               "easing": "linear"
              }
             }
            ],
            "label": "1965",
            "method": "animate"
           },
           {
            "args": [
             [
              "1966"
             ],
             {
              "frame": {
               "duration": 0,
               "redraw": true
              },
              "fromcurrent": true,
              "mode": "immediate",
              "transition": {
               "duration": 0,
               "easing": "linear"
              }
             }
            ],
            "label": "1966",
            "method": "animate"
           },
           {
            "args": [
             [
              "1967"
             ],
             {
              "frame": {
               "duration": 0,
               "redraw": true
              },
              "fromcurrent": true,
              "mode": "immediate",
              "transition": {
               "duration": 0,
               "easing": "linear"
              }
             }
            ],
            "label": "1967",
            "method": "animate"
           },
           {
            "args": [
             [
              "1968"
             ],
             {
              "frame": {
               "duration": 0,
               "redraw": true
              },
              "fromcurrent": true,
              "mode": "immediate",
              "transition": {
               "duration": 0,
               "easing": "linear"
              }
             }
            ],
            "label": "1968",
            "method": "animate"
           },
           {
            "args": [
             [
              "1969"
             ],
             {
              "frame": {
               "duration": 0,
               "redraw": true
              },
              "fromcurrent": true,
              "mode": "immediate",
              "transition": {
               "duration": 0,
               "easing": "linear"
              }
             }
            ],
            "label": "1969",
            "method": "animate"
           },
           {
            "args": [
             [
              "1970"
             ],
             {
              "frame": {
               "duration": 0,
               "redraw": true
              },
              "fromcurrent": true,
              "mode": "immediate",
              "transition": {
               "duration": 0,
               "easing": "linear"
              }
             }
            ],
            "label": "1970",
            "method": "animate"
           },
           {
            "args": [
             [
              "1971"
             ],
             {
              "frame": {
               "duration": 0,
               "redraw": true
              },
              "fromcurrent": true,
              "mode": "immediate",
              "transition": {
               "duration": 0,
               "easing": "linear"
              }
             }
            ],
            "label": "1971",
            "method": "animate"
           },
           {
            "args": [
             [
              "1972"
             ],
             {
              "frame": {
               "duration": 0,
               "redraw": true
              },
              "fromcurrent": true,
              "mode": "immediate",
              "transition": {
               "duration": 0,
               "easing": "linear"
              }
             }
            ],
            "label": "1972",
            "method": "animate"
           },
           {
            "args": [
             [
              "1973"
             ],
             {
              "frame": {
               "duration": 0,
               "redraw": true
              },
              "fromcurrent": true,
              "mode": "immediate",
              "transition": {
               "duration": 0,
               "easing": "linear"
              }
             }
            ],
            "label": "1973",
            "method": "animate"
           },
           {
            "args": [
             [
              "1974"
             ],
             {
              "frame": {
               "duration": 0,
               "redraw": true
              },
              "fromcurrent": true,
              "mode": "immediate",
              "transition": {
               "duration": 0,
               "easing": "linear"
              }
             }
            ],
            "label": "1974",
            "method": "animate"
           },
           {
            "args": [
             [
              "1975"
             ],
             {
              "frame": {
               "duration": 0,
               "redraw": true
              },
              "fromcurrent": true,
              "mode": "immediate",
              "transition": {
               "duration": 0,
               "easing": "linear"
              }
             }
            ],
            "label": "1975",
            "method": "animate"
           },
           {
            "args": [
             [
              "1976"
             ],
             {
              "frame": {
               "duration": 0,
               "redraw": true
              },
              "fromcurrent": true,
              "mode": "immediate",
              "transition": {
               "duration": 0,
               "easing": "linear"
              }
             }
            ],
            "label": "1976",
            "method": "animate"
           },
           {
            "args": [
             [
              "1977"
             ],
             {
              "frame": {
               "duration": 0,
               "redraw": true
              },
              "fromcurrent": true,
              "mode": "immediate",
              "transition": {
               "duration": 0,
               "easing": "linear"
              }
             }
            ],
            "label": "1977",
            "method": "animate"
           },
           {
            "args": [
             [
              "1978"
             ],
             {
              "frame": {
               "duration": 0,
               "redraw": true
              },
              "fromcurrent": true,
              "mode": "immediate",
              "transition": {
               "duration": 0,
               "easing": "linear"
              }
             }
            ],
            "label": "1978",
            "method": "animate"
           },
           {
            "args": [
             [
              "1979"
             ],
             {
              "frame": {
               "duration": 0,
               "redraw": true
              },
              "fromcurrent": true,
              "mode": "immediate",
              "transition": {
               "duration": 0,
               "easing": "linear"
              }
             }
            ],
            "label": "1979",
            "method": "animate"
           },
           {
            "args": [
             [
              "1980"
             ],
             {
              "frame": {
               "duration": 0,
               "redraw": true
              },
              "fromcurrent": true,
              "mode": "immediate",
              "transition": {
               "duration": 0,
               "easing": "linear"
              }
             }
            ],
            "label": "1980",
            "method": "animate"
           },
           {
            "args": [
             [
              "1981"
             ],
             {
              "frame": {
               "duration": 0,
               "redraw": true
              },
              "fromcurrent": true,
              "mode": "immediate",
              "transition": {
               "duration": 0,
               "easing": "linear"
              }
             }
            ],
            "label": "1981",
            "method": "animate"
           },
           {
            "args": [
             [
              "1982"
             ],
             {
              "frame": {
               "duration": 0,
               "redraw": true
              },
              "fromcurrent": true,
              "mode": "immediate",
              "transition": {
               "duration": 0,
               "easing": "linear"
              }
             }
            ],
            "label": "1982",
            "method": "animate"
           },
           {
            "args": [
             [
              "1983"
             ],
             {
              "frame": {
               "duration": 0,
               "redraw": true
              },
              "fromcurrent": true,
              "mode": "immediate",
              "transition": {
               "duration": 0,
               "easing": "linear"
              }
             }
            ],
            "label": "1983",
            "method": "animate"
           },
           {
            "args": [
             [
              "1984"
             ],
             {
              "frame": {
               "duration": 0,
               "redraw": true
              },
              "fromcurrent": true,
              "mode": "immediate",
              "transition": {
               "duration": 0,
               "easing": "linear"
              }
             }
            ],
            "label": "1984",
            "method": "animate"
           },
           {
            "args": [
             [
              "1985"
             ],
             {
              "frame": {
               "duration": 0,
               "redraw": true
              },
              "fromcurrent": true,
              "mode": "immediate",
              "transition": {
               "duration": 0,
               "easing": "linear"
              }
             }
            ],
            "label": "1985",
            "method": "animate"
           },
           {
            "args": [
             [
              "1986"
             ],
             {
              "frame": {
               "duration": 0,
               "redraw": true
              },
              "fromcurrent": true,
              "mode": "immediate",
              "transition": {
               "duration": 0,
               "easing": "linear"
              }
             }
            ],
            "label": "1986",
            "method": "animate"
           },
           {
            "args": [
             [
              "1987"
             ],
             {
              "frame": {
               "duration": 0,
               "redraw": true
              },
              "fromcurrent": true,
              "mode": "immediate",
              "transition": {
               "duration": 0,
               "easing": "linear"
              }
             }
            ],
            "label": "1987",
            "method": "animate"
           },
           {
            "args": [
             [
              "1988"
             ],
             {
              "frame": {
               "duration": 0,
               "redraw": true
              },
              "fromcurrent": true,
              "mode": "immediate",
              "transition": {
               "duration": 0,
               "easing": "linear"
              }
             }
            ],
            "label": "1988",
            "method": "animate"
           },
           {
            "args": [
             [
              "1989"
             ],
             {
              "frame": {
               "duration": 0,
               "redraw": true
              },
              "fromcurrent": true,
              "mode": "immediate",
              "transition": {
               "duration": 0,
               "easing": "linear"
              }
             }
            ],
            "label": "1989",
            "method": "animate"
           },
           {
            "args": [
             [
              "1990"
             ],
             {
              "frame": {
               "duration": 0,
               "redraw": true
              },
              "fromcurrent": true,
              "mode": "immediate",
              "transition": {
               "duration": 0,
               "easing": "linear"
              }
             }
            ],
            "label": "1990",
            "method": "animate"
           },
           {
            "args": [
             [
              "1991"
             ],
             {
              "frame": {
               "duration": 0,
               "redraw": true
              },
              "fromcurrent": true,
              "mode": "immediate",
              "transition": {
               "duration": 0,
               "easing": "linear"
              }
             }
            ],
            "label": "1991",
            "method": "animate"
           },
           {
            "args": [
             [
              "1992"
             ],
             {
              "frame": {
               "duration": 0,
               "redraw": true
              },
              "fromcurrent": true,
              "mode": "immediate",
              "transition": {
               "duration": 0,
               "easing": "linear"
              }
             }
            ],
            "label": "1992",
            "method": "animate"
           },
           {
            "args": [
             [
              "1993"
             ],
             {
              "frame": {
               "duration": 0,
               "redraw": true
              },
              "fromcurrent": true,
              "mode": "immediate",
              "transition": {
               "duration": 0,
               "easing": "linear"
              }
             }
            ],
            "label": "1993",
            "method": "animate"
           },
           {
            "args": [
             [
              "1994"
             ],
             {
              "frame": {
               "duration": 0,
               "redraw": true
              },
              "fromcurrent": true,
              "mode": "immediate",
              "transition": {
               "duration": 0,
               "easing": "linear"
              }
             }
            ],
            "label": "1994",
            "method": "animate"
           },
           {
            "args": [
             [
              "1995"
             ],
             {
              "frame": {
               "duration": 0,
               "redraw": true
              },
              "fromcurrent": true,
              "mode": "immediate",
              "transition": {
               "duration": 0,
               "easing": "linear"
              }
             }
            ],
            "label": "1995",
            "method": "animate"
           },
           {
            "args": [
             [
              "1996"
             ],
             {
              "frame": {
               "duration": 0,
               "redraw": true
              },
              "fromcurrent": true,
              "mode": "immediate",
              "transition": {
               "duration": 0,
               "easing": "linear"
              }
             }
            ],
            "label": "1996",
            "method": "animate"
           },
           {
            "args": [
             [
              "1997"
             ],
             {
              "frame": {
               "duration": 0,
               "redraw": true
              },
              "fromcurrent": true,
              "mode": "immediate",
              "transition": {
               "duration": 0,
               "easing": "linear"
              }
             }
            ],
            "label": "1997",
            "method": "animate"
           },
           {
            "args": [
             [
              "1998"
             ],
             {
              "frame": {
               "duration": 0,
               "redraw": true
              },
              "fromcurrent": true,
              "mode": "immediate",
              "transition": {
               "duration": 0,
               "easing": "linear"
              }
             }
            ],
            "label": "1998",
            "method": "animate"
           },
           {
            "args": [
             [
              "1999"
             ],
             {
              "frame": {
               "duration": 0,
               "redraw": true
              },
              "fromcurrent": true,
              "mode": "immediate",
              "transition": {
               "duration": 0,
               "easing": "linear"
              }
             }
            ],
            "label": "1999",
            "method": "animate"
           },
           {
            "args": [
             [
              "2000"
             ],
             {
              "frame": {
               "duration": 0,
               "redraw": true
              },
              "fromcurrent": true,
              "mode": "immediate",
              "transition": {
               "duration": 0,
               "easing": "linear"
              }
             }
            ],
            "label": "2000",
            "method": "animate"
           },
           {
            "args": [
             [
              "2001"
             ],
             {
              "frame": {
               "duration": 0,
               "redraw": true
              },
              "fromcurrent": true,
              "mode": "immediate",
              "transition": {
               "duration": 0,
               "easing": "linear"
              }
             }
            ],
            "label": "2001",
            "method": "animate"
           },
           {
            "args": [
             [
              "2002"
             ],
             {
              "frame": {
               "duration": 0,
               "redraw": true
              },
              "fromcurrent": true,
              "mode": "immediate",
              "transition": {
               "duration": 0,
               "easing": "linear"
              }
             }
            ],
            "label": "2002",
            "method": "animate"
           },
           {
            "args": [
             [
              "2003"
             ],
             {
              "frame": {
               "duration": 0,
               "redraw": true
              },
              "fromcurrent": true,
              "mode": "immediate",
              "transition": {
               "duration": 0,
               "easing": "linear"
              }
             }
            ],
            "label": "2003",
            "method": "animate"
           },
           {
            "args": [
             [
              "2004"
             ],
             {
              "frame": {
               "duration": 0,
               "redraw": true
              },
              "fromcurrent": true,
              "mode": "immediate",
              "transition": {
               "duration": 0,
               "easing": "linear"
              }
             }
            ],
            "label": "2004",
            "method": "animate"
           },
           {
            "args": [
             [
              "2005"
             ],
             {
              "frame": {
               "duration": 0,
               "redraw": true
              },
              "fromcurrent": true,
              "mode": "immediate",
              "transition": {
               "duration": 0,
               "easing": "linear"
              }
             }
            ],
            "label": "2005",
            "method": "animate"
           },
           {
            "args": [
             [
              "2006"
             ],
             {
              "frame": {
               "duration": 0,
               "redraw": true
              },
              "fromcurrent": true,
              "mode": "immediate",
              "transition": {
               "duration": 0,
               "easing": "linear"
              }
             }
            ],
            "label": "2006",
            "method": "animate"
           },
           {
            "args": [
             [
              "2007"
             ],
             {
              "frame": {
               "duration": 0,
               "redraw": true
              },
              "fromcurrent": true,
              "mode": "immediate",
              "transition": {
               "duration": 0,
               "easing": "linear"
              }
             }
            ],
            "label": "2007",
            "method": "animate"
           },
           {
            "args": [
             [
              "2008"
             ],
             {
              "frame": {
               "duration": 0,
               "redraw": true
              },
              "fromcurrent": true,
              "mode": "immediate",
              "transition": {
               "duration": 0,
               "easing": "linear"
              }
             }
            ],
            "label": "2008",
            "method": "animate"
           },
           {
            "args": [
             [
              "2009"
             ],
             {
              "frame": {
               "duration": 0,
               "redraw": true
              },
              "fromcurrent": true,
              "mode": "immediate",
              "transition": {
               "duration": 0,
               "easing": "linear"
              }
             }
            ],
            "label": "2009",
            "method": "animate"
           },
           {
            "args": [
             [
              "2010"
             ],
             {
              "frame": {
               "duration": 0,
               "redraw": true
              },
              "fromcurrent": true,
              "mode": "immediate",
              "transition": {
               "duration": 0,
               "easing": "linear"
              }
             }
            ],
            "label": "2010",
            "method": "animate"
           },
           {
            "args": [
             [
              "2011"
             ],
             {
              "frame": {
               "duration": 0,
               "redraw": true
              },
              "fromcurrent": true,
              "mode": "immediate",
              "transition": {
               "duration": 0,
               "easing": "linear"
              }
             }
            ],
            "label": "2011",
            "method": "animate"
           },
           {
            "args": [
             [
              "2012"
             ],
             {
              "frame": {
               "duration": 0,
               "redraw": true
              },
              "fromcurrent": true,
              "mode": "immediate",
              "transition": {
               "duration": 0,
               "easing": "linear"
              }
             }
            ],
            "label": "2012",
            "method": "animate"
           },
           {
            "args": [
             [
              "2013"
             ],
             {
              "frame": {
               "duration": 0,
               "redraw": true
              },
              "fromcurrent": true,
              "mode": "immediate",
              "transition": {
               "duration": 0,
               "easing": "linear"
              }
             }
            ],
            "label": "2013",
            "method": "animate"
           },
           {
            "args": [
             [
              "2014"
             ],
             {
              "frame": {
               "duration": 0,
               "redraw": true
              },
              "fromcurrent": true,
              "mode": "immediate",
              "transition": {
               "duration": 0,
               "easing": "linear"
              }
             }
            ],
            "label": "2014",
            "method": "animate"
           },
           {
            "args": [
             [
              "2015"
             ],
             {
              "frame": {
               "duration": 0,
               "redraw": true
              },
              "fromcurrent": true,
              "mode": "immediate",
              "transition": {
               "duration": 0,
               "easing": "linear"
              }
             }
            ],
            "label": "2015",
            "method": "animate"
           },
           {
            "args": [
             [
              "2016"
             ],
             {
              "frame": {
               "duration": 0,
               "redraw": true
              },
              "fromcurrent": true,
              "mode": "immediate",
              "transition": {
               "duration": 0,
               "easing": "linear"
              }
             }
            ],
            "label": "2016",
            "method": "animate"
           },
           {
            "args": [
             [
              "2017"
             ],
             {
              "frame": {
               "duration": 0,
               "redraw": true
              },
              "fromcurrent": true,
              "mode": "immediate",
              "transition": {
               "duration": 0,
               "easing": "linear"
              }
             }
            ],
            "label": "2017",
            "method": "animate"
           },
           {
            "args": [
             [
              "2018"
             ],
             {
              "frame": {
               "duration": 0,
               "redraw": true
              },
              "fromcurrent": true,
              "mode": "immediate",
              "transition": {
               "duration": 0,
               "easing": "linear"
              }
             }
            ],
            "label": "2018",
            "method": "animate"
           },
           {
            "args": [
             [
              "2019"
             ],
             {
              "frame": {
               "duration": 0,
               "redraw": true
              },
              "fromcurrent": true,
              "mode": "immediate",
              "transition": {
               "duration": 0,
               "easing": "linear"
              }
             }
            ],
            "label": "2019",
            "method": "animate"
           },
           {
            "args": [
             [
              "2020"
             ],
             {
              "frame": {
               "duration": 0,
               "redraw": true
              },
              "fromcurrent": true,
              "mode": "immediate",
              "transition": {
               "duration": 0,
               "easing": "linear"
              }
             }
            ],
            "label": "2020",
            "method": "animate"
           },
           {
            "args": [
             [
              "2021"
             ],
             {
              "frame": {
               "duration": 0,
               "redraw": true
              },
              "fromcurrent": true,
              "mode": "immediate",
              "transition": {
               "duration": 0,
               "easing": "linear"
              }
             }
            ],
            "label": "2021",
            "method": "animate"
           },
           {
            "args": [
             [
              "2022"
             ],
             {
              "frame": {
               "duration": 0,
               "redraw": true
              },
              "fromcurrent": true,
              "mode": "immediate",
              "transition": {
               "duration": 0,
               "easing": "linear"
              }
             }
            ],
            "label": "2022",
            "method": "animate"
           }
          ],
          "x": 0.1,
          "xanchor": "left",
          "y": 0,
          "yanchor": "top"
         }
        ],
        "template": {
         "data": {
          "bar": [
           {
            "error_x": {
             "color": "#2a3f5f"
            },
            "error_y": {
             "color": "#2a3f5f"
            },
            "marker": {
             "line": {
              "color": "#E5ECF6",
              "width": 0.5
             },
             "pattern": {
              "fillmode": "overlay",
              "size": 10,
              "solidity": 0.2
             }
            },
            "type": "bar"
           }
          ],
          "barpolar": [
           {
            "marker": {
             "line": {
              "color": "#E5ECF6",
              "width": 0.5
             },
             "pattern": {
              "fillmode": "overlay",
              "size": 10,
              "solidity": 0.2
             }
            },
            "type": "barpolar"
           }
          ],
          "carpet": [
           {
            "aaxis": {
             "endlinecolor": "#2a3f5f",
             "gridcolor": "white",
             "linecolor": "white",
             "minorgridcolor": "white",
             "startlinecolor": "#2a3f5f"
            },
            "baxis": {
             "endlinecolor": "#2a3f5f",
             "gridcolor": "white",
             "linecolor": "white",
             "minorgridcolor": "white",
             "startlinecolor": "#2a3f5f"
            },
            "type": "carpet"
           }
          ],
          "choropleth": [
           {
            "colorbar": {
             "outlinewidth": 0,
             "ticks": ""
            },
            "type": "choropleth"
           }
          ],
          "contour": [
           {
            "colorbar": {
             "outlinewidth": 0,
             "ticks": ""
            },
            "colorscale": [
             [
              0,
              "#0d0887"
             ],
             [
              0.1111111111111111,
              "#46039f"
             ],
             [
              0.2222222222222222,
              "#7201a8"
             ],
             [
              0.3333333333333333,
              "#9c179e"
             ],
             [
              0.4444444444444444,
              "#bd3786"
             ],
             [
              0.5555555555555556,
              "#d8576b"
             ],
             [
              0.6666666666666666,
              "#ed7953"
             ],
             [
              0.7777777777777778,
              "#fb9f3a"
             ],
             [
              0.8888888888888888,
              "#fdca26"
             ],
             [
              1,
              "#f0f921"
             ]
            ],
            "type": "contour"
           }
          ],
          "contourcarpet": [
           {
            "colorbar": {
             "outlinewidth": 0,
             "ticks": ""
            },
            "type": "contourcarpet"
           }
          ],
          "heatmap": [
           {
            "colorbar": {
             "outlinewidth": 0,
             "ticks": ""
            },
            "colorscale": [
             [
              0,
              "#0d0887"
             ],
             [
              0.1111111111111111,
              "#46039f"
             ],
             [
              0.2222222222222222,
              "#7201a8"
             ],
             [
              0.3333333333333333,
              "#9c179e"
             ],
             [
              0.4444444444444444,
              "#bd3786"
             ],
             [
              0.5555555555555556,
              "#d8576b"
             ],
             [
              0.6666666666666666,
              "#ed7953"
             ],
             [
              0.7777777777777778,
              "#fb9f3a"
             ],
             [
              0.8888888888888888,
              "#fdca26"
             ],
             [
              1,
              "#f0f921"
             ]
            ],
            "type": "heatmap"
           }
          ],
          "heatmapgl": [
           {
            "colorbar": {
             "outlinewidth": 0,
             "ticks": ""
            },
            "colorscale": [
             [
              0,
              "#0d0887"
             ],
             [
              0.1111111111111111,
              "#46039f"
             ],
             [
              0.2222222222222222,
              "#7201a8"
             ],
             [
              0.3333333333333333,
              "#9c179e"
             ],
             [
              0.4444444444444444,
              "#bd3786"
             ],
             [
              0.5555555555555556,
              "#d8576b"
             ],
             [
              0.6666666666666666,
              "#ed7953"
             ],
             [
              0.7777777777777778,
              "#fb9f3a"
             ],
             [
              0.8888888888888888,
              "#fdca26"
             ],
             [
              1,
              "#f0f921"
             ]
            ],
            "type": "heatmapgl"
           }
          ],
          "histogram": [
           {
            "marker": {
             "pattern": {
              "fillmode": "overlay",
              "size": 10,
              "solidity": 0.2
             }
            },
            "type": "histogram"
           }
          ],
          "histogram2d": [
           {
            "colorbar": {
             "outlinewidth": 0,
             "ticks": ""
            },
            "colorscale": [
             [
              0,
              "#0d0887"
             ],
             [
              0.1111111111111111,
              "#46039f"
             ],
             [
              0.2222222222222222,
              "#7201a8"
             ],
             [
              0.3333333333333333,
              "#9c179e"
             ],
             [
              0.4444444444444444,
              "#bd3786"
             ],
             [
              0.5555555555555556,
              "#d8576b"
             ],
             [
              0.6666666666666666,
              "#ed7953"
             ],
             [
              0.7777777777777778,
              "#fb9f3a"
             ],
             [
              0.8888888888888888,
              "#fdca26"
             ],
             [
              1,
              "#f0f921"
             ]
            ],
            "type": "histogram2d"
           }
          ],
          "histogram2dcontour": [
           {
            "colorbar": {
             "outlinewidth": 0,
             "ticks": ""
            },
            "colorscale": [
             [
              0,
              "#0d0887"
             ],
             [
              0.1111111111111111,
              "#46039f"
             ],
             [
              0.2222222222222222,
              "#7201a8"
             ],
             [
              0.3333333333333333,
              "#9c179e"
             ],
             [
              0.4444444444444444,
              "#bd3786"
             ],
             [
              0.5555555555555556,
              "#d8576b"
             ],
             [
              0.6666666666666666,
              "#ed7953"
             ],
             [
              0.7777777777777778,
              "#fb9f3a"
             ],
             [
              0.8888888888888888,
              "#fdca26"
             ],
             [
              1,
              "#f0f921"
             ]
            ],
            "type": "histogram2dcontour"
           }
          ],
          "mesh3d": [
           {
            "colorbar": {
             "outlinewidth": 0,
             "ticks": ""
            },
            "type": "mesh3d"
           }
          ],
          "parcoords": [
           {
            "line": {
             "colorbar": {
              "outlinewidth": 0,
              "ticks": ""
             }
            },
            "type": "parcoords"
           }
          ],
          "pie": [
           {
            "automargin": true,
            "type": "pie"
           }
          ],
          "scatter": [
           {
            "fillpattern": {
             "fillmode": "overlay",
             "size": 10,
             "solidity": 0.2
            },
            "type": "scatter"
           }
          ],
          "scatter3d": [
           {
            "line": {
             "colorbar": {
              "outlinewidth": 0,
              "ticks": ""
             }
            },
            "marker": {
             "colorbar": {
              "outlinewidth": 0,
              "ticks": ""
             }
            },
            "type": "scatter3d"
           }
          ],
          "scattercarpet": [
           {
            "marker": {
             "colorbar": {
              "outlinewidth": 0,
              "ticks": ""
             }
            },
            "type": "scattercarpet"
           }
          ],
          "scattergeo": [
           {
            "marker": {
             "colorbar": {
              "outlinewidth": 0,
              "ticks": ""
             }
            },
            "type": "scattergeo"
           }
          ],
          "scattergl": [
           {
            "marker": {
             "colorbar": {
              "outlinewidth": 0,
              "ticks": ""
             }
            },
            "type": "scattergl"
           }
          ],
          "scattermapbox": [
           {
            "marker": {
             "colorbar": {
              "outlinewidth": 0,
              "ticks": ""
             }
            },
            "type": "scattermapbox"
           }
          ],
          "scatterpolar": [
           {
            "marker": {
             "colorbar": {
              "outlinewidth": 0,
              "ticks": ""
             }
            },
            "type": "scatterpolar"
           }
          ],
          "scatterpolargl": [
           {
            "marker": {
             "colorbar": {
              "outlinewidth": 0,
              "ticks": ""
             }
            },
            "type": "scatterpolargl"
           }
          ],
          "scatterternary": [
           {
            "marker": {
             "colorbar": {
              "outlinewidth": 0,
              "ticks": ""
             }
            },
            "type": "scatterternary"
           }
          ],
          "surface": [
           {
            "colorbar": {
             "outlinewidth": 0,
             "ticks": ""
            },
            "colorscale": [
             [
              0,
              "#0d0887"
             ],
             [
              0.1111111111111111,
              "#46039f"
             ],
             [
              0.2222222222222222,
              "#7201a8"
             ],
             [
              0.3333333333333333,
              "#9c179e"
             ],
             [
              0.4444444444444444,
              "#bd3786"
             ],
             [
              0.5555555555555556,
              "#d8576b"
             ],
             [
              0.6666666666666666,
              "#ed7953"
             ],
             [
              0.7777777777777778,
              "#fb9f3a"
             ],
             [
              0.8888888888888888,
              "#fdca26"
             ],
             [
              1,
              "#f0f921"
             ]
            ],
            "type": "surface"
           }
          ],
          "table": [
           {
            "cells": {
             "fill": {
              "color": "#EBF0F8"
             },
             "line": {
              "color": "white"
             }
            },
            "header": {
             "fill": {
              "color": "#C8D4E3"
             },
             "line": {
              "color": "white"
             }
            },
            "type": "table"
           }
          ]
         },
         "layout": {
          "annotationdefaults": {
           "arrowcolor": "#2a3f5f",
           "arrowhead": 0,
           "arrowwidth": 1
          },
          "autotypenumbers": "strict",
          "coloraxis": {
           "colorbar": {
            "outlinewidth": 0,
            "ticks": ""
           }
          },
          "colorscale": {
           "diverging": [
            [
             0,
             "#8e0152"
            ],
            [
             0.1,
             "#c51b7d"
            ],
            [
             0.2,
             "#de77ae"
            ],
            [
             0.3,
             "#f1b6da"
            ],
            [
             0.4,
             "#fde0ef"
            ],
            [
             0.5,
             "#f7f7f7"
            ],
            [
             0.6,
             "#e6f5d0"
            ],
            [
             0.7,
             "#b8e186"
            ],
            [
             0.8,
             "#7fbc41"
            ],
            [
             0.9,
             "#4d9221"
            ],
            [
             1,
             "#276419"
            ]
           ],
           "sequential": [
            [
             0,
             "#0d0887"
            ],
            [
             0.1111111111111111,
             "#46039f"
            ],
            [
             0.2222222222222222,
             "#7201a8"
            ],
            [
             0.3333333333333333,
             "#9c179e"
            ],
            [
             0.4444444444444444,
             "#bd3786"
            ],
            [
             0.5555555555555556,
             "#d8576b"
            ],
            [
             0.6666666666666666,
             "#ed7953"
            ],
            [
             0.7777777777777778,
             "#fb9f3a"
            ],
            [
             0.8888888888888888,
             "#fdca26"
            ],
            [
             1,
             "#f0f921"
            ]
           ],
           "sequentialminus": [
            [
             0,
             "#0d0887"
            ],
            [
             0.1111111111111111,
             "#46039f"
            ],
            [
             0.2222222222222222,
             "#7201a8"
            ],
            [
             0.3333333333333333,
             "#9c179e"
            ],
            [
             0.4444444444444444,
             "#bd3786"
            ],
            [
             0.5555555555555556,
             "#d8576b"
            ],
            [
             0.6666666666666666,
             "#ed7953"
            ],
            [
             0.7777777777777778,
             "#fb9f3a"
            ],
            [
             0.8888888888888888,
             "#fdca26"
            ],
            [
             1,
             "#f0f921"
            ]
           ]
          },
          "colorway": [
           "#636efa",
           "#EF553B",
           "#00cc96",
           "#ab63fa",
           "#FFA15A",
           "#19d3f3",
           "#FF6692",
           "#B6E880",
           "#FF97FF",
           "#FECB52"
          ],
          "font": {
           "color": "#2a3f5f"
          },
          "geo": {
           "bgcolor": "white",
           "lakecolor": "white",
           "landcolor": "#E5ECF6",
           "showlakes": true,
           "showland": true,
           "subunitcolor": "white"
          },
          "hoverlabel": {
           "align": "left"
          },
          "hovermode": "closest",
          "mapbox": {
           "style": "light"
          },
          "paper_bgcolor": "white",
          "plot_bgcolor": "#E5ECF6",
          "polar": {
           "angularaxis": {
            "gridcolor": "white",
            "linecolor": "white",
            "ticks": ""
           },
           "bgcolor": "#E5ECF6",
           "radialaxis": {
            "gridcolor": "white",
            "linecolor": "white",
            "ticks": ""
           }
          },
          "scene": {
           "xaxis": {
            "backgroundcolor": "#E5ECF6",
            "gridcolor": "white",
            "gridwidth": 2,
            "linecolor": "white",
            "showbackground": true,
            "ticks": "",
            "zerolinecolor": "white"
           },
           "yaxis": {
            "backgroundcolor": "#E5ECF6",
            "gridcolor": "white",
            "gridwidth": 2,
            "linecolor": "white",
            "showbackground": true,
            "ticks": "",
            "zerolinecolor": "white"
           },
           "zaxis": {
            "backgroundcolor": "#E5ECF6",
            "gridcolor": "white",
            "gridwidth": 2,
            "linecolor": "white",
            "showbackground": true,
            "ticks": "",
            "zerolinecolor": "white"
           }
          },
          "shapedefaults": {
           "line": {
            "color": "#2a3f5f"
           }
          },
          "ternary": {
           "aaxis": {
            "gridcolor": "white",
            "linecolor": "white",
            "ticks": ""
           },
           "baxis": {
            "gridcolor": "white",
            "linecolor": "white",
            "ticks": ""
           },
           "bgcolor": "#E5ECF6",
           "caxis": {
            "gridcolor": "white",
            "linecolor": "white",
            "ticks": ""
           }
          },
          "title": {
           "x": 0.05
          },
          "xaxis": {
           "automargin": true,
           "gridcolor": "white",
           "linecolor": "white",
           "ticks": "",
           "title": {
            "standoff": 15
           },
           "zerolinecolor": "white",
           "zerolinewidth": 2
          },
          "yaxis": {
           "automargin": true,
           "gridcolor": "white",
           "linecolor": "white",
           "ticks": "",
           "title": {
            "standoff": 15
           },
           "zerolinecolor": "white",
           "zerolinewidth": 2
          }
         }
        },
        "title": {
         "text": "All food production and importing in Canada (as proportion)"
        },
        "updatemenus": [
         {
          "buttons": [
           {
            "args": [
             null,
             {
              "frame": {
               "duration": 500,
               "redraw": true
              },
              "fromcurrent": true,
              "mode": "immediate",
              "transition": {
               "duration": 500,
               "easing": "linear"
              }
             }
            ],
            "label": "&#9654;",
            "method": "animate"
           },
           {
            "args": [
             [
              null
             ],
             {
              "frame": {
               "duration": 0,
               "redraw": true
              },
              "fromcurrent": true,
              "mode": "immediate",
              "transition": {
               "duration": 0,
               "easing": "linear"
              }
             }
            ],
            "label": "&#9724;",
            "method": "animate"
           }
          ],
          "direction": "left",
          "pad": {
           "r": 10,
           "t": 70
          },
          "showactive": false,
          "type": "buttons",
          "x": 0.1,
          "xanchor": "right",
          "y": 0,
          "yanchor": "top"
         }
        ],
        "xaxis": {
         "anchor": "y",
         "domain": [
          0,
          1
         ],
         "title": {
          "text": "Category"
         }
        },
        "yaxis": {
         "anchor": "x",
         "domain": [
          0,
          1
         ],
         "title": {
          "text": "% of supply"
         }
        }
       }
      }
     },
     "metadata": {},
     "output_type": "display_data"
    }
   ],
   "source": [
    "# Production vs. imports, proportionally\n",
    "prop = df_cats_3.drop(['Total supply', 'Beginning stocks', 'Total disposition', 'Domestic disappearance', 'Exports', 'Waste', 'Ending stocks'], axis=1)\n",
    "prop['Denominator'] = prop['Production'] + prop['Imports']\n",
    "prop['Production'] /= prop['Denominator'] / 100\n",
    "prop['Imports'] /= prop['Denominator'] / 100\n",
    "prop = prop.drop('Denominator', axis=1)\n",
    "\n",
    "fig = px.bar(prop, x=prop.index.get_level_values('Category'), y=prop.columns,\n",
    "              animation_frame=prop.index.get_level_values('Year'),\n",
    "              title='All food production and importing in Canada (as proportion)',\n",
    "              labels={'value': '% of supply', 'x': 'Category'})\n",
    "fig.show()"
   ]
  },
  {
   "attachments": {},
   "cell_type": "markdown",
   "metadata": {},
   "source": [
    "# MORE TO DO\n",
    "\n",
    "* How has waste changed over time (again as a function of total disposition)? Are we more or less wasteful now?\n",
    "\n",
    "* Has supply scaled with population? Has disposition scaled with population? (These ones require a secondary data source to correlate population.)\n",
    "\n",
    "These questions could be asked based on totals for the years or could be zoomed into a particular commodity we're interested in.\n",
    "\n",
    "We could also ask questions based on commodities:\n",
    "\n",
    "* Which things do we mostly produce and which do we mostly import?\n",
    "\n",
    "* Which things do we mostly consume domestically and which do we mostly export?\n",
    "\n",
    "* Which things are we most wasteful of?\n",
    "\n",
    "* How has the number of commodities we track changed over the years? (For this we could consider number of blank cells, for instance.)"
   ]
  },
  {
   "attachments": {},
   "cell_type": "markdown",
   "metadata": {},
   "source": [
    "## Conclusion\n",
    "\n",
    "x"
   ]
  }
 ],
 "metadata": {
  "kernelspec": {
   "display_name": "Python 3",
   "language": "python",
   "name": "python3"
  },
  "language_info": {
   "codemirror_mode": {
    "name": "ipython",
    "version": 3
   },
   "file_extension": ".py",
   "mimetype": "text/x-python",
   "name": "python",
   "nbconvert_exporter": "python",
   "pygments_lexer": "ipython3",
   "version": "3.11.3"
  },
  "orig_nbformat": 4,
  "vscode": {
   "interpreter": {
    "hash": "458dd1d06817a72759ca62d766d5a1c58019d69edba750c2eb07d80bb7630974"
   }
  }
 },
 "nbformat": 4,
 "nbformat_minor": 2
}
